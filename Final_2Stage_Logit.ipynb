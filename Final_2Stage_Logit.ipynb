{
 "cells": [
  {
   "cell_type": "markdown",
   "id": "b565b371",
   "metadata": {},
   "source": [
    "# Two-Stage Logistic Regression Analysis\n",
    "This notebook performs a two-stage logistic regression analysis on loan data.\n",
    "\n",
    "## Sections:\n",
    "1. Imports and Setup\n",
    "2. Data Loading and Cleaning\n",
    "3. Variable Renaming and Feature Engineering\n",
    "4. Model Specification and Evaluation\n"
   ]
  },
  {
   "cell_type": "markdown",
   "metadata": {
    "id": "Hxd9LNJump-5"
   },
   "source": [
    "# Import required libraries\n",
    "# Set up"
   ]
  },
  {
   "cell_type": "markdown",
   "id": "c9d53ed1",
   "metadata": {},
   "source": [
    "### Imports Explained\n",
    "\n",
    "This cell imports essential libraries for data handling (`pandas`, `numpy`), plotting (`matplotlib`), statistical modeling (`statsmodels`), and evaluation metrics (`scikit-learn`). These tools set up our environment for regression analysis and diagnostic checks."
   ]
  },
  {
   "cell_type": "markdown",
   "id": "fa4349a9",
   "metadata": {},
   "source": [
    "### Model Evaluation\n",
    "\n",
    "We assess both stages using ROC curves and compute AUC scores. The ROC curve shows the trade-off between true positive rate and false positive rate, while the AUC quantifies overall model discrimination power."
   ]
  },
  {
   "cell_type": "code",
   "execution_count": null,
   "metadata": {
    "colab": {
     "base_uri": "https://localhost:8080/"
    },
    "id": "HlufsHReaClA",
    "outputId": "856df443-a09e-445d-c6fa-64216067228d"
   },
   "outputs": [
    {
     "name": "stdout",
     "output_type": "stream",
     "text": [
      "Mounted at /content/drive\n"
     ]
    }
   ],
   "source": [
    "import pandas as pd\n",
    "import numpy as np\n",
    "import seaborn as sns\n",
    "import matplotlib.pyplot as plt\n",
    "import statsmodels.api as sm\n",
    "import scipy.stats as stats\n",
    "from statsmodels.miscmodels.ordinal_model import OrderedModel\n",
    "from sklearn.metrics import roc_curve, auc\n",
    "from sklearn.preprocessing import label_binarize\n",
    "from scipy.stats import ks_2samp\n",
    "\n",
    "import os\n",
    "from google.colab import drive\n",
    "drive.mount('/content/drive', force_remount=True)\n",
    "\n",
    "drivepath = '/content/drive/MyDrive/ELP Term D - Mortgage Loss Severity/Datasets and Guides/'"
   ]
  },
  {
   "cell_type": "markdown",
   "id": "7166c2e7",
   "metadata": {},
   "source": [
    "### Data Loading and Cleaning\n",
    "\n",
    "We load the loan dataset from `gse_model_disaster.parquet`, containing borrower-level disaster risk metrics. Initial cleaning steps remove missing values and outliers to ensure model stability."
   ]
  },
  {
   "cell_type": "code",
   "execution_count": null,
   "metadata": {
    "id": "g7Gl3KAFaLdi"
   },
   "outputs": [],
   "source": [
    "df = pd.read_parquet(f'{drivepath}/gse_model_disaster.parquet')\n",
    "df = df[(df['Loss Rate'] > df['Loss Rate'].quantile(.001)) & (df['Loss Rate'] < df['Loss Rate'].quantile(.999))]\n",
    "df = df[df['dur_def_episode']>0].copy()\n",
    "\n",
    "df.loc[:,'TPS'] = 0\n",
    "df.loc[:,'SS'] = 0\n",
    "df.loc[:,'REO'] = 0\n",
    "\n",
    "df.loc[df['Zero Balance Code']==2,'TPS'] = 1\n",
    "df.loc[df['Zero Balance Code']==3,'SS'] = 1\n",
    "df.loc[df['Zero Balance Code']==9,'REO'] = 1\n",
    "\n",
    "df = df.drop(df.filter(regex='SCORE.1').columns,axis=1)"
   ]
  },
  {
   "cell_type": "markdown",
   "id": "e748016c",
   "metadata": {},
   "source": [
    "### Feature Renaming and Engineering\n",
    "\n",
    "Columns prefixed with `RFLD_`, `FIRE_`, `TSUN_`, etc., represent risk indicators for different natural disasters (e.g., flood, fire, tsunami). We rename these for readability and set up dummy outcome variables (`REO`, `SS`, `TPS`) for our two-stage logistic framework."
   ]
  },
  {
   "cell_type": "code",
   "execution_count": null,
   "metadata": {
    "colab": {
     "base_uri": "https://localhost:8080/"
    },
    "id": "y9tYsYNYaaqk",
    "outputId": "013eef20-cac1-4fa3-a544-7d653f902303"
   },
   "outputs": [
    {
     "name": "stderr",
     "output_type": "stream",
     "text": [
      "<ipython-input-3-a91c0e0f414b>:20: SettingWithCopyWarning: \n",
      "A value is trying to be set on a copy of a slice from a DataFrame.\n",
      "Try using .loc[row_indexer,col_indexer] = value instead\n",
      "\n",
      "See the caveats in the documentation: https://pandas.pydata.org/pandas-docs/stable/user_guide/indexing.html#returning-a-view-versus-a-copy\n",
      "  df1.loc[:, 'fico_missing'] = df1.fico.isnull().astype(int)\n"
     ]
    }
   ],
   "source": [
    "## Rename Variables\n",
    "column_mapper = {\n",
    "    'Loan Age': 'loan_age',\n",
    "    'Credit Score': 'fico'\n",
    "}\n",
    "\n",
    "df.rename(column_mapper, axis=1, inplace=True)\n",
    "\n",
    "\n",
    "df[\"Normal\"] = df['orig_year'].apply(lambda date: 1 if (date < 2005) & (date >=1999) else 0)\n",
    "df[\"Boom\"] = df['orig_year'].apply(lambda date: 1 if (date < 2008) & (date >=2005) else 0)\n",
    "df[\"Bust\"] = df['orig_year'].apply(lambda date: 1 if (date < 2012) & (date >=2008) else 0)\n",
    "df[\"PostCrisis\"] = df['orig_year'].apply(lambda date: 1 if (date >= 2012) else 0)\n",
    "df.loc[(df[\"orig_year\"]==2008) & (df['orig_quarter']<3),'Boom'] = 1\n",
    "df.loc[(df[\"orig_year\"]==2008) & (df['orig_quarter']<3),'Bust'] = 0\n",
    "df['buckets']=df[['Normal','Boom','Bust','PostCrisis']].idxmax(axis=1)\n",
    "\n",
    "## Drop cltv_current = null, hpat2y = null\n",
    "df1 = df[df.cltv_current.notnull() & df.hpat2y.notnull()]\n",
    "df1.loc[:, 'fico_missing'] = df1.fico.isnull().astype(int)\n",
    "df1.loc[df.fico.isnull(), 'fico'] = df1.fico.mean()\n",
    "\n",
    "df1.loc[:, 'Loss Rate'] = df1['Loss Rate'] * 100\n",
    "\n",
    "# Implemented from Cordell paper\n",
    "df1 =  df1[(df1['Original Loan-to-Value (LTV)'] <= 100)]\n",
    "\n",
    "df1 = df1[df1.fico_missing == 0]\n",
    "df1 = df1[df1['Original Debt-to-Income (DTI) Ratio'].notnull()]\n",
    "df1.loc[:, 'Pre2005'] = df1.orig_year.apply(lambda x: 1 if x < 2005 else 0)\n",
    "df1.loc[:, 'Log Original UPB'] = df['Original UPB'].apply(lambda x: np.log(x))\n",
    "\n",
    "# Set Channel Dummies (B = 3rd party broker)\n",
    "df1 =  df1.join(pd.get_dummies(df1['Channel'], prefix='channel', drop_first=True))\n",
    "df1.channel_C = df1.channel_C.astype(int)\n",
    "df1.channel_R = df1.channel_R.astype(int)\n",
    "\n",
    "# Set Loan Purpose Dummies (R = Refinance unknown purpose)\n",
    "df1.loc[:, 'loanpurpose_N'] = (df1['Loan Purpose'] == 'N').astype(int)\n",
    "df1.loc[:, 'loanpurpose_P'] = (df1['Loan Purpose'] == 'P').astype(int)\n",
    "df1.loc[:, 'loanpurpose_C'] = (df1['Loan Purpose'] == 'C').astype(int)\n",
    "\n",
    "df1 = df1[df1.RISK_VALUE.notnull()]\n",
    "\n",
    "# Log of climate variables\n",
    "df1.loc[:, 'LogRISK_VALUE'] = df1.RISK_VALUE.apply(lambda x: np.log(x))\n",
    "df1.loc[:, 'LogEAL_VALT'] = df1.EAL_VALT.apply(lambda x: np.log(x))\n",
    "\n",
    "def middle_spline(x, k1, k2):\n",
    "  if x <= k1: return 0\n",
    "  elif k1 <= x <= k2: return x - k1\n",
    "  else: return k2 - k1\n",
    "\n",
    "# Splining\n",
    "cltv_k1 = 80\n",
    "cltv_k2 = 120\n",
    "df1['cltv_current1'] = np.minimum(df1.cltv_current, cltv_k1)\n",
    "df1['cltv_current2'] = df1.cltv_current.apply(lambda x: middle_spline(x, cltv_k1, cltv_k2))\n",
    "df1['cltv_current3'] = np.maximum(df1.cltv_current - cltv_k2, 0)\n",
    "\n",
    "fico_k1 = 620\n",
    "fico_k2 = 750\n",
    "df1['fico1'] = np.minimum(df1.fico, fico_k1)\n",
    "df1['fico2'] = df1.fico.apply(lambda x: middle_spline(x, fico_k1, fico_k2))\n",
    "df1['fico3'] = np.maximum(df1.fico - fico_k2, 0)"
   ]
  },
  {
   "cell_type": "code",
   "execution_count": null,
   "metadata": {
    "id": "KHDyqln-bLmK"
   },
   "outputs": [],
   "source": [
    "x0 = ['EAL_VALT','EAL_SCORE','RISK_VALUE','RISK_SCORE','RISK_RATNG','EAL_RATNG']\n",
    "x1 = [df1.filter(regex='RISKR').columns[((df1.filter(regex='RISKR')>=3).mean()>0.3)]]\n",
    "x2 = [df1.filter(regex='EALR').columns[((df1.filter(regex='EALR')>=3).mean()>0.3)]]\n",
    "x3 = [df1.filter(regex='_RISK_SCORE').columns]\n",
    "x4 = [df1.filter(regex='EALS').columns[df1.filter(regex='EALS').isna().mean()<0.1]]\n",
    "x5 = [df1.filter(regex='RISKS').columns[df1.filter(regex='RISKS').isna().mean()<0.1]]\n",
    "xx = x0+x1+x2+x3+x4+x5"
   ]
  },
  {
   "cell_type": "code",
   "execution_count": null,
   "metadata": {
    "id": "5e_1aS-PbjTx"
   },
   "outputs": [],
   "source": [
    "def plot_roc_auc(y_true,y_pred,x=False):\n",
    "  # Compute ROC curve and ROC area for each class\n",
    "  fpr, tpr, _ = roc_curve(y_true, y_pred)\n",
    "  roc_auc = auc(fpr, tpr)*100\n",
    "  print(f\"The area under curve is {roc_auc:0.2f}%\")\n",
    "  if(x):\n",
    "    # Plot ROC curves\n",
    "    plt.figure()\n",
    "    plt.plot(fpr, tpr, label=f'ROC curve (area = {roc_auc:0.2f})')\n",
    "    plt.plot([0, 1], [0, 1], 'k--')\n",
    "    plt.xlim([0.0, 1.0])\n",
    "    plt.ylim([0.0, 1.05])\n",
    "    plt.xlabel('False Positive Rate')\n",
    "    plt.ylabel('True Positive Rate')\n",
    "    plt.title('Receiver Operating Characteristic')\n",
    "    plt.legend(loc=\"lower right\")\n",
    "    plt.show()\n",
    "  return"
   ]
  },
  {
   "cell_type": "code",
   "execution_count": null,
   "metadata": {
    "id": "zbCEvEl6bptq"
   },
   "outputs": [],
   "source": [
    "def evaluate_ks(y_true,y_pred):\n",
    "  # Unite both visions to be able to filter\n",
    "  df = pd.DataFrame()\n",
    "  df['true'] = y_true\n",
    "  df['pred'] = y_pred\n",
    "\n",
    "  class0 = df[df['true'] == 0]\n",
    "  class1 = df[df['true'] == 1]\n",
    "\n",
    "  ks = ks_2samp(class0['pred'], class1['pred'])\n",
    "\n",
    "  print(f\"KS between class1 and others: {ks.statistic:.4f} (p-value: {ks.pvalue:.3e})\")\n",
    "  return"
   ]
  },
  {
   "cell_type": "code",
   "execution_count": null,
   "metadata": {
    "id": "L05fIRekbsTR"
   },
   "outputs": [],
   "source": [
    "def printres(Res1,x=False):\n",
    "  plot_roc_auc(Res1[2],Res1[4],x)\n",
    "  plot_roc_auc(Res1[3],Res1[5],x)\n",
    "  evaluate_ks(Res1[2],Res1[4])\n",
    "  evaluate_ks(Res1[3],Res1[5])"
   ]
  },
  {
   "cell_type": "markdown",
   "id": "95d5f9ef",
   "metadata": {},
   "source": [
    "### Stage 1: Predicting SS Outcome\n",
    "\n",
    "The first logistic regression models the `SS` dummy to estimate the probability that a loan is State-Sponsored (`SS=1`) versus other statuses. This separation allows targeted analysis of SS cases."
   ]
  },
  {
   "cell_type": "markdown",
   "id": "ce9fdd28",
   "metadata": {},
   "source": [
    "### Stage 2: Predicting TPS Outcome\n",
    "\n",
    "On the subset where `SS == 0`, we run a second logistic regression on the `TPS` dummy. This stage differentiates Third-Party Servicing (`TPS=1`) loans from Repossessed-Real-Estate (`REO`)."
   ]
  },
  {
   "cell_type": "code",
   "execution_count": null,
   "metadata": {
    "id": "fW08nOnubuag"
   },
   "outputs": [],
   "source": [
    "def Runnestedlogit(varlist,varlist2,df):\n",
    "  df2 = df[varlist]\n",
    "  df2 = df2.dropna()\n",
    "  TPS = df2.pop('TPS')\n",
    "  REO = df2.pop('REO')\n",
    "  SS  = df2.pop('SS')\n",
    "\n",
    "  df3  = df[varlist2]\n",
    "  df3  = df3.dropna()\n",
    "  TPS  = df3.pop('TPS')\n",
    "  REO  = df3.pop('REO')\n",
    "  SS2  = df3.pop('SS')\n",
    "  REO2 = REO[SS==0]\n",
    "  TPS2 = TPS[SS==0]\n",
    "  df3  = df3[SS==0]\n",
    "\n",
    "  SSlogit = sm.Logit(SS, sm.add_constant(df2)).fit()\n",
    "  #print(TPSlogit.summary())\n",
    "  SSlogit_pred = SSlogit.predict(sm.add_constant(df2))\n",
    "\n",
    "\n",
    "  TPS2logit = sm.Logit(TPS2, sm.add_constant(df3)).fit()\n",
    "  #print(REO2logit.summary())\n",
    "  TPS2logit_pred = TPS2logit.predict(sm.add_constant(df3))\n",
    "\n",
    "  return SSlogit,TPS2logit,SS,TPS2,SSlogit_pred,TPS2logit_pred"
   ]
  },
  {
   "cell_type": "code",
   "execution_count": null,
   "metadata": {
    "id": "MIE1Rfppb0U_"
   },
   "outputs": [],
   "source": [
    "Base_v = [\n",
    "    'loansize',\n",
    "    'mr_sprd',\n",
    "    'refinance',\n",
    "    'cltv_current',\n",
    "    'hpat2y',\n",
    "    'dur_def_episode',\n",
    "    'judicial',\n",
    "    'deficiency',\n",
    "    'flag_24',\n",
    "    'noowner_occ',\n",
    "    'proptype_CP',\n",
    "    'proptype_MH',\n",
    "    'proptype_PU',\n",
    "    'proptype_SF',\n",
    "    'REO',\n",
    "    'TPS',\n",
    "    'SS']"
   ]
  },
  {
   "cell_type": "code",
   "execution_count": null,
   "metadata": {
    "id": "4kHHEq0Jb4X6"
   },
   "outputs": [],
   "source": [
    "v2_add = [\n",
    "  'GSE',\n",
    "  'Boom',\n",
    "  'Bust',\n",
    "  'PostCrisis',\n",
    "  'channel_C',\n",
    "  'channel_R',\n",
    "  'loanpurpose_N',\n",
    "  'loanpurpose_P',\n",
    "  'loanpurpose_C',\n",
    "  'Current Interest Rate',\n",
    "  'loan_age',\n",
    "  'Log Original UPB',\n",
    "  'fico'\n",
    "          ]\n",
    "v2 = Base_v[3:] + v2_add"
   ]
  },
  {
   "cell_type": "code",
   "execution_count": null,
   "metadata": {
    "id": "pVW0m9m6b8dF"
   },
   "outputs": [],
   "source": [
    "v3_add = ['cltv_current1','cltv_current2','cltv_current3','fico1','fico2','fico3']\n",
    "v3 = v3_add + v2[1:-1]"
   ]
  },
  {
   "cell_type": "code",
   "execution_count": null,
   "metadata": {
    "colab": {
     "base_uri": "https://localhost:8080/"
    },
    "id": "yfnxSRLicAzc",
    "outputId": "1d7c370f-5458-4b74-d9e2-56f9fe129af4"
   },
   "outputs": [
    {
     "name": "stdout",
     "output_type": "stream",
     "text": [
      "Optimization terminated successfully.\n",
      "         Current function value: 0.400347\n",
      "         Iterations 7\n",
      "Optimization terminated successfully.\n",
      "         Current function value: 0.355055\n",
      "         Iterations 7\n",
      "The area under curve is 80.32%\n",
      "The area under curve is 78.27%\n",
      "KS between class1 and others: 0.4717 (p-value: 0.000e+00)\n",
      "KS between class1 and others: 0.4264 (p-value: 0.000e+00)\n"
     ]
    }
   ],
   "source": [
    "Base = Runnestedlogit(v3,v3,df1)\n",
    "printres(Base)"
   ]
  },
  {
   "cell_type": "code",
   "execution_count": null,
   "metadata": {
    "id": "pRPbZAdcTvNk"
   },
   "outputs": [],
   "source": []
  },
  {
   "cell_type": "code",
   "execution_count": null,
   "metadata": {
    "colab": {
     "base_uri": "https://localhost:8080/"
    },
    "id": "zaK2pXW5cMA9",
    "outputId": "50bdd665-72e5-4f87-ee06-9b053cece5d3"
   },
   "outputs": [
    {
     "name": "stdout",
     "output_type": "stream",
     "text": [
      "Optimization terminated successfully.\n",
      "         Current function value: 0.393815\n",
      "         Iterations 7\n",
      "Optimization terminated successfully.\n",
      "         Current function value: 0.337651\n",
      "         Iterations 7\n",
      "The area under curve is 81.10%\n",
      "The area under curve is 81.41%\n",
      "KS between class1 and others: 0.4824 (p-value: 0.000e+00)\n",
      "KS between class1 and others: 0.4777 (p-value: 0.000e+00)\n"
     ]
    }
   ],
   "source": [
    "NRI = Runnestedlogit(v3+list(xx[7]),v3+list(xx[7]),df1)\n",
    "printres(NRI)"
   ]
  },
  {
   "cell_type": "code",
   "execution_count": null,
   "metadata": {
    "colab": {
     "base_uri": "https://localhost:8080/"
    },
    "id": "8P0M8VtQdCWr",
    "outputId": "f9bc6768-ab54-4803-f6ce-e11f683e4777"
   },
   "outputs": [
    {
     "data": {
      "text/plain": [
       "const                   -5.600349\n",
       "cltv_current1           -0.046245\n",
       "cltv_current2           -0.009030\n",
       "cltv_current3            0.009610\n",
       "fico1                    0.000554\n",
       "fico2                    0.001233\n",
       "fico3                   -0.000338\n",
       "hpat2y                   2.248008\n",
       "dur_def_episode         -0.031496\n",
       "judicial                 0.416444\n",
       "deficiency               0.070030\n",
       "flag_24                  0.120663\n",
       "noowner_occ             -0.153046\n",
       "proptype_CP             -0.862664\n",
       "proptype_MH             -0.840322\n",
       "proptype_PU              0.107967\n",
       "proptype_SF             -0.099487\n",
       "GSE                     -1.783272\n",
       "Boom                     0.352290\n",
       "Bust                     0.595655\n",
       "PostCrisis               1.744689\n",
       "channel_C                0.141121\n",
       "channel_R                0.211432\n",
       "loanpurpose_N            0.007191\n",
       "loanpurpose_P            0.060170\n",
       "loanpurpose_C           -0.008243\n",
       "Current Interest Rate   -0.184560\n",
       "loan_age                 0.012897\n",
       "Log Original UPB         0.373642\n",
       "CWAV_EALR               -0.142432\n",
       "ERQK_EALR                0.280409\n",
       "HAIL_EALR                0.008697\n",
       "HWAV_EALR                0.061471\n",
       "ISTM_EALR               -0.097490\n",
       "LNDS_EALR                0.078289\n",
       "LTNG_EALR                0.118387\n",
       "RFLD_EALR                0.044510\n",
       "SWND_EALR                0.006484\n",
       "TRND_EALR               -0.006287\n",
       "WFIR_EALR                0.054353\n",
       "WNTW_EALR               -0.064987\n",
       "dtype: float64"
      ]
     },
     "execution_count": 14,
     "metadata": {},
     "output_type": "execute_result"
    }
   ],
   "source": [
    "NRI[1].params"
   ]
  },
  {
   "cell_type": "code",
   "execution_count": null,
   "metadata": {
    "colab": {
     "base_uri": "https://localhost:8080/"
    },
    "id": "s1AJC9vtdLTW",
    "outputId": "3a374c86-7876-431e-fda9-040cc08cfa8c"
   },
   "outputs": [
    {
     "name": "stdout",
     "output_type": "stream",
     "text": [
      "                           Logit Regression Results                           \n",
      "==============================================================================\n",
      "Dep. Variable:                     SS   No. Observations:               913172\n",
      "Model:                          Logit   Df Residuals:                   913143\n",
      "Method:                           MLE   Df Model:                           28\n",
      "Date:                Fri, 10 May 2024   Pseudo R-squ.:                  0.2026\n",
      "Time:                        13:31:46   Log-Likelihood:            -3.6559e+05\n",
      "converged:                       True   LL-Null:                   -4.5845e+05\n",
      "Covariance Type:            nonrobust   LLR p-value:                     0.000\n",
      "=========================================================================================\n",
      "                            coef    std err          z      P>|z|      [0.025      0.975]\n",
      "-----------------------------------------------------------------------------------------\n",
      "const                   -15.9892      0.227    -70.584      0.000     -16.433     -15.545\n",
      "cltv_current1             0.0191      0.001     31.339      0.000       0.018       0.020\n",
      "cltv_current2             0.0247      0.000     87.799      0.000       0.024       0.025\n",
      "cltv_current3             0.0030      0.000     13.370      0.000       0.003       0.003\n",
      "fico1                    -0.0022      0.000     -6.689      0.000      -0.003      -0.002\n",
      "fico2                     0.0027    8.4e-05     32.667      0.000       0.003       0.003\n",
      "fico3                     0.0031      0.000     12.124      0.000       0.003       0.004\n",
      "hpat2y                    0.9692      0.027     36.371      0.000       0.917       1.021\n",
      "dur_def_episode          -0.0834      0.000   -228.069      0.000      -0.084      -0.083\n",
      "judicial                  1.0442      0.007    154.479      0.000       1.031       1.057\n",
      "deficiency               -0.1621      0.010    -16.075      0.000      -0.182      -0.142\n",
      "flag_24                   0.3513      0.018     19.259      0.000       0.316       0.387\n",
      "noowner_occ               0.1412      0.009     14.919      0.000       0.123       0.160\n",
      "proptype_CP              -0.3176      0.079     -4.001      0.000      -0.473      -0.162\n",
      "proptype_MH              -0.7448      0.031    -24.150      0.000      -0.805      -0.684\n",
      "proptype_PU              -0.2717      0.012    -23.350      0.000      -0.294      -0.249\n",
      "proptype_SF              -0.4009      0.010    -41.132      0.000      -0.420      -0.382\n",
      "GSE                      -0.5549      0.009    -59.480      0.000      -0.573      -0.537\n",
      "Boom                      0.1668      0.009     18.639      0.000       0.149       0.184\n",
      "Bust                      0.2416      0.013     18.003      0.000       0.215       0.268\n",
      "PostCrisis               -0.4496      0.028    -16.338      0.000      -0.503      -0.396\n",
      "channel_C                -0.0231      0.010     -2.308      0.021      -0.043      -0.003\n",
      "channel_R                -0.0589      0.010     -5.777      0.000      -0.079      -0.039\n",
      "loanpurpose_N            -0.0464      0.014     -3.380      0.001      -0.073      -0.019\n",
      "loanpurpose_P            -0.1097      0.011    -10.190      0.000      -0.131      -0.089\n",
      "loanpurpose_C             0.0820      0.010      7.901      0.000       0.062       0.102\n",
      "Current Interest Rate    -0.0980      0.004    -27.538      0.000      -0.105      -0.091\n",
      "loan_age                  0.0053      0.000     46.190      0.000       0.005       0.005\n",
      "Log Original UPB          1.2325      0.007    185.375      0.000       1.219       1.245\n",
      "=========================================================================================\n",
      "                           Logit Regression Results                           \n",
      "==============================================================================\n",
      "Dep. Variable:                    TPS   No. Observations:               729453\n",
      "Model:                          Logit   Df Residuals:                   729424\n",
      "Method:                           MLE   Df Model:                           28\n",
      "Date:                Fri, 10 May 2024   Pseudo R-squ.:                  0.1668\n",
      "Time:                        13:31:48   Log-Likelihood:            -2.5900e+05\n",
      "converged:                       True   LL-Null:                   -3.1086e+05\n",
      "Covariance Type:            nonrobust   LLR p-value:                     0.000\n",
      "=========================================================================================\n",
      "                            coef    std err          z      P>|z|      [0.025      0.975]\n",
      "-----------------------------------------------------------------------------------------\n",
      "const                    -6.9786      0.235    -29.641      0.000      -7.440      -6.517\n",
      "cltv_current1            -0.0522      0.000   -121.956      0.000      -0.053      -0.051\n",
      "cltv_current2             0.0023      0.000      6.208      0.000       0.002       0.003\n",
      "cltv_current3             0.0172      0.000     51.915      0.000       0.017       0.018\n",
      "fico1                     0.0005      0.000      1.321      0.187      -0.000       0.001\n",
      "fico2                     0.0013      0.000     13.223      0.000       0.001       0.002\n",
      "fico3                     0.0004      0.000      1.321      0.187      -0.000       0.001\n",
      "hpat2y                    2.1247      0.033     64.788      0.000       2.060       2.189\n",
      "dur_def_episode          -0.0313      0.000    -99.810      0.000      -0.032      -0.031\n",
      "judicial                  0.0557      0.008      6.898      0.000       0.040       0.072\n",
      "deficiency                0.3844      0.013     30.703      0.000       0.360       0.409\n",
      "flag_24                   0.1106      0.023      4.735      0.000       0.065       0.156\n",
      "noowner_occ              -0.0331      0.012     -2.746      0.006      -0.057      -0.009\n",
      "proptype_CP              -0.5994      0.102     -5.887      0.000      -0.799      -0.400\n",
      "proptype_MH              -0.7697      0.031    -24.871      0.000      -0.830      -0.709\n",
      "proptype_PU               0.0178      0.016      1.121      0.262      -0.013       0.049\n",
      "proptype_SF              -0.2990      0.013    -22.656      0.000      -0.325      -0.273\n",
      "GSE                      -1.6910      0.012   -145.202      0.000      -1.714      -1.668\n",
      "Boom                      0.3431      0.010     35.116      0.000       0.324       0.362\n",
      "Bust                      0.5367      0.015     35.165      0.000       0.507       0.567\n",
      "PostCrisis                1.5593      0.020     77.398      0.000       1.520       1.599\n",
      "channel_C                 0.1487      0.015      9.908      0.000       0.119       0.178\n",
      "channel_R                 0.1901      0.015     12.648      0.000       0.161       0.220\n",
      "loanpurpose_N             0.0373      0.018      2.059      0.039       0.002       0.073\n",
      "loanpurpose_P             0.0786      0.016      4.837      0.000       0.047       0.110\n",
      "loanpurpose_C             0.1631      0.016     10.407      0.000       0.132       0.194\n",
      "Current Interest Rate    -0.1845      0.004    -47.729      0.000      -0.192      -0.177\n",
      "loan_age                  0.0123      0.000    109.468      0.000       0.012       0.013\n",
      "Log Original UPB          0.6137      0.008     81.565      0.000       0.599       0.628\n",
      "=========================================================================================\n",
      "                           Logit Regression Results                           \n",
      "==============================================================================\n",
      "Dep. Variable:                     SS   No. Observations:               913172\n",
      "Model:                          Logit   Df Residuals:                   913131\n",
      "Method:                           MLE   Df Model:                           40\n",
      "Date:                Fri, 10 May 2024   Pseudo R-squ.:                  0.2156\n",
      "Time:                        13:31:53   Log-Likelihood:            -3.5962e+05\n",
      "converged:                       True   LL-Null:                   -4.5845e+05\n",
      "Covariance Type:            nonrobust   LLR p-value:                     0.000\n",
      "=========================================================================================\n",
      "                            coef    std err          z      P>|z|      [0.025      0.975]\n",
      "-----------------------------------------------------------------------------------------\n",
      "const                   -16.4883      0.231    -71.525      0.000     -16.940     -16.036\n",
      "cltv_current1             0.0228      0.001     37.115      0.000       0.022       0.024\n",
      "cltv_current2             0.0188      0.000     62.642      0.000       0.018       0.019\n",
      "cltv_current3             0.0034      0.000     14.131      0.000       0.003       0.004\n",
      "fico1                    -0.0018      0.000     -5.422      0.000      -0.003      -0.001\n",
      "fico2                     0.0028   8.49e-05     32.670      0.000       0.003       0.003\n",
      "fico3                     0.0028      0.000     10.839      0.000       0.002       0.003\n",
      "hpat2y                    1.0334      0.027     38.835      0.000       0.981       1.086\n",
      "dur_def_episode          -0.0872      0.000   -234.743      0.000      -0.088      -0.086\n",
      "judicial                  0.9151      0.008    112.285      0.000       0.899       0.931\n",
      "deficiency               -0.1356      0.011    -12.260      0.000      -0.157      -0.114\n",
      "flag_24                   0.2930      0.018     15.839      0.000       0.257       0.329\n",
      "noowner_occ               0.1035      0.010     10.791      0.000       0.085       0.122\n",
      "proptype_CP              -0.4605      0.080     -5.765      0.000      -0.617      -0.304\n",
      "proptype_MH              -0.6950      0.031    -22.162      0.000      -0.756      -0.634\n",
      "proptype_PU              -0.1774      0.012    -14.830      0.000      -0.201      -0.154\n",
      "proptype_SF              -0.2618      0.010    -26.227      0.000      -0.281      -0.242\n",
      "GSE                      -0.5734      0.009    -60.919      0.000      -0.592      -0.555\n",
      "Boom                      0.1803      0.009     19.801      0.000       0.162       0.198\n",
      "Bust                      0.2670      0.014     19.613      0.000       0.240       0.294\n",
      "PostCrisis               -0.3803      0.028    -13.698      0.000      -0.435      -0.326\n",
      "channel_C                -0.0048      0.010     -0.473      0.637      -0.025       0.015\n",
      "channel_R                -0.0352      0.010     -3.418      0.001      -0.055      -0.015\n",
      "loanpurpose_N            -0.0534      0.014     -3.860      0.000      -0.081      -0.026\n",
      "loanpurpose_P            -0.1296      0.011    -11.922      0.000      -0.151      -0.108\n",
      "loanpurpose_C            -0.0063      0.011     -0.597      0.551      -0.027       0.014\n",
      "Current Interest Rate    -0.0948      0.004    -26.386      0.000      -0.102      -0.088\n",
      "loan_age                  0.0051      0.000     43.791      0.000       0.005       0.005\n",
      "Log Original UPB          1.1377      0.007    163.829      0.000       1.124       1.151\n",
      "CWAV_EALR                 0.0255      0.002     10.375      0.000       0.021       0.030\n",
      "ERQK_EALR                -0.0775      0.005    -16.092      0.000      -0.087      -0.068\n",
      "HAIL_EALR                -0.2280      0.004    -60.264      0.000      -0.235      -0.221\n",
      "HWAV_EALR                -0.0064      0.003     -2.062      0.039      -0.013      -0.000\n",
      "ISTM_EALR                 0.0633      0.003     18.433      0.000       0.057       0.070\n",
      "LNDS_EALR                 0.2653      0.006     42.568      0.000       0.253       0.278\n",
      "LTNG_EALR                 0.1251      0.004     29.287      0.000       0.117       0.133\n",
      "RFLD_EALR                 0.1195      0.004     28.038      0.000       0.111       0.128\n",
      "SWND_EALR                 0.0860      0.004     21.865      0.000       0.078       0.094\n",
      "TRND_EALR                -0.0659      0.004    -15.090      0.000      -0.074      -0.057\n",
      "WFIR_EALR                 0.0919      0.004     22.129      0.000       0.084       0.100\n",
      "WNTW_EALR                -0.0688      0.004    -18.506      0.000      -0.076      -0.062\n",
      "=========================================================================================\n",
      "                           Logit Regression Results                           \n",
      "==============================================================================\n",
      "Dep. Variable:                    TPS   No. Observations:               729453\n",
      "Model:                          Logit   Df Residuals:                   729412\n",
      "Method:                           MLE   Df Model:                           40\n",
      "Date:                Fri, 10 May 2024   Pseudo R-squ.:                  0.2077\n",
      "Time:                        13:31:57   Log-Likelihood:            -2.4630e+05\n",
      "converged:                       True   LL-Null:                   -3.1086e+05\n",
      "Covariance Type:            nonrobust   LLR p-value:                     0.000\n",
      "=========================================================================================\n",
      "                            coef    std err          z      P>|z|      [0.025      0.975]\n",
      "-----------------------------------------------------------------------------------------\n",
      "const                    -5.6003      0.243    -23.072      0.000      -6.076      -5.125\n",
      "cltv_current1            -0.0462      0.000   -105.335      0.000      -0.047      -0.045\n",
      "cltv_current2            -0.0090      0.000    -22.645      0.000      -0.010      -0.008\n",
      "cltv_current3             0.0096      0.000     27.153      0.000       0.009       0.010\n",
      "fico1                     0.0006      0.000      1.546      0.122      -0.000       0.001\n",
      "fico2                     0.0012      0.000     11.942      0.000       0.001       0.001\n",
      "fico3                    -0.0003      0.000     -0.991      0.321      -0.001       0.000\n",
      "hpat2y                    2.2480      0.033     69.072      0.000       2.184       2.312\n",
      "dur_def_episode          -0.0315      0.000    -98.016      0.000      -0.032      -0.031\n",
      "judicial                  0.4164      0.010     43.274      0.000       0.398       0.435\n",
      "deficiency                0.0700      0.013      5.250      0.000       0.044       0.096\n",
      "flag_24                   0.1207      0.024      5.022      0.000       0.074       0.168\n",
      "noowner_occ              -0.1530      0.012    -12.395      0.000      -0.177      -0.129\n",
      "proptype_CP              -0.8627      0.103     -8.368      0.000      -1.065      -0.661\n",
      "proptype_MH              -0.8403      0.032    -26.291      0.000      -0.903      -0.778\n",
      "proptype_PU               0.1080      0.017      6.504      0.000       0.075       0.141\n",
      "proptype_SF              -0.0995      0.014     -7.188      0.000      -0.127      -0.072\n",
      "GSE                      -1.7833      0.012   -149.065      0.000      -1.807      -1.760\n",
      "Boom                      0.3523      0.010     34.660      0.000       0.332       0.372\n",
      "Bust                      0.5957      0.016     38.079      0.000       0.565       0.626\n",
      "PostCrisis                1.7447      0.021     84.370      0.000       1.704       1.785\n",
      "channel_C                 0.1411      0.015      9.214      0.000       0.111       0.171\n",
      "channel_R                 0.2114      0.015     13.786      0.000       0.181       0.241\n",
      "loanpurpose_N             0.0072      0.018      0.389      0.697      -0.029       0.043\n",
      "loanpurpose_P             0.0602      0.017      3.637      0.000       0.028       0.093\n",
      "loanpurpose_C            -0.0082      0.016     -0.514      0.607      -0.040       0.023\n",
      "Current Interest Rate    -0.1846      0.004    -46.274      0.000      -0.192      -0.177\n",
      "loan_age                  0.0129      0.000    111.178      0.000       0.013       0.013\n",
      "Log Original UPB          0.3736      0.008     46.903      0.000       0.358       0.389\n",
      "CWAV_EALR                -0.1424      0.003    -50.722      0.000      -0.148      -0.137\n",
      "ERQK_EALR                 0.2804      0.006     48.662      0.000       0.269       0.292\n",
      "HAIL_EALR                 0.0087      0.005      1.851      0.064      -0.001       0.018\n",
      "HWAV_EALR                 0.0615      0.004     16.785      0.000       0.054       0.069\n",
      "ISTM_EALR                -0.0975      0.004    -23.570      0.000      -0.106      -0.089\n",
      "LNDS_EALR                 0.0783      0.007     10.882      0.000       0.064       0.092\n",
      "LTNG_EALR                 0.1184      0.005     22.900      0.000       0.108       0.129\n",
      "RFLD_EALR                 0.0445      0.005      8.444      0.000       0.034       0.055\n",
      "SWND_EALR                 0.0065      0.005      1.318      0.188      -0.003       0.016\n",
      "TRND_EALR                -0.0063      0.005     -1.203      0.229      -0.017       0.004\n",
      "WFIR_EALR                 0.0544      0.005     10.833      0.000       0.045       0.064\n",
      "WNTW_EALR                -0.0650      0.004    -14.735      0.000      -0.074      -0.056\n",
      "=========================================================================================\n"
     ]
    }
   ],
   "source": [
    "print(Base[0].summary())\n",
    "print(Base[1].summary())\n",
    "print(NRI[0].summary())\n",
    "print(NRI[1].summary())"
   ]
  },
  {
   "cell_type": "markdown",
   "metadata": {
    "id": "p6NYniUbfZRE"
   },
   "source": [
    "# MODEL B"
   ]
  },
  {
   "cell_type": "code",
   "execution_count": null,
   "metadata": {
    "id": "ihSgoWGme4yd"
   },
   "outputs": [],
   "source": [
    "Base_v = [\n",
    "    'loansize',\n",
    "    'mr_sprd',\n",
    "    'refinance',\n",
    "    'cltv_current',\n",
    "    'hpat2y',\n",
    "    'dur_def_episode',\n",
    "    'judicial',\n",
    "    'deficiency',\n",
    "    'flag_24',\n",
    "    'noowner_occ',\n",
    "    'proptype_CP',\n",
    "    'proptype_MH',\n",
    "    'proptype_PU',\n",
    "    'proptype_SF',\n",
    "    'REO',\n",
    "    'TPS',\n",
    "    'SS']"
   ]
  },
  {
   "cell_type": "code",
   "execution_count": null,
   "metadata": {
    "id": "b78ERvQee4yh"
   },
   "outputs": [],
   "source": [
    "v2_add = [\n",
    "  'GSE',\n",
    "  'Boom',\n",
    "  'Bust',\n",
    "  'PostCrisis',\n",
    "  'channel_C',\n",
    "  'channel_R',\n",
    "  'loanpurpose_P',\n",
    "  'loanpurpose_C',\n",
    "  'Current Interest Rate',\n",
    "  'loan_age',\n",
    "  'Log Original UPB',\n",
    "          ]\n",
    "v2 = Base_v[3:] + v2_add"
   ]
  },
  {
   "cell_type": "code",
   "execution_count": null,
   "metadata": {
    "id": "9DTIcd_ge4yj"
   },
   "outputs": [],
   "source": [
    "v3_add = ['cltv_current1','cltv_current2','cltv_current3']\n",
    "v3 = v3_add + v2[1:-1]"
   ]
  },
  {
   "cell_type": "code",
   "execution_count": null,
   "metadata": {
    "colab": {
     "base_uri": "https://localhost:8080/"
    },
    "id": "sw8Q9meqe4yj",
    "outputId": "0413c6bb-d1d3-4529-9f22-ec1e7ef6e328"
   },
   "outputs": [
    {
     "name": "stdout",
     "output_type": "stream",
     "text": [
      "Optimization terminated successfully.\n",
      "         Current function value: 0.420970\n",
      "         Iterations 7\n",
      "Optimization terminated successfully.\n",
      "         Current function value: 0.359742\n",
      "         Iterations 7\n",
      "The area under curve is 77.62%\n",
      "The area under curve is 77.39%\n",
      "KS between class1 and others: 0.4245 (p-value: 0.000e+00)\n",
      "KS between class1 and others: 0.4104 (p-value: 0.000e+00)\n"
     ]
    }
   ],
   "source": [
    "Base = Runnestedlogit(v3+['fico'],v3+['fico'],df1)\n",
    "printres(Base)"
   ]
  },
  {
   "cell_type": "code",
   "execution_count": null,
   "metadata": {
    "colab": {
     "base_uri": "https://localhost:8080/"
    },
    "id": "PwuSJwMpe4yk",
    "outputId": "2921d9af-cf2f-48b2-ea39-533eb43d8ba3"
   },
   "outputs": [
    {
     "name": "stdout",
     "output_type": "stream",
     "text": [
      "Optimization terminated successfully.\n",
      "         Current function value: 0.408656\n",
      "         Iterations 7\n",
      "Optimization terminated successfully.\n",
      "         Current function value: 0.338995\n",
      "         Iterations 7\n",
      "The area under curve is 79.27%\n",
      "The area under curve is 81.16%\n",
      "KS between class1 and others: 0.4540 (p-value: 0.000e+00)\n",
      "KS between class1 and others: 0.4693 (p-value: 0.000e+00)\n"
     ]
    }
   ],
   "source": [
    "NRI = Runnestedlogit(v3+list(xx[9])+['fico'],v3+list(xx[9]),df1)\n",
    "printres(NRI)"
   ]
  },
  {
   "cell_type": "code",
   "execution_count": null,
   "metadata": {
    "id": "saEEbwc8e4yk"
   },
   "outputs": [],
   "source": []
  },
  {
   "cell_type": "code",
   "execution_count": null,
   "metadata": {
    "colab": {
     "base_uri": "https://localhost:8080/"
    },
    "id": "UuGLVLwae4yk",
    "outputId": "a9b3f045-0c3e-4c94-bdb7-1ead3f8dc4cb"
   },
   "outputs": [
    {
     "name": "stdout",
     "output_type": "stream",
     "text": [
      "                           Logit Regression Results                           \n",
      "==============================================================================\n",
      "Dep. Variable:                     SS   No. Observations:               913172\n",
      "Model:                          Logit   Df Residuals:                   913148\n",
      "Method:                           MLE   Df Model:                           23\n",
      "Date:                Thu, 09 May 2024   Pseudo R-squ.:                  0.1583\n",
      "Time:                        17:54:25   Log-Likelihood:            -3.8587e+05\n",
      "converged:                       True   LL-Null:                   -4.5845e+05\n",
      "Covariance Type:            nonrobust   LLR p-value:                     0.000\n",
      "=========================================================================================\n",
      "                            coef    std err          z      P>|z|      [0.025      0.975]\n",
      "-----------------------------------------------------------------------------------------\n",
      "const                    -2.9654      0.062    -47.860      0.000      -3.087      -2.844\n",
      "cltv_current1             0.0303      0.001     50.933      0.000       0.029       0.031\n",
      "cltv_current2             0.0337      0.000    123.836      0.000       0.033       0.034\n",
      "cltv_current3             0.0056      0.000     25.085      0.000       0.005       0.006\n",
      "hpat2y                    0.7787      0.026     29.733      0.000       0.727       0.830\n",
      "dur_def_episode          -0.0768      0.000   -216.092      0.000      -0.078      -0.076\n",
      "judicial                  0.8344      0.006    129.936      0.000       0.822       0.847\n",
      "deficiency               -0.2022      0.010    -20.638      0.000      -0.221      -0.183\n",
      "flag_24                   0.5213      0.018     29.749      0.000       0.487       0.556\n",
      "noowner_occ              -0.1053      0.009    -11.863      0.000      -0.123      -0.088\n",
      "proptype_CP              -0.2745      0.077     -3.553      0.000      -0.426      -0.123\n",
      "proptype_MH              -1.0442      0.030    -34.465      0.000      -1.104      -0.985\n",
      "proptype_PU              -0.0306      0.011     -2.719      0.007      -0.053      -0.009\n",
      "proptype_SF              -0.4005      0.009    -42.502      0.000      -0.419      -0.382\n",
      "GSE                      -0.6228      0.008    -73.920      0.000      -0.639      -0.606\n",
      "Boom                      0.4521      0.009     53.050      0.000       0.435       0.469\n",
      "Bust                      0.6403      0.013     50.485      0.000       0.615       0.665\n",
      "PostCrisis               -0.1098      0.027     -4.116      0.000      -0.162      -0.058\n",
      "channel_C                 0.0212      0.010      2.183      0.029       0.002       0.040\n",
      "channel_R                -0.0897      0.010     -9.078      0.000      -0.109      -0.070\n",
      "loanpurpose_P            -0.1380      0.008    -17.690      0.000      -0.153      -0.123\n",
      "loanpurpose_C             0.0713      0.007      9.535      0.000       0.057       0.086\n",
      "Current Interest Rate    -0.1682      0.003    -49.547      0.000      -0.175      -0.162\n",
      "loan_age                  0.0033      0.000     30.509      0.000       0.003       0.004\n",
      "=========================================================================================\n",
      "                           Logit Regression Results                           \n",
      "==============================================================================\n",
      "Dep. Variable:                    TPS   No. Observations:               729453\n",
      "Model:                          Logit   Df Residuals:                   729429\n",
      "Method:                           MLE   Df Model:                           23\n",
      "Date:                Thu, 09 May 2024   Pseudo R-squ.:                  0.1552\n",
      "Time:                        17:54:27   Log-Likelihood:            -2.6261e+05\n",
      "converged:                       True   LL-Null:                   -3.1086e+05\n",
      "Covariance Type:            nonrobust   LLR p-value:                     0.000\n",
      "=========================================================================================\n",
      "                            coef    std err          z      P>|z|      [0.025      0.975]\n",
      "-----------------------------------------------------------------------------------------\n",
      "const                     0.3286      0.058      5.652      0.000       0.215       0.443\n",
      "cltv_current1            -0.0452      0.000   -109.700      0.000      -0.046      -0.044\n",
      "cltv_current2             0.0072      0.000     20.144      0.000       0.007       0.008\n",
      "cltv_current3             0.0188      0.000     57.003      0.000       0.018       0.019\n",
      "hpat2y                    2.0660      0.033     62.961      0.000       2.002       2.130\n",
      "dur_def_episode          -0.0256      0.000    -85.677      0.000      -0.026      -0.025\n",
      "judicial                 -0.0657      0.008     -8.352      0.000      -0.081      -0.050\n",
      "deficiency                0.3572      0.012     28.719      0.000       0.333       0.382\n",
      "flag_24                   0.2015      0.023      8.708      0.000       0.156       0.247\n",
      "noowner_occ              -0.1555      0.012    -13.229      0.000      -0.179      -0.133\n",
      "proptype_CP              -0.5294      0.100     -5.289      0.000      -0.726      -0.333\n",
      "proptype_MH              -0.8892      0.031    -28.998      0.000      -0.949      -0.829\n",
      "proptype_PU               0.1777      0.016     11.364      0.000       0.147       0.208\n",
      "proptype_SF              -0.3006      0.013    -23.001      0.000      -0.326      -0.275\n",
      "GSE                      -1.7432      0.011   -163.153      0.000      -1.764      -1.722\n",
      "Boom                      0.4342      0.010     45.298      0.000       0.415       0.453\n",
      "Bust                      0.6868      0.015     46.256      0.000       0.658       0.716\n",
      "PostCrisis                1.6849      0.020     85.351      0.000       1.646       1.724\n",
      "channel_C                 0.1669      0.015     11.195      0.000       0.138       0.196\n",
      "channel_R                 0.1704      0.015     11.432      0.000       0.141       0.200\n",
      "loanpurpose_P             0.0135      0.010      1.378      0.168      -0.006       0.033\n",
      "loanpurpose_C             0.1173      0.009     12.891      0.000       0.099       0.135\n",
      "Current Interest Rate    -0.2262      0.004    -60.020      0.000      -0.234      -0.219\n",
      "loan_age                  0.0116      0.000    105.421      0.000       0.011       0.012\n",
      "=========================================================================================\n",
      "                           Logit Regression Results                           \n",
      "==============================================================================\n",
      "Dep. Variable:                     SS   No. Observations:               911263\n",
      "Model:                          Logit   Df Residuals:                   911227\n",
      "Method:                           MLE   Df Model:                           35\n",
      "Date:                Thu, 09 May 2024   Pseudo R-squ.:                  0.1831\n",
      "Time:                        17:54:31   Log-Likelihood:            -3.7361e+05\n",
      "converged:                       True   LL-Null:                   -4.5735e+05\n",
      "Covariance Type:            nonrobust   LLR p-value:                     0.000\n",
      "=========================================================================================\n",
      "                            coef    std err          z      P>|z|      [0.025      0.975]\n",
      "-----------------------------------------------------------------------------------------\n",
      "const                    -4.9398      0.067    -73.785      0.000      -5.071      -4.809\n",
      "cltv_current1             0.0355      0.001     58.659      0.000       0.034       0.037\n",
      "cltv_current2             0.0249      0.000     85.384      0.000       0.024       0.026\n",
      "cltv_current3             0.0044      0.000     18.440      0.000       0.004       0.005\n",
      "hpat2y                    0.8543      0.026     32.949      0.000       0.803       0.905\n",
      "dur_def_episode          -0.0834      0.000   -227.717      0.000      -0.084      -0.083\n",
      "judicial                  0.8893      0.008    108.660      0.000       0.873       0.905\n",
      "deficiency               -0.1640      0.011    -15.448      0.000      -0.185      -0.143\n",
      "flag_24                   0.4224      0.018     23.617      0.000       0.387       0.457\n",
      "noowner_occ              -0.1231      0.009    -13.565      0.000      -0.141      -0.105\n",
      "proptype_CP              -0.4172      0.078     -5.328      0.000      -0.571      -0.264\n",
      "proptype_MH              -0.9632      0.031    -31.050      0.000      -1.024      -0.902\n",
      "proptype_PU               0.1110      0.012      9.514      0.000       0.088       0.134\n",
      "proptype_SF              -0.1901      0.010    -19.489      0.000      -0.209      -0.171\n",
      "GSE                      -0.6182      0.009    -72.202      0.000      -0.635      -0.601\n",
      "Boom                      0.3852      0.009     43.712      0.000       0.368       0.402\n",
      "Bust                      0.5816      0.013     44.712      0.000       0.556       0.607\n",
      "PostCrisis               -0.0424      0.027     -1.563      0.118      -0.095       0.011\n",
      "channel_C                 0.0327      0.010      3.312      0.001       0.013       0.052\n",
      "channel_R                -0.0434      0.010     -4.310      0.000      -0.063      -0.024\n",
      "loanpurpose_P            -0.1581      0.008    -19.851      0.000      -0.174      -0.142\n",
      "loanpurpose_C            -0.0650      0.008     -8.402      0.000      -0.080      -0.050\n",
      "Current Interest Rate    -0.1477      0.003    -42.550      0.000      -0.154      -0.141\n",
      "loan_age                  0.0037      0.000     32.902      0.000       0.003       0.004\n",
      "CWAV_EALS                 0.0008      0.000      7.627      0.000       0.001       0.001\n",
      "DRGT_EALS                 0.0025      0.000     20.152      0.000       0.002       0.003\n",
      "ERQK_EALS                -0.0028      0.000    -12.907      0.000      -0.003      -0.002\n",
      "HAIL_EALS                -0.0105      0.000    -76.225      0.000      -0.011      -0.010\n",
      "HWAV_EALS             -3.035e-05      0.000     -0.242      0.809      -0.000       0.000\n",
      "LNDS_EALS                 0.0151      0.000     66.766      0.000       0.015       0.016\n",
      "LTNG_EALS                 0.0066      0.000     28.209      0.000       0.006       0.007\n",
      "RFLD_EALS                 0.0038      0.000     17.014      0.000       0.003       0.004\n",
      "SWND_EALS                -0.0019      0.000    -11.340      0.000      -0.002      -0.002\n",
      "TRND_EALS                 0.0006      0.000      3.590      0.000       0.000       0.001\n",
      "WFIR_EALS                 0.0040      0.000     20.535      0.000       0.004       0.004\n",
      "WNTW_EALS              7.996e-06      0.000      0.056      0.956      -0.000       0.000\n",
      "=========================================================================================\n",
      "                           Logit Regression Results                           \n",
      "==============================================================================\n",
      "Dep. Variable:                    TPS   No. Observations:               728032\n",
      "Model:                          Logit   Df Residuals:                   727996\n",
      "Method:                           MLE   Df Model:                           35\n",
      "Date:                Thu, 09 May 2024   Pseudo R-squ.:                  0.2045\n",
      "Time:                        17:54:33   Log-Likelihood:            -2.4680e+05\n",
      "converged:                       True   LL-Null:                   -3.1026e+05\n",
      "Covariance Type:            nonrobust   LLR p-value:                     0.000\n",
      "=========================================================================================\n",
      "                            coef    std err          z      P>|z|      [0.025      0.975]\n",
      "-----------------------------------------------------------------------------------------\n",
      "const                    -2.0670      0.065    -31.718      0.000      -2.195      -1.939\n",
      "cltv_current1            -0.0416      0.000    -97.376      0.000      -0.042      -0.041\n",
      "cltv_current2            -0.0048      0.000    -12.255      0.000      -0.006      -0.004\n",
      "cltv_current3             0.0109      0.000     30.695      0.000       0.010       0.012\n",
      "hpat2y                    2.1928      0.032     67.579      0.000       2.129       2.256\n",
      "dur_def_episode          -0.0302      0.000    -96.286      0.000      -0.031      -0.030\n",
      "judicial                  0.3230      0.010     33.047      0.000       0.304       0.342\n",
      "deficiency                0.1971      0.013     14.887      0.000       0.171       0.223\n",
      "flag_24                   0.1762      0.024      7.365      0.000       0.129       0.223\n",
      "noowner_occ              -0.2263      0.012    -18.741      0.000      -0.250      -0.203\n",
      "proptype_CP              -0.7674      0.102     -7.557      0.000      -0.966      -0.568\n",
      "proptype_MH              -0.9316      0.032    -29.266      0.000      -0.994      -0.869\n",
      "proptype_PU               0.2108      0.016     12.870      0.000       0.179       0.243\n",
      "proptype_SF              -0.0846      0.014     -6.159      0.000      -0.112      -0.058\n",
      "GSE                      -1.8173      0.011   -164.763      0.000      -1.839      -1.796\n",
      "Boom                      0.3939      0.010     39.020      0.000       0.374       0.414\n",
      "Bust                      0.6869      0.015     44.809      0.000       0.657       0.717\n",
      "PostCrisis                1.8876      0.021     91.915      0.000       1.847       1.928\n",
      "channel_C                 0.1367      0.015      8.952      0.000       0.107       0.167\n",
      "channel_R                 0.2030      0.015     13.292      0.000       0.173       0.233\n",
      "loanpurpose_P             0.0093      0.010      0.921      0.357      -0.011       0.029\n",
      "loanpurpose_C            -0.0273      0.009     -2.874      0.004      -0.046      -0.009\n",
      "Current Interest Rate    -0.2070      0.004    -52.722      0.000      -0.215      -0.199\n",
      "loan_age                  0.0127      0.000    110.896      0.000       0.012       0.013\n",
      "CWAV_EALS                -0.0064      0.000    -49.582      0.000      -0.007      -0.006\n",
      "DRGT_EALS                 0.0057      0.000     37.312      0.000       0.005       0.006\n",
      "ERQK_EALS                 0.0130      0.000     47.164      0.000       0.012       0.014\n",
      "HAIL_EALS                -0.0006      0.000     -3.158      0.002      -0.001      -0.000\n",
      "HWAV_EALS                 0.0014      0.000      9.300      0.000       0.001       0.002\n",
      "LNDS_EALS                 0.0085      0.000     32.136      0.000       0.008       0.009\n",
      "LTNG_EALS                 0.0031      0.000     10.776      0.000       0.003       0.004\n",
      "RFLD_EALS                 0.0014      0.000      4.961      0.000       0.001       0.002\n",
      "SWND_EALS                -0.0012      0.000     -5.620      0.000      -0.002      -0.001\n",
      "TRND_EALS                 0.0013      0.000      5.621      0.000       0.001       0.002\n",
      "WFIR_EALS                 0.0045      0.000     19.650      0.000       0.004       0.005\n",
      "WNTW_EALS                -0.0057      0.000    -33.577      0.000      -0.006      -0.005\n",
      "=========================================================================================\n"
     ]
    }
   ],
   "source": [
    "print(Base[0].summary())\n",
    "print(Base[1].summary())\n",
    "print(NRI[0].summary())\n",
    "print(NRI[1].summary())"
   ]
  },
  {
   "cell_type": "code",
   "execution_count": null,
   "metadata": {
    "id": "__fYmWm-fWhG"
   },
   "outputs": [],
   "source": []
  },
  {
   "cell_type": "markdown",
   "metadata": {
    "id": "S4FuxuPei-LV"
   },
   "source": [
    "# STATS"
   ]
  },
  {
   "cell_type": "code",
   "execution_count": null,
   "metadata": {
    "colab": {
     "base_uri": "https://localhost:8080/"
    },
    "id": "oEx_4QOliv7K",
    "outputId": "0a56fbbb-7a8d-4e71-fa97-54ddd70a7ef1"
   },
   "outputs": [
    {
     "data": {
      "text/plain": [
       "Zero Balance Code\n",
       "9    67.7%\n",
       "3    20.1%\n",
       "2    12.1%\n",
       "Name: proportion, dtype: object"
      ]
     },
     "execution_count": 15,
     "metadata": {},
     "output_type": "execute_result"
    }
   ],
   "source": [
    "df1['Zero Balance Code'].value_counts(normalize=True).mul(100).round(1).astype(str) + '%'"
   ]
  },
  {
   "cell_type": "code",
   "execution_count": null,
   "metadata": {
    "colab": {
     "base_uri": "https://localhost:8080/",
     "height": 444
    },
    "id": "1kh8bRzOjCIb",
    "outputId": "9632fdfb-89de-4e2a-8f39-f9cd0268d6f8"
   },
   "outputs": [
    {
     "data": {
      "image/png": "[encoded data removed]",
      "text/plain": [
       "<Figure size 640x480 with 1 Axes>"
      ]
     },
     "metadata": {},
     "output_type": "display_data"
    }
   ],
   "source": [
    "grouped = df1.groupby(['Zero Balance Code', 'GSE']).size().unstack(fill_value=0)\n",
    "\n",
    "# Plotting the bar graph\n",
    "ax = grouped.plot(kind='bar')\n",
    "plt.show()"
   ]
  },
  {
   "cell_type": "code",
   "execution_count": null,
   "metadata": {
    "colab": {
     "base_uri": "https://localhost:8080/",
     "height": 472
    },
    "id": "eIZjHnAAjF97",
    "outputId": "afc0df11-dc7a-4a6f-ff9d-284585cae697"
   },
   "outputs": [
    {
     "data": {
      "image/png": "[encoded data removed]",
      "text/plain": [
       "<Figure size 640x480 with 1 Axes>"
      ]
     },
     "metadata": {},
     "output_type": "display_data"
    }
   ],
   "source": [
    "grouped = df.groupby(['buckets','Zero Balance Code']).size().unstack(fill_value=0)\n",
    "\n",
    "# Calculating the total count of each GSE value across all Zero Balance Codes\n",
    "total_counts = grouped.sum(axis=0)\n",
    "\n",
    "# Calculating the percentage for each GSE value based on the total count of each GSE value\n",
    "grouped_percentage = grouped.div(total_counts, axis=1) * 100\n",
    "\n",
    "# Plotting the bar graph\n",
    "ax = grouped_percentage.plot(kind='bar', width=0.4)\n",
    "\n",
    "# Customizing the plot\n",
    "plt.xlabel('Time Period')\n",
    "plt.ylabel('Percentage')\n",
    "plt.title('Percentage of Zero Balance Code by Years')\n",
    "plt.legend(title='Legend')\n",
    "plt.ylim(0, 100)  # Setting y-axis limit to 0-100%\n",
    "\n",
    "# Adjusting x-axis tick labels\n",
    "ax.set_xticklabels(grouped_percentage.index, rotation=0)\n",
    "\n",
    "plt.show()"
   ]
  },
  {
   "cell_type": "code",
   "execution_count": null,
   "metadata": {
    "id": "86S9os0OjcvV"
   },
   "outputs": [],
   "source": [
    "pd.options.display.float_format = \"{:,.4f}\".format"
   ]
  },
  {
   "cell_type": "code",
   "execution_count": null,
   "metadata": {
    "colab": {
     "base_uri": "https://localhost:8080/",
     "height": 142
    },
    "id": "3HIsgof4kFOL",
    "outputId": "102a67a6-b39f-4cf1-d9cf-2ff0a02b0fa2"
   },
   "outputs": [
    {
     "data": {
      "application/vnd.google.colaboratory.intrinsic+json": {
       "summary": "{\n  \"name\": \"df1\",\n  \"rows\": 2,\n  \"fields\": [\n    {\n      \"column\": \"GSE\",\n      \"properties\": {\n        \"dtype\": \"number\",\n        \"std\": 0,\n        \"min\": 0,\n        \"max\": 1,\n        \"num_unique_values\": 2,\n        \"samples\": [\n          1,\n          0\n        ],\n        \"semantic_type\": \"\",\n        \"description\": \"\"\n      }\n    },\n    {\n      \"column\": \"REO\",\n      \"properties\": {\n        \"dtype\": \"number\",\n        \"std\": 8.503102787083522,\n        \"min\": 61.82746824753994,\n        \"max\": 73.85267153128592,\n        \"num_unique_values\": 2,\n        \"samples\": [\n          73.85267153128592,\n          61.82746824753994\n        ],\n        \"semantic_type\": \"\",\n        \"description\": \"\"\n      }\n    },\n    {\n      \"column\": \"TPS\",\n      \"properties\": {\n        \"dtype\": \"number\",\n        \"std\": 7.446780472132868,\n        \"min\": 6.787970313349192,\n        \"max\": 17.319308253054615,\n        \"num_unique_values\": 2,\n        \"samples\": [\n          6.787970313349192,\n          17.319308253054615\n        ],\n        \"semantic_type\": \"\",\n        \"description\": \"\"\n      }\n    },\n    {\n      \"column\": \"SS\",\n      \"properties\": {\n        \"dtype\": \"number\",\n        \"std\": 1.0563223149506529,\n        \"min\": 19.35935815536489,\n        \"max\": 20.85322349940545,\n        \"num_unique_values\": 2,\n        \"samples\": [\n          19.35935815536489,\n          20.85322349940545\n        ],\n        \"semantic_type\": \"\",\n        \"description\": \"\"\n      }\n    }\n  ]\n}",
       "type": "dataframe"
      },
      "text/html": [
       "\n",
       "  <div id=\"df-0057a759-948e-4504-abc9-ebe09f051e2e\" class=\"colab-df-container\">\n",
       "    <div>\n",
       "<style scoped>\n",
       "    .dataframe tbody tr th:only-of-type {\n",
       "        vertical-align: middle;\n",
       "    }\n",
       "\n",
       "    .dataframe tbody tr th {\n",
       "        vertical-align: top;\n",
       "    }\n",
       "\n",
       "    .dataframe thead th {\n",
       "        text-align: right;\n",
       "    }\n",
       "</style>\n",
       "<table border=\"1\" class=\"dataframe\">\n",
       "  <thead>\n",
       "    <tr style=\"text-align: right;\">\n",
       "      <th></th>\n",
       "      <th>REO</th>\n",
       "      <th>TPS</th>\n",
       "      <th>SS</th>\n",
       "    </tr>\n",
       "    <tr>\n",
       "      <th>GSE</th>\n",
       "      <th></th>\n",
       "      <th></th>\n",
       "      <th></th>\n",
       "    </tr>\n",
       "  </thead>\n",
       "  <tbody>\n",
       "    <tr>\n",
       "      <th>0</th>\n",
       "      <td>61.83</td>\n",
       "      <td>17.32</td>\n",
       "      <td>20.85</td>\n",
       "    </tr>\n",
       "    <tr>\n",
       "      <th>1</th>\n",
       "      <td>73.85</td>\n",
       "      <td>6.79</td>\n",
       "      <td>19.36</td>\n",
       "    </tr>\n",
       "  </tbody>\n",
       "</table>\n",
       "</div>\n",
       "    <div class=\"colab-df-buttons\">\n",
       "\n",
       "  <div class=\"colab-df-container\">\n",
       "    <button class=\"colab-df-convert\" onclick=\"convertToInteractive('df-0057a759-948e-4504-abc9-ebe09f051e2e')\"\n",
       "            title=\"Convert this dataframe to an interactive table.\"\n",
       "            style=\"display:none;\">\n",
       "\n",
       "  <svg xmlns=\"http://www.w3.org/2000/svg\" height=\"24px\" viewBox=\"0 -960 960 960\">\n",
       "    <path d=\"M120-120v-720h720v720H120Zm60-500h600v-160H180v160Zm220 220h160v-160H400v160Zm0 220h160v-160H400v160ZM180-400h160v-160H180v160Zm440 0h160v-160H620v160ZM180-180h160v-160H180v160Zm440 0h160v-160H620v160Z\"/>\n",
       "  </svg>\n",
       "    </button>\n",
       "\n",
       "  <style>\n",
       "    .colab-df-container {\n",
       "      display:flex;\n",
       "      gap: 12px;\n",
       "    }\n",
       "\n",
       "    .colab-df-convert {\n",
       "      background-color: #E8F0FE;\n",
       "      border: none;\n",
       "      border-radius: 50%;\n",
       "      cursor: pointer;\n",
       "      display: none;\n",
       "      fill: #1967D2;\n",
       "      height: 32px;\n",
       "      padding: 0 0 0 0;\n",
       "      width: 32px;\n",
       "    }\n",
       "\n",
       "    .colab-df-convert:hover {\n",
       "      background-color: #E2EBFA;\n",
       "      box-shadow: 0px 1px 2px rgba(60, 64, 67, 0.3), 0px 1px 3px 1px rgba(60, 64, 67, 0.15);\n",
       "      fill: #174EA6;\n",
       "    }\n",
       "\n",
       "    .colab-df-buttons div {\n",
       "      margin-bottom: 4px;\n",
       "    }\n",
       "\n",
       "    [theme=dark] .colab-df-convert {\n",
       "      background-color: #3B4455;\n",
       "      fill: #D2E3FC;\n",
       "    }\n",
       "\n",
       "    [theme=dark] .colab-df-convert:hover {\n",
       "      background-color: #434B5C;\n",
       "      box-shadow: 0px 1px 3px 1px rgba(0, 0, 0, 0.15);\n",
       "      filter: drop-shadow(0px 1px 2px rgba(0, 0, 0, 0.3));\n",
       "      fill: #FFFFFF;\n",
       "    }\n",
       "  </style>\n",
       "\n",
       "    <script>\n",
       "      const buttonEl =\n",
       "        document.querySelector('#df-0057a759-948e-4504-abc9-ebe09f051e2e button.colab-df-convert');\n",
       "      buttonEl.style.display =\n",
       "        google.colab.kernel.accessAllowed ? 'block' : 'none';\n",
       "\n",
       "      async function convertToInteractive(key) {\n",
       "        const element = document.querySelector('#df-0057a759-948e-4504-abc9-ebe09f051e2e');\n",
       "        const dataTable =\n",
       "          await google.colab.kernel.invokeFunction('convertToInteractive',\n",
       "                                                    [key], {});\n",
       "        if (!dataTable) return;\n",
       "\n",
       "        const docLinkHtml = 'Like what you see? Visit the ' +\n",
       "          '<a target=\"_blank\" href=https://colab.research.google.com/notebooks/data_table.ipynb>data table notebook</a>'\n",
       "          + ' to learn more about interactive tables.';\n",
       "        element.innerHTML = '';\n",
       "        dataTable['output_type'] = 'display_data';\n",
       "        await google.colab.output.renderOutput(dataTable, element);\n",
       "        const docLink = document.createElement('div');\n",
       "        docLink.innerHTML = docLinkHtml;\n",
       "        element.appendChild(docLink);\n",
       "      }\n",
       "    </script>\n",
       "  </div>\n",
       "\n",
       "\n",
       "<div id=\"df-930fc133-8ccb-4919-bf7e-09c7cbc2ec56\">\n",
       "  <button class=\"colab-df-quickchart\" onclick=\"quickchart('df-930fc133-8ccb-4919-bf7e-09c7cbc2ec56')\"\n",
       "            title=\"Suggest charts\"\n",
       "            style=\"display:none;\">\n",
       "\n",
       "<svg xmlns=\"http://www.w3.org/2000/svg\" height=\"24px\"viewBox=\"0 0 24 24\"\n",
       "     width=\"24px\">\n",
       "    <g>\n",
       "        <path d=\"M19 3H5c-1.1 0-2 .9-2 2v14c0 1.1.9 2 2 2h14c1.1 0 2-.9 2-2V5c0-1.1-.9-2-2-2zM9 17H7v-7h2v7zm4 0h-2V7h2v10zm4 0h-2v-4h2v4z\"/>\n",
       "    </g>\n",
       "</svg>\n",
       "  </button>\n",
       "\n",
       "<style>\n",
       "  .colab-df-quickchart {\n",
       "      --bg-color: #E8F0FE;\n",
       "      --fill-color: #1967D2;\n",
       "      --hover-bg-color: #E2EBFA;\n",
       "      --hover-fill-color: #174EA6;\n",
       "      --disabled-fill-color: #AAA;\n",
       "      --disabled-bg-color: #DDD;\n",
       "  }\n",
       "\n",
       "  [theme=dark] .colab-df-quickchart {\n",
       "      --bg-color: #3B4455;\n",
       "      --fill-color: #D2E3FC;\n",
       "      --hover-bg-color: #434B5C;\n",
       "      --hover-fill-color: #FFFFFF;\n",
       "      --disabled-bg-color: #3B4455;\n",
       "      --disabled-fill-color: #666;\n",
       "  }\n",
       "\n",
       "  .colab-df-quickchart {\n",
       "    background-color: var(--bg-color);\n",
       "    border: none;\n",
       "    border-radius: 50%;\n",
       "    cursor: pointer;\n",
       "    display: none;\n",
       "    fill: var(--fill-color);\n",
       "    height: 32px;\n",
       "    padding: 0;\n",
       "    width: 32px;\n",
       "  }\n",
       "\n",
       "  .colab-df-quickchart:hover {\n",
       "    background-color: var(--hover-bg-color);\n",
       "    box-shadow: 0 1px 2px rgba(60, 64, 67, 0.3), 0 1px 3px 1px rgba(60, 64, 67, 0.15);\n",
       "    fill: var(--button-hover-fill-color);\n",
       "  }\n",
       "\n",
       "  .colab-df-quickchart-complete:disabled,\n",
       "  .colab-df-quickchart-complete:disabled:hover {\n",
       "    background-color: var(--disabled-bg-color);\n",
       "    fill: var(--disabled-fill-color);\n",
       "    box-shadow: none;\n",
       "  }\n",
       "\n",
       "  .colab-df-spinner {\n",
       "    border: 2px solid var(--fill-color);\n",
       "    border-color: transparent;\n",
       "    border-bottom-color: var(--fill-color);\n",
       "    animation:\n",
       "      spin 1s steps(1) infinite;\n",
       "  }\n",
       "\n",
       "  @keyframes spin {\n",
       "    0% {\n",
       "      border-color: transparent;\n",
       "      border-bottom-color: var(--fill-color);\n",
       "      border-left-color: var(--fill-color);\n",
       "    }\n",
       "    20% {\n",
       "      border-color: transparent;\n",
       "      border-left-color: var(--fill-color);\n",
       "      border-top-color: var(--fill-color);\n",
       "    }\n",
       "    30% {\n",
       "      border-color: transparent;\n",
       "      border-left-color: var(--fill-color);\n",
       "      border-top-color: var(--fill-color);\n",
       "      border-right-color: var(--fill-color);\n",
       "    }\n",
       "    40% {\n",
       "      border-color: transparent;\n",
       "      border-right-color: var(--fill-color);\n",
       "      border-top-color: var(--fill-color);\n",
       "    }\n",
       "    60% {\n",
       "      border-color: transparent;\n",
       "      border-right-color: var(--fill-color);\n",
       "    }\n",
       "    80% {\n",
       "      border-color: transparent;\n",
       "      border-right-color: var(--fill-color);\n",
       "      border-bottom-color: var(--fill-color);\n",
       "    }\n",
       "    90% {\n",
       "      border-color: transparent;\n",
       "      border-bottom-color: var(--fill-color);\n",
       "    }\n",
       "  }\n",
       "</style>\n",
       "\n",
       "  <script>\n",
       "    async function quickchart(key) {\n",
       "      const quickchartButtonEl =\n",
       "        document.querySelector('#' + key + ' button');\n",
       "      quickchartButtonEl.disabled = true;  // To prevent multiple clicks.\n",
       "      quickchartButtonEl.classList.add('colab-df-spinner');\n",
       "      try {\n",
       "        const charts = await google.colab.kernel.invokeFunction(\n",
       "            'suggestCharts', [key], {});\n",
       "      } catch (error) {\n",
       "        console.error('Error during call to suggestCharts:', error);\n",
       "      }\n",
       "      quickchartButtonEl.classList.remove('colab-df-spinner');\n",
       "      quickchartButtonEl.classList.add('colab-df-quickchart-complete');\n",
       "    }\n",
       "    (() => {\n",
       "      let quickchartButtonEl =\n",
       "        document.querySelector('#df-930fc133-8ccb-4919-bf7e-09c7cbc2ec56 button');\n",
       "      quickchartButtonEl.style.display =\n",
       "        google.colab.kernel.accessAllowed ? 'block' : 'none';\n",
       "    })();\n",
       "  </script>\n",
       "</div>\n",
       "    </div>\n",
       "  </div>\n"
      ],
      "text/plain": [
       "      REO   TPS    SS\n",
       "GSE                  \n",
       "0   61.83 17.32 20.85\n",
       "1   73.85  6.79 19.36"
      ]
     },
     "execution_count": 19,
     "metadata": {},
     "output_type": "execute_result"
    }
   ],
   "source": [
    "df1.groupby('GSE')[['REO','TPS','SS']].mean()*100"
   ]
  },
  {
   "cell_type": "code",
   "execution_count": null,
   "metadata": {
    "colab": {
     "base_uri": "https://localhost:8080/",
     "height": 142
    },
    "id": "xBdAxRiNkH3P",
    "outputId": "f97a88f2-da4a-465c-c497-da4c05ef13c3"
   },
   "outputs": [
    {
     "data": {
      "application/vnd.google.colaboratory.intrinsic+json": {
       "summary": "{\n  \"name\": \"df1\",\n  \"rows\": 2,\n  \"fields\": [\n    {\n      \"column\": \"GSE\",\n      \"properties\": {\n        \"dtype\": \"number\",\n        \"std\": 0,\n        \"min\": 0,\n        \"max\": 1,\n        \"num_unique_values\": 2,\n        \"samples\": [\n          1,\n          0\n        ],\n        \"semantic_type\": \"\",\n        \"description\": \"\"\n      }\n    },\n    {\n      \"column\": \"REO\",\n      \"properties\": {\n        \"dtype\": \"number\",\n        \"std\": 31503,\n        \"min\": 287013,\n        \"max\": 331566,\n        \"num_unique_values\": 2,\n        \"samples\": [\n          331566,\n          287013\n        ],\n        \"semantic_type\": \"\",\n        \"description\": \"\"\n      }\n    },\n    {\n      \"column\": \"TPS\",\n      \"properties\": {\n        \"dtype\": \"number\",\n        \"std\": 35301,\n        \"min\": 30475,\n        \"max\": 80399,\n        \"num_unique_values\": 2,\n        \"samples\": [\n          30475,\n          80399\n        ],\n        \"semantic_type\": \"\",\n        \"description\": \"\"\n      }\n    },\n    {\n      \"column\": \"SS\",\n      \"properties\": {\n        \"dtype\": \"number\",\n        \"std\": 6992,\n        \"min\": 86915,\n        \"max\": 96804,\n        \"num_unique_values\": 2,\n        \"samples\": [\n          86915,\n          96804\n        ],\n        \"semantic_type\": \"\",\n        \"description\": \"\"\n      }\n    }\n  ]\n}",
       "type": "dataframe"
      },
      "text/html": [
       "\n",
       "  <div id=\"df-63c66ac9-0750-436e-86ce-6dde7bf460ee\" class=\"colab-df-container\">\n",
       "    <div>\n",
       "<style scoped>\n",
       "    .dataframe tbody tr th:only-of-type {\n",
       "        vertical-align: middle;\n",
       "    }\n",
       "\n",
       "    .dataframe tbody tr th {\n",
       "        vertical-align: top;\n",
       "    }\n",
       "\n",
       "    .dataframe thead th {\n",
       "        text-align: right;\n",
       "    }\n",
       "</style>\n",
       "<table border=\"1\" class=\"dataframe\">\n",
       "  <thead>\n",
       "    <tr style=\"text-align: right;\">\n",
       "      <th></th>\n",
       "      <th>REO</th>\n",
       "      <th>TPS</th>\n",
       "      <th>SS</th>\n",
       "    </tr>\n",
       "    <tr>\n",
       "      <th>GSE</th>\n",
       "      <th></th>\n",
       "      <th></th>\n",
       "      <th></th>\n",
       "    </tr>\n",
       "  </thead>\n",
       "  <tbody>\n",
       "    <tr>\n",
       "      <th>0</th>\n",
       "      <td>287013</td>\n",
       "      <td>80399</td>\n",
       "      <td>96804</td>\n",
       "    </tr>\n",
       "    <tr>\n",
       "      <th>1</th>\n",
       "      <td>331566</td>\n",
       "      <td>30475</td>\n",
       "      <td>86915</td>\n",
       "    </tr>\n",
       "  </tbody>\n",
       "</table>\n",
       "</div>\n",
       "    <div class=\"colab-df-buttons\">\n",
       "\n",
       "  <div class=\"colab-df-container\">\n",
       "    <button class=\"colab-df-convert\" onclick=\"convertToInteractive('df-63c66ac9-0750-436e-86ce-6dde7bf460ee')\"\n",
       "            title=\"Convert this dataframe to an interactive table.\"\n",
       "            style=\"display:none;\">\n",
       "\n",
       "  <svg xmlns=\"http://www.w3.org/2000/svg\" height=\"24px\" viewBox=\"0 -960 960 960\">\n",
       "    <path d=\"M120-120v-720h720v720H120Zm60-500h600v-160H180v160Zm220 220h160v-160H400v160Zm0 220h160v-160H400v160ZM180-400h160v-160H180v160Zm440 0h160v-160H620v160ZM180-180h160v-160H180v160Zm440 0h160v-160H620v160Z\"/>\n",
       "  </svg>\n",
       "    </button>\n",
       "\n",
       "  <style>\n",
       "    .colab-df-container {\n",
       "      display:flex;\n",
       "      gap: 12px;\n",
       "    }\n",
       "\n",
       "    .colab-df-convert {\n",
       "      background-color: #E8F0FE;\n",
       "      border: none;\n",
       "      border-radius: 50%;\n",
       "      cursor: pointer;\n",
       "      display: none;\n",
       "      fill: #1967D2;\n",
       "      height: 32px;\n",
       "      padding: 0 0 0 0;\n",
       "      width: 32px;\n",
       "    }\n",
       "\n",
       "    .colab-df-convert:hover {\n",
       "      background-color: #E2EBFA;\n",
       "      box-shadow: 0px 1px 2px rgba(60, 64, 67, 0.3), 0px 1px 3px 1px rgba(60, 64, 67, 0.15);\n",
       "      fill: #174EA6;\n",
       "    }\n",
       "\n",
       "    .colab-df-buttons div {\n",
       "      margin-bottom: 4px;\n",
       "    }\n",
       "\n",
       "    [theme=dark] .colab-df-convert {\n",
       "      background-color: #3B4455;\n",
       "      fill: #D2E3FC;\n",
       "    }\n",
       "\n",
       "    [theme=dark] .colab-df-convert:hover {\n",
       "      background-color: #434B5C;\n",
       "      box-shadow: 0px 1px 3px 1px rgba(0, 0, 0, 0.15);\n",
       "      filter: drop-shadow(0px 1px 2px rgba(0, 0, 0, 0.3));\n",
       "      fill: #FFFFFF;\n",
       "    }\n",
       "  </style>\n",
       "\n",
       "    <script>\n",
       "      const buttonEl =\n",
       "        document.querySelector('#df-63c66ac9-0750-436e-86ce-6dde7bf460ee button.colab-df-convert');\n",
       "      buttonEl.style.display =\n",
       "        google.colab.kernel.accessAllowed ? 'block' : 'none';\n",
       "\n",
       "      async function convertToInteractive(key) {\n",
       "        const element = document.querySelector('#df-63c66ac9-0750-436e-86ce-6dde7bf460ee');\n",
       "        const dataTable =\n",
       "          await google.colab.kernel.invokeFunction('convertToInteractive',\n",
       "                                                    [key], {});\n",
       "        if (!dataTable) return;\n",
       "\n",
       "        const docLinkHtml = 'Like what you see? Visit the ' +\n",
       "          '<a target=\"_blank\" href=https://colab.research.google.com/notebooks/data_table.ipynb>data table notebook</a>'\n",
       "          + ' to learn more about interactive tables.';\n",
       "        element.innerHTML = '';\n",
       "        dataTable['output_type'] = 'display_data';\n",
       "        await google.colab.output.renderOutput(dataTable, element);\n",
       "        const docLink = document.createElement('div');\n",
       "        docLink.innerHTML = docLinkHtml;\n",
       "        element.appendChild(docLink);\n",
       "      }\n",
       "    </script>\n",
       "  </div>\n",
       "\n",
       "\n",
       "<div id=\"df-2f74617a-3c1d-45ae-a6ea-d31e9fd665ae\">\n",
       "  <button class=\"colab-df-quickchart\" onclick=\"quickchart('df-2f74617a-3c1d-45ae-a6ea-d31e9fd665ae')\"\n",
       "            title=\"Suggest charts\"\n",
       "            style=\"display:none;\">\n",
       "\n",
       "<svg xmlns=\"http://www.w3.org/2000/svg\" height=\"24px\"viewBox=\"0 0 24 24\"\n",
       "     width=\"24px\">\n",
       "    <g>\n",
       "        <path d=\"M19 3H5c-1.1 0-2 .9-2 2v14c0 1.1.9 2 2 2h14c1.1 0 2-.9 2-2V5c0-1.1-.9-2-2-2zM9 17H7v-7h2v7zm4 0h-2V7h2v10zm4 0h-2v-4h2v4z\"/>\n",
       "    </g>\n",
       "</svg>\n",
       "  </button>\n",
       "\n",
       "<style>\n",
       "  .colab-df-quickchart {\n",
       "      --bg-color: #E8F0FE;\n",
       "      --fill-color: #1967D2;\n",
       "      --hover-bg-color: #E2EBFA;\n",
       "      --hover-fill-color: #174EA6;\n",
       "      --disabled-fill-color: #AAA;\n",
       "      --disabled-bg-color: #DDD;\n",
       "  }\n",
       "\n",
       "  [theme=dark] .colab-df-quickchart {\n",
       "      --bg-color: #3B4455;\n",
       "      --fill-color: #D2E3FC;\n",
       "      --hover-bg-color: #434B5C;\n",
       "      --hover-fill-color: #FFFFFF;\n",
       "      --disabled-bg-color: #3B4455;\n",
       "      --disabled-fill-color: #666;\n",
       "  }\n",
       "\n",
       "  .colab-df-quickchart {\n",
       "    background-color: var(--bg-color);\n",
       "    border: none;\n",
       "    border-radius: 50%;\n",
       "    cursor: pointer;\n",
       "    display: none;\n",
       "    fill: var(--fill-color);\n",
       "    height: 32px;\n",
       "    padding: 0;\n",
       "    width: 32px;\n",
       "  }\n",
       "\n",
       "  .colab-df-quickchart:hover {\n",
       "    background-color: var(--hover-bg-color);\n",
       "    box-shadow: 0 1px 2px rgba(60, 64, 67, 0.3), 0 1px 3px 1px rgba(60, 64, 67, 0.15);\n",
       "    fill: var(--button-hover-fill-color);\n",
       "  }\n",
       "\n",
       "  .colab-df-quickchart-complete:disabled,\n",
       "  .colab-df-quickchart-complete:disabled:hover {\n",
       "    background-color: var(--disabled-bg-color);\n",
       "    fill: var(--disabled-fill-color);\n",
       "    box-shadow: none;\n",
       "  }\n",
       "\n",
       "  .colab-df-spinner {\n",
       "    border: 2px solid var(--fill-color);\n",
       "    border-color: transparent;\n",
       "    border-bottom-color: var(--fill-color);\n",
       "    animation:\n",
       "      spin 1s steps(1) infinite;\n",
       "  }\n",
       "\n",
       "  @keyframes spin {\n",
       "    0% {\n",
       "      border-color: transparent;\n",
       "      border-bottom-color: var(--fill-color);\n",
       "      border-left-color: var(--fill-color);\n",
       "    }\n",
       "    20% {\n",
       "      border-color: transparent;\n",
       "      border-left-color: var(--fill-color);\n",
       "      border-top-color: var(--fill-color);\n",
       "    }\n",
       "    30% {\n",
       "      border-color: transparent;\n",
       "      border-left-color: var(--fill-color);\n",
       "      border-top-color: var(--fill-color);\n",
       "      border-right-color: var(--fill-color);\n",
       "    }\n",
       "    40% {\n",
       "      border-color: transparent;\n",
       "      border-right-color: var(--fill-color);\n",
       "      border-top-color: var(--fill-color);\n",
       "    }\n",
       "    60% {\n",
       "      border-color: transparent;\n",
       "      border-right-color: var(--fill-color);\n",
       "    }\n",
       "    80% {\n",
       "      border-color: transparent;\n",
       "      border-right-color: var(--fill-color);\n",
       "      border-bottom-color: var(--fill-color);\n",
       "    }\n",
       "    90% {\n",
       "      border-color: transparent;\n",
       "      border-bottom-color: var(--fill-color);\n",
       "    }\n",
       "  }\n",
       "</style>\n",
       "\n",
       "  <script>\n",
       "    async function quickchart(key) {\n",
       "      const quickchartButtonEl =\n",
       "        document.querySelector('#' + key + ' button');\n",
       "      quickchartButtonEl.disabled = true;  // To prevent multiple clicks.\n",
       "      quickchartButtonEl.classList.add('colab-df-spinner');\n",
       "      try {\n",
       "        const charts = await google.colab.kernel.invokeFunction(\n",
       "            'suggestCharts', [key], {});\n",
       "      } catch (error) {\n",
       "        console.error('Error during call to suggestCharts:', error);\n",
       "      }\n",
       "      quickchartButtonEl.classList.remove('colab-df-spinner');\n",
       "      quickchartButtonEl.classList.add('colab-df-quickchart-complete');\n",
       "    }\n",
       "    (() => {\n",
       "      let quickchartButtonEl =\n",
       "        document.querySelector('#df-2f74617a-3c1d-45ae-a6ea-d31e9fd665ae button');\n",
       "      quickchartButtonEl.style.display =\n",
       "        google.colab.kernel.accessAllowed ? 'block' : 'none';\n",
       "    })();\n",
       "  </script>\n",
       "</div>\n",
       "    </div>\n",
       "  </div>\n"
      ],
      "text/plain": [
       "        REO    TPS     SS\n",
       "GSE                      \n",
       "0    287013  80399  96804\n",
       "1    331566  30475  86915"
      ]
     },
     "execution_count": 20,
     "metadata": {},
     "output_type": "execute_result"
    }
   ],
   "source": [
    "df1.groupby('GSE')[['REO','TPS','SS']].sum()"
   ]
  },
  {
   "cell_type": "code",
   "execution_count": null,
   "metadata": {
    "colab": {
     "base_uri": "https://localhost:8080/"
    },
    "id": "PjlgzvIekKfA",
    "outputId": "e13900c6-7fa5-453b-c9d9-812b43e6d6cb"
   },
   "outputs": [
    {
     "data": {
      "text/plain": [
       "REO    618579\n",
       "TPS    110874\n",
       "SS     183719\n",
       "dtype: int64"
      ]
     },
     "execution_count": 21,
     "metadata": {},
     "output_type": "execute_result"
    }
   ],
   "source": [
    "df1[['REO','TPS','SS']].sum()"
   ]
  },
  {
   "cell_type": "code",
   "execution_count": null,
   "metadata": {
    "colab": {
     "base_uri": "https://localhost:8080/",
     "height": 762
    },
    "id": "IrJLhD8rkaa1",
    "outputId": "93dfd337-c399-4634-e184-9dd8924b2bd7"
   },
   "outputs": [
    {
     "data": {
      "application/vnd.google.colaboratory.intrinsic+json": {
       "summary": "{\n  \"name\": \"df1\",\n  \"rows\": 22,\n  \"fields\": [\n    {\n      \"column\": \"orig_year\",\n      \"properties\": {\n        \"dtype\": \"number\",\n        \"std\": 6,\n        \"min\": 1999,\n        \"max\": 2020,\n        \"num_unique_values\": 22,\n        \"samples\": [\n          1999,\n          2012,\n          2007\n        ],\n        \"semantic_type\": \"\",\n        \"description\": \"\"\n      }\n    },\n    {\n      \"column\": \"REO\",\n      \"properties\": {\n        \"dtype\": \"number\",\n        \"std\": 12.271491947206197,\n        \"min\": 44.54320987654321,\n        \"max\": 85.33831162917767,\n        \"num_unique_values\": 22,\n        \"samples\": [\n          71.28845895472256,\n          61.76157530601384,\n          64.14010038273784\n        ],\n        \"semantic_type\": \"\",\n        \"description\": \"\"\n      }\n    },\n    {\n      \"column\": \"TPS\",\n      \"properties\": {\n        \"dtype\": \"number\",\n        \"std\": 14.475077922590172,\n        \"min\": 9.407157818049358,\n        \"max\": 49.82993197278912,\n        \"num_unique_values\": 22,\n        \"samples\": [\n          23.243315867257827,\n          29.61681745609367,\n          9.854353356404557\n        ],\n        \"semantic_type\": \"\",\n        \"description\": \"\"\n      }\n    },\n    {\n      \"column\": \"SS\",\n      \"properties\": {\n        \"dtype\": \"number\",\n        \"std\": 7.242320834295298,\n        \"min\": 5.1020408163265305,\n        \"max\": 26.00554626085761,\n        \"num_unique_values\": 22,\n        \"samples\": [\n          5.468225178019616,\n          8.621607237892496,\n          26.00554626085761\n        ],\n        \"semantic_type\": \"\",\n        \"description\": \"\"\n      }\n    }\n  ]\n}",
       "type": "dataframe"
      },
      "text/html": [
       "\n",
       "  <div id=\"df-f2142697-9ce8-401e-ab7f-662852ab071a\" class=\"colab-df-container\">\n",
       "    <div>\n",
       "<style scoped>\n",
       "    .dataframe tbody tr th:only-of-type {\n",
       "        vertical-align: middle;\n",
       "    }\n",
       "\n",
       "    .dataframe tbody tr th {\n",
       "        vertical-align: top;\n",
       "    }\n",
       "\n",
       "    .dataframe thead th {\n",
       "        text-align: right;\n",
       "    }\n",
       "</style>\n",
       "<table border=\"1\" class=\"dataframe\">\n",
       "  <thead>\n",
       "    <tr style=\"text-align: right;\">\n",
       "      <th></th>\n",
       "      <th>REO</th>\n",
       "      <th>TPS</th>\n",
       "      <th>SS</th>\n",
       "    </tr>\n",
       "    <tr>\n",
       "      <th>orig_year</th>\n",
       "      <th></th>\n",
       "      <th></th>\n",
       "      <th></th>\n",
       "    </tr>\n",
       "  </thead>\n",
       "  <tbody>\n",
       "    <tr>\n",
       "      <th>1999</th>\n",
       "      <td>71.29</td>\n",
       "      <td>23.24</td>\n",
       "      <td>5.47</td>\n",
       "    </tr>\n",
       "    <tr>\n",
       "      <th>2000</th>\n",
       "      <td>85.34</td>\n",
       "      <td>9.41</td>\n",
       "      <td>5.25</td>\n",
       "    </tr>\n",
       "    <tr>\n",
       "      <th>2001</th>\n",
       "      <td>83.56</td>\n",
       "      <td>9.83</td>\n",
       "      <td>6.61</td>\n",
       "    </tr>\n",
       "    <tr>\n",
       "      <th>2002</th>\n",
       "      <td>81.27</td>\n",
       "      <td>10.95</td>\n",
       "      <td>7.78</td>\n",
       "    </tr>\n",
       "    <tr>\n",
       "      <th>2003</th>\n",
       "      <td>75.15</td>\n",
       "      <td>13.66</td>\n",
       "      <td>11.19</td>\n",
       "    </tr>\n",
       "    <tr>\n",
       "      <th>2004</th>\n",
       "      <td>71.67</td>\n",
       "      <td>12.83</td>\n",
       "      <td>15.50</td>\n",
       "    </tr>\n",
       "    <tr>\n",
       "      <th>2005</th>\n",
       "      <td>63.73</td>\n",
       "      <td>12.23</td>\n",
       "      <td>24.04</td>\n",
       "    </tr>\n",
       "    <tr>\n",
       "      <th>2006</th>\n",
       "      <td>63.52</td>\n",
       "      <td>10.48</td>\n",
       "      <td>26.00</td>\n",
       "    </tr>\n",
       "    <tr>\n",
       "      <th>2007</th>\n",
       "      <td>64.14</td>\n",
       "      <td>9.85</td>\n",
       "      <td>26.01</td>\n",
       "    </tr>\n",
       "    <tr>\n",
       "      <th>2008</th>\n",
       "      <td>64.63</td>\n",
       "      <td>9.79</td>\n",
       "      <td>25.58</td>\n",
       "    </tr>\n",
       "    <tr>\n",
       "      <th>2009</th>\n",
       "      <td>63.56</td>\n",
       "      <td>14.23</td>\n",
       "      <td>22.21</td>\n",
       "    </tr>\n",
       "    <tr>\n",
       "      <th>2010</th>\n",
       "      <td>64.25</td>\n",
       "      <td>20.81</td>\n",
       "      <td>14.95</td>\n",
       "    </tr>\n",
       "    <tr>\n",
       "      <th>2011</th>\n",
       "      <td>64.09</td>\n",
       "      <td>25.15</td>\n",
       "      <td>10.76</td>\n",
       "    </tr>\n",
       "    <tr>\n",
       "      <th>2012</th>\n",
       "      <td>61.76</td>\n",
       "      <td>29.62</td>\n",
       "      <td>8.62</td>\n",
       "    </tr>\n",
       "    <tr>\n",
       "      <th>2013</th>\n",
       "      <td>56.14</td>\n",
       "      <td>35.39</td>\n",
       "      <td>8.47</td>\n",
       "    </tr>\n",
       "    <tr>\n",
       "      <th>2014</th>\n",
       "      <td>57.27</td>\n",
       "      <td>34.60</td>\n",
       "      <td>8.13</td>\n",
       "    </tr>\n",
       "    <tr>\n",
       "      <th>2015</th>\n",
       "      <td>52.75</td>\n",
       "      <td>38.99</td>\n",
       "      <td>8.25</td>\n",
       "    </tr>\n",
       "    <tr>\n",
       "      <th>2016</th>\n",
       "      <td>48.05</td>\n",
       "      <td>43.46</td>\n",
       "      <td>8.48</td>\n",
       "    </tr>\n",
       "    <tr>\n",
       "      <th>2017</th>\n",
       "      <td>48.36</td>\n",
       "      <td>42.23</td>\n",
       "      <td>9.40</td>\n",
       "    </tr>\n",
       "    <tr>\n",
       "      <th>2018</th>\n",
       "      <td>44.54</td>\n",
       "      <td>45.63</td>\n",
       "      <td>9.83</td>\n",
       "    </tr>\n",
       "    <tr>\n",
       "      <th>2019</th>\n",
       "      <td>44.93</td>\n",
       "      <td>44.62</td>\n",
       "      <td>10.46</td>\n",
       "    </tr>\n",
       "    <tr>\n",
       "      <th>2020</th>\n",
       "      <td>45.07</td>\n",
       "      <td>49.83</td>\n",
       "      <td>5.10</td>\n",
       "    </tr>\n",
       "  </tbody>\n",
       "</table>\n",
       "</div>\n",
       "    <div class=\"colab-df-buttons\">\n",
       "\n",
       "  <div class=\"colab-df-container\">\n",
       "    <button class=\"colab-df-convert\" onclick=\"convertToInteractive('df-f2142697-9ce8-401e-ab7f-662852ab071a')\"\n",
       "            title=\"Convert this dataframe to an interactive table.\"\n",
       "            style=\"display:none;\">\n",
       "\n",
       "  <svg xmlns=\"http://www.w3.org/2000/svg\" height=\"24px\" viewBox=\"0 -960 960 960\">\n",
       "    <path d=\"M120-120v-720h720v720H120Zm60-500h600v-160H180v160Zm220 220h160v-160H400v160Zm0 220h160v-160H400v160ZM180-400h160v-160H180v160Zm440 0h160v-160H620v160ZM180-180h160v-160H180v160Zm440 0h160v-160H620v160Z\"/>\n",
       "  </svg>\n",
       "    </button>\n",
       "\n",
       "  <style>\n",
       "    .colab-df-container {\n",
       "      display:flex;\n",
       "      gap: 12px;\n",
       "    }\n",
       "\n",
       "    .colab-df-convert {\n",
       "      background-color: #E8F0FE;\n",
       "      border: none;\n",
       "      border-radius: 50%;\n",
       "      cursor: pointer;\n",
       "      display: none;\n",
       "      fill: #1967D2;\n",
       "      height: 32px;\n",
       "      padding: 0 0 0 0;\n",
       "      width: 32px;\n",
       "    }\n",
       "\n",
       "    .colab-df-convert:hover {\n",
       "      background-color: #E2EBFA;\n",
       "      box-shadow: 0px 1px 2px rgba(60, 64, 67, 0.3), 0px 1px 3px 1px rgba(60, 64, 67, 0.15);\n",
       "      fill: #174EA6;\n",
       "    }\n",
       "\n",
       "    .colab-df-buttons div {\n",
       "      margin-bottom: 4px;\n",
       "    }\n",
       "\n",
       "    [theme=dark] .colab-df-convert {\n",
       "      background-color: #3B4455;\n",
       "      fill: #D2E3FC;\n",
       "    }\n",
       "\n",
       "    [theme=dark] .colab-df-convert:hover {\n",
       "      background-color: #434B5C;\n",
       "      box-shadow: 0px 1px 3px 1px rgba(0, 0, 0, 0.15);\n",
       "      filter: drop-shadow(0px 1px 2px rgba(0, 0, 0, 0.3));\n",
       "      fill: #FFFFFF;\n",
       "    }\n",
       "  </style>\n",
       "\n",
       "    <script>\n",
       "      const buttonEl =\n",
       "        document.querySelector('#df-f2142697-9ce8-401e-ab7f-662852ab071a button.colab-df-convert');\n",
       "      buttonEl.style.display =\n",
       "        google.colab.kernel.accessAllowed ? 'block' : 'none';\n",
       "\n",
       "      async function convertToInteractive(key) {\n",
       "        const element = document.querySelector('#df-f2142697-9ce8-401e-ab7f-662852ab071a');\n",
       "        const dataTable =\n",
       "          await google.colab.kernel.invokeFunction('convertToInteractive',\n",
       "                                                    [key], {});\n",
       "        if (!dataTable) return;\n",
       "\n",
       "        const docLinkHtml = 'Like what you see? Visit the ' +\n",
       "          '<a target=\"_blank\" href=https://colab.research.google.com/notebooks/data_table.ipynb>data table notebook</a>'\n",
       "          + ' to learn more about interactive tables.';\n",
       "        element.innerHTML = '';\n",
       "        dataTable['output_type'] = 'display_data';\n",
       "        await google.colab.output.renderOutput(dataTable, element);\n",
       "        const docLink = document.createElement('div');\n",
       "        docLink.innerHTML = docLinkHtml;\n",
       "        element.appendChild(docLink);\n",
       "      }\n",
       "    </script>\n",
       "  </div>\n",
       "\n",
       "\n",
       "<div id=\"df-8976352c-05e2-4057-8e6e-00da8596b68b\">\n",
       "  <button class=\"colab-df-quickchart\" onclick=\"quickchart('df-8976352c-05e2-4057-8e6e-00da8596b68b')\"\n",
       "            title=\"Suggest charts\"\n",
       "            style=\"display:none;\">\n",
       "\n",
       "<svg xmlns=\"http://www.w3.org/2000/svg\" height=\"24px\"viewBox=\"0 0 24 24\"\n",
       "     width=\"24px\">\n",
       "    <g>\n",
       "        <path d=\"M19 3H5c-1.1 0-2 .9-2 2v14c0 1.1.9 2 2 2h14c1.1 0 2-.9 2-2V5c0-1.1-.9-2-2-2zM9 17H7v-7h2v7zm4 0h-2V7h2v10zm4 0h-2v-4h2v4z\"/>\n",
       "    </g>\n",
       "</svg>\n",
       "  </button>\n",
       "\n",
       "<style>\n",
       "  .colab-df-quickchart {\n",
       "      --bg-color: #E8F0FE;\n",
       "      --fill-color: #1967D2;\n",
       "      --hover-bg-color: #E2EBFA;\n",
       "      --hover-fill-color: #174EA6;\n",
       "      --disabled-fill-color: #AAA;\n",
       "      --disabled-bg-color: #DDD;\n",
       "  }\n",
       "\n",
       "  [theme=dark] .colab-df-quickchart {\n",
       "      --bg-color: #3B4455;\n",
       "      --fill-color: #D2E3FC;\n",
       "      --hover-bg-color: #434B5C;\n",
       "      --hover-fill-color: #FFFFFF;\n",
       "      --disabled-bg-color: #3B4455;\n",
       "      --disabled-fill-color: #666;\n",
       "  }\n",
       "\n",
       "  .colab-df-quickchart {\n",
       "    background-color: var(--bg-color);\n",
       "    border: none;\n",
       "    border-radius: 50%;\n",
       "    cursor: pointer;\n",
       "    display: none;\n",
       "    fill: var(--fill-color);\n",
       "    height: 32px;\n",
       "    padding: 0;\n",
       "    width: 32px;\n",
       "  }\n",
       "\n",
       "  .colab-df-quickchart:hover {\n",
       "    background-color: var(--hover-bg-color);\n",
       "    box-shadow: 0 1px 2px rgba(60, 64, 67, 0.3), 0 1px 3px 1px rgba(60, 64, 67, 0.15);\n",
       "    fill: var(--button-hover-fill-color);\n",
       "  }\n",
       "\n",
       "  .colab-df-quickchart-complete:disabled,\n",
       "  .colab-df-quickchart-complete:disabled:hover {\n",
       "    background-color: var(--disabled-bg-color);\n",
       "    fill: var(--disabled-fill-color);\n",
       "    box-shadow: none;\n",
       "  }\n",
       "\n",
       "  .colab-df-spinner {\n",
       "    border: 2px solid var(--fill-color);\n",
       "    border-color: transparent;\n",
       "    border-bottom-color: var(--fill-color);\n",
       "    animation:\n",
       "      spin 1s steps(1) infinite;\n",
       "  }\n",
       "\n",
       "  @keyframes spin {\n",
       "    0% {\n",
       "      border-color: transparent;\n",
       "      border-bottom-color: var(--fill-color);\n",
       "      border-left-color: var(--fill-color);\n",
       "    }\n",
       "    20% {\n",
       "      border-color: transparent;\n",
       "      border-left-color: var(--fill-color);\n",
       "      border-top-color: var(--fill-color);\n",
       "    }\n",
       "    30% {\n",
       "      border-color: transparent;\n",
       "      border-left-color: var(--fill-color);\n",
       "      border-top-color: var(--fill-color);\n",
       "      border-right-color: var(--fill-color);\n",
       "    }\n",
       "    40% {\n",
       "      border-color: transparent;\n",
       "      border-right-color: var(--fill-color);\n",
       "      border-top-color: var(--fill-color);\n",
       "    }\n",
       "    60% {\n",
       "      border-color: transparent;\n",
       "      border-right-color: var(--fill-color);\n",
       "    }\n",
       "    80% {\n",
       "      border-color: transparent;\n",
       "      border-right-color: var(--fill-color);\n",
       "      border-bottom-color: var(--fill-color);\n",
       "    }\n",
       "    90% {\n",
       "      border-color: transparent;\n",
       "      border-bottom-color: var(--fill-color);\n",
       "    }\n",
       "  }\n",
       "</style>\n",
       "\n",
       "  <script>\n",
       "    async function quickchart(key) {\n",
       "      const quickchartButtonEl =\n",
       "        document.querySelector('#' + key + ' button');\n",
       "      quickchartButtonEl.disabled = true;  // To prevent multiple clicks.\n",
       "      quickchartButtonEl.classList.add('colab-df-spinner');\n",
       "      try {\n",
       "        const charts = await google.colab.kernel.invokeFunction(\n",
       "            'suggestCharts', [key], {});\n",
       "      } catch (error) {\n",
       "        console.error('Error during call to suggestCharts:', error);\n",
       "      }\n",
       "      quickchartButtonEl.classList.remove('colab-df-spinner');\n",
       "      quickchartButtonEl.classList.add('colab-df-quickchart-complete');\n",
       "    }\n",
       "    (() => {\n",
       "      let quickchartButtonEl =\n",
       "        document.querySelector('#df-8976352c-05e2-4057-8e6e-00da8596b68b button');\n",
       "      quickchartButtonEl.style.display =\n",
       "        google.colab.kernel.accessAllowed ? 'block' : 'none';\n",
       "    })();\n",
       "  </script>\n",
       "</div>\n",
       "    </div>\n",
       "  </div>\n"
      ],
      "text/plain": [
       "            REO   TPS    SS\n",
       "orig_year                  \n",
       "1999      71.29 23.24  5.47\n",
       "2000      85.34  9.41  5.25\n",
       "2001      83.56  9.83  6.61\n",
       "2002      81.27 10.95  7.78\n",
       "2003      75.15 13.66 11.19\n",
       "2004      71.67 12.83 15.50\n",
       "2005      63.73 12.23 24.04\n",
       "2006      63.52 10.48 26.00\n",
       "2007      64.14  9.85 26.01\n",
       "2008      64.63  9.79 25.58\n",
       "2009      63.56 14.23 22.21\n",
       "2010      64.25 20.81 14.95\n",
       "2011      64.09 25.15 10.76\n",
       "2012      61.76 29.62  8.62\n",
       "2013      56.14 35.39  8.47\n",
       "2014      57.27 34.60  8.13\n",
       "2015      52.75 38.99  8.25\n",
       "2016      48.05 43.46  8.48\n",
       "2017      48.36 42.23  9.40\n",
       "2018      44.54 45.63  9.83\n",
       "2019      44.93 44.62 10.46\n",
       "2020      45.07 49.83  5.10"
      ]
     },
     "execution_count": 22,
     "metadata": {},
     "output_type": "execute_result"
    }
   ],
   "source": [
    "df1.groupby('orig_year')[['REO','TPS','SS']].mean()*100"
   ]
  },
  {
   "cell_type": "code",
   "execution_count": null,
   "metadata": {
    "colab": {
     "base_uri": "https://localhost:8080/",
     "height": 204
    },
    "id": "FemiTxJvknBf",
    "outputId": "2f1ec4db-6025-4090-b497-e5ba190898a3"
   },
   "outputs": [
    {
     "data": {
      "application/vnd.google.colaboratory.intrinsic+json": {
       "summary": "{\n  \"name\": \"df1\",\n  \"rows\": 4,\n  \"fields\": [\n    {\n      \"column\": \"buckets\",\n      \"properties\": {\n        \"dtype\": \"string\",\n        \"num_unique_values\": 4,\n        \"samples\": [\n          \"Bust\",\n          \"PostCrisis\",\n          \"Boom\"\n        ],\n        \"semantic_type\": \"\",\n        \"description\": \"\"\n      }\n    },\n    {\n      \"column\": \"REO\",\n      \"properties\": {\n        \"dtype\": \"number\",\n        \"std\": 9.665913466117946,\n        \"min\": 53.18167569746093,\n        \"max\": 76.80790724831095,\n        \"num_unique_values\": 4,\n        \"samples\": [\n          65.15359993047811,\n          53.18167569746093,\n          63.79689998539495\n        ],\n        \"semantic_type\": \"\",\n        \"description\": \"\"\n      }\n    },\n    {\n      \"column\": \"TPS\",\n      \"properties\": {\n        \"dtype\": \"number\",\n        \"std\": 13.001973394708378,\n        \"min\": 10.65550441709015,\n        \"max\": 38.175630289731764,\n        \"num_unique_values\": 4,\n        \"samples\": [\n          13.730573700447547,\n          38.175630289731764,\n          10.65550441709015\n        ],\n        \"semantic_type\": \"\",\n        \"description\": \"\"\n      }\n    },\n    {\n      \"column\": \"SS\",\n      \"properties\": {\n        \"dtype\": \"number\",\n        \"std\": 8.136618898913701,\n        \"min\": 8.64269401280731,\n        \"max\": 25.547595597514892,\n        \"num_unique_values\": 4,\n        \"samples\": [\n          21.115826369074345,\n          8.64269401280731,\n          25.547595597514892\n        ],\n        \"semantic_type\": \"\",\n        \"description\": \"\"\n      }\n    }\n  ]\n}",
       "type": "dataframe"
      },
      "text/html": [
       "\n",
       "  <div id=\"df-2d28ed5c-b893-4fcc-bc41-1bfe732c213e\" class=\"colab-df-container\">\n",
       "    <div>\n",
       "<style scoped>\n",
       "    .dataframe tbody tr th:only-of-type {\n",
       "        vertical-align: middle;\n",
       "    }\n",
       "\n",
       "    .dataframe tbody tr th {\n",
       "        vertical-align: top;\n",
       "    }\n",
       "\n",
       "    .dataframe thead th {\n",
       "        text-align: right;\n",
       "    }\n",
       "</style>\n",
       "<table border=\"1\" class=\"dataframe\">\n",
       "  <thead>\n",
       "    <tr style=\"text-align: right;\">\n",
       "      <th></th>\n",
       "      <th>REO</th>\n",
       "      <th>TPS</th>\n",
       "      <th>SS</th>\n",
       "    </tr>\n",
       "    <tr>\n",
       "      <th>buckets</th>\n",
       "      <th></th>\n",
       "      <th></th>\n",
       "      <th></th>\n",
       "    </tr>\n",
       "  </thead>\n",
       "  <tbody>\n",
       "    <tr>\n",
       "      <th>Boom</th>\n",
       "      <td>63.80</td>\n",
       "      <td>10.66</td>\n",
       "      <td>25.55</td>\n",
       "    </tr>\n",
       "    <tr>\n",
       "      <th>Bust</th>\n",
       "      <td>65.15</td>\n",
       "      <td>13.73</td>\n",
       "      <td>21.12</td>\n",
       "    </tr>\n",
       "    <tr>\n",
       "      <th>Normal</th>\n",
       "      <td>76.81</td>\n",
       "      <td>12.50</td>\n",
       "      <td>10.69</td>\n",
       "    </tr>\n",
       "    <tr>\n",
       "      <th>PostCrisis</th>\n",
       "      <td>53.18</td>\n",
       "      <td>38.18</td>\n",
       "      <td>8.64</td>\n",
       "    </tr>\n",
       "  </tbody>\n",
       "</table>\n",
       "</div>\n",
       "    <div class=\"colab-df-buttons\">\n",
       "\n",
       "  <div class=\"colab-df-container\">\n",
       "    <button class=\"colab-df-convert\" onclick=\"convertToInteractive('df-2d28ed5c-b893-4fcc-bc41-1bfe732c213e')\"\n",
       "            title=\"Convert this dataframe to an interactive table.\"\n",
       "            style=\"display:none;\">\n",
       "\n",
       "  <svg xmlns=\"http://www.w3.org/2000/svg\" height=\"24px\" viewBox=\"0 -960 960 960\">\n",
       "    <path d=\"M120-120v-720h720v720H120Zm60-500h600v-160H180v160Zm220 220h160v-160H400v160Zm0 220h160v-160H400v160ZM180-400h160v-160H180v160Zm440 0h160v-160H620v160ZM180-180h160v-160H180v160Zm440 0h160v-160H620v160Z\"/>\n",
       "  </svg>\n",
       "    </button>\n",
       "\n",
       "  <style>\n",
       "    .colab-df-container {\n",
       "      display:flex;\n",
       "      gap: 12px;\n",
       "    }\n",
       "\n",
       "    .colab-df-convert {\n",
       "      background-color: #E8F0FE;\n",
       "      border: none;\n",
       "      border-radius: 50%;\n",
       "      cursor: pointer;\n",
       "      display: none;\n",
       "      fill: #1967D2;\n",
       "      height: 32px;\n",
       "      padding: 0 0 0 0;\n",
       "      width: 32px;\n",
       "    }\n",
       "\n",
       "    .colab-df-convert:hover {\n",
       "      background-color: #E2EBFA;\n",
       "      box-shadow: 0px 1px 2px rgba(60, 64, 67, 0.3), 0px 1px 3px 1px rgba(60, 64, 67, 0.15);\n",
       "      fill: #174EA6;\n",
       "    }\n",
       "\n",
       "    .colab-df-buttons div {\n",
       "      margin-bottom: 4px;\n",
       "    }\n",
       "\n",
       "    [theme=dark] .colab-df-convert {\n",
       "      background-color: #3B4455;\n",
       "      fill: #D2E3FC;\n",
       "    }\n",
       "\n",
       "    [theme=dark] .colab-df-convert:hover {\n",
       "      background-color: #434B5C;\n",
       "      box-shadow: 0px 1px 3px 1px rgba(0, 0, 0, 0.15);\n",
       "      filter: drop-shadow(0px 1px 2px rgba(0, 0, 0, 0.3));\n",
       "      fill: #FFFFFF;\n",
       "    }\n",
       "  </style>\n",
       "\n",
       "    <script>\n",
       "      const buttonEl =\n",
       "        document.querySelector('#df-2d28ed5c-b893-4fcc-bc41-1bfe732c213e button.colab-df-convert');\n",
       "      buttonEl.style.display =\n",
       "        google.colab.kernel.accessAllowed ? 'block' : 'none';\n",
       "\n",
       "      async function convertToInteractive(key) {\n",
       "        const element = document.querySelector('#df-2d28ed5c-b893-4fcc-bc41-1bfe732c213e');\n",
       "        const dataTable =\n",
       "          await google.colab.kernel.invokeFunction('convertToInteractive',\n",
       "                                                    [key], {});\n",
       "        if (!dataTable) return;\n",
       "\n",
       "        const docLinkHtml = 'Like what you see? Visit the ' +\n",
       "          '<a target=\"_blank\" href=https://colab.research.google.com/notebooks/data_table.ipynb>data table notebook</a>'\n",
       "          + ' to learn more about interactive tables.';\n",
       "        element.innerHTML = '';\n",
       "        dataTable['output_type'] = 'display_data';\n",
       "        await google.colab.output.renderOutput(dataTable, element);\n",
       "        const docLink = document.createElement('div');\n",
       "        docLink.innerHTML = docLinkHtml;\n",
       "        element.appendChild(docLink);\n",
       "      }\n",
       "    </script>\n",
       "  </div>\n",
       "\n",
       "\n",
       "<div id=\"df-53850525-17d8-455d-89f7-f46dbc39d408\">\n",
       "  <button class=\"colab-df-quickchart\" onclick=\"quickchart('df-53850525-17d8-455d-89f7-f46dbc39d408')\"\n",
       "            title=\"Suggest charts\"\n",
       "            style=\"display:none;\">\n",
       "\n",
       "<svg xmlns=\"http://www.w3.org/2000/svg\" height=\"24px\"viewBox=\"0 0 24 24\"\n",
       "     width=\"24px\">\n",
       "    <g>\n",
       "        <path d=\"M19 3H5c-1.1 0-2 .9-2 2v14c0 1.1.9 2 2 2h14c1.1 0 2-.9 2-2V5c0-1.1-.9-2-2-2zM9 17H7v-7h2v7zm4 0h-2V7h2v10zm4 0h-2v-4h2v4z\"/>\n",
       "    </g>\n",
       "</svg>\n",
       "  </button>\n",
       "\n",
       "<style>\n",
       "  .colab-df-quickchart {\n",
       "      --bg-color: #E8F0FE;\n",
       "      --fill-color: #1967D2;\n",
       "      --hover-bg-color: #E2EBFA;\n",
       "      --hover-fill-color: #174EA6;\n",
       "      --disabled-fill-color: #AAA;\n",
       "      --disabled-bg-color: #DDD;\n",
       "  }\n",
       "\n",
       "  [theme=dark] .colab-df-quickchart {\n",
       "      --bg-color: #3B4455;\n",
       "      --fill-color: #D2E3FC;\n",
       "      --hover-bg-color: #434B5C;\n",
       "      --hover-fill-color: #FFFFFF;\n",
       "      --disabled-bg-color: #3B4455;\n",
       "      --disabled-fill-color: #666;\n",
       "  }\n",
       "\n",
       "  .colab-df-quickchart {\n",
       "    background-color: var(--bg-color);\n",
       "    border: none;\n",
       "    border-radius: 50%;\n",
       "    cursor: pointer;\n",
       "    display: none;\n",
       "    fill: var(--fill-color);\n",
       "    height: 32px;\n",
       "    padding: 0;\n",
       "    width: 32px;\n",
       "  }\n",
       "\n",
       "  .colab-df-quickchart:hover {\n",
       "    background-color: var(--hover-bg-color);\n",
       "    box-shadow: 0 1px 2px rgba(60, 64, 67, 0.3), 0 1px 3px 1px rgba(60, 64, 67, 0.15);\n",
       "    fill: var(--button-hover-fill-color);\n",
       "  }\n",
       "\n",
       "  .colab-df-quickchart-complete:disabled,\n",
       "  .colab-df-quickchart-complete:disabled:hover {\n",
       "    background-color: var(--disabled-bg-color);\n",
       "    fill: var(--disabled-fill-color);\n",
       "    box-shadow: none;\n",
       "  }\n",
       "\n",
       "  .colab-df-spinner {\n",
       "    border: 2px solid var(--fill-color);\n",
       "    border-color: transparent;\n",
       "    border-bottom-color: var(--fill-color);\n",
       "    animation:\n",
       "      spin 1s steps(1) infinite;\n",
       "  }\n",
       "\n",
       "  @keyframes spin {\n",
       "    0% {\n",
       "      border-color: transparent;\n",
       "      border-bottom-color: var(--fill-color);\n",
       "      border-left-color: var(--fill-color);\n",
       "    }\n",
       "    20% {\n",
       "      border-color: transparent;\n",
       "      border-left-color: var(--fill-color);\n",
       "      border-top-color: var(--fill-color);\n",
       "    }\n",
       "    30% {\n",
       "      border-color: transparent;\n",
       "      border-left-color: var(--fill-color);\n",
       "      border-top-color: var(--fill-color);\n",
       "      border-right-color: var(--fill-color);\n",
       "    }\n",
       "    40% {\n",
       "      border-color: transparent;\n",
       "      border-right-color: var(--fill-color);\n",
       "      border-top-color: var(--fill-color);\n",
       "    }\n",
       "    60% {\n",
       "      border-color: transparent;\n",
       "      border-right-color: var(--fill-color);\n",
       "    }\n",
       "    80% {\n",
       "      border-color: transparent;\n",
       "      border-right-color: var(--fill-color);\n",
       "      border-bottom-color: var(--fill-color);\n",
       "    }\n",
       "    90% {\n",
       "      border-color: transparent;\n",
       "      border-bottom-color: var(--fill-color);\n",
       "    }\n",
       "  }\n",
       "</style>\n",
       "\n",
       "  <script>\n",
       "    async function quickchart(key) {\n",
       "      const quickchartButtonEl =\n",
       "        document.querySelector('#' + key + ' button');\n",
       "      quickchartButtonEl.disabled = true;  // To prevent multiple clicks.\n",
       "      quickchartButtonEl.classList.add('colab-df-spinner');\n",
       "      try {\n",
       "        const charts = await google.colab.kernel.invokeFunction(\n",
       "            'suggestCharts', [key], {});\n",
       "      } catch (error) {\n",
       "        console.error('Error during call to suggestCharts:', error);\n",
       "      }\n",
       "      quickchartButtonEl.classList.remove('colab-df-spinner');\n",
       "      quickchartButtonEl.classList.add('colab-df-quickchart-complete');\n",
       "    }\n",
       "    (() => {\n",
       "      let quickchartButtonEl =\n",
       "        document.querySelector('#df-53850525-17d8-455d-89f7-f46dbc39d408 button');\n",
       "      quickchartButtonEl.style.display =\n",
       "        google.colab.kernel.accessAllowed ? 'block' : 'none';\n",
       "    })();\n",
       "  </script>\n",
       "</div>\n",
       "    </div>\n",
       "  </div>\n"
      ],
      "text/plain": [
       "             REO   TPS    SS\n",
       "buckets                     \n",
       "Boom       63.80 10.66 25.55\n",
       "Bust       65.15 13.73 21.12\n",
       "Normal     76.81 12.50 10.69\n",
       "PostCrisis 53.18 38.18  8.64"
      ]
     },
     "execution_count": 23,
     "metadata": {},
     "output_type": "execute_result"
    }
   ],
   "source": [
    "df1.groupby('buckets')[['REO','TPS','SS']].mean()*100"
   ]
  },
  {
   "cell_type": "code",
   "execution_count": null,
   "metadata": {
    "colab": {
     "base_uri": "https://localhost:8080/",
     "height": 527
    },
    "id": "AxrbmETZkpBC",
    "outputId": "8340c3a1-1389-4f6d-b823-8b05a2d4a990"
   },
   "outputs": [
    {
     "data": {
      "text/plain": [
       "<Axes: >"
      ]
     },
     "execution_count": 75,
     "metadata": {},
     "output_type": "execute_result"
    },
    {
     "data": {
      "image/png": "[encoded data removed]",
      "text/plain": [
       "<Figure size 640x480 with 2 Axes>"
      ]
     },
     "metadata": {},
     "output_type": "display_data"
    }
   ],
   "source": [
    "sns.heatmap(df1[list(xx[7])].corr(),cmap=\"YlGnBu\")"
   ]
  },
  {
   "cell_type": "code",
   "execution_count": null,
   "metadata": {
    "colab": {
     "base_uri": "https://localhost:8080/",
     "height": 472
    },
    "id": "opXyoAQzk9Oj",
    "outputId": "4cd59e2b-22fd-41d6-ae51-e3e112ddf27e"
   },
   "outputs": [
    {
     "data": {
      "image/png": "[encoded data removed]",
      "text/plain": [
       "<Figure size 640x480 with 1 Axes>"
      ]
     },
     "metadata": {},
     "output_type": "display_data"
    }
   ],
   "source": [
    "ax = df1['EAL_SCORE'].hist()\n",
    "plt.xlabel('EAL_SCORE')\n",
    "plt.ylabel('Number of Loans')\n",
    "plt.title('Distribution of EAL SCORES')\n",
    "plt.show()"
   ]
  },
  {
   "cell_type": "code",
   "execution_count": null,
   "metadata": {
    "colab": {
     "base_uri": "https://localhost:8080/"
    },
    "id": "FGJwGIF5lDII",
    "outputId": "4869fa10-189e-4238-f553-646038ec94f7"
   },
   "outputs": [
    {
     "data": {
      "text/plain": [
       "Zero Balance Code\n",
       "2   83.63\n",
       "3   88.27\n",
       "9   78.41\n",
       "Name: EAL_SCORE, dtype: float64"
      ]
     },
     "execution_count": 26,
     "metadata": {},
     "output_type": "execute_result"
    }
   ],
   "source": [
    "df1.groupby('Zero Balance Code')['EAL_SCORE'].mean()"
   ]
  },
  {
   "cell_type": "code",
   "execution_count": null,
   "metadata": {
    "colab": {
     "base_uri": "https://localhost:8080/",
     "height": 1000
    },
    "id": "cL-gTt7alGT9",
    "outputId": "52ae58bd-8100-4348-d30d-77fff87c8fc1"
   },
   "outputs": [
    {
     "data": {
      "image/png": "[encoded data removed]",
      "text/plain": [
       "<Figure size 640x480 with 1 Axes>"
      ]
     },
     "metadata": {},
     "output_type": "display_data"
    },
    {
     "data": {
      "image/png": "[encoded data removed]",
      "text/plain": [
       "<Figure size 640x480 with 1 Axes>"
      ]
     },
     "metadata": {},
     "output_type": "display_data"
    },
    {
     "data": {
      "image/png": "[encoded data removed]",
      "text/plain": [
       "<Figure size 640x480 with 1 Axes>"
      ]
     },
     "metadata": {},
     "output_type": "display_data"
    }
   ],
   "source": [
    "j= {3:'SS',2:'TPS',9:'REO'}\n",
    "for i in [2,3,9]:\n",
    "  df1.groupby(['Zero Balance Code','EAL_RATNG'])['Loss Rate'].count()[i].plot(kind='bar')\n",
    "  plt.xlabel('EAL_RATNG')\n",
    "  plt.ylabel('Number of Loans')\n",
    "  plt.title(f'Distribution of EAL Ratings for {j[i]}')\n",
    "  plt.show()"
   ]
  },
  {
   "cell_type": "code",
   "execution_count": null,
   "metadata": {
    "colab": {
     "base_uri": "https://localhost:8080/",
     "height": 1000
    },
    "id": "SesV2uxdlYx2",
    "outputId": "a921f354-2e04-49da-ab19-0489d45d838f"
   },
   "outputs": [
    {
     "data": {
      "image/png": "[encoded data removed]",
      "text/plain": [
       "<Figure size 640x480 with 1 Axes>"
      ]
     },
     "metadata": {},
     "output_type": "display_data"
    },
    {
     "data": {
      "image/png": "[encoded data removed]",
      "text/plain": [
       "<Figure size 640x480 with 1 Axes>"
      ]
     },
     "metadata": {},
     "output_type": "display_data"
    },
    {
     "data": {
      "image/png": "[encoded data removed]",
      "text/plain": [
       "<Figure size 640x480 with 1 Axes>"
      ]
     },
     "metadata": {},
     "output_type": "display_data"
    }
   ],
   "source": [
    "for i in [2,3,9]:\n",
    "  df1.groupby(['Zero Balance Code','EAL_RATNG'])['Loss Rate'].mean()[i].plot(kind='bar')\n",
    "  plt.xlabel('EAL_RATNG')\n",
    "  plt.ylabel('Loss Rates')\n",
    "  plt.title(f'Loss Rates vs EAL Ratings for {j[i]}')\n",
    "  plt.show()"
   ]
  },
  {
   "cell_type": "code",
   "execution_count": null,
   "metadata": {
    "colab": {
     "base_uri": "https://localhost:8080/",
     "height": 430
    },
    "id": "8aYefBkSlxSp",
    "outputId": "4ea2e6bc-512b-4d2f-9d21-6955ee335bee"
   },
   "outputs": [
    {
     "data": {
      "image/png": "[encoded data removed]",
      "text/plain": [
       "<Figure size 640x480 with 1 Axes>"
      ]
     },
     "metadata": {},
     "output_type": "display_data"
    }
   ],
   "source": [
    "plt.scatter(df1['RISK_SCORE','EAL_SCORE']])\n",
    "plt.show()"
   ]
  },
  {
   "cell_type": "code",
   "execution_count": null,
   "metadata": {
    "colab": {
     "base_uri": "https://localhost:8080/",
     "height": 566
    },
    "id": "hcC_z4_Tl373",
    "outputId": "f388ca1b-da86-4776-ab2c-68cabfdd787e"
   },
   "outputs": [
    {
     "data": {
      "text/plain": [
       "{'whiskers': [<matplotlib.lines.Line2D at 0x7b2d9a59b5b0>,\n",
       "  <matplotlib.lines.Line2D at 0x7b2d9a59a050>],\n",
       " 'caps': [<matplotlib.lines.Line2D at 0x7b2d9a598610>,\n",
       "  <matplotlib.lines.Line2D at 0x7b2d9a59b430>],\n",
       " 'boxes': [<matplotlib.lines.Line2D at 0x7b2d9a598280>],\n",
       " 'medians': [<matplotlib.lines.Line2D at 0x7b2d9a599960>],\n",
       " 'fliers': [<matplotlib.lines.Line2D at 0x7b2d9a599990>],\n",
       " 'means': []}"
      ]
     },
     "execution_count": 30,
     "metadata": {},
     "output_type": "execute_result"
    },
    {
     "data": {
      "image/png": "[encoded data removed]",
      "text/plain": [
       "<Figure size 640x480 with 1 Axes>"
      ]
     },
     "metadata": {},
     "output_type": "display_data"
    }
   ],
   "source": [
    "plt.boxplot(df1['EAL_SCORE'])"
   ]
  },
  {
   "cell_type": "code",
   "execution_count": null,
   "metadata": {
    "colab": {
     "base_uri": "https://localhost:8080/",
     "height": 487
    },
    "id": "cBB74puol7kD",
    "outputId": "533b4d09-6506-47d8-ea6b-3757807e1faa"
   },
   "outputs": [
    {
     "data": {
      "image/png": "[encoded data removed]",
      "text/plain": [
       "<Figure size 1500x500 with 1 Axes>"
      ]
     },
     "metadata": {},
     "output_type": "display_data"
    }
   ],
   "source": [
    "grouped = df1.groupby(['orig_year','GSE']).size().unstack(fill_value=0)\n",
    "\n",
    "# Calculating the total count of each GSE value across all Zero Balance Codes\n",
    "total_counts = grouped.sum(axis=0)\n",
    "\n",
    "# Calculating the percentage for each GSE value based on the total count of each GSE value\n",
    "grouped_percentage = grouped.div(total_counts, axis=1) * 100\n",
    "# Plotting the bar graph\n",
    "ax = grouped.plot(kind='bar', width=0.4,figsize=(15, 5))\n",
    "# Customizing the plot\n",
    "plt.xlabel('Year')\n",
    "plt.ylabel('Loans')\n",
    "plt.title('Number of Defaulted Loans by Year')\n",
    "plt.legend(title='GSE')\n",
    "\n",
    "# Adjusting x-axis tick labels\n",
    "ax.set_xticklabels(grouped.index, rotation=0)\n",
    "\n",
    "# Adding percentage labels to the bars\n",
    "#for container in ax.containers:\n",
    "#    ax.bar_label(container, fmt='%.1f%%', label_type='edge')\n",
    "\n",
    "plt.show()"
   ]
  },
  {
   "cell_type": "code",
   "execution_count": null,
   "metadata": {
    "colab": {
     "base_uri": "https://localhost:8080/",
     "height": 487
    },
    "id": "LHcUm1JFmAjV",
    "outputId": "7cfb2774-3a00-4098-badb-3b23214b6216"
   },
   "outputs": [
    {
     "data": {
      "image/png": "[encoded data removed]",
      "text/plain": [
       "<Figure size 1500x500 with 1 Axes>"
      ]
     },
     "metadata": {},
     "output_type": "display_data"
    }
   ],
   "source": [
    "grouped = df1.groupby(['orig_year','GSE']).size().unstack(fill_value=0).loc[2011:,:]\n",
    "\n",
    "# Calculating the total count of each GSE value across all Zero Balance Codes\n",
    "total_counts = grouped.sum(axis=0)\n",
    "\n",
    "# Calculating the percentage for each GSE value based on the total count of each GSE value\n",
    "grouped_percentage = grouped.div(total_counts, axis=1) * 100\n",
    "# Plotting the bar graph\n",
    "ax = grouped.plot(kind='bar', width=0.4,figsize=(15, 5))\n",
    "# Customizing the plot\n",
    "plt.xlabel('Year')\n",
    "plt.ylabel('Loans')\n",
    "plt.title('Number of Defaulted Loans by Year')\n",
    "plt.legend(title='GSE')\n",
    "\n",
    "# Adjusting x-axis tick labels\n",
    "ax.set_xticklabels(grouped.index, rotation=0)\n",
    "\n",
    "# Adding percentage labels to the bars\n",
    "#for container in ax.containers:\n",
    "#    ax.bar_label(container, fmt='%.1f%%', label_type='edge')\n",
    "\n",
    "plt.show()"
   ]
  },
  {
   "cell_type": "code",
   "execution_count": null,
   "metadata": {
    "colab": {
     "base_uri": "https://localhost:8080/"
    },
    "id": "ewljnnkRmR5R",
    "outputId": "3b4ff709-6836-4902-99b2-b161859aea3e"
   },
   "outputs": [
    {
     "data": {
      "text/plain": [
       "orig_year\n",
       "1999   37.43\n",
       "2000   45.81\n",
       "2001   49.51\n",
       "2002   51.68\n",
       "2003   46.07\n",
       "2004   48.81\n",
       "2005   49.83\n",
       "2006   53.68\n",
       "2007   52.11\n",
       "2008   48.30\n",
       "2009   40.51\n",
       "2010   41.30\n",
       "2011   41.02\n",
       "2012   36.00\n",
       "2013   33.18\n",
       "2014   32.59\n",
       "2015   31.51\n",
       "2016   29.50\n",
       "2017   35.33\n",
       "2018   41.95\n",
       "2019   47.28\n",
       "2020   52.57\n",
       "Name: Loss Rate, dtype: float64"
      ]
     },
     "execution_count": 33,
     "metadata": {},
     "output_type": "execute_result"
    }
   ],
   "source": [
    "df1.groupby('orig_year')['Loss Rate'].mean()"
   ]
  },
  {
   "cell_type": "code",
   "execution_count": null,
   "metadata": {
    "colab": {
     "base_uri": "https://localhost:8080/",
     "height": 333
    },
    "id": "W77GcCJhmJqq",
    "outputId": "bd948214-17d9-43a0-ea65-f9538180ce2a"
   },
   "outputs": [
    {
     "data": {
      "image/png": "[encoded data removed]",
      "text/plain": [
       "<Figure size 1000x300 with 1 Axes>"
      ]
     },
     "metadata": {},
     "output_type": "display_data"
    }
   ],
   "source": [
    "df1.groupby('orig_year')['Loss Rate'].mean().plot(figsize=(10, 3))\n",
    "plt.xlabel('Year')\n",
    "plt.ylabel('Loss Rates')\n",
    "plt.title(f'Loss Rates across Years')\n",
    "plt.show()"
   ]
  },
  {
   "cell_type": "markdown",
   "metadata": {
    "id": "vCQvxekIn-J9"
   },
   "source": [
    "# TRAIN TEST"
   ]
  },
  {
   "cell_type": "code",
   "execution_count": null,
   "metadata": {
    "id": "7g93Hv0ioxb4"
   },
   "outputs": [],
   "source": [
    "def Runnestedlogitv(varlist,varlist2,df):\n",
    "  df2 = df[varlist]\n",
    "  df2 = df2.dropna()\n",
    "  TPS = df2.pop('TPS')\n",
    "  REO = df2.pop('REO')\n",
    "  SS  = df2.pop('SS')\n",
    "\n",
    "  df3  = df[varlist2]\n",
    "  df3  = df3.dropna()\n",
    "  TPS  = df3.pop('TPS')\n",
    "  REO  = df3.pop('REO')\n",
    "  SS2  = df3.pop('SS')\n",
    "  REO2 = REO[SS==0]\n",
    "  TPS2 = TPS[SS==0]\n",
    "  df3  = df3[SS==0]\n",
    "\n",
    "  SSlogit = modelvalid(SS,df2)\n",
    "  #print(TPSlogit.summary())\n",
    "  SSlogit_pred = SSlogit.predict(sm.add_constant(df2))\n",
    "\n",
    "\n",
    "  TPS2logit = modelvalid(TPS2,df3)\n",
    "  #print(REO2logit.summary())\n",
    "  TPS2logit_pred = TPS2logit.predict(sm.add_constant(df3))\n",
    "\n",
    "  return SSlogit,TPS2logit,SS,TPS2,SSlogit_pred,TPS2logit_pred"
   ]
  },
  {
   "cell_type": "code",
   "execution_count": null,
   "metadata": {
    "id": "YVE7N1qan9FZ"
   },
   "outputs": [],
   "source": [
    "from sklearn.model_selection import train_test_split"
   ]
  },
  {
   "cell_type": "code",
   "execution_count": null,
   "metadata": {
    "id": "qWgVRr5FmVwm"
   },
   "outputs": [],
   "source": [
    "def modelvalid(exog,df):\n",
    "  X_train, X_test, y_train, y_test = train_test_split(df, exog, test_size=0.2, random_state=758)\n",
    "  model = sm.Logit(y_train, sm.add_constant(X_train)).fit()\n",
    "  pr1 = model.predict(sm.add_constant(X_train))\n",
    "  pr2 = model.predict(sm.add_constant(X_test))\n",
    "  printres((model,model,y_train,y_test,pr1,pr2))\n",
    "  return model"
   ]
  },
  {
   "cell_type": "code",
   "execution_count": null,
   "metadata": {
    "colab": {
     "base_uri": "https://localhost:8080/"
    },
    "id": "Lt732OxatfA9",
    "outputId": "d7b12c7f-7433-488f-b224-540d440e1416"
   },
   "outputs": [
    {
     "name": "stdout",
     "output_type": "stream",
     "text": [
      "Optimization terminated successfully.\n",
      "         Current function value: 0.423107\n",
      "         Iterations 7\n",
      "The area under curve is 77.40%\n",
      "The area under curve is 77.65%\n",
      "KS between class1 and others: 0.4211 (p-value: 0.000e+00)\n",
      "KS between class1 and others: 0.4263 (p-value: 0.000e+00)\n",
      "Optimization terminated successfully.\n",
      "         Current function value: 0.359865\n",
      "         Iterations 7\n",
      "The area under curve is 77.31%\n",
      "The area under curve is 77.48%\n",
      "KS between class1 and others: 0.4090 (p-value: 0.000e+00)\n",
      "KS between class1 and others: 0.4126 (p-value: 0.000e+00)\n"
     ]
    }
   ],
   "source": [
    "validation = Runnestedlogitv(v3,v3,df1)"
   ]
  },
  {
   "cell_type": "code",
   "execution_count": null,
   "metadata": {
    "colab": {
     "base_uri": "https://localhost:8080/"
    },
    "id": "cMj37LSTuEN4",
    "outputId": "eb6c64b3-6c14-453f-85ab-b48e5c893e6d"
   },
   "outputs": [
    {
     "name": "stdout",
     "output_type": "stream",
     "text": [
      "Optimization terminated successfully.\n",
      "         Current function value: 0.410056\n",
      "         Iterations 7\n",
      "The area under curve is 79.11%\n",
      "The area under curve is 79.23%\n",
      "KS between class1 and others: 0.4516 (p-value: 0.000e+00)\n",
      "KS between class1 and others: 0.4530 (p-value: 0.000e+00)\n",
      "Optimization terminated successfully.\n",
      "         Current function value: 0.339578\n",
      "         Iterations 7\n",
      "The area under curve is 81.11%\n",
      "The area under curve is 81.31%\n",
      "KS between class1 and others: 0.4689 (p-value: 0.000e+00)\n",
      "KS between class1 and others: 0.4713 (p-value: 0.000e+00)\n"
     ]
    }
   ],
   "source": [
    "validation2 = Runnestedlogitv(v3+list(xx[9]),v3+list(xx[9]),df1)"
   ]
  },
  {
   "cell_type": "code",
   "execution_count": null,
   "metadata": {
    "colab": {
     "base_uri": "https://localhost:8080/"
    },
    "id": "myZLX-iqv3zt",
    "outputId": "e725668a-ad42-4b10-8e8f-ccca99178e3e"
   },
   "outputs": [
    {
     "name": "stdout",
     "output_type": "stream",
     "text": [
      "Optimization terminated successfully.\n",
      "         Current function value: 0.400347\n",
      "         Iterations 7\n",
      "Optimization terminated successfully.\n",
      "         Current function value: 0.355055\n",
      "         Iterations 7\n",
      "The area under curve is 80.32%\n",
      "The area under curve is 78.27%\n",
      "KS between class1 and others: 0.4717 (p-value: 0.000e+00)\n",
      "KS between class1 and others: 0.4264 (p-value: 0.000e+00)\n"
     ]
    }
   ],
   "source": [
    "printres(Runnestedlogit(v3,v3,df1))"
   ]
  },
  {
   "cell_type": "code",
   "execution_count": null,
   "metadata": {
    "colab": {
     "base_uri": "https://localhost:8080/"
    },
    "id": "OI9femluxPL6",
    "outputId": "e5cf840d-49b3-4b52-c84a-4ed42d8339d9"
   },
   "outputs": [
    {
     "name": "stdout",
     "output_type": "stream",
     "text": [
      "Optimization terminated successfully.\n",
      "         Current function value: 0.400330\n",
      "         Iterations 7\n",
      "Optimization terminated successfully.\n",
      "         Current function value: 0.355010\n",
      "         Iterations 7\n",
      "The area under curve is 80.33%\n",
      "The area under curve is 78.28%\n",
      "KS between class1 and others: 0.4717 (p-value: 0.000e+00)\n",
      "KS between class1 and others: 0.4264 (p-value: 0.000e+00)\n"
     ]
    }
   ],
   "source": [
    "Disaster = Runnestedlogit(v3+['disaster_6m'],v3+['disaster_6m'],df1)\n",
    "printres(Disaster)"
   ]
  },
  {
   "cell_type": "code",
   "execution_count": null,
   "metadata": {
    "id": "6O3-yuX4aaeL"
   },
   "outputs": [],
   "source": [
    "df1['disaster_6m'] = df1.past_6m_incidents.apply(lambda x: 1 if x >= 1 else 0)\n",
    "df1['disaster_3m'] = df1.past_3m_incidents.apply(lambda x: 1 if x >= 1 else 0)"
   ]
  },
  {
   "cell_type": "code",
   "execution_count": null,
   "metadata": {
    "colab": {
     "base_uri": "https://localhost:8080/"
    },
    "id": "QwRU0IB_aolZ",
    "outputId": "f036cc8b-39d1-483e-9cd2-6f26d2167020"
   },
   "outputs": [
    {
     "name": "stdout",
     "output_type": "stream",
     "text": [
      "                           Logit Regression Results                           \n",
      "==============================================================================\n",
      "Dep. Variable:                     SS   No. Observations:               913172\n",
      "Model:                          Logit   Df Residuals:                   913142\n",
      "Method:                           MLE   Df Model:                           29\n",
      "Date:                Thu, 09 May 2024   Pseudo R-squ.:                  0.2026\n",
      "Time:                        22:38:12   Log-Likelihood:            -3.6557e+05\n",
      "converged:                       True   LL-Null:                   -4.5845e+05\n",
      "Covariance Type:            nonrobust   LLR p-value:                     0.000\n",
      "=========================================================================================\n",
      "                            coef    std err          z      P>|z|      [0.025      0.975]\n",
      "-----------------------------------------------------------------------------------------\n",
      "const                   -15.9756      0.227    -70.517      0.000     -16.420     -15.532\n",
      "cltv_current1             0.0191      0.001     31.334      0.000       0.018       0.020\n",
      "cltv_current2             0.0247      0.000     87.686      0.000       0.024       0.025\n",
      "cltv_current3             0.0030      0.000     13.290      0.000       0.003       0.003\n",
      "fico1                    -0.0022      0.000     -6.690      0.000      -0.003      -0.002\n",
      "fico2                     0.0027    8.4e-05     32.669      0.000       0.003       0.003\n",
      "fico3                     0.0031      0.000     12.108      0.000       0.003       0.004\n",
      "hpat2y                    0.9695      0.027     36.385      0.000       0.917       1.022\n",
      "dur_def_episode          -0.0834      0.000   -228.060      0.000      -0.084      -0.083\n",
      "judicial                  1.0440      0.007    154.450      0.000       1.031       1.057\n",
      "deficiency               -0.1638      0.010    -16.238      0.000      -0.184      -0.144\n",
      "flag_24                   0.3508      0.018     19.231      0.000       0.315       0.387\n",
      "noowner_occ               0.1411      0.009     14.904      0.000       0.123       0.160\n",
      "proptype_CP              -0.3158      0.079     -3.979      0.000      -0.471      -0.160\n",
      "proptype_MH              -0.7437      0.031    -24.113      0.000      -0.804      -0.683\n",
      "proptype_PU              -0.2702      0.012    -23.222      0.000      -0.293      -0.247\n",
      "proptype_SF              -0.3999      0.010    -41.018      0.000      -0.419      -0.381\n",
      "GSE                      -0.5550      0.009    -59.485      0.000      -0.573      -0.537\n",
      "Boom                      0.1672      0.009     18.685      0.000       0.150       0.185\n",
      "Bust                      0.2424      0.013     18.060      0.000       0.216       0.269\n",
      "PostCrisis               -0.4476      0.028    -16.267      0.000      -0.502      -0.394\n",
      "channel_C                -0.0230      0.010     -2.300      0.021      -0.043      -0.003\n",
      "channel_R                -0.0588      0.010     -5.765      0.000      -0.079      -0.039\n",
      "loanpurpose_N            -0.0466      0.014     -3.396      0.001      -0.074      -0.020\n",
      "loanpurpose_P            -0.1097      0.011    -10.196      0.000      -0.131      -0.089\n",
      "loanpurpose_C             0.0815      0.010      7.849      0.000       0.061       0.102\n",
      "Current Interest Rate    -0.0980      0.004    -27.549      0.000      -0.105      -0.091\n",
      "loan_age                  0.0053      0.000     46.198      0.000       0.005       0.006\n",
      "Log Original UPB          1.2316      0.007    185.207      0.000       1.219       1.245\n",
      "disaster_6m              -0.1421      0.026     -5.517      0.000      -0.193      -0.092\n",
      "=========================================================================================\n",
      "                           Logit Regression Results                           \n",
      "==============================================================================\n",
      "Dep. Variable:                    TPS   No. Observations:               729453\n",
      "Model:                          Logit   Df Residuals:                   729423\n",
      "Method:                           MLE   Df Model:                           29\n",
      "Date:                Thu, 09 May 2024   Pseudo R-squ.:                  0.1669\n",
      "Time:                        22:38:17   Log-Likelihood:            -2.5896e+05\n",
      "converged:                       True   LL-Null:                   -3.1086e+05\n",
      "Covariance Type:            nonrobust   LLR p-value:                     0.000\n",
      "=========================================================================================\n",
      "                            coef    std err          z      P>|z|      [0.025      0.975]\n",
      "-----------------------------------------------------------------------------------------\n",
      "const                    -6.9699      0.235    -29.598      0.000      -7.431      -6.508\n",
      "cltv_current1            -0.0523      0.000   -122.018      0.000      -0.053      -0.051\n",
      "cltv_current2             0.0022      0.000      6.127      0.000       0.002       0.003\n",
      "cltv_current3             0.0172      0.000     51.810      0.000       0.017       0.018\n",
      "fico1                     0.0005      0.000      1.336      0.181      -0.000       0.001\n",
      "fico2                     0.0013      0.000     13.208      0.000       0.001       0.002\n",
      "fico3                     0.0004      0.000      1.296      0.195      -0.000       0.001\n",
      "hpat2y                    2.1276      0.033     64.888      0.000       2.063       2.192\n",
      "dur_def_episode          -0.0313      0.000    -99.785      0.000      -0.032      -0.031\n",
      "judicial                  0.0547      0.008      6.773      0.000       0.039       0.071\n",
      "deficiency                0.3834      0.013     30.616      0.000       0.359       0.408\n",
      "flag_24                   0.1098      0.023      4.700      0.000       0.064       0.156\n",
      "noowner_occ              -0.0334      0.012     -2.769      0.006      -0.057      -0.010\n",
      "proptype_CP              -0.5974      0.102     -5.868      0.000      -0.797      -0.398\n",
      "proptype_MH              -0.7680      0.031    -24.813      0.000      -0.829      -0.707\n",
      "proptype_PU               0.0195      0.016      1.229      0.219      -0.012       0.051\n",
      "proptype_SF              -0.2971      0.013    -22.512      0.000      -0.323      -0.271\n",
      "GSE                      -1.6901      0.012   -145.111      0.000      -1.713      -1.667\n",
      "Boom                      0.3439      0.010     35.192      0.000       0.325       0.363\n",
      "Bust                      0.5381      0.015     35.257      0.000       0.508       0.568\n",
      "PostCrisis                1.5652      0.020     77.641      0.000       1.526       1.605\n",
      "channel_C                 0.1487      0.015      9.904      0.000       0.119       0.178\n",
      "channel_R                 0.1903      0.015     12.660      0.000       0.161       0.220\n",
      "loanpurpose_N             0.0371      0.018      2.051      0.040       0.002       0.073\n",
      "loanpurpose_P             0.0788      0.016      4.848      0.000       0.047       0.111\n",
      "loanpurpose_C             0.1624      0.016     10.361      0.000       0.132       0.193\n",
      "Current Interest Rate    -0.1842      0.004    -47.630      0.000      -0.192      -0.177\n",
      "loan_age                  0.0123      0.000    109.520      0.000       0.012       0.013\n",
      "Log Original UPB          0.6126      0.008     81.419      0.000       0.598       0.627\n",
      "disaster_6m              -0.2178      0.028     -7.917      0.000      -0.272      -0.164\n",
      "=========================================================================================\n"
     ]
    }
   ],
   "source": [
    "print(Disaster[0].summary())\n",
    "print(Disaster[1].summary())"
   ]
  },
  {
   "cell_type": "code",
   "execution_count": null,
   "metadata": {
    "colab": {
     "base_uri": "https://localhost:8080/"
    },
    "id": "NwBkvFkzczRX",
    "outputId": "8683d4fe-406e-400f-8541-aeb8f6f92697"
   },
   "outputs": [
    {
     "data": {
      "text/plain": [
       "const                   -6.969940\n",
       "cltv_current1           -0.052257\n",
       "cltv_current2            0.002244\n",
       "cltv_current3            0.017151\n",
       "fico1                    0.000467\n",
       "fico2                    0.001328\n",
       "fico3                    0.000431\n",
       "hpat2y                   2.127648\n",
       "dur_def_episode         -0.031264\n",
       "judicial                 0.054682\n",
       "deficiency               0.383424\n",
       "flag_24                  0.109815\n",
       "noowner_occ             -0.033406\n",
       "proptype_CP             -0.597391\n",
       "proptype_MH             -0.767950\n",
       "proptype_PU              0.019530\n",
       "proptype_SF             -0.297115\n",
       "GSE                     -1.690100\n",
       "Boom                     0.343869\n",
       "Bust                     0.538118\n",
       "PostCrisis               1.565159\n",
       "channel_C                0.148684\n",
       "channel_R                0.190308\n",
       "loanpurpose_N            0.037124\n",
       "loanpurpose_P            0.078752\n",
       "loanpurpose_C            0.162376\n",
       "Current Interest Rate   -0.184152\n",
       "loan_age                 0.012327\n",
       "Log Original UPB         0.612649\n",
       "disaster_6m             -0.217826\n",
       "dtype: float64"
      ]
     },
     "execution_count": 22,
     "metadata": {},
     "output_type": "execute_result"
    }
   ],
   "source": [
    "Disaster[1].params"
   ]
  },
  {
   "cell_type": "code",
   "execution_count": null,
   "metadata": {
    "colab": {
     "base_uri": "https://localhost:8080/"
    },
    "id": "M_1yYYRfgkGP",
    "outputId": "76daf09d-bbb7-4282-d849-8f85ba76c454"
   },
   "outputs": [
    {
     "data": {
      "text/plain": [
       "const                   -15.975623\n",
       "cltv_current1             0.019090\n",
       "cltv_current2             0.024718\n",
       "cltv_current3             0.003025\n",
       "fico1                    -0.002237\n",
       "fico2                     0.002745\n",
       "fico3                     0.003135\n",
       "hpat2y                    0.969523\n",
       "dur_def_episode          -0.083360\n",
       "judicial                  1.044044\n",
       "deficiency               -0.163811\n",
       "flag_24                   0.350779\n",
       "noowner_occ               0.141074\n",
       "proptype_CP              -0.315830\n",
       "proptype_MH              -0.743730\n",
       "proptype_PU              -0.270249\n",
       "proptype_SF              -0.399909\n",
       "GSE                      -0.554987\n",
       "Boom                      0.167216\n",
       "Bust                      0.242407\n",
       "PostCrisis               -0.447648\n",
       "channel_C                -0.022993\n",
       "channel_R                -0.058807\n",
       "loanpurpose_N            -0.046613\n",
       "loanpurpose_P            -0.109749\n",
       "loanpurpose_C             0.081503\n",
       "Current Interest Rate    -0.098047\n",
       "loan_age                  0.005276\n",
       "Log Original UPB          1.231601\n",
       "disaster_6m              -0.142097\n",
       "dtype: float64"
      ]
     },
     "execution_count": 23,
     "metadata": {},
     "output_type": "execute_result"
    }
   ],
   "source": [
    "Disaster[0].params"
   ]
  },
  {
   "cell_type": "code",
   "execution_count": null,
   "metadata": {
    "colab": {
     "base_uri": "https://localhost:8080/"
    },
    "id": "1_LeHm2ngpTl",
    "outputId": "4f176eb4-7eef-4a6c-88b6-8d747b129561"
   },
   "outputs": [
    {
     "data": {
      "text/plain": [
       "832626"
      ]
     },
     "execution_count": 26,
     "metadata": {},
     "output_type": "execute_result"
    }
   ],
   "source": [
    "df1[['proptype_CP','proptype_MH','proptype_PU','proptype_SF']].sum().sum()"
   ]
  },
  {
   "cell_type": "code",
   "execution_count": null,
   "metadata": {
    "colab": {
     "base_uri": "https://localhost:8080/",
     "height": 472
    },
    "id": "2CwKcWhkkk5Y",
    "outputId": "d408bd2a-bb73-4b71-82fd-431c2a277ebc"
   },
   "outputs": [
    {
     "data": {
      "image/png": "[encoded data removed]",
      "text/plain": [
       "<Figure size 640x480 with 1 Axes>"
      ]
     },
     "metadata": {},
     "output_type": "display_data"
    }
   ],
   "source": [
    "fpr1, tpr1, _ = roc_curve(Base[2], Base[4])\n",
    "roc_auc1 = auc(fpr1, tpr1)*100\n",
    "\n",
    "fpr2, tpr2, _ = roc_curve(Base[3], Base[5])\n",
    "roc_auc2 = auc(fpr2, tpr2)*100\n",
    "\n",
    "\n",
    "plt.figure()\n",
    "plt.plot(fpr1, tpr1, label=f'ROC curve SS (area = {roc_auc1:0.2f})')\n",
    "plt.plot(fpr2, tpr2, label=f'ROC curve TPS vs REO (area = {roc_auc2:0.2f})')\n",
    "plt.plot([0, 1], [0, 1], 'k--')\n",
    "plt.xlim([0.0, 1.0])\n",
    "plt.ylim([0.0, 1.05])\n",
    "plt.xlabel('False Positive Rate')\n",
    "plt.ylabel('True Positive Rate')\n",
    "plt.title('ROC')\n",
    "plt.legend(loc=\"lower right\")\n",
    "plt.show()"
   ]
  },
  {
   "cell_type": "code",
   "execution_count": null,
   "metadata": {
    "colab": {
     "base_uri": "https://localhost:8080/",
     "height": 472
    },
    "id": "gME-zdtZ4UG2",
    "outputId": "703e05d2-b35d-4765-cc5b-200bc47e640f"
   },
   "outputs": [
    {
     "data": {
      "image/png": "[encoded data removed]",
      "text/plain": [
       "<Figure size 640x480 with 1 Axes>"
      ]
     },
     "metadata": {},
     "output_type": "display_data"
    }
   ],
   "source": [
    "fpr1, tpr1, _ = roc_curve(NRI[2], NRI[4])\n",
    "roc_auc1 = auc(fpr1, tpr1)*100\n",
    "\n",
    "fpr2, tpr2, _ = roc_curve(NRI[3], NRI[5])\n",
    "roc_auc2 = auc(fpr2, tpr2)*100\n",
    "\n",
    "\n",
    "plt.figure()\n",
    "plt.plot(fpr1, tpr1, label=f'ROC curve SS (area = {roc_auc1:0.2f})')\n",
    "plt.plot(fpr2, tpr2, label=f'ROC curve TPS vs REO (area = {roc_auc2:0.2f})')\n",
    "plt.plot([0, 1], [0, 1], 'k--')\n",
    "plt.xlim([0.0, 1.0])\n",
    "plt.ylim([0.0, 1.05])\n",
    "plt.xlabel('False Positive Rate')\n",
    "plt.ylabel('True Positive Rate')\n",
    "plt.title('ROC')\n",
    "plt.legend(loc=\"lower right\")\n",
    "plt.show()"
   ]
  },
  {
   "cell_type": "code",
   "execution_count": null,
   "metadata": {
    "colab": {
     "base_uri": "https://localhost:8080/",
     "height": 472
    },
    "id": "LxGqj3wA5iib",
    "outputId": "40127835-1879-48c4-d09b-fa31dd553009"
   },
   "outputs": [
    {
     "data": {
      "image/png": "[encoded data removed]",
      "text/plain": [
       "<Figure size 640x480 with 1 Axes>"
      ]
     },
     "metadata": {},
     "output_type": "display_data"
    }
   ],
   "source": [
    "ax = df1.groupby('Zero Balance Code')['Loss Rate'].mean().plot(kind='bar')\n",
    "ax.set_xticklabels(['TPS','SS','REO'], rotation=0)\n",
    "\n",
    "plt.xlabel('??')\n",
    "plt.ylabel('Loss Rates')\n",
    "plt.title('??')\n",
    "plt.show()"
   ]
  },
  {
   "cell_type": "code",
   "execution_count": null,
   "metadata": {
    "colab": {
     "base_uri": "https://localhost:8080/",
     "height": 485
    },
    "id": "wraRtCJZ7qoO",
    "outputId": "9d298abd-46da-42b2-a7a3-8e91e0bc22b7"
   },
   "outputs": [
    {
     "data": {
      "image/png": "[encoded data removed]",
      "text/plain": [
       "<Figure size 900x400 with 1 Axes>"
      ]
     },
     "metadata": {},
     "output_type": "display_data"
    }
   ],
   "source": [
    "ax = (df.filter(regex='EALR')>=3).mean().plot(kind='bar',figsize=(9, 4))\n",
    "plt.axhline(y=0.3, color='black', linestyle='--')\n",
    "plt.xlabel('Natural Disasters')\n",
    "plt.ylabel('Percentage of Loans')\n",
    "plt.title('Percentage of Loans in areas rated moderatly risk or more ')\n",
    "plt.show()"
   ]
  },
  {
   "cell_type": "code",
   "execution_count": null,
   "metadata": {
    "id": "gOozzL058i25"
   },
   "outputs": [],
   "source": [
    "from sklearn.metrics import classification_report\n"
   ]
  },
  {
   "cell_type": "code",
   "execution_count": null,
   "metadata": {
    "id": "88HmEYiWC3ux"
   },
   "outputs": [],
   "source": [
    "k = classification_report(NRI[2],round(NRI[4]))"
   ]
  },
  {
   "cell_type": "code",
   "execution_count": null,
   "metadata": {
    "colab": {
     "base_uri": "https://localhost:8080/"
    },
    "id": "ymk-4GaYDAwm",
    "outputId": "a2de3f06-ed75-4fcc-8fde-97361a42d9b5"
   },
   "outputs": [
    {
     "name": "stdout",
     "output_type": "stream",
     "text": [
      "              precision    recall  f1-score   support\n",
      "\n",
      "           0       0.85      0.97      0.91    729453\n",
      "           1       0.72      0.34      0.46    183719\n",
      "\n",
      "    accuracy                           0.84    913172\n",
      "   macro avg       0.79      0.65      0.68    913172\n",
      "weighted avg       0.83      0.84      0.82    913172\n",
      "\n"
     ]
    }
   ],
   "source": [
    "print(k)"
   ]
  },
  {
   "cell_type": "code",
   "execution_count": null,
   "metadata": {
    "colab": {
     "base_uri": "https://localhost:8080/"
    },
    "id": "xDJqQKyGDC9z",
    "outputId": "d5b34c1c-59d9-4dfe-8770-0e475b97a676"
   },
   "outputs": [
    {
     "name": "stdout",
     "output_type": "stream",
     "text": [
      "              precision    recall  f1-score   support\n",
      "\n",
      "           0       0.87      0.98      0.92    618579\n",
      "           1       0.61      0.21      0.31    110874\n",
      "\n",
      "    accuracy                           0.86    729453\n",
      "   macro avg       0.74      0.59      0.62    729453\n",
      "weighted avg       0.83      0.86      0.83    729453\n",
      "\n"
     ]
    }
   ],
   "source": [
    "print(classification_report(NRI[3],round(NRI[5])))"
   ]
  },
  {
   "cell_type": "code",
   "execution_count": null,
   "metadata": {
    "id": "aD4ssPbjEvxf"
   },
   "outputs": [],
   "source": []
  }
 ],
 "metadata": {
  "colab": {
   "collapsed_sections": [
    "p6NYniUbfZRE"
   ],
   "provenance": []
  },
  "kernelspec": {
   "display_name": "Python 3",
   "name": "python3"
  },
  "language_info": {
   "name": "python"
  }
 },
 "nbformat": 4,
 "nbformat_minor": 0
}
