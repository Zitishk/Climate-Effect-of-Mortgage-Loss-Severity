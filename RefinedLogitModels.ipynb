{
  "nbformat": 4,
  "nbformat_minor": 0,
  "metadata": {
    "colab": {
      "provenance": [],
      "collapsed_sections": [
        "mmyKitKZEwHd",
        "cZ6xzjElElZQ",
        "Pt0mdobcEzfk",
        "xZ2o-j3Pmfmx"
      ]
    },
    "kernelspec": {
      "name": "python3",
      "display_name": "Python 3"
    },
    "language_info": {
      "name": "python"
    }
  },
  "cells": [
    {
      "cell_type": "markdown",
      "source": [
        "## Set up"
      ],
      "metadata": {
        "id": "mmyKitKZEwHd"
      }
    },
    {
      "cell_type": "code",
      "execution_count": null,
      "metadata": {
        "id": "BluVCrz1xvQm"
      },
      "outputs": [],
      "source": [
        "import pandas as pd\n",
        "import numpy as np\n",
        "import seaborn as sns\n",
        "import matplotlib.pyplot as plt\n",
        "import statsmodels.api as sm\n",
        "import scipy.stats as stats\n",
        "from statsmodels.miscmodels.ordinal_model import OrderedModel\n",
        "from sklearn.metrics import roc_curve, auc\n",
        "from sklearn.preprocessing import label_binarize\n",
        "from scipy.stats import ks_2samp\n",
        "\n",
        "import os\n",
        "from google.colab import drive\n",
        "drive.mount('/content/drive', force_remount=True)\n",
        "\n",
        "drivepath = '/content/drive/MyDrive/ELP Term D - Mortgage Loss Severity/Datasets and Guides/'"
      ]
    },
    {
      "cell_type": "code",
      "source": [
        "df = pd.read_parquet(f'{drivepath}/gse_model_data_merged.parquet')\n",
        "df = df[(df['Loss Rate'] > df['Loss Rate'].quantile(.001)) & (df['Loss Rate'] < df['Loss Rate'].quantile(.999))]\n",
        "df = df[df['dur_def_episode']>0].copy()\n",
        "#df =  df[(df['Original Loan-to-Value (LTV)'] >= 47) & (df['Original Loan-to-Value (LTV)'] <= 100)]"
      ],
      "metadata": {
        "id": "hks223z4x1JU"
      },
      "execution_count": null,
      "outputs": []
    },
    {
      "cell_type": "code",
      "source": [
        "df.loc[:,'TPS'] = 0\n",
        "df.loc[:,'SS'] = 0\n",
        "df.loc[:,'REO'] = 0\n",
        "\n",
        "df.loc[df['Zero Balance Code']==2,'TPS'] = 1\n",
        "df.loc[df['Zero Balance Code']==3,'SS'] = 1\n",
        "df.loc[df['Zero Balance Code']==9,'REO'] = 1"
      ],
      "metadata": {
        "id": "9LTNZCbox9sp"
      },
      "execution_count": null,
      "outputs": []
    },
    {
      "cell_type": "code",
      "source": [
        "df['creditscore'] = ((df['Credit Score'] - df['Credit Score'].mean())/df['Credit Score'].std())"
      ],
      "metadata": {
        "id": "ANjrhu_havlx"
      },
      "execution_count": null,
      "outputs": []
    },
    {
      "cell_type": "code",
      "source": [
        "df = df.drop(df.filter(regex='SCORE.1').columns,axis=1)"
      ],
      "metadata": {
        "id": "J9yzEb0-DsaK"
      },
      "execution_count": null,
      "outputs": []
    },
    {
      "cell_type": "code",
      "source": [
        "## Rename Variables\n",
        "mapper = {\n",
        "    'Loan Age': 'loan_age',\n",
        "    'Credit Score': 'fico'\n",
        "}\n",
        "\n",
        "df.rename(mapper, axis=1, inplace=True)\n",
        "\n",
        "## Drop cltv_current = null, hpat2y = null\n",
        "df = df[df.cltv_current.notnull() & df.hpat2y.notnull()]\n",
        "df.loc[:, 'fico_missing'] = df.fico.isnull().astype(int)\n",
        "df.loc[df.fico.isnull(), 'fico'] = df.fico.mean()\n"
      ],
      "metadata": {
        "id": "rpQ9WMGmg_6l"
      },
      "execution_count": null,
      "outputs": []
    },
    {
      "cell_type": "code",
      "source": [
        "# Remove .1% outliers\n",
        "df1 = df[\n",
        "    (df['Loss Rate'] > df['Loss Rate'].quantile(.001)) &\n",
        "    (df['Loss Rate'] < df['Loss Rate'].quantile(.999))\n",
        "]\n",
        "\n",
        "df1.loc[:, 'Loss Rate'] = df1['Loss Rate'] * 100\n",
        "\n",
        "# Implemented from Cordell paper\n",
        "df1 =  df1[(df1['Original Loan-to-Value (LTV)'] <= 100)]\n",
        "\n",
        "df1 = df1[df1.fico_missing == 0]\n",
        "df1 = df1[df1['Original Debt-to-Income (DTI) Ratio'].notnull()]\n",
        "df1.loc[:, 'Pre2005'] = df1.orig_year.apply(lambda x: 1 if x < 2005 else 0)\n",
        "df1.loc[:, 'Log Original UPB'] = df['Original UPB'].apply(lambda x: np.log(x))\n",
        "\n",
        "# Set Channel Dummies (B = 3rd party broker)\n",
        "df1 =  df1.join(pd.get_dummies(df1['Channel'], prefix='channel', drop_first=True))\n",
        "df1.channel_C = df1.channel_C.astype(int)\n",
        "df1.channel_R = df1.channel_R.astype(int)\n",
        "\n",
        "# Set Loan Purpose Dummies (R = Refinance unknown purpose)\n",
        "df1.loc[:, 'loanpurpose_N'] = (df1['Loan Purpose'] == 'N').astype(int)\n",
        "df1.loc[:, 'loanpurpose_P'] = (df1['Loan Purpose'] == 'P').astype(int)\n",
        "df1.loc[:, 'loanpurpose_C'] = (df1['Loan Purpose'] == 'C').astype(int)\n",
        "\n",
        "df1 = df1[df1.RISK_VALUE.notnull()]\n",
        "\n",
        "# Log of climate variables\n",
        "df1.loc[:, 'LogRISK_VALUE'] = df1.RISK_VALUE.apply(lambda x: np.log(x))\n",
        "df1.loc[:, 'LogEAL_VALT'] = df1.EAL_VALT.apply(lambda x: np.log(x))\n",
        "\n",
        "def middle_spline(x, k1, k2):\n",
        "  if x <= k1: return 0\n",
        "  elif k1 <= x <= k2: return x - k1\n",
        "  else: return k2 - k1"
      ],
      "metadata": {
        "id": "Sjsa4EeBgbQB"
      },
      "execution_count": null,
      "outputs": []
    },
    {
      "cell_type": "code",
      "source": [
        "# Splining\n",
        "cltv_k1 = 80\n",
        "cltv_k2 = 120\n",
        "df1['cltv_current1'] = np.minimum(df1.cltv_current, cltv_k1)\n",
        "df1['cltv_current2'] = df1.cltv_current.apply(lambda x: middle_spline(x, cltv_k1, cltv_k2))\n",
        "df1['cltv_current3'] = np.maximum(df1.cltv_current - cltv_k2, 0)\n",
        "\n",
        "fico_k1 = 620\n",
        "fico_k2 = 750\n",
        "df1['fico1'] = np.minimum(df1.fico, fico_k1)\n",
        "df1['fico2'] = df1.fico.apply(lambda x: middle_spline(x, fico_k1, fico_k2))\n",
        "df1['fico3'] = np.maximum(df1.fico - fico_k2, 0)\n",
        "\n",
        "exog = [\n",
        "    'channel_C',\n",
        "    'channel_R',\n",
        "    'Boom',\n",
        "    'Bust',\n",
        "    'PostCrisis',\n",
        "    'loanpurpose_N',\n",
        "    'loanpurpose_P',\n",
        "    'loanpurpose_C',\n",
        "]"
      ],
      "metadata": {
        "id": "-GxaCIOwgOAh"
      },
      "execution_count": null,
      "outputs": []
    },
    {
      "cell_type": "markdown",
      "source": [
        "## Some statistics"
      ],
      "metadata": {
        "id": "cZ6xzjElElZQ"
      }
    },
    {
      "cell_type": "code",
      "source": [
        "df['buckets']=df[['normal','boom','crisis','bust','post']].idxmax(axis=1)"
      ],
      "metadata": {
        "id": "mGLQprvtX6Wh"
      },
      "execution_count": null,
      "outputs": []
    },
    {
      "cell_type": "markdown",
      "source": [],
      "metadata": {
        "id": "lU8JutPI2-vf"
      }
    },
    {
      "cell_type": "code",
      "source": [
        "df['Zero Balance Code'].value_counts(normalize=True).mul(100).round(1).astype(str) + '%'"
      ],
      "metadata": {
        "colab": {
          "base_uri": "https://localhost:8080/"
        },
        "id": "12MYsXrs6Dkv",
        "outputId": "caf78205-f621-46c6-ec3b-249fc9eb38db"
      },
      "execution_count": null,
      "outputs": [
        {
          "output_type": "execute_result",
          "data": {
            "text/plain": [
              "Zero Balance Code\n",
              "9    67.9%\n",
              "3    20.1%\n",
              "2    12.0%\n",
              "Name: proportion, dtype: object"
            ]
          },
          "metadata": {},
          "execution_count": 9
        }
      ]
    },
    {
      "cell_type": "code",
      "source": [
        "df1[['cltv_current','appreciation_factor','EAL_SCORE','Original Loan-to-Value (LTV)']].corr()"
      ],
      "metadata": {
        "colab": {
          "base_uri": "https://localhost:8080/",
          "height": 173
        },
        "id": "rDap2GQ_x92T",
        "outputId": "c9276c81-2c13-4218-e790-93c73bd39873"
      },
      "execution_count": null,
      "outputs": [
        {
          "output_type": "execute_result",
          "data": {
            "text/plain": [
              "                              cltv_current  appreciation_factor  EAL_SCORE  \\\n",
              "cltv_current                      1.000000            -0.811345   0.306555   \n",
              "appreciation_factor              -0.811345             1.000000  -0.345484   \n",
              "EAL_SCORE                         0.306555            -0.345484   1.000000   \n",
              "Original Loan-to-Value (LTV)      0.302078             0.134174  -0.103137   \n",
              "\n",
              "                              Original Loan-to-Value (LTV)  \n",
              "cltv_current                                      0.302078  \n",
              "appreciation_factor                               0.134174  \n",
              "EAL_SCORE                                        -0.103137  \n",
              "Original Loan-to-Value (LTV)                      1.000000  "
            ],
            "text/html": [
              "\n",
              "  <div id=\"df-06c4255b-0bc9-42f2-895a-b235782cbfdd\" class=\"colab-df-container\">\n",
              "    <div>\n",
              "<style scoped>\n",
              "    .dataframe tbody tr th:only-of-type {\n",
              "        vertical-align: middle;\n",
              "    }\n",
              "\n",
              "    .dataframe tbody tr th {\n",
              "        vertical-align: top;\n",
              "    }\n",
              "\n",
              "    .dataframe thead th {\n",
              "        text-align: right;\n",
              "    }\n",
              "</style>\n",
              "<table border=\"1\" class=\"dataframe\">\n",
              "  <thead>\n",
              "    <tr style=\"text-align: right;\">\n",
              "      <th></th>\n",
              "      <th>cltv_current</th>\n",
              "      <th>appreciation_factor</th>\n",
              "      <th>EAL_SCORE</th>\n",
              "      <th>Original Loan-to-Value (LTV)</th>\n",
              "    </tr>\n",
              "  </thead>\n",
              "  <tbody>\n",
              "    <tr>\n",
              "      <th>cltv_current</th>\n",
              "      <td>1.000000</td>\n",
              "      <td>-0.811345</td>\n",
              "      <td>0.306555</td>\n",
              "      <td>0.302078</td>\n",
              "    </tr>\n",
              "    <tr>\n",
              "      <th>appreciation_factor</th>\n",
              "      <td>-0.811345</td>\n",
              "      <td>1.000000</td>\n",
              "      <td>-0.345484</td>\n",
              "      <td>0.134174</td>\n",
              "    </tr>\n",
              "    <tr>\n",
              "      <th>EAL_SCORE</th>\n",
              "      <td>0.306555</td>\n",
              "      <td>-0.345484</td>\n",
              "      <td>1.000000</td>\n",
              "      <td>-0.103137</td>\n",
              "    </tr>\n",
              "    <tr>\n",
              "      <th>Original Loan-to-Value (LTV)</th>\n",
              "      <td>0.302078</td>\n",
              "      <td>0.134174</td>\n",
              "      <td>-0.103137</td>\n",
              "      <td>1.000000</td>\n",
              "    </tr>\n",
              "  </tbody>\n",
              "</table>\n",
              "</div>\n",
              "    <div class=\"colab-df-buttons\">\n",
              "\n",
              "  <div class=\"colab-df-container\">\n",
              "    <button class=\"colab-df-convert\" onclick=\"convertToInteractive('df-06c4255b-0bc9-42f2-895a-b235782cbfdd')\"\n",
              "            title=\"Convert this dataframe to an interactive table.\"\n",
              "            style=\"display:none;\">\n",
              "\n",
              "  <svg xmlns=\"http://www.w3.org/2000/svg\" height=\"24px\" viewBox=\"0 -960 960 960\">\n",
              "    <path d=\"M120-120v-720h720v720H120Zm60-500h600v-160H180v160Zm220 220h160v-160H400v160Zm0 220h160v-160H400v160ZM180-400h160v-160H180v160Zm440 0h160v-160H620v160ZM180-180h160v-160H180v160Zm440 0h160v-160H620v160Z\"/>\n",
              "  </svg>\n",
              "    </button>\n",
              "\n",
              "  <style>\n",
              "    .colab-df-container {\n",
              "      display:flex;\n",
              "      gap: 12px;\n",
              "    }\n",
              "\n",
              "    .colab-df-convert {\n",
              "      background-color: #E8F0FE;\n",
              "      border: none;\n",
              "      border-radius: 50%;\n",
              "      cursor: pointer;\n",
              "      display: none;\n",
              "      fill: #1967D2;\n",
              "      height: 32px;\n",
              "      padding: 0 0 0 0;\n",
              "      width: 32px;\n",
              "    }\n",
              "\n",
              "    .colab-df-convert:hover {\n",
              "      background-color: #E2EBFA;\n",
              "      box-shadow: 0px 1px 2px rgba(60, 64, 67, 0.3), 0px 1px 3px 1px rgba(60, 64, 67, 0.15);\n",
              "      fill: #174EA6;\n",
              "    }\n",
              "\n",
              "    .colab-df-buttons div {\n",
              "      margin-bottom: 4px;\n",
              "    }\n",
              "\n",
              "    [theme=dark] .colab-df-convert {\n",
              "      background-color: #3B4455;\n",
              "      fill: #D2E3FC;\n",
              "    }\n",
              "\n",
              "    [theme=dark] .colab-df-convert:hover {\n",
              "      background-color: #434B5C;\n",
              "      box-shadow: 0px 1px 3px 1px rgba(0, 0, 0, 0.15);\n",
              "      filter: drop-shadow(0px 1px 2px rgba(0, 0, 0, 0.3));\n",
              "      fill: #FFFFFF;\n",
              "    }\n",
              "  </style>\n",
              "\n",
              "    <script>\n",
              "      const buttonEl =\n",
              "        document.querySelector('#df-06c4255b-0bc9-42f2-895a-b235782cbfdd button.colab-df-convert');\n",
              "      buttonEl.style.display =\n",
              "        google.colab.kernel.accessAllowed ? 'block' : 'none';\n",
              "\n",
              "      async function convertToInteractive(key) {\n",
              "        const element = document.querySelector('#df-06c4255b-0bc9-42f2-895a-b235782cbfdd');\n",
              "        const dataTable =\n",
              "          await google.colab.kernel.invokeFunction('convertToInteractive',\n",
              "                                                    [key], {});\n",
              "        if (!dataTable) return;\n",
              "\n",
              "        const docLinkHtml = 'Like what you see? Visit the ' +\n",
              "          '<a target=\"_blank\" href=https://colab.research.google.com/notebooks/data_table.ipynb>data table notebook</a>'\n",
              "          + ' to learn more about interactive tables.';\n",
              "        element.innerHTML = '';\n",
              "        dataTable['output_type'] = 'display_data';\n",
              "        await google.colab.output.renderOutput(dataTable, element);\n",
              "        const docLink = document.createElement('div');\n",
              "        docLink.innerHTML = docLinkHtml;\n",
              "        element.appendChild(docLink);\n",
              "      }\n",
              "    </script>\n",
              "  </div>\n",
              "\n",
              "\n",
              "<div id=\"df-a86ca596-0e14-4d97-bbe2-ce7dab6e8a10\">\n",
              "  <button class=\"colab-df-quickchart\" onclick=\"quickchart('df-a86ca596-0e14-4d97-bbe2-ce7dab6e8a10')\"\n",
              "            title=\"Suggest charts\"\n",
              "            style=\"display:none;\">\n",
              "\n",
              "<svg xmlns=\"http://www.w3.org/2000/svg\" height=\"24px\"viewBox=\"0 0 24 24\"\n",
              "     width=\"24px\">\n",
              "    <g>\n",
              "        <path d=\"M19 3H5c-1.1 0-2 .9-2 2v14c0 1.1.9 2 2 2h14c1.1 0 2-.9 2-2V5c0-1.1-.9-2-2-2zM9 17H7v-7h2v7zm4 0h-2V7h2v10zm4 0h-2v-4h2v4z\"/>\n",
              "    </g>\n",
              "</svg>\n",
              "  </button>\n",
              "\n",
              "<style>\n",
              "  .colab-df-quickchart {\n",
              "      --bg-color: #E8F0FE;\n",
              "      --fill-color: #1967D2;\n",
              "      --hover-bg-color: #E2EBFA;\n",
              "      --hover-fill-color: #174EA6;\n",
              "      --disabled-fill-color: #AAA;\n",
              "      --disabled-bg-color: #DDD;\n",
              "  }\n",
              "\n",
              "  [theme=dark] .colab-df-quickchart {\n",
              "      --bg-color: #3B4455;\n",
              "      --fill-color: #D2E3FC;\n",
              "      --hover-bg-color: #434B5C;\n",
              "      --hover-fill-color: #FFFFFF;\n",
              "      --disabled-bg-color: #3B4455;\n",
              "      --disabled-fill-color: #666;\n",
              "  }\n",
              "\n",
              "  .colab-df-quickchart {\n",
              "    background-color: var(--bg-color);\n",
              "    border: none;\n",
              "    border-radius: 50%;\n",
              "    cursor: pointer;\n",
              "    display: none;\n",
              "    fill: var(--fill-color);\n",
              "    height: 32px;\n",
              "    padding: 0;\n",
              "    width: 32px;\n",
              "  }\n",
              "\n",
              "  .colab-df-quickchart:hover {\n",
              "    background-color: var(--hover-bg-color);\n",
              "    box-shadow: 0 1px 2px rgba(60, 64, 67, 0.3), 0 1px 3px 1px rgba(60, 64, 67, 0.15);\n",
              "    fill: var(--button-hover-fill-color);\n",
              "  }\n",
              "\n",
              "  .colab-df-quickchart-complete:disabled,\n",
              "  .colab-df-quickchart-complete:disabled:hover {\n",
              "    background-color: var(--disabled-bg-color);\n",
              "    fill: var(--disabled-fill-color);\n",
              "    box-shadow: none;\n",
              "  }\n",
              "\n",
              "  .colab-df-spinner {\n",
              "    border: 2px solid var(--fill-color);\n",
              "    border-color: transparent;\n",
              "    border-bottom-color: var(--fill-color);\n",
              "    animation:\n",
              "      spin 1s steps(1) infinite;\n",
              "  }\n",
              "\n",
              "  @keyframes spin {\n",
              "    0% {\n",
              "      border-color: transparent;\n",
              "      border-bottom-color: var(--fill-color);\n",
              "      border-left-color: var(--fill-color);\n",
              "    }\n",
              "    20% {\n",
              "      border-color: transparent;\n",
              "      border-left-color: var(--fill-color);\n",
              "      border-top-color: var(--fill-color);\n",
              "    }\n",
              "    30% {\n",
              "      border-color: transparent;\n",
              "      border-left-color: var(--fill-color);\n",
              "      border-top-color: var(--fill-color);\n",
              "      border-right-color: var(--fill-color);\n",
              "    }\n",
              "    40% {\n",
              "      border-color: transparent;\n",
              "      border-right-color: var(--fill-color);\n",
              "      border-top-color: var(--fill-color);\n",
              "    }\n",
              "    60% {\n",
              "      border-color: transparent;\n",
              "      border-right-color: var(--fill-color);\n",
              "    }\n",
              "    80% {\n",
              "      border-color: transparent;\n",
              "      border-right-color: var(--fill-color);\n",
              "      border-bottom-color: var(--fill-color);\n",
              "    }\n",
              "    90% {\n",
              "      border-color: transparent;\n",
              "      border-bottom-color: var(--fill-color);\n",
              "    }\n",
              "  }\n",
              "</style>\n",
              "\n",
              "  <script>\n",
              "    async function quickchart(key) {\n",
              "      const quickchartButtonEl =\n",
              "        document.querySelector('#' + key + ' button');\n",
              "      quickchartButtonEl.disabled = true;  // To prevent multiple clicks.\n",
              "      quickchartButtonEl.classList.add('colab-df-spinner');\n",
              "      try {\n",
              "        const charts = await google.colab.kernel.invokeFunction(\n",
              "            'suggestCharts', [key], {});\n",
              "      } catch (error) {\n",
              "        console.error('Error during call to suggestCharts:', error);\n",
              "      }\n",
              "      quickchartButtonEl.classList.remove('colab-df-spinner');\n",
              "      quickchartButtonEl.classList.add('colab-df-quickchart-complete');\n",
              "    }\n",
              "    (() => {\n",
              "      let quickchartButtonEl =\n",
              "        document.querySelector('#df-a86ca596-0e14-4d97-bbe2-ce7dab6e8a10 button');\n",
              "      quickchartButtonEl.style.display =\n",
              "        google.colab.kernel.accessAllowed ? 'block' : 'none';\n",
              "    })();\n",
              "  </script>\n",
              "</div>\n",
              "    </div>\n",
              "  </div>\n"
            ],
            "application/vnd.google.colaboratory.intrinsic+json": {
              "type": "dataframe",
              "summary": "{\n  \"name\": \"df1[['cltv_current','appreciation_factor','EAL_SCORE','Original Loan-to-Value (LTV)']]\",\n  \"rows\": 4,\n  \"fields\": [\n    {\n      \"column\": \"cltv_current\",\n      \"properties\": {\n        \"dtype\": \"number\",\n        \"std\": 0.7493532311924802,\n        \"min\": -0.8113450359182527,\n        \"max\": 1.0,\n        \"num_unique_values\": 4,\n        \"samples\": [\n          -0.8113450359182527,\n          0.3020777482090577,\n          1.0\n        ],\n        \"semantic_type\": \"\",\n        \"description\": \"\"\n      }\n    },\n    {\n      \"column\": \"appreciation_factor\",\n      \"properties\": {\n        \"dtype\": \"number\",\n        \"std\": 0.7736309609309618,\n        \"min\": -0.8113450359182527,\n        \"max\": 1.0,\n        \"num_unique_values\": 4,\n        \"samples\": [\n          1.0,\n          0.13417420602827596,\n          -0.8113450359182527\n        ],\n        \"semantic_type\": \"\",\n        \"description\": \"\"\n      }\n    },\n    {\n      \"column\": \"EAL_SCORE\",\n      \"properties\": {\n        \"dtype\": \"number\",\n        \"std\": 0.5887727683362347,\n        \"min\": -0.3454843271341381,\n        \"max\": 1.0,\n        \"num_unique_values\": 4,\n        \"samples\": [\n          -0.3454843271341381,\n          -0.10313703208644043,\n          0.30655508412077004\n        ],\n        \"semantic_type\": \"\",\n        \"description\": \"\"\n      }\n    },\n    {\n      \"column\": \"Original Loan-to-Value (LTV)\",\n      \"properties\": {\n        \"dtype\": \"number\",\n        \"std\": 0.47454963983361004,\n        \"min\": -0.10313703208644043,\n        \"max\": 1.0,\n        \"num_unique_values\": 4,\n        \"samples\": [\n          0.13417420602827596,\n          1.0,\n          0.3020777482090577\n        ],\n        \"semantic_type\": \"\",\n        \"description\": \"\"\n      }\n    }\n  ]\n}"
            }
          },
          "metadata": {},
          "execution_count": 134
        }
      ]
    },
    {
      "cell_type": "code",
      "source": [
        "grouped = df.groupby(['Zero Balance Code', 'GSE']).size().unstack(fill_value=0)\n",
        "\n",
        "# Plotting the bar graph\n",
        "grouped.plot(kind='bar')\n"
      ],
      "metadata": {
        "colab": {
          "base_uri": "https://localhost:8080/",
          "height": 461
        },
        "id": "x-oxNUcbRykf",
        "outputId": "6a9e3cab-a53e-4e62-d1a0-b241e583f92e"
      },
      "execution_count": null,
      "outputs": [
        {
          "output_type": "execute_result",
          "data": {
            "text/plain": [
              "<Axes: xlabel='Zero Balance Code'>"
            ]
          },
          "metadata": {},
          "execution_count": 24
        },
        {
          "output_type": "display_data",
          "data": {
            "text/plain": [
              "<Figure size 640x480 with 1 Axes>"
            ],
            "image/png": "[encoded data removed]"
          },
          "metadata": {}
        }
      ]
    },
    {
      "cell_type": "code",
      "source": [
        "grouped = df.groupby(['buckets','Zero Balance Code']).size().unstack(fill_value=0)\n",
        "\n",
        "# Calculating the total count of each GSE value across all Zero Balance Codes\n",
        "total_counts = grouped.sum(axis=0)\n",
        "\n",
        "# Calculating the percentage for each GSE value based on the total count of each GSE value\n",
        "grouped_percentage = grouped.div(total_counts, axis=1) * 100\n",
        "\n",
        "# Plotting the bar graph\n",
        "ax = grouped_percentage.plot(kind='bar', width=0.4)\n",
        "\n",
        "# Customizing the plot\n",
        "plt.xlabel('Zero Balance Code')\n",
        "plt.ylabel('Percentage')\n",
        "plt.title('Percentage of Zero Balance Code by GSE')\n",
        "plt.legend(title='GSE')\n",
        "plt.ylim(0, 100)  # Setting y-axis limit to 0-100%\n",
        "\n",
        "# Adjusting x-axis tick labels\n",
        "ax.set_xticklabels(grouped_percentage.index, rotation=0)\n",
        "\n",
        "# Adding percentage labels to the bars\n",
        "for container in ax.containers:\n",
        "    ax.bar_label(container, fmt='%.1f%%', label_type='edge')\n",
        "\n",
        "plt.show()"
      ],
      "metadata": {
        "colab": {
          "base_uri": "https://localhost:8080/",
          "height": 472
        },
        "id": "DRpwmC0iUuor",
        "outputId": "1ad2a4a9-c368-4884-a766-dc744e470a8d"
      },
      "execution_count": null,
      "outputs": [
        {
          "output_type": "display_data",
          "data": {
            "text/plain": [
              "<Figure size 640x480 with 1 Axes>"
            ],
            "image/png": "[encoded data removed]"
          },
          "metadata": {}
        }
      ]
    },
    {
      "cell_type": "code",
      "source": [
        "grouped_percentage = grouped.div(grouped.sum(axis=1), axis=0) * 100\n",
        "\n",
        "# Plotting the bar graph\n",
        "ax = grouped_percentage.plot(kind='bar', width=0.4)\n"
      ],
      "metadata": {
        "colab": {
          "base_uri": "https://localhost:8080/",
          "height": 425
        },
        "id": "vIl4gGXrSzGf",
        "outputId": "35938cf7-b9a9-4141-ea92-54e888086189"
      },
      "execution_count": null,
      "outputs": [
        {
          "output_type": "display_data",
          "data": {
            "text/plain": [
              "<Figure size 640x480 with 1 Axes>"
            ],
            "image/png": "[encoded data removed]"
          },
          "metadata": {}
        }
      ]
    },
    {
      "cell_type": "code",
      "source": [
        "total_counts = grouped.sum(axis=1)\n",
        "\n",
        "# Converting counts to percentages based on the total count of each Zero Balance Code\n",
        "grouped_percentage = grouped.div(total_counts, axis=0) * 100\n",
        "\n",
        "# Plotting the bar graph\n",
        "ax = grouped_percentage.plot(kind='bar', width=0.4)"
      ],
      "metadata": {
        "colab": {
          "base_uri": "https://localhost:8080/",
          "height": 444
        },
        "id": "dbjKf5Z7Tscq",
        "outputId": "ffb66d66-5848-447b-e6af-6daefea5fb23"
      },
      "execution_count": null,
      "outputs": [
        {
          "output_type": "display_data",
          "data": {
            "text/plain": [
              "<Figure size 640x480 with 1 Axes>"
            ],
            "image/png": "[encoded data removed]"
          },
          "metadata": {}
        }
      ]
    },
    {
      "cell_type": "code",
      "source": [
        "df[['Zero Balance Code','GSE']]"
      ],
      "metadata": {
        "colab": {
          "base_uri": "https://localhost:8080/",
          "height": 419
        },
        "id": "ih6NEkocRzfB",
        "outputId": "5cade7ef-765f-43b8-c17c-392df968617a"
      },
      "execution_count": null,
      "outputs": [
        {
          "output_type": "execute_result",
          "data": {
            "text/plain": [
              "        Zero Balance Code  GSE\n",
              "0                       3    0\n",
              "1                       9    0\n",
              "2                       9    0\n",
              "3                       9    0\n",
              "4                       9    0\n",
              "...                   ...  ...\n",
              "954506                  9    1\n",
              "954507                  3    1\n",
              "954508                  9    1\n",
              "954509                  9    1\n",
              "954510                  3    1\n",
              "\n",
              "[952032 rows x 2 columns]"
            ],
            "text/html": [
              "\n",
              "  <div id=\"df-93773e1f-196e-425a-928d-7b4f6166cfbf\" class=\"colab-df-container\">\n",
              "    <div>\n",
              "<style scoped>\n",
              "    .dataframe tbody tr th:only-of-type {\n",
              "        vertical-align: middle;\n",
              "    }\n",
              "\n",
              "    .dataframe tbody tr th {\n",
              "        vertical-align: top;\n",
              "    }\n",
              "\n",
              "    .dataframe thead th {\n",
              "        text-align: right;\n",
              "    }\n",
              "</style>\n",
              "<table border=\"1\" class=\"dataframe\">\n",
              "  <thead>\n",
              "    <tr style=\"text-align: right;\">\n",
              "      <th></th>\n",
              "      <th>Zero Balance Code</th>\n",
              "      <th>GSE</th>\n",
              "    </tr>\n",
              "  </thead>\n",
              "  <tbody>\n",
              "    <tr>\n",
              "      <th>0</th>\n",
              "      <td>3</td>\n",
              "      <td>0</td>\n",
              "    </tr>\n",
              "    <tr>\n",
              "      <th>1</th>\n",
              "      <td>9</td>\n",
              "      <td>0</td>\n",
              "    </tr>\n",
              "    <tr>\n",
              "      <th>2</th>\n",
              "      <td>9</td>\n",
              "      <td>0</td>\n",
              "    </tr>\n",
              "    <tr>\n",
              "      <th>3</th>\n",
              "      <td>9</td>\n",
              "      <td>0</td>\n",
              "    </tr>\n",
              "    <tr>\n",
              "      <th>4</th>\n",
              "      <td>9</td>\n",
              "      <td>0</td>\n",
              "    </tr>\n",
              "    <tr>\n",
              "      <th>...</th>\n",
              "      <td>...</td>\n",
              "      <td>...</td>\n",
              "    </tr>\n",
              "    <tr>\n",
              "      <th>954506</th>\n",
              "      <td>9</td>\n",
              "      <td>1</td>\n",
              "    </tr>\n",
              "    <tr>\n",
              "      <th>954507</th>\n",
              "      <td>3</td>\n",
              "      <td>1</td>\n",
              "    </tr>\n",
              "    <tr>\n",
              "      <th>954508</th>\n",
              "      <td>9</td>\n",
              "      <td>1</td>\n",
              "    </tr>\n",
              "    <tr>\n",
              "      <th>954509</th>\n",
              "      <td>9</td>\n",
              "      <td>1</td>\n",
              "    </tr>\n",
              "    <tr>\n",
              "      <th>954510</th>\n",
              "      <td>3</td>\n",
              "      <td>1</td>\n",
              "    </tr>\n",
              "  </tbody>\n",
              "</table>\n",
              "<p>952032 rows × 2 columns</p>\n",
              "</div>\n",
              "    <div class=\"colab-df-buttons\">\n",
              "\n",
              "  <div class=\"colab-df-container\">\n",
              "    <button class=\"colab-df-convert\" onclick=\"convertToInteractive('df-93773e1f-196e-425a-928d-7b4f6166cfbf')\"\n",
              "            title=\"Convert this dataframe to an interactive table.\"\n",
              "            style=\"display:none;\">\n",
              "\n",
              "  <svg xmlns=\"http://www.w3.org/2000/svg\" height=\"24px\" viewBox=\"0 -960 960 960\">\n",
              "    <path d=\"M120-120v-720h720v720H120Zm60-500h600v-160H180v160Zm220 220h160v-160H400v160Zm0 220h160v-160H400v160ZM180-400h160v-160H180v160Zm440 0h160v-160H620v160ZM180-180h160v-160H180v160Zm440 0h160v-160H620v160Z\"/>\n",
              "  </svg>\n",
              "    </button>\n",
              "\n",
              "  <style>\n",
              "    .colab-df-container {\n",
              "      display:flex;\n",
              "      gap: 12px;\n",
              "    }\n",
              "\n",
              "    .colab-df-convert {\n",
              "      background-color: #E8F0FE;\n",
              "      border: none;\n",
              "      border-radius: 50%;\n",
              "      cursor: pointer;\n",
              "      display: none;\n",
              "      fill: #1967D2;\n",
              "      height: 32px;\n",
              "      padding: 0 0 0 0;\n",
              "      width: 32px;\n",
              "    }\n",
              "\n",
              "    .colab-df-convert:hover {\n",
              "      background-color: #E2EBFA;\n",
              "      box-shadow: 0px 1px 2px rgba(60, 64, 67, 0.3), 0px 1px 3px 1px rgba(60, 64, 67, 0.15);\n",
              "      fill: #174EA6;\n",
              "    }\n",
              "\n",
              "    .colab-df-buttons div {\n",
              "      margin-bottom: 4px;\n",
              "    }\n",
              "\n",
              "    [theme=dark] .colab-df-convert {\n",
              "      background-color: #3B4455;\n",
              "      fill: #D2E3FC;\n",
              "    }\n",
              "\n",
              "    [theme=dark] .colab-df-convert:hover {\n",
              "      background-color: #434B5C;\n",
              "      box-shadow: 0px 1px 3px 1px rgba(0, 0, 0, 0.15);\n",
              "      filter: drop-shadow(0px 1px 2px rgba(0, 0, 0, 0.3));\n",
              "      fill: #FFFFFF;\n",
              "    }\n",
              "  </style>\n",
              "\n",
              "    <script>\n",
              "      const buttonEl =\n",
              "        document.querySelector('#df-93773e1f-196e-425a-928d-7b4f6166cfbf button.colab-df-convert');\n",
              "      buttonEl.style.display =\n",
              "        google.colab.kernel.accessAllowed ? 'block' : 'none';\n",
              "\n",
              "      async function convertToInteractive(key) {\n",
              "        const element = document.querySelector('#df-93773e1f-196e-425a-928d-7b4f6166cfbf');\n",
              "        const dataTable =\n",
              "          await google.colab.kernel.invokeFunction('convertToInteractive',\n",
              "                                                    [key], {});\n",
              "        if (!dataTable) return;\n",
              "\n",
              "        const docLinkHtml = 'Like what you see? Visit the ' +\n",
              "          '<a target=\"_blank\" href=https://colab.research.google.com/notebooks/data_table.ipynb>data table notebook</a>'\n",
              "          + ' to learn more about interactive tables.';\n",
              "        element.innerHTML = '';\n",
              "        dataTable['output_type'] = 'display_data';\n",
              "        await google.colab.output.renderOutput(dataTable, element);\n",
              "        const docLink = document.createElement('div');\n",
              "        docLink.innerHTML = docLinkHtml;\n",
              "        element.appendChild(docLink);\n",
              "      }\n",
              "    </script>\n",
              "  </div>\n",
              "\n",
              "\n",
              "<div id=\"df-c2a56f33-1ba9-4f48-b4d1-6cfe3896cca4\">\n",
              "  <button class=\"colab-df-quickchart\" onclick=\"quickchart('df-c2a56f33-1ba9-4f48-b4d1-6cfe3896cca4')\"\n",
              "            title=\"Suggest charts\"\n",
              "            style=\"display:none;\">\n",
              "\n",
              "<svg xmlns=\"http://www.w3.org/2000/svg\" height=\"24px\"viewBox=\"0 0 24 24\"\n",
              "     width=\"24px\">\n",
              "    <g>\n",
              "        <path d=\"M19 3H5c-1.1 0-2 .9-2 2v14c0 1.1.9 2 2 2h14c1.1 0 2-.9 2-2V5c0-1.1-.9-2-2-2zM9 17H7v-7h2v7zm4 0h-2V7h2v10zm4 0h-2v-4h2v4z\"/>\n",
              "    </g>\n",
              "</svg>\n",
              "  </button>\n",
              "\n",
              "<style>\n",
              "  .colab-df-quickchart {\n",
              "      --bg-color: #E8F0FE;\n",
              "      --fill-color: #1967D2;\n",
              "      --hover-bg-color: #E2EBFA;\n",
              "      --hover-fill-color: #174EA6;\n",
              "      --disabled-fill-color: #AAA;\n",
              "      --disabled-bg-color: #DDD;\n",
              "  }\n",
              "\n",
              "  [theme=dark] .colab-df-quickchart {\n",
              "      --bg-color: #3B4455;\n",
              "      --fill-color: #D2E3FC;\n",
              "      --hover-bg-color: #434B5C;\n",
              "      --hover-fill-color: #FFFFFF;\n",
              "      --disabled-bg-color: #3B4455;\n",
              "      --disabled-fill-color: #666;\n",
              "  }\n",
              "\n",
              "  .colab-df-quickchart {\n",
              "    background-color: var(--bg-color);\n",
              "    border: none;\n",
              "    border-radius: 50%;\n",
              "    cursor: pointer;\n",
              "    display: none;\n",
              "    fill: var(--fill-color);\n",
              "    height: 32px;\n",
              "    padding: 0;\n",
              "    width: 32px;\n",
              "  }\n",
              "\n",
              "  .colab-df-quickchart:hover {\n",
              "    background-color: var(--hover-bg-color);\n",
              "    box-shadow: 0 1px 2px rgba(60, 64, 67, 0.3), 0 1px 3px 1px rgba(60, 64, 67, 0.15);\n",
              "    fill: var(--button-hover-fill-color);\n",
              "  }\n",
              "\n",
              "  .colab-df-quickchart-complete:disabled,\n",
              "  .colab-df-quickchart-complete:disabled:hover {\n",
              "    background-color: var(--disabled-bg-color);\n",
              "    fill: var(--disabled-fill-color);\n",
              "    box-shadow: none;\n",
              "  }\n",
              "\n",
              "  .colab-df-spinner {\n",
              "    border: 2px solid var(--fill-color);\n",
              "    border-color: transparent;\n",
              "    border-bottom-color: var(--fill-color);\n",
              "    animation:\n",
              "      spin 1s steps(1) infinite;\n",
              "  }\n",
              "\n",
              "  @keyframes spin {\n",
              "    0% {\n",
              "      border-color: transparent;\n",
              "      border-bottom-color: var(--fill-color);\n",
              "      border-left-color: var(--fill-color);\n",
              "    }\n",
              "    20% {\n",
              "      border-color: transparent;\n",
              "      border-left-color: var(--fill-color);\n",
              "      border-top-color: var(--fill-color);\n",
              "    }\n",
              "    30% {\n",
              "      border-color: transparent;\n",
              "      border-left-color: var(--fill-color);\n",
              "      border-top-color: var(--fill-color);\n",
              "      border-right-color: var(--fill-color);\n",
              "    }\n",
              "    40% {\n",
              "      border-color: transparent;\n",
              "      border-right-color: var(--fill-color);\n",
              "      border-top-color: var(--fill-color);\n",
              "    }\n",
              "    60% {\n",
              "      border-color: transparent;\n",
              "      border-right-color: var(--fill-color);\n",
              "    }\n",
              "    80% {\n",
              "      border-color: transparent;\n",
              "      border-right-color: var(--fill-color);\n",
              "      border-bottom-color: var(--fill-color);\n",
              "    }\n",
              "    90% {\n",
              "      border-color: transparent;\n",
              "      border-bottom-color: var(--fill-color);\n",
              "    }\n",
              "  }\n",
              "</style>\n",
              "\n",
              "  <script>\n",
              "    async function quickchart(key) {\n",
              "      const quickchartButtonEl =\n",
              "        document.querySelector('#' + key + ' button');\n",
              "      quickchartButtonEl.disabled = true;  // To prevent multiple clicks.\n",
              "      quickchartButtonEl.classList.add('colab-df-spinner');\n",
              "      try {\n",
              "        const charts = await google.colab.kernel.invokeFunction(\n",
              "            'suggestCharts', [key], {});\n",
              "      } catch (error) {\n",
              "        console.error('Error during call to suggestCharts:', error);\n",
              "      }\n",
              "      quickchartButtonEl.classList.remove('colab-df-spinner');\n",
              "      quickchartButtonEl.classList.add('colab-df-quickchart-complete');\n",
              "    }\n",
              "    (() => {\n",
              "      let quickchartButtonEl =\n",
              "        document.querySelector('#df-c2a56f33-1ba9-4f48-b4d1-6cfe3896cca4 button');\n",
              "      quickchartButtonEl.style.display =\n",
              "        google.colab.kernel.accessAllowed ? 'block' : 'none';\n",
              "    })();\n",
              "  </script>\n",
              "</div>\n",
              "    </div>\n",
              "  </div>\n"
            ],
            "application/vnd.google.colaboratory.intrinsic+json": {
              "type": "dataframe"
            }
          },
          "metadata": {},
          "execution_count": 22
        }
      ]
    },
    {
      "cell_type": "code",
      "source": [
        "df['stupid'] = 1"
      ],
      "metadata": {
        "id": "t-OmJvSWNg3o"
      },
      "execution_count": null,
      "outputs": []
    },
    {
      "cell_type": "code",
      "source": [
        "sns.barplot(df,x='Zero Balance Code', y='stupid',hue='GSE')"
      ],
      "metadata": {
        "colab": {
          "base_uri": "https://localhost:8080/",
          "height": 466
        },
        "id": "IjCVQ6w38cCR",
        "outputId": "a2515bc9-bc99-4023-c7a6-a795dcd02820"
      },
      "execution_count": null,
      "outputs": [
        {
          "output_type": "execute_result",
          "data": {
            "text/plain": [
              "<Axes: xlabel='Zero Balance Code', ylabel='stupid'>"
            ]
          },
          "metadata": {},
          "execution_count": 18
        },
        {
          "output_type": "display_data",
          "data": {
            "text/plain": [
              "<Figure size 640x480 with 1 Axes>"
            ],
            "image/png": "[encoded data removed]"
          },
          "metadata": {}
        }
      ]
    },
    {
      "cell_type": "code",
      "source": [
        "pd.options.display.float_format = \"{:,.2f}\".format"
      ],
      "metadata": {
        "id": "uizO8TTX2TaA"
      },
      "execution_count": null,
      "outputs": []
    },
    {
      "cell_type": "code",
      "source": [
        "df1.groupby('GSE')[['REO','TPS','SS']].mean()*100"
      ],
      "metadata": {
        "colab": {
          "base_uri": "https://localhost:8080/",
          "height": 140
        },
        "id": "_Wq6L8XqLJeH",
        "outputId": "4e08520d-6ad2-4efa-8728-7ab3a691a634"
      },
      "execution_count": null,
      "outputs": [
        {
          "output_type": "execute_result",
          "data": {
            "text/plain": [
              "           REO        TPS         SS\n",
              "GSE                                 \n",
              "0    61.897139  17.215410  20.887451\n",
              "1    73.853101   6.776373  19.370526"
            ],
            "text/html": [
              "\n",
              "  <div id=\"df-663dd8cd-a185-474e-a2e1-6852dd56ea99\" class=\"colab-df-container\">\n",
              "    <div>\n",
              "<style scoped>\n",
              "    .dataframe tbody tr th:only-of-type {\n",
              "        vertical-align: middle;\n",
              "    }\n",
              "\n",
              "    .dataframe tbody tr th {\n",
              "        vertical-align: top;\n",
              "    }\n",
              "\n",
              "    .dataframe thead th {\n",
              "        text-align: right;\n",
              "    }\n",
              "</style>\n",
              "<table border=\"1\" class=\"dataframe\">\n",
              "  <thead>\n",
              "    <tr style=\"text-align: right;\">\n",
              "      <th></th>\n",
              "      <th>REO</th>\n",
              "      <th>TPS</th>\n",
              "      <th>SS</th>\n",
              "    </tr>\n",
              "    <tr>\n",
              "      <th>GSE</th>\n",
              "      <th></th>\n",
              "      <th></th>\n",
              "      <th></th>\n",
              "    </tr>\n",
              "  </thead>\n",
              "  <tbody>\n",
              "    <tr>\n",
              "      <th>0</th>\n",
              "      <td>61.897139</td>\n",
              "      <td>17.215410</td>\n",
              "      <td>20.887451</td>\n",
              "    </tr>\n",
              "    <tr>\n",
              "      <th>1</th>\n",
              "      <td>73.853101</td>\n",
              "      <td>6.776373</td>\n",
              "      <td>19.370526</td>\n",
              "    </tr>\n",
              "  </tbody>\n",
              "</table>\n",
              "</div>\n",
              "    <div class=\"colab-df-buttons\">\n",
              "\n",
              "  <div class=\"colab-df-container\">\n",
              "    <button class=\"colab-df-convert\" onclick=\"convertToInteractive('df-663dd8cd-a185-474e-a2e1-6852dd56ea99')\"\n",
              "            title=\"Convert this dataframe to an interactive table.\"\n",
              "            style=\"display:none;\">\n",
              "\n",
              "  <svg xmlns=\"http://www.w3.org/2000/svg\" height=\"24px\" viewBox=\"0 -960 960 960\">\n",
              "    <path d=\"M120-120v-720h720v720H120Zm60-500h600v-160H180v160Zm220 220h160v-160H400v160Zm0 220h160v-160H400v160ZM180-400h160v-160H180v160Zm440 0h160v-160H620v160ZM180-180h160v-160H180v160Zm440 0h160v-160H620v160Z\"/>\n",
              "  </svg>\n",
              "    </button>\n",
              "\n",
              "  <style>\n",
              "    .colab-df-container {\n",
              "      display:flex;\n",
              "      gap: 12px;\n",
              "    }\n",
              "\n",
              "    .colab-df-convert {\n",
              "      background-color: #E8F0FE;\n",
              "      border: none;\n",
              "      border-radius: 50%;\n",
              "      cursor: pointer;\n",
              "      display: none;\n",
              "      fill: #1967D2;\n",
              "      height: 32px;\n",
              "      padding: 0 0 0 0;\n",
              "      width: 32px;\n",
              "    }\n",
              "\n",
              "    .colab-df-convert:hover {\n",
              "      background-color: #E2EBFA;\n",
              "      box-shadow: 0px 1px 2px rgba(60, 64, 67, 0.3), 0px 1px 3px 1px rgba(60, 64, 67, 0.15);\n",
              "      fill: #174EA6;\n",
              "    }\n",
              "\n",
              "    .colab-df-buttons div {\n",
              "      margin-bottom: 4px;\n",
              "    }\n",
              "\n",
              "    [theme=dark] .colab-df-convert {\n",
              "      background-color: #3B4455;\n",
              "      fill: #D2E3FC;\n",
              "    }\n",
              "\n",
              "    [theme=dark] .colab-df-convert:hover {\n",
              "      background-color: #434B5C;\n",
              "      box-shadow: 0px 1px 3px 1px rgba(0, 0, 0, 0.15);\n",
              "      filter: drop-shadow(0px 1px 2px rgba(0, 0, 0, 0.3));\n",
              "      fill: #FFFFFF;\n",
              "    }\n",
              "  </style>\n",
              "\n",
              "    <script>\n",
              "      const buttonEl =\n",
              "        document.querySelector('#df-663dd8cd-a185-474e-a2e1-6852dd56ea99 button.colab-df-convert');\n",
              "      buttonEl.style.display =\n",
              "        google.colab.kernel.accessAllowed ? 'block' : 'none';\n",
              "\n",
              "      async function convertToInteractive(key) {\n",
              "        const element = document.querySelector('#df-663dd8cd-a185-474e-a2e1-6852dd56ea99');\n",
              "        const dataTable =\n",
              "          await google.colab.kernel.invokeFunction('convertToInteractive',\n",
              "                                                    [key], {});\n",
              "        if (!dataTable) return;\n",
              "\n",
              "        const docLinkHtml = 'Like what you see? Visit the ' +\n",
              "          '<a target=\"_blank\" href=https://colab.research.google.com/notebooks/data_table.ipynb>data table notebook</a>'\n",
              "          + ' to learn more about interactive tables.';\n",
              "        element.innerHTML = '';\n",
              "        dataTable['output_type'] = 'display_data';\n",
              "        await google.colab.output.renderOutput(dataTable, element);\n",
              "        const docLink = document.createElement('div');\n",
              "        docLink.innerHTML = docLinkHtml;\n",
              "        element.appendChild(docLink);\n",
              "      }\n",
              "    </script>\n",
              "  </div>\n",
              "\n",
              "\n",
              "<div id=\"df-a45c8ec4-cab7-44ff-bc4f-bac793a76ce6\">\n",
              "  <button class=\"colab-df-quickchart\" onclick=\"quickchart('df-a45c8ec4-cab7-44ff-bc4f-bac793a76ce6')\"\n",
              "            title=\"Suggest charts\"\n",
              "            style=\"display:none;\">\n",
              "\n",
              "<svg xmlns=\"http://www.w3.org/2000/svg\" height=\"24px\"viewBox=\"0 0 24 24\"\n",
              "     width=\"24px\">\n",
              "    <g>\n",
              "        <path d=\"M19 3H5c-1.1 0-2 .9-2 2v14c0 1.1.9 2 2 2h14c1.1 0 2-.9 2-2V5c0-1.1-.9-2-2-2zM9 17H7v-7h2v7zm4 0h-2V7h2v10zm4 0h-2v-4h2v4z\"/>\n",
              "    </g>\n",
              "</svg>\n",
              "  </button>\n",
              "\n",
              "<style>\n",
              "  .colab-df-quickchart {\n",
              "      --bg-color: #E8F0FE;\n",
              "      --fill-color: #1967D2;\n",
              "      --hover-bg-color: #E2EBFA;\n",
              "      --hover-fill-color: #174EA6;\n",
              "      --disabled-fill-color: #AAA;\n",
              "      --disabled-bg-color: #DDD;\n",
              "  }\n",
              "\n",
              "  [theme=dark] .colab-df-quickchart {\n",
              "      --bg-color: #3B4455;\n",
              "      --fill-color: #D2E3FC;\n",
              "      --hover-bg-color: #434B5C;\n",
              "      --hover-fill-color: #FFFFFF;\n",
              "      --disabled-bg-color: #3B4455;\n",
              "      --disabled-fill-color: #666;\n",
              "  }\n",
              "\n",
              "  .colab-df-quickchart {\n",
              "    background-color: var(--bg-color);\n",
              "    border: none;\n",
              "    border-radius: 50%;\n",
              "    cursor: pointer;\n",
              "    display: none;\n",
              "    fill: var(--fill-color);\n",
              "    height: 32px;\n",
              "    padding: 0;\n",
              "    width: 32px;\n",
              "  }\n",
              "\n",
              "  .colab-df-quickchart:hover {\n",
              "    background-color: var(--hover-bg-color);\n",
              "    box-shadow: 0 1px 2px rgba(60, 64, 67, 0.3), 0 1px 3px 1px rgba(60, 64, 67, 0.15);\n",
              "    fill: var(--button-hover-fill-color);\n",
              "  }\n",
              "\n",
              "  .colab-df-quickchart-complete:disabled,\n",
              "  .colab-df-quickchart-complete:disabled:hover {\n",
              "    background-color: var(--disabled-bg-color);\n",
              "    fill: var(--disabled-fill-color);\n",
              "    box-shadow: none;\n",
              "  }\n",
              "\n",
              "  .colab-df-spinner {\n",
              "    border: 2px solid var(--fill-color);\n",
              "    border-color: transparent;\n",
              "    border-bottom-color: var(--fill-color);\n",
              "    animation:\n",
              "      spin 1s steps(1) infinite;\n",
              "  }\n",
              "\n",
              "  @keyframes spin {\n",
              "    0% {\n",
              "      border-color: transparent;\n",
              "      border-bottom-color: var(--fill-color);\n",
              "      border-left-color: var(--fill-color);\n",
              "    }\n",
              "    20% {\n",
              "      border-color: transparent;\n",
              "      border-left-color: var(--fill-color);\n",
              "      border-top-color: var(--fill-color);\n",
              "    }\n",
              "    30% {\n",
              "      border-color: transparent;\n",
              "      border-left-color: var(--fill-color);\n",
              "      border-top-color: var(--fill-color);\n",
              "      border-right-color: var(--fill-color);\n",
              "    }\n",
              "    40% {\n",
              "      border-color: transparent;\n",
              "      border-right-color: var(--fill-color);\n",
              "      border-top-color: var(--fill-color);\n",
              "    }\n",
              "    60% {\n",
              "      border-color: transparent;\n",
              "      border-right-color: var(--fill-color);\n",
              "    }\n",
              "    80% {\n",
              "      border-color: transparent;\n",
              "      border-right-color: var(--fill-color);\n",
              "      border-bottom-color: var(--fill-color);\n",
              "    }\n",
              "    90% {\n",
              "      border-color: transparent;\n",
              "      border-bottom-color: var(--fill-color);\n",
              "    }\n",
              "  }\n",
              "</style>\n",
              "\n",
              "  <script>\n",
              "    async function quickchart(key) {\n",
              "      const quickchartButtonEl =\n",
              "        document.querySelector('#' + key + ' button');\n",
              "      quickchartButtonEl.disabled = true;  // To prevent multiple clicks.\n",
              "      quickchartButtonEl.classList.add('colab-df-spinner');\n",
              "      try {\n",
              "        const charts = await google.colab.kernel.invokeFunction(\n",
              "            'suggestCharts', [key], {});\n",
              "      } catch (error) {\n",
              "        console.error('Error during call to suggestCharts:', error);\n",
              "      }\n",
              "      quickchartButtonEl.classList.remove('colab-df-spinner');\n",
              "      quickchartButtonEl.classList.add('colab-df-quickchart-complete');\n",
              "    }\n",
              "    (() => {\n",
              "      let quickchartButtonEl =\n",
              "        document.querySelector('#df-a45c8ec4-cab7-44ff-bc4f-bac793a76ce6 button');\n",
              "      quickchartButtonEl.style.display =\n",
              "        google.colab.kernel.accessAllowed ? 'block' : 'none';\n",
              "    })();\n",
              "  </script>\n",
              "</div>\n",
              "    </div>\n",
              "  </div>\n"
            ],
            "application/vnd.google.colaboratory.intrinsic+json": {
              "type": "dataframe",
              "summary": "{\n  \"name\": \"df1\",\n  \"rows\": 2,\n  \"fields\": [\n    {\n      \"column\": \"GSE\",\n      \"properties\": {\n        \"dtype\": \"number\",\n        \"std\": 0,\n        \"min\": 0,\n        \"max\": 1,\n        \"num_unique_values\": 2,\n        \"samples\": [\n          1,\n          0\n        ],\n        \"semantic_type\": \"\",\n        \"description\": \"\"\n      }\n    },\n    {\n      \"column\": \"REO\",\n      \"properties\": {\n        \"dtype\": \"number\",\n        \"std\": 8.454141652577128,\n        \"min\": 61.8971387585444,\n        \"max\": 73.85310054184227,\n        \"num_unique_values\": 2,\n        \"samples\": [\n          73.85310054184227,\n          61.8971387585444\n        ],\n        \"semantic_type\": \"\",\n        \"description\": \"\"\n      }\n    },\n    {\n      \"column\": \"TPS\",\n      \"properties\": {\n        \"dtype\": \"number\",\n        \"std\": 7.381513668636047,\n        \"min\": 6.776373001538564,\n        \"max\": 17.21540974256604,\n        \"num_unique_values\": 2,\n        \"samples\": [\n          6.776373001538564,\n          17.21540974256604\n        ],\n        \"semantic_type\": \"\",\n        \"description\": \"\"\n      }\n    },\n    {\n      \"column\": \"SS\",\n      \"properties\": {\n        \"dtype\": \"number\",\n        \"std\": 1.0726279839410757,\n        \"min\": 19.37052645661917,\n        \"max\": 20.88745149888955,\n        \"num_unique_values\": 2,\n        \"samples\": [\n          19.37052645661917,\n          20.88745149888955\n        ],\n        \"semantic_type\": \"\",\n        \"description\": \"\"\n      }\n    }\n  ]\n}"
            }
          },
          "metadata": {},
          "execution_count": 91
        }
      ]
    },
    {
      "cell_type": "code",
      "source": [
        "df1.groupby('GSE')[['REO','TPS','SS']].sum()"
      ],
      "metadata": {
        "id": "wCWGAAjQ9LHr",
        "colab": {
          "base_uri": "https://localhost:8080/",
          "height": 140
        },
        "outputId": "8bea7fee-b785-4b4c-bd54-0c4315661f37"
      },
      "execution_count": null,
      "outputs": [
        {
          "output_type": "execute_result",
          "data": {
            "text/plain": [
              "        REO    TPS     SS\n",
              "GSE                      \n",
              "0    286507  79686  96683\n",
              "1    331209  30390  86871"
            ],
            "text/html": [
              "\n",
              "  <div id=\"df-c7958048-45c3-41a3-acd1-14f0dad381f1\" class=\"colab-df-container\">\n",
              "    <div>\n",
              "<style scoped>\n",
              "    .dataframe tbody tr th:only-of-type {\n",
              "        vertical-align: middle;\n",
              "    }\n",
              "\n",
              "    .dataframe tbody tr th {\n",
              "        vertical-align: top;\n",
              "    }\n",
              "\n",
              "    .dataframe thead th {\n",
              "        text-align: right;\n",
              "    }\n",
              "</style>\n",
              "<table border=\"1\" class=\"dataframe\">\n",
              "  <thead>\n",
              "    <tr style=\"text-align: right;\">\n",
              "      <th></th>\n",
              "      <th>REO</th>\n",
              "      <th>TPS</th>\n",
              "      <th>SS</th>\n",
              "    </tr>\n",
              "    <tr>\n",
              "      <th>GSE</th>\n",
              "      <th></th>\n",
              "      <th></th>\n",
              "      <th></th>\n",
              "    </tr>\n",
              "  </thead>\n",
              "  <tbody>\n",
              "    <tr>\n",
              "      <th>0</th>\n",
              "      <td>286507</td>\n",
              "      <td>79686</td>\n",
              "      <td>96683</td>\n",
              "    </tr>\n",
              "    <tr>\n",
              "      <th>1</th>\n",
              "      <td>331209</td>\n",
              "      <td>30390</td>\n",
              "      <td>86871</td>\n",
              "    </tr>\n",
              "  </tbody>\n",
              "</table>\n",
              "</div>\n",
              "    <div class=\"colab-df-buttons\">\n",
              "\n",
              "  <div class=\"colab-df-container\">\n",
              "    <button class=\"colab-df-convert\" onclick=\"convertToInteractive('df-c7958048-45c3-41a3-acd1-14f0dad381f1')\"\n",
              "            title=\"Convert this dataframe to an interactive table.\"\n",
              "            style=\"display:none;\">\n",
              "\n",
              "  <svg xmlns=\"http://www.w3.org/2000/svg\" height=\"24px\" viewBox=\"0 -960 960 960\">\n",
              "    <path d=\"M120-120v-720h720v720H120Zm60-500h600v-160H180v160Zm220 220h160v-160H400v160Zm0 220h160v-160H400v160ZM180-400h160v-160H180v160Zm440 0h160v-160H620v160ZM180-180h160v-160H180v160Zm440 0h160v-160H620v160Z\"/>\n",
              "  </svg>\n",
              "    </button>\n",
              "\n",
              "  <style>\n",
              "    .colab-df-container {\n",
              "      display:flex;\n",
              "      gap: 12px;\n",
              "    }\n",
              "\n",
              "    .colab-df-convert {\n",
              "      background-color: #E8F0FE;\n",
              "      border: none;\n",
              "      border-radius: 50%;\n",
              "      cursor: pointer;\n",
              "      display: none;\n",
              "      fill: #1967D2;\n",
              "      height: 32px;\n",
              "      padding: 0 0 0 0;\n",
              "      width: 32px;\n",
              "    }\n",
              "\n",
              "    .colab-df-convert:hover {\n",
              "      background-color: #E2EBFA;\n",
              "      box-shadow: 0px 1px 2px rgba(60, 64, 67, 0.3), 0px 1px 3px 1px rgba(60, 64, 67, 0.15);\n",
              "      fill: #174EA6;\n",
              "    }\n",
              "\n",
              "    .colab-df-buttons div {\n",
              "      margin-bottom: 4px;\n",
              "    }\n",
              "\n",
              "    [theme=dark] .colab-df-convert {\n",
              "      background-color: #3B4455;\n",
              "      fill: #D2E3FC;\n",
              "    }\n",
              "\n",
              "    [theme=dark] .colab-df-convert:hover {\n",
              "      background-color: #434B5C;\n",
              "      box-shadow: 0px 1px 3px 1px rgba(0, 0, 0, 0.15);\n",
              "      filter: drop-shadow(0px 1px 2px rgba(0, 0, 0, 0.3));\n",
              "      fill: #FFFFFF;\n",
              "    }\n",
              "  </style>\n",
              "\n",
              "    <script>\n",
              "      const buttonEl =\n",
              "        document.querySelector('#df-c7958048-45c3-41a3-acd1-14f0dad381f1 button.colab-df-convert');\n",
              "      buttonEl.style.display =\n",
              "        google.colab.kernel.accessAllowed ? 'block' : 'none';\n",
              "\n",
              "      async function convertToInteractive(key) {\n",
              "        const element = document.querySelector('#df-c7958048-45c3-41a3-acd1-14f0dad381f1');\n",
              "        const dataTable =\n",
              "          await google.colab.kernel.invokeFunction('convertToInteractive',\n",
              "                                                    [key], {});\n",
              "        if (!dataTable) return;\n",
              "\n",
              "        const docLinkHtml = 'Like what you see? Visit the ' +\n",
              "          '<a target=\"_blank\" href=https://colab.research.google.com/notebooks/data_table.ipynb>data table notebook</a>'\n",
              "          + ' to learn more about interactive tables.';\n",
              "        element.innerHTML = '';\n",
              "        dataTable['output_type'] = 'display_data';\n",
              "        await google.colab.output.renderOutput(dataTable, element);\n",
              "        const docLink = document.createElement('div');\n",
              "        docLink.innerHTML = docLinkHtml;\n",
              "        element.appendChild(docLink);\n",
              "      }\n",
              "    </script>\n",
              "  </div>\n",
              "\n",
              "\n",
              "<div id=\"df-ff676edb-036c-4b5f-b1ad-1668f09fb76a\">\n",
              "  <button class=\"colab-df-quickchart\" onclick=\"quickchart('df-ff676edb-036c-4b5f-b1ad-1668f09fb76a')\"\n",
              "            title=\"Suggest charts\"\n",
              "            style=\"display:none;\">\n",
              "\n",
              "<svg xmlns=\"http://www.w3.org/2000/svg\" height=\"24px\"viewBox=\"0 0 24 24\"\n",
              "     width=\"24px\">\n",
              "    <g>\n",
              "        <path d=\"M19 3H5c-1.1 0-2 .9-2 2v14c0 1.1.9 2 2 2h14c1.1 0 2-.9 2-2V5c0-1.1-.9-2-2-2zM9 17H7v-7h2v7zm4 0h-2V7h2v10zm4 0h-2v-4h2v4z\"/>\n",
              "    </g>\n",
              "</svg>\n",
              "  </button>\n",
              "\n",
              "<style>\n",
              "  .colab-df-quickchart {\n",
              "      --bg-color: #E8F0FE;\n",
              "      --fill-color: #1967D2;\n",
              "      --hover-bg-color: #E2EBFA;\n",
              "      --hover-fill-color: #174EA6;\n",
              "      --disabled-fill-color: #AAA;\n",
              "      --disabled-bg-color: #DDD;\n",
              "  }\n",
              "\n",
              "  [theme=dark] .colab-df-quickchart {\n",
              "      --bg-color: #3B4455;\n",
              "      --fill-color: #D2E3FC;\n",
              "      --hover-bg-color: #434B5C;\n",
              "      --hover-fill-color: #FFFFFF;\n",
              "      --disabled-bg-color: #3B4455;\n",
              "      --disabled-fill-color: #666;\n",
              "  }\n",
              "\n",
              "  .colab-df-quickchart {\n",
              "    background-color: var(--bg-color);\n",
              "    border: none;\n",
              "    border-radius: 50%;\n",
              "    cursor: pointer;\n",
              "    display: none;\n",
              "    fill: var(--fill-color);\n",
              "    height: 32px;\n",
              "    padding: 0;\n",
              "    width: 32px;\n",
              "  }\n",
              "\n",
              "  .colab-df-quickchart:hover {\n",
              "    background-color: var(--hover-bg-color);\n",
              "    box-shadow: 0 1px 2px rgba(60, 64, 67, 0.3), 0 1px 3px 1px rgba(60, 64, 67, 0.15);\n",
              "    fill: var(--button-hover-fill-color);\n",
              "  }\n",
              "\n",
              "  .colab-df-quickchart-complete:disabled,\n",
              "  .colab-df-quickchart-complete:disabled:hover {\n",
              "    background-color: var(--disabled-bg-color);\n",
              "    fill: var(--disabled-fill-color);\n",
              "    box-shadow: none;\n",
              "  }\n",
              "\n",
              "  .colab-df-spinner {\n",
              "    border: 2px solid var(--fill-color);\n",
              "    border-color: transparent;\n",
              "    border-bottom-color: var(--fill-color);\n",
              "    animation:\n",
              "      spin 1s steps(1) infinite;\n",
              "  }\n",
              "\n",
              "  @keyframes spin {\n",
              "    0% {\n",
              "      border-color: transparent;\n",
              "      border-bottom-color: var(--fill-color);\n",
              "      border-left-color: var(--fill-color);\n",
              "    }\n",
              "    20% {\n",
              "      border-color: transparent;\n",
              "      border-left-color: var(--fill-color);\n",
              "      border-top-color: var(--fill-color);\n",
              "    }\n",
              "    30% {\n",
              "      border-color: transparent;\n",
              "      border-left-color: var(--fill-color);\n",
              "      border-top-color: var(--fill-color);\n",
              "      border-right-color: var(--fill-color);\n",
              "    }\n",
              "    40% {\n",
              "      border-color: transparent;\n",
              "      border-right-color: var(--fill-color);\n",
              "      border-top-color: var(--fill-color);\n",
              "    }\n",
              "    60% {\n",
              "      border-color: transparent;\n",
              "      border-right-color: var(--fill-color);\n",
              "    }\n",
              "    80% {\n",
              "      border-color: transparent;\n",
              "      border-right-color: var(--fill-color);\n",
              "      border-bottom-color: var(--fill-color);\n",
              "    }\n",
              "    90% {\n",
              "      border-color: transparent;\n",
              "      border-bottom-color: var(--fill-color);\n",
              "    }\n",
              "  }\n",
              "</style>\n",
              "\n",
              "  <script>\n",
              "    async function quickchart(key) {\n",
              "      const quickchartButtonEl =\n",
              "        document.querySelector('#' + key + ' button');\n",
              "      quickchartButtonEl.disabled = true;  // To prevent multiple clicks.\n",
              "      quickchartButtonEl.classList.add('colab-df-spinner');\n",
              "      try {\n",
              "        const charts = await google.colab.kernel.invokeFunction(\n",
              "            'suggestCharts', [key], {});\n",
              "      } catch (error) {\n",
              "        console.error('Error during call to suggestCharts:', error);\n",
              "      }\n",
              "      quickchartButtonEl.classList.remove('colab-df-spinner');\n",
              "      quickchartButtonEl.classList.add('colab-df-quickchart-complete');\n",
              "    }\n",
              "    (() => {\n",
              "      let quickchartButtonEl =\n",
              "        document.querySelector('#df-ff676edb-036c-4b5f-b1ad-1668f09fb76a button');\n",
              "      quickchartButtonEl.style.display =\n",
              "        google.colab.kernel.accessAllowed ? 'block' : 'none';\n",
              "    })();\n",
              "  </script>\n",
              "</div>\n",
              "    </div>\n",
              "  </div>\n"
            ],
            "application/vnd.google.colaboratory.intrinsic+json": {
              "type": "dataframe",
              "summary": "{\n  \"name\": \"df1\",\n  \"rows\": 2,\n  \"fields\": [\n    {\n      \"column\": \"GSE\",\n      \"properties\": {\n        \"dtype\": \"number\",\n        \"std\": 0,\n        \"min\": 0,\n        \"max\": 1,\n        \"num_unique_values\": 2,\n        \"samples\": [\n          1,\n          0\n        ],\n        \"semantic_type\": \"\",\n        \"description\": \"\"\n      }\n    },\n    {\n      \"column\": \"REO\",\n      \"properties\": {\n        \"dtype\": \"number\",\n        \"std\": 31609,\n        \"min\": 286507,\n        \"max\": 331209,\n        \"num_unique_values\": 2,\n        \"samples\": [\n          331209,\n          286507\n        ],\n        \"semantic_type\": \"\",\n        \"description\": \"\"\n      }\n    },\n    {\n      \"column\": \"TPS\",\n      \"properties\": {\n        \"dtype\": \"number\",\n        \"std\": 34857,\n        \"min\": 30390,\n        \"max\": 79686,\n        \"num_unique_values\": 2,\n        \"samples\": [\n          30390,\n          79686\n        ],\n        \"semantic_type\": \"\",\n        \"description\": \"\"\n      }\n    },\n    {\n      \"column\": \"SS\",\n      \"properties\": {\n        \"dtype\": \"number\",\n        \"std\": 6938,\n        \"min\": 86871,\n        \"max\": 96683,\n        \"num_unique_values\": 2,\n        \"samples\": [\n          86871,\n          96683\n        ],\n        \"semantic_type\": \"\",\n        \"description\": \"\"\n      }\n    }\n  ]\n}"
            }
          },
          "metadata": {},
          "execution_count": 92
        }
      ]
    },
    {
      "cell_type": "code",
      "source": [
        "df1[['REO','TPS','SS']].sum()"
      ],
      "metadata": {
        "colab": {
          "base_uri": "https://localhost:8080/"
        },
        "id": "W8o4f4wO7QEx",
        "outputId": "4ffb1b07-fbc5-4e7c-f613-be16e355c07d"
      },
      "execution_count": null,
      "outputs": [
        {
          "output_type": "execute_result",
          "data": {
            "text/plain": [
              "REO    617716\n",
              "TPS    110076\n",
              "SS     183554\n",
              "dtype: int64"
            ]
          },
          "metadata": {},
          "execution_count": 95
        }
      ]
    },
    {
      "cell_type": "code",
      "source": [
        "df1.count()"
      ],
      "metadata": {
        "colab": {
          "base_uri": "https://localhost:8080/"
        },
        "id": "b4ZuD5pQ7rKE",
        "outputId": "785448af-dee8-44eb-943e-c957f652f46d"
      },
      "execution_count": null,
      "outputs": [
        {
          "output_type": "execute_result",
          "data": {
            "text/plain": [
              "Loan Sequence Number                                            911346\n",
              "Modification Flag                                                63405\n",
              "Metropolitan Statistical Area (MSA) Or Metropolitan Division    911346\n",
              "loan_age                                                        911346\n",
              "Prepayment Penalty Mortgage (PPM) Flag                          911344\n",
              "                                                                 ...  \n",
              "cltv_current2                                                   911346\n",
              "cltv_current3                                                   911346\n",
              "fico1                                                           911346\n",
              "fico2                                                           911346\n",
              "fico3                                                           911346\n",
              "Length: 243, dtype: int64"
            ]
          },
          "metadata": {},
          "execution_count": 96
        }
      ]
    },
    {
      "cell_type": "code",
      "source": [
        "df1.groupby('orig_year')[['REO','TPS','SS']].mean()*100"
      ],
      "metadata": {
        "colab": {
          "base_uri": "https://localhost:8080/",
          "height": 762
        },
        "id": "Ac5Cmz4rvMBG",
        "outputId": "80873cee-1ba7-45be-fd07-2fce4589134e"
      },
      "execution_count": null,
      "outputs": [
        {
          "output_type": "execute_result",
          "data": {
            "text/plain": [
              "            REO   TPS    SS\n",
              "orig_year                  \n",
              "1999      71.45 23.11  5.44\n",
              "2000      85.45  9.28  5.27\n",
              "2001      83.68  9.71  6.61\n",
              "2002      81.37 10.86  7.77\n",
              "2003      75.30 13.49 11.21\n",
              "2004      71.74 12.73 15.53\n",
              "2005      63.76 12.18 24.06\n",
              "2006      63.53 10.46 26.01\n",
              "2007      64.15  9.84 26.02\n",
              "2008      64.65  9.76 25.59\n",
              "2009      63.60 14.16 22.23\n",
              "2010      64.31 20.75 14.94\n",
              "2011      64.17 25.07 10.76\n",
              "2012      61.89 29.46  8.65\n",
              "2013      56.14 35.37  8.49\n",
              "2014      57.33 34.54  8.13\n",
              "2015      52.77 38.99  8.23\n",
              "2016      48.03 43.51  8.46\n",
              "2017      48.36 42.27  9.37\n",
              "2018      44.61 45.55  9.84\n",
              "2019      44.93 44.62 10.46\n",
              "2020      45.30 49.57  5.13"
            ],
            "text/html": [
              "\n",
              "  <div id=\"df-703f0b8e-f12a-48d1-b479-625dbcd9c376\" class=\"colab-df-container\">\n",
              "    <div>\n",
              "<style scoped>\n",
              "    .dataframe tbody tr th:only-of-type {\n",
              "        vertical-align: middle;\n",
              "    }\n",
              "\n",
              "    .dataframe tbody tr th {\n",
              "        vertical-align: top;\n",
              "    }\n",
              "\n",
              "    .dataframe thead th {\n",
              "        text-align: right;\n",
              "    }\n",
              "</style>\n",
              "<table border=\"1\" class=\"dataframe\">\n",
              "  <thead>\n",
              "    <tr style=\"text-align: right;\">\n",
              "      <th></th>\n",
              "      <th>REO</th>\n",
              "      <th>TPS</th>\n",
              "      <th>SS</th>\n",
              "    </tr>\n",
              "    <tr>\n",
              "      <th>orig_year</th>\n",
              "      <th></th>\n",
              "      <th></th>\n",
              "      <th></th>\n",
              "    </tr>\n",
              "  </thead>\n",
              "  <tbody>\n",
              "    <tr>\n",
              "      <th>1999</th>\n",
              "      <td>71.45</td>\n",
              "      <td>23.11</td>\n",
              "      <td>5.44</td>\n",
              "    </tr>\n",
              "    <tr>\n",
              "      <th>2000</th>\n",
              "      <td>85.45</td>\n",
              "      <td>9.28</td>\n",
              "      <td>5.27</td>\n",
              "    </tr>\n",
              "    <tr>\n",
              "      <th>2001</th>\n",
              "      <td>83.68</td>\n",
              "      <td>9.71</td>\n",
              "      <td>6.61</td>\n",
              "    </tr>\n",
              "    <tr>\n",
              "      <th>2002</th>\n",
              "      <td>81.37</td>\n",
              "      <td>10.86</td>\n",
              "      <td>7.77</td>\n",
              "    </tr>\n",
              "    <tr>\n",
              "      <th>2003</th>\n",
              "      <td>75.30</td>\n",
              "      <td>13.49</td>\n",
              "      <td>11.21</td>\n",
              "    </tr>\n",
              "    <tr>\n",
              "      <th>2004</th>\n",
              "      <td>71.74</td>\n",
              "      <td>12.73</td>\n",
              "      <td>15.53</td>\n",
              "    </tr>\n",
              "    <tr>\n",
              "      <th>2005</th>\n",
              "      <td>63.76</td>\n",
              "      <td>12.18</td>\n",
              "      <td>24.06</td>\n",
              "    </tr>\n",
              "    <tr>\n",
              "      <th>2006</th>\n",
              "      <td>63.53</td>\n",
              "      <td>10.46</td>\n",
              "      <td>26.01</td>\n",
              "    </tr>\n",
              "    <tr>\n",
              "      <th>2007</th>\n",
              "      <td>64.15</td>\n",
              "      <td>9.84</td>\n",
              "      <td>26.02</td>\n",
              "    </tr>\n",
              "    <tr>\n",
              "      <th>2008</th>\n",
              "      <td>64.65</td>\n",
              "      <td>9.76</td>\n",
              "      <td>25.59</td>\n",
              "    </tr>\n",
              "    <tr>\n",
              "      <th>2009</th>\n",
              "      <td>63.60</td>\n",
              "      <td>14.16</td>\n",
              "      <td>22.23</td>\n",
              "    </tr>\n",
              "    <tr>\n",
              "      <th>2010</th>\n",
              "      <td>64.31</td>\n",
              "      <td>20.75</td>\n",
              "      <td>14.94</td>\n",
              "    </tr>\n",
              "    <tr>\n",
              "      <th>2011</th>\n",
              "      <td>64.17</td>\n",
              "      <td>25.07</td>\n",
              "      <td>10.76</td>\n",
              "    </tr>\n",
              "    <tr>\n",
              "      <th>2012</th>\n",
              "      <td>61.89</td>\n",
              "      <td>29.46</td>\n",
              "      <td>8.65</td>\n",
              "    </tr>\n",
              "    <tr>\n",
              "      <th>2013</th>\n",
              "      <td>56.14</td>\n",
              "      <td>35.37</td>\n",
              "      <td>8.49</td>\n",
              "    </tr>\n",
              "    <tr>\n",
              "      <th>2014</th>\n",
              "      <td>57.33</td>\n",
              "      <td>34.54</td>\n",
              "      <td>8.13</td>\n",
              "    </tr>\n",
              "    <tr>\n",
              "      <th>2015</th>\n",
              "      <td>52.77</td>\n",
              "      <td>38.99</td>\n",
              "      <td>8.23</td>\n",
              "    </tr>\n",
              "    <tr>\n",
              "      <th>2016</th>\n",
              "      <td>48.03</td>\n",
              "      <td>43.51</td>\n",
              "      <td>8.46</td>\n",
              "    </tr>\n",
              "    <tr>\n",
              "      <th>2017</th>\n",
              "      <td>48.36</td>\n",
              "      <td>42.27</td>\n",
              "      <td>9.37</td>\n",
              "    </tr>\n",
              "    <tr>\n",
              "      <th>2018</th>\n",
              "      <td>44.61</td>\n",
              "      <td>45.55</td>\n",
              "      <td>9.84</td>\n",
              "    </tr>\n",
              "    <tr>\n",
              "      <th>2019</th>\n",
              "      <td>44.93</td>\n",
              "      <td>44.62</td>\n",
              "      <td>10.46</td>\n",
              "    </tr>\n",
              "    <tr>\n",
              "      <th>2020</th>\n",
              "      <td>45.30</td>\n",
              "      <td>49.57</td>\n",
              "      <td>5.13</td>\n",
              "    </tr>\n",
              "  </tbody>\n",
              "</table>\n",
              "</div>\n",
              "    <div class=\"colab-df-buttons\">\n",
              "\n",
              "  <div class=\"colab-df-container\">\n",
              "    <button class=\"colab-df-convert\" onclick=\"convertToInteractive('df-703f0b8e-f12a-48d1-b479-625dbcd9c376')\"\n",
              "            title=\"Convert this dataframe to an interactive table.\"\n",
              "            style=\"display:none;\">\n",
              "\n",
              "  <svg xmlns=\"http://www.w3.org/2000/svg\" height=\"24px\" viewBox=\"0 -960 960 960\">\n",
              "    <path d=\"M120-120v-720h720v720H120Zm60-500h600v-160H180v160Zm220 220h160v-160H400v160Zm0 220h160v-160H400v160ZM180-400h160v-160H180v160Zm440 0h160v-160H620v160ZM180-180h160v-160H180v160Zm440 0h160v-160H620v160Z\"/>\n",
              "  </svg>\n",
              "    </button>\n",
              "\n",
              "  <style>\n",
              "    .colab-df-container {\n",
              "      display:flex;\n",
              "      gap: 12px;\n",
              "    }\n",
              "\n",
              "    .colab-df-convert {\n",
              "      background-color: #E8F0FE;\n",
              "      border: none;\n",
              "      border-radius: 50%;\n",
              "      cursor: pointer;\n",
              "      display: none;\n",
              "      fill: #1967D2;\n",
              "      height: 32px;\n",
              "      padding: 0 0 0 0;\n",
              "      width: 32px;\n",
              "    }\n",
              "\n",
              "    .colab-df-convert:hover {\n",
              "      background-color: #E2EBFA;\n",
              "      box-shadow: 0px 1px 2px rgba(60, 64, 67, 0.3), 0px 1px 3px 1px rgba(60, 64, 67, 0.15);\n",
              "      fill: #174EA6;\n",
              "    }\n",
              "\n",
              "    .colab-df-buttons div {\n",
              "      margin-bottom: 4px;\n",
              "    }\n",
              "\n",
              "    [theme=dark] .colab-df-convert {\n",
              "      background-color: #3B4455;\n",
              "      fill: #D2E3FC;\n",
              "    }\n",
              "\n",
              "    [theme=dark] .colab-df-convert:hover {\n",
              "      background-color: #434B5C;\n",
              "      box-shadow: 0px 1px 3px 1px rgba(0, 0, 0, 0.15);\n",
              "      filter: drop-shadow(0px 1px 2px rgba(0, 0, 0, 0.3));\n",
              "      fill: #FFFFFF;\n",
              "    }\n",
              "  </style>\n",
              "\n",
              "    <script>\n",
              "      const buttonEl =\n",
              "        document.querySelector('#df-703f0b8e-f12a-48d1-b479-625dbcd9c376 button.colab-df-convert');\n",
              "      buttonEl.style.display =\n",
              "        google.colab.kernel.accessAllowed ? 'block' : 'none';\n",
              "\n",
              "      async function convertToInteractive(key) {\n",
              "        const element = document.querySelector('#df-703f0b8e-f12a-48d1-b479-625dbcd9c376');\n",
              "        const dataTable =\n",
              "          await google.colab.kernel.invokeFunction('convertToInteractive',\n",
              "                                                    [key], {});\n",
              "        if (!dataTable) return;\n",
              "\n",
              "        const docLinkHtml = 'Like what you see? Visit the ' +\n",
              "          '<a target=\"_blank\" href=https://colab.research.google.com/notebooks/data_table.ipynb>data table notebook</a>'\n",
              "          + ' to learn more about interactive tables.';\n",
              "        element.innerHTML = '';\n",
              "        dataTable['output_type'] = 'display_data';\n",
              "        await google.colab.output.renderOutput(dataTable, element);\n",
              "        const docLink = document.createElement('div');\n",
              "        docLink.innerHTML = docLinkHtml;\n",
              "        element.appendChild(docLink);\n",
              "      }\n",
              "    </script>\n",
              "  </div>\n",
              "\n",
              "\n",
              "<div id=\"df-786f3744-cea9-43c0-b4fe-ead080c83e43\">\n",
              "  <button class=\"colab-df-quickchart\" onclick=\"quickchart('df-786f3744-cea9-43c0-b4fe-ead080c83e43')\"\n",
              "            title=\"Suggest charts\"\n",
              "            style=\"display:none;\">\n",
              "\n",
              "<svg xmlns=\"http://www.w3.org/2000/svg\" height=\"24px\"viewBox=\"0 0 24 24\"\n",
              "     width=\"24px\">\n",
              "    <g>\n",
              "        <path d=\"M19 3H5c-1.1 0-2 .9-2 2v14c0 1.1.9 2 2 2h14c1.1 0 2-.9 2-2V5c0-1.1-.9-2-2-2zM9 17H7v-7h2v7zm4 0h-2V7h2v10zm4 0h-2v-4h2v4z\"/>\n",
              "    </g>\n",
              "</svg>\n",
              "  </button>\n",
              "\n",
              "<style>\n",
              "  .colab-df-quickchart {\n",
              "      --bg-color: #E8F0FE;\n",
              "      --fill-color: #1967D2;\n",
              "      --hover-bg-color: #E2EBFA;\n",
              "      --hover-fill-color: #174EA6;\n",
              "      --disabled-fill-color: #AAA;\n",
              "      --disabled-bg-color: #DDD;\n",
              "  }\n",
              "\n",
              "  [theme=dark] .colab-df-quickchart {\n",
              "      --bg-color: #3B4455;\n",
              "      --fill-color: #D2E3FC;\n",
              "      --hover-bg-color: #434B5C;\n",
              "      --hover-fill-color: #FFFFFF;\n",
              "      --disabled-bg-color: #3B4455;\n",
              "      --disabled-fill-color: #666;\n",
              "  }\n",
              "\n",
              "  .colab-df-quickchart {\n",
              "    background-color: var(--bg-color);\n",
              "    border: none;\n",
              "    border-radius: 50%;\n",
              "    cursor: pointer;\n",
              "    display: none;\n",
              "    fill: var(--fill-color);\n",
              "    height: 32px;\n",
              "    padding: 0;\n",
              "    width: 32px;\n",
              "  }\n",
              "\n",
              "  .colab-df-quickchart:hover {\n",
              "    background-color: var(--hover-bg-color);\n",
              "    box-shadow: 0 1px 2px rgba(60, 64, 67, 0.3), 0 1px 3px 1px rgba(60, 64, 67, 0.15);\n",
              "    fill: var(--button-hover-fill-color);\n",
              "  }\n",
              "\n",
              "  .colab-df-quickchart-complete:disabled,\n",
              "  .colab-df-quickchart-complete:disabled:hover {\n",
              "    background-color: var(--disabled-bg-color);\n",
              "    fill: var(--disabled-fill-color);\n",
              "    box-shadow: none;\n",
              "  }\n",
              "\n",
              "  .colab-df-spinner {\n",
              "    border: 2px solid var(--fill-color);\n",
              "    border-color: transparent;\n",
              "    border-bottom-color: var(--fill-color);\n",
              "    animation:\n",
              "      spin 1s steps(1) infinite;\n",
              "  }\n",
              "\n",
              "  @keyframes spin {\n",
              "    0% {\n",
              "      border-color: transparent;\n",
              "      border-bottom-color: var(--fill-color);\n",
              "      border-left-color: var(--fill-color);\n",
              "    }\n",
              "    20% {\n",
              "      border-color: transparent;\n",
              "      border-left-color: var(--fill-color);\n",
              "      border-top-color: var(--fill-color);\n",
              "    }\n",
              "    30% {\n",
              "      border-color: transparent;\n",
              "      border-left-color: var(--fill-color);\n",
              "      border-top-color: var(--fill-color);\n",
              "      border-right-color: var(--fill-color);\n",
              "    }\n",
              "    40% {\n",
              "      border-color: transparent;\n",
              "      border-right-color: var(--fill-color);\n",
              "      border-top-color: var(--fill-color);\n",
              "    }\n",
              "    60% {\n",
              "      border-color: transparent;\n",
              "      border-right-color: var(--fill-color);\n",
              "    }\n",
              "    80% {\n",
              "      border-color: transparent;\n",
              "      border-right-color: var(--fill-color);\n",
              "      border-bottom-color: var(--fill-color);\n",
              "    }\n",
              "    90% {\n",
              "      border-color: transparent;\n",
              "      border-bottom-color: var(--fill-color);\n",
              "    }\n",
              "  }\n",
              "</style>\n",
              "\n",
              "  <script>\n",
              "    async function quickchart(key) {\n",
              "      const quickchartButtonEl =\n",
              "        document.querySelector('#' + key + ' button');\n",
              "      quickchartButtonEl.disabled = true;  // To prevent multiple clicks.\n",
              "      quickchartButtonEl.classList.add('colab-df-spinner');\n",
              "      try {\n",
              "        const charts = await google.colab.kernel.invokeFunction(\n",
              "            'suggestCharts', [key], {});\n",
              "      } catch (error) {\n",
              "        console.error('Error during call to suggestCharts:', error);\n",
              "      }\n",
              "      quickchartButtonEl.classList.remove('colab-df-spinner');\n",
              "      quickchartButtonEl.classList.add('colab-df-quickchart-complete');\n",
              "    }\n",
              "    (() => {\n",
              "      let quickchartButtonEl =\n",
              "        document.querySelector('#df-786f3744-cea9-43c0-b4fe-ead080c83e43 button');\n",
              "      quickchartButtonEl.style.display =\n",
              "        google.colab.kernel.accessAllowed ? 'block' : 'none';\n",
              "    })();\n",
              "  </script>\n",
              "</div>\n",
              "    </div>\n",
              "  </div>\n"
            ],
            "application/vnd.google.colaboratory.intrinsic+json": {
              "type": "dataframe",
              "summary": "{\n  \"name\": \"df1\",\n  \"rows\": 22,\n  \"fields\": [\n    {\n      \"column\": \"orig_year\",\n      \"properties\": {\n        \"dtype\": \"number\",\n        \"std\": 6,\n        \"min\": 1999,\n        \"max\": 2020,\n        \"num_unique_values\": 22,\n        \"samples\": [\n          1999,\n          2012,\n          2007\n        ],\n        \"semantic_type\": \"\",\n        \"description\": \"\"\n      }\n    },\n    {\n      \"column\": \"REO\",\n      \"properties\": {\n        \"dtype\": \"number\",\n        \"std\": 12.294047173360463,\n        \"min\": 44.609297725024724,\n        \"max\": 85.44988088693421,\n        \"num_unique_values\": 22,\n        \"samples\": [\n          71.44984432110464,\n          61.88568376068376,\n          64.14542535195115\n        ],\n        \"semantic_type\": \"\",\n        \"description\": \"\"\n      }\n    },\n    {\n      \"column\": \"TPS\",\n      \"properties\": {\n        \"dtype\": \"number\",\n        \"std\": 14.484584926327342,\n        \"min\": 9.281656587868792,\n        \"max\": 49.572649572649574,\n        \"num_unique_values\": 22,\n        \"samples\": [\n          23.108162989034792,\n          29.460470085470085,\n          9.838002121742122\n        ],\n        \"semantic_type\": \"\",\n        \"description\": \"\"\n      }\n    },\n    {\n      \"column\": \"SS\",\n      \"properties\": {\n        \"dtype\": \"number\",\n        \"std\": 7.248272749416398,\n        \"min\": 5.128205128205128,\n        \"max\": 26.016572526306735,\n        \"num_unique_values\": 22,\n        \"samples\": [\n          5.441992689860566,\n          8.653846153846153,\n          26.016572526306735\n        ],\n        \"semantic_type\": \"\",\n        \"description\": \"\"\n      }\n    }\n  ]\n}"
            }
          },
          "metadata": {},
          "execution_count": 63
        }
      ]
    },
    {
      "cell_type": "markdown",
      "source": [
        "## Helper functions"
      ],
      "metadata": {
        "id": "Pt0mdobcEzfk"
      }
    },
    {
      "cell_type": "code",
      "source": [
        "def plot_roc_auc(y_true,y_pred,x=False):\n",
        "  # Compute ROC curve and ROC area for each class\n",
        "  fpr, tpr, _ = roc_curve(y_true, y_pred)\n",
        "  roc_auc = auc(fpr, tpr)*100\n",
        "  print(f\"The area under curve is {roc_auc:0.2f}%\")\n",
        "  if(x):\n",
        "    # Plot ROC curves\n",
        "    plt.figure()\n",
        "    plt.plot(fpr, tpr, label=f'ROC curve (area = {roc_auc:0.2f})')\n",
        "    plt.plot([0, 1], [0, 1], 'k--')\n",
        "    plt.xlim([0.0, 1.0])\n",
        "    plt.ylim([0.0, 1.05])\n",
        "    plt.xlabel('False Positive Rate')\n",
        "    plt.ylabel('True Positive Rate')\n",
        "    plt.title('Receiver Operating Characteristic')\n",
        "    plt.legend(loc=\"lower right\")\n",
        "    plt.show()\n",
        "  return"
      ],
      "metadata": {
        "id": "eTWBSA5xy9V_"
      },
      "execution_count": null,
      "outputs": []
    },
    {
      "cell_type": "code",
      "source": [
        "def evaluate_ks(y_true,y_pred):\n",
        "  # Unite both visions to be able to filter\n",
        "  df = pd.DataFrame()\n",
        "  df['true'] = y_true\n",
        "  df['pred'] = y_pred\n",
        "\n",
        "  class0 = df[df['true'] == 0]\n",
        "  class1 = df[df['true'] == 1]\n",
        "\n",
        "  ks = ks_2samp(class0['pred'], class1['pred'])\n",
        "\n",
        "  print(f\"KS between class1 and others: {ks.statistic:.4f} (p-value: {ks.pvalue:.3e})\")\n",
        "  return"
      ],
      "metadata": {
        "id": "Duym-YPNzAbI"
      },
      "execution_count": null,
      "outputs": []
    },
    {
      "cell_type": "code",
      "source": [
        "def printres(Res1,x=False):\n",
        "  plot_roc_auc(Res1[2],Res1[4],x)\n",
        "  plot_roc_auc(Res1[3],Res1[5],x)\n",
        "  evaluate_ks(Res1[2],Res1[4])\n",
        "  evaluate_ks(Res1[3],Res1[5])"
      ],
      "metadata": {
        "id": "pXTBGG1h0lO2"
      },
      "execution_count": null,
      "outputs": []
    },
    {
      "cell_type": "code",
      "source": [
        "def Runnestedlogit(varlist,varlist2,df):\n",
        "  df2 = df[varlist]\n",
        "  df2 = df2.dropna()\n",
        "  TPS = df2.pop('TPS')\n",
        "  REO = df2.pop('REO')\n",
        "  SS  = df2.pop('SS')\n",
        "\n",
        "  df3  = df[varlist2]\n",
        "  df3  = df3.dropna()\n",
        "  TPS  = df3.pop('TPS')\n",
        "  REO  = df3.pop('REO')\n",
        "  SS2  = df3.pop('SS')\n",
        "  REO2 = REO[SS==0]\n",
        "  TPS2 = TPS[SS==0]\n",
        "  df3  = df3[SS==0]\n",
        "\n",
        "  SSlogit = sm.Logit(SS, sm.add_constant(df2)).fit()\n",
        "  #print(TPSlogit.summary())\n",
        "  SSlogit_pred = SSlogit.predict(sm.add_constant(df2))\n",
        "\n",
        "\n",
        "  TPS2logit = sm.Logit(TPS2, sm.add_constant(df3)).fit()\n",
        "  #print(REO2logit.summary())\n",
        "  TPS2logit_pred = TPS2logit.predict(sm.add_constant(df3))\n",
        "\n",
        "  return SSlogit,TPS2logit,SS,TPS2,SSlogit_pred,TPS2logit_pred"
      ],
      "metadata": {
        "id": "0I3GFZ-tyDsX"
      },
      "execution_count": null,
      "outputs": []
    },
    {
      "cell_type": "markdown",
      "source": [
        "WHERE WE BELIEVE CLIMATE HAS EFFECT ON PROBABILITY AND LOSS. WE BELIEVE FURTHER H. WE RECOMMEND THAT THE FHFA PROVIDE MORE GRANULAR DATA FOR GSE. WE FIND THERE IS A GSE EFFECT THIS COULD BE DUE TO ISUUES RELATED TO THE PROCESSESS USED TO DETEREMINE"
      ],
      "metadata": {
        "id": "5S9SVRYwpemQ"
      }
    },
    {
      "cell_type": "markdown",
      "source": [
        "SO WHATS\n",
        "DISSASTER DECLARTION IS ALSO SIGNIFICANT MORE INVEST NEEEDED BUT"
      ],
      "metadata": {
        "id": "ptpg7QFGqMhL"
      }
    },
    {
      "cell_type": "markdown",
      "source": [
        "BY UNDERSTANDING THE EMPERICAL IMPACT OF NATURAL DISASTERSS ON LOSS WILL HELP FANNIE AND FREDDIE"
      ],
      "metadata": {
        "id": "g9UnscJip-Qp"
      }
    },
    {
      "cell_type": "markdown",
      "source": [
        "# Hide"
      ],
      "metadata": {
        "id": "-F5qkprVQIQm"
      }
    },
    {
      "cell_type": "markdown",
      "source": [
        "## Experiments\n"
      ],
      "metadata": {
        "id": "xZ2o-j3Pmfmx"
      }
    },
    {
      "cell_type": "code",
      "source": [
        "var1 = ['cltv_current',\n",
        "    'loansize',\n",
        "    'hpat2y',\n",
        "    'dur_def_episode',\n",
        "    'mr_sprd',\n",
        "    'judicial',\n",
        "    'deficiency',\n",
        "    'refinance',\n",
        "    'flag_24',\n",
        "    'noowner_occ',\n",
        "    'proptype_CP',\n",
        "    'proptype_MH',\n",
        "    'proptype_PU',\n",
        "    'proptype_SF',\n",
        "    'REO',\n",
        "    'TPS',\n",
        "    'SS'\n",
        "]\n",
        "Res1 = Runnestedlogit(var1,var1,df1)"
      ],
      "metadata": {
        "id": "7_uML4oj0Xjh",
        "colab": {
          "base_uri": "https://localhost:8080/"
        },
        "outputId": "83c6db6c-ad7e-4eef-e53c-31fa83d9d0f0"
      },
      "execution_count": null,
      "outputs": [
        {
          "output_type": "stream",
          "name": "stdout",
          "text": [
            "Optimization terminated successfully.\n",
            "         Current function value: 0.345723\n",
            "         Iterations 7\n",
            "Optimization terminated successfully.\n",
            "         Current function value: 0.451507\n",
            "         Iterations 7\n"
          ]
        }
      ]
    },
    {
      "cell_type": "code",
      "source": [
        "printres(Res1)"
      ],
      "metadata": {
        "colab": {
          "base_uri": "https://localhost:8080/"
        },
        "id": "g2ZyQRVQpZ7X",
        "outputId": "822716ae-ff1b-4fae-d08b-baa49995e129"
      },
      "execution_count": null,
      "outputs": [
        {
          "output_type": "stream",
          "name": "stdout",
          "text": [
            "0.6781313999042781\n",
            "0.775275038154926\n",
            "KS between class1 and others: 0.2740 (p-value: 0.000e+00)\n",
            "KS between class1 and others: 0.4344 (p-value: 0.000e+00)\n"
          ]
        }
      ]
    },
    {
      "cell_type": "code",
      "source": [
        "var1 = ['cltv_current2',\n",
        "    'cltv_current3',\n",
        "    'fico2',\n",
        "    'fico3',\n",
        "    'loansize',\n",
        "    'hpat2y',\n",
        "    'dur_def_episode',\n",
        "    'mr_sprd',\n",
        "    'judicial',\n",
        "    'deficiency',\n",
        "    'refinance',\n",
        "    'flag_24',\n",
        "    'noowner_occ',\n",
        "    'proptype_CP',\n",
        "    'proptype_MH',\n",
        "    'proptype_PU',\n",
        "    'proptype_SF',\n",
        "    'REO',\n",
        "    'TPS',\n",
        "    'SS'\n",
        "]\n",
        "Res1 = Runnestedlogit(var1,var1,df1)"
      ],
      "metadata": {
        "colab": {
          "base_uri": "https://localhost:8080/"
        },
        "id": "fYfhRGBZo5Ye",
        "outputId": "c71a3cab-893b-496f-8cea-8426ddf50909"
      },
      "execution_count": null,
      "outputs": [
        {
          "output_type": "stream",
          "name": "stdout",
          "text": [
            "Optimization terminated successfully.\n",
            "         Current function value: 0.343819\n",
            "         Iterations 7\n",
            "Optimization terminated successfully.\n",
            "         Current function value: 0.445498\n",
            "         Iterations 7\n"
          ]
        }
      ]
    },
    {
      "cell_type": "code",
      "source": [
        "printres(Res1)"
      ],
      "metadata": {
        "colab": {
          "base_uri": "https://localhost:8080/"
        },
        "id": "uLjyJjbaot_4",
        "outputId": "14f93c6c-ebef-4f08-9503-1e5abaac1a84"
      },
      "execution_count": null,
      "outputs": [
        {
          "output_type": "stream",
          "name": "stdout",
          "text": [
            "0.6873989585760109\n",
            "0.7796952818374072\n",
            "KS between class1 and others: 0.2824 (p-value: 0.000e+00)\n",
            "KS between class1 and others: 0.4362 (p-value: 0.000e+00)\n"
          ]
        }
      ]
    },
    {
      "cell_type": "code",
      "source": [
        "print(Res1[0].summary())"
      ],
      "metadata": {
        "colab": {
          "base_uri": "https://localhost:8080/"
        },
        "id": "64IuVwqzrCZx",
        "outputId": "2c66d374-e203-4309-9eb9-b03fafda45a9"
      },
      "execution_count": null,
      "outputs": [
        {
          "output_type": "stream",
          "name": "stdout",
          "text": [
            "                           Logit Regression Results                           \n",
            "==============================================================================\n",
            "Dep. Variable:                    TPS   No. Observations:               914867\n",
            "Model:                          Logit   Df Residuals:                   914849\n",
            "Method:                           MLE   Df Model:                           17\n",
            "Date:                Mon, 06 May 2024   Pseudo R-squ.:                 0.06655\n",
            "Time:                        20:50:58   Log-Likelihood:            -3.1455e+05\n",
            "converged:                       True   LL-Null:                   -3.3697e+05\n",
            "Covariance Type:            nonrobust   LLR p-value:                     0.000\n",
            "===================================================================================\n",
            "                      coef    std err          z      P>|z|      [0.025      0.975]\n",
            "-----------------------------------------------------------------------------------\n",
            "const              -6.0606      0.036   -168.839      0.000      -6.131      -5.990\n",
            "cltv_current2      -0.0210      0.000    -71.710      0.000      -0.022      -0.020\n",
            "cltv_current3       0.0193      0.000     65.826      0.000       0.019       0.020\n",
            "fico2               0.0029   8.74e-05     33.275      0.000       0.003       0.003\n",
            "fico3               0.0007      0.000      2.367      0.018       0.000       0.001\n",
            "loansize           -0.2333      0.006    -37.123      0.000      -0.246      -0.221\n",
            "hpat2y              3.4617      0.028    121.936      0.000       3.406       3.517\n",
            "dur_def_episode    -0.0024      0.000    -10.067      0.000      -0.003      -0.002\n",
            "mr_sprd             0.2573      0.003     98.984      0.000       0.252       0.262\n",
            "judicial           -0.2314      0.007    -32.215      0.000      -0.245      -0.217\n",
            "deficiency          0.3729      0.012     32.345      0.000       0.350       0.396\n",
            "refinance           0.0668      0.007      9.059      0.000       0.052       0.081\n",
            "flag_24             0.0207      0.022      0.960      0.337      -0.022       0.063\n",
            "noowner_occ        -0.4296      0.011    -38.700      0.000      -0.451      -0.408\n",
            "proptype_CP        -0.4221      0.093     -4.543      0.000      -0.604      -0.240\n",
            "proptype_MH        -0.6944      0.029    -24.117      0.000      -0.751      -0.638\n",
            "proptype_PU         0.2836      0.015     19.309      0.000       0.255       0.312\n",
            "proptype_SF        -0.0943      0.012     -7.757      0.000      -0.118      -0.070\n",
            "===================================================================================\n"
          ]
        }
      ]
    },
    {
      "cell_type": "code",
      "source": [
        "print(Res1[1].summary())"
      ],
      "metadata": {
        "colab": {
          "base_uri": "https://localhost:8080/"
        },
        "id": "zUKVRN_OrpRB",
        "outputId": "0ab8078c-404e-4c02-a954-8cab491afa2e"
      },
      "execution_count": null,
      "outputs": [
        {
          "output_type": "stream",
          "name": "stdout",
          "text": [
            "                           Logit Regression Results                           \n",
            "==============================================================================\n",
            "Dep. Variable:                    REO   No. Observations:               804436\n",
            "Model:                          Logit   Df Residuals:                   804418\n",
            "Method:                           MLE   Df Model:                           17\n",
            "Date:                Mon, 06 May 2024   Pseudo R-squ.:                  0.1716\n",
            "Time:                        20:53:28   Log-Likelihood:            -3.5837e+05\n",
            "converged:                       True   LL-Null:                   -4.3260e+05\n",
            "Covariance Type:            nonrobust   LLR p-value:                     0.000\n",
            "===================================================================================\n",
            "                      coef    std err          z      P>|z|      [0.025      0.975]\n",
            "-----------------------------------------------------------------------------------\n",
            "const               3.6683      0.031    118.932      0.000       3.608       3.729\n",
            "cltv_current2      -0.0404      0.000   -165.311      0.000      -0.041      -0.040\n",
            "cltv_current3      -0.0084      0.000    -35.722      0.000      -0.009      -0.008\n",
            "fico2              -0.0041   7.98e-05    -51.354      0.000      -0.004      -0.004\n",
            "fico3              -0.0034      0.000    -12.955      0.000      -0.004      -0.003\n",
            "loansize           -0.5114      0.005   -104.875      0.000      -0.521      -0.502\n",
            "hpat2y             -1.5653      0.025    -61.644      0.000      -1.615      -1.516\n",
            "dur_def_episode     0.0763      0.000    212.594      0.000       0.076       0.077\n",
            "mr_sprd            -0.2135      0.003    -83.788      0.000      -0.218      -0.208\n",
            "judicial           -0.7716      0.007   -117.507      0.000      -0.784      -0.759\n",
            "deficiency          0.1065      0.010     10.712      0.000       0.087       0.126\n",
            "refinance          -0.2849      0.007    -43.656      0.000      -0.298      -0.272\n",
            "flag_24            -0.4773      0.018    -26.612      0.000      -0.512      -0.442\n",
            "noowner_occ         0.1448      0.009     15.692      0.000       0.127       0.163\n",
            "proptype_CP         0.1674      0.079      2.122      0.034       0.013       0.322\n",
            "proptype_MH         1.1573      0.031     37.826      0.000       1.097       1.217\n",
            "proptype_PU         0.1092      0.012      9.125      0.000       0.086       0.133\n",
            "proptype_SF         0.4703      0.010     47.554      0.000       0.451       0.490\n",
            "===================================================================================\n"
          ]
        }
      ]
    },
    {
      "cell_type": "code",
      "source": [
        "exog = [\n",
        "    'cltv_current2',\n",
        "    'cltv_current3',\n",
        "    'loansize',\n",
        "    'hpat2y',\n",
        "    'loan_age',\n",
        "    'dur_def_episode',\n",
        "    #'fico1',\n",
        "    'fico2',\n",
        "    'fico3',\n",
        "    'mr_sprd',\n",
        "    'judicial',\n",
        "    'deficiency',\n",
        "    # 'refinance',\n",
        "    'flag_24',\n",
        "    'noowner_occ',\n",
        "    'proptype_CP',\n",
        "    'proptype_MH',\n",
        "    'proptype_PU',\n",
        "    'proptype_SF',\n",
        "    'GSE',\n",
        "    'prior_mod',\n",
        "    'Log Original UPB',\n",
        "    #'Pre2005',\n",
        "    'channel_C',\n",
        "    'channel_R',\n",
        "    # 'Zero Balance Removal UPB',\n",
        "    'Normal',\n",
        "    'Boom',\n",
        "    'Bust',\n",
        "    'PostCrisis',\n",
        "    'appreciation_factor',\n",
        "    'loanpurpose_N',\n",
        "    'loanpurpose_P',\n",
        "    'loanpurpose_C',\n",
        "    'TPS',\n",
        "    'SS',\n",
        "    'REO'\n",
        "]"
      ],
      "metadata": {
        "id": "QPqOsKK0odg-"
      },
      "execution_count": null,
      "outputs": []
    },
    {
      "cell_type": "code",
      "source": [
        "Res2 = Runnestedlogit(exog,exog,df1)"
      ],
      "metadata": {
        "colab": {
          "base_uri": "https://localhost:8080/"
        },
        "id": "otGBfXIjh4Vr",
        "outputId": "7ef649ed-bd47-4b40-f940-799ae9c1402f"
      },
      "execution_count": null,
      "outputs": [
        {
          "output_type": "stream",
          "name": "stderr",
          "text": [
            "/usr/local/lib/python3.10/dist-packages/scipy/optimize/_optimize.py:1360: OptimizeWarning: Maximum number of iterations has been exceeded.\n",
            "  res = _minimize_bfgs(f, x0, args, fprime, callback=callback, **opts)\n"
          ]
        },
        {
          "output_type": "stream",
          "name": "stdout",
          "text": [
            "         Current function value: 0.326090\n",
            "         Iterations: 35\n",
            "         Function evaluations: 42\n",
            "         Gradient evaluations: 42\n"
          ]
        },
        {
          "output_type": "stream",
          "name": "stderr",
          "text": [
            "/usr/local/lib/python3.10/dist-packages/statsmodels/base/model.py:595: HessianInversionWarning: Inverting hessian failed, no bse or cov_params available\n",
            "  warnings.warn('Inverting hessian failed, no bse or cov_params '\n",
            "/usr/local/lib/python3.10/dist-packages/statsmodels/base/model.py:607: ConvergenceWarning: Maximum Likelihood optimization failed to converge. Check mle_retvals\n",
            "  warnings.warn(\"Maximum Likelihood optimization failed to \"\n",
            "/usr/local/lib/python3.10/dist-packages/scipy/optimize/_optimize.py:1360: OptimizeWarning: Maximum number of iterations has been exceeded.\n",
            "  res = _minimize_bfgs(f, x0, args, fprime, callback=callback, **opts)\n"
          ]
        },
        {
          "output_type": "stream",
          "name": "stdout",
          "text": [
            "         Current function value: 0.431914\n",
            "         Iterations: 35\n",
            "         Function evaluations: 40\n",
            "         Gradient evaluations: 40\n"
          ]
        },
        {
          "output_type": "stream",
          "name": "stderr",
          "text": [
            "/usr/local/lib/python3.10/dist-packages/statsmodels/base/model.py:607: ConvergenceWarning: Maximum Likelihood optimization failed to converge. Check mle_retvals\n",
            "  warnings.warn(\"Maximum Likelihood optimization failed to \"\n"
          ]
        }
      ]
    },
    {
      "cell_type": "code",
      "source": [
        "printres(Res2)"
      ],
      "metadata": {
        "colab": {
          "base_uri": "https://localhost:8080/"
        },
        "id": "xqbdnXgOoMab",
        "outputId": "47d7e24c-9731-49f9-a565-40cdebb83e80"
      },
      "execution_count": null,
      "outputs": [
        {
          "output_type": "stream",
          "name": "stdout",
          "text": [
            "0.7440833499109785\n",
            "0.7995597488830891\n",
            "KS between class1 and others: 0.3605 (p-value: 0.000e+00)\n",
            "KS between class1 and others: 0.4681 (p-value: 0.000e+00)\n"
          ]
        }
      ]
    },
    {
      "cell_type": "code",
      "source": [
        "v2 = ['cltv_current',\n",
        "  'GSE',\n",
        "  'boom',\n",
        "  'crisis',\n",
        "  'bust',\n",
        "  'post',\n",
        "  'Current Interest Rate',\n",
        "  'appreciation_factor',\n",
        "  'hpat2y',\n",
        "  'dur_def_episode',\n",
        "  'creditscore',\n",
        "  'Loan Age',\n",
        "  'judicial',\n",
        "  'deficiency',\n",
        "  'refinance',\n",
        "  'flag_24',\n",
        "  'noowner_occ',\n",
        "  'proptype_CP',\n",
        "  'proptype_MH',\n",
        "  'proptype_PU',\n",
        "  'proptype_SF',\n",
        "  'log_UPB',\n",
        "  'TPS',\n",
        "  'SS',\n",
        "  'REO'\n",
        "          ]"
      ],
      "metadata": {
        "id": "IWbcZcKA9qyd"
      },
      "execution_count": null,
      "outputs": []
    },
    {
      "cell_type": "code",
      "source": [
        "Res2 = Runnestedlogit(v2,v2,df)\n",
        "printres(Res2)\n",
        "print(Res2[0].summary())"
      ],
      "metadata": {
        "colab": {
          "base_uri": "https://localhost:8080/"
        },
        "id": "zNTHSV1WA3kl",
        "outputId": "a044737f-4191-4b74-b2c0-ba7dbdde6de5"
      },
      "execution_count": null,
      "outputs": [
        {
          "output_type": "stream",
          "name": "stdout",
          "text": [
            "Optimization terminated successfully.\n",
            "         Current function value: 0.324414\n",
            "         Iterations 7\n",
            "Optimization terminated successfully.\n",
            "         Current function value: 0.415464\n",
            "         Iterations 7\n"
          ]
        }
      ]
    },
    {
      "cell_type": "code",
      "source": [
        "v3 = ['cltv_current',\n",
        "  'GSE',\n",
        "  'boom',\n",
        "  'crisis',\n",
        "  'bust',\n",
        "  'post',\n",
        "  'Current Interest Rate',\n",
        "  'RISK_SCORE',\n",
        "  'hpat2y',\n",
        "  'dur_def_episode',\n",
        "  'creditscore',\n",
        "  'Loan Age',\n",
        "  'judicial',\n",
        "  'deficiency',\n",
        "  'refinance',\n",
        "  'flag_24',\n",
        "  'noowner_occ',\n",
        "  'proptype_CP',\n",
        "  'proptype_MH',\n",
        "  'proptype_PU',\n",
        "  'proptype_SF',\n",
        "  'log_UPB',\n",
        "  'TPS',\n",
        "  'SS',\n",
        "  'REO'\n",
        "          ]"
      ],
      "metadata": {
        "id": "AwhOZZPpzFGP"
      },
      "execution_count": null,
      "outputs": []
    },
    {
      "cell_type": "code",
      "source": [
        "Res3 = Runnestedlogit(v3,v3,df)\n",
        "printres(Res3)\n",
        "print(Res3[0].summary())"
      ],
      "metadata": {
        "colab": {
          "base_uri": "https://localhost:8080/"
        },
        "id": "vNzlawArGEDT",
        "outputId": "6b0ea3a4-b888-4c75-81d6-fe568ec30649"
      },
      "execution_count": null,
      "outputs": [
        {
          "output_type": "stream",
          "name": "stdout",
          "text": [
            "Optimization terminated successfully.\n",
            "         Current function value: 0.321863\n",
            "         Iterations 7\n",
            "Optimization terminated successfully.\n",
            "         Current function value: 0.413496\n",
            "         Iterations 7\n",
            "0.7513375971529836\n",
            "0.817421130731751\n",
            "KS between class1 and others: 0.3705 (p-value: 0.000e+00)\n",
            "KS between class1 and others: 0.4933 (p-value: 0.000e+00)\n",
            "                           Logit Regression Results                           \n",
            "==============================================================================\n",
            "Dep. Variable:                    TPS   No. Observations:               939634\n",
            "Model:                          Logit   Df Residuals:                   939611\n",
            "Method:                           MLE   Df Model:                           22\n",
            "Date:                Thu, 02 May 2024   Pseudo R-squ.:                  0.1263\n",
            "Time:                        16:18:02   Log-Likelihood:            -3.0243e+05\n",
            "converged:                       True   LL-Null:                   -3.4616e+05\n",
            "Covariance Type:            nonrobust   LLR p-value:                     0.000\n",
            "=========================================================================================\n",
            "                            coef    std err          z      P>|z|      [0.025      0.975]\n",
            "-----------------------------------------------------------------------------------------\n",
            "const                    -5.0149      0.093    -54.002      0.000      -5.197      -4.833\n",
            "cltv_current             -0.0105      0.000    -60.828      0.000      -0.011      -0.010\n",
            "GSE                      -1.5084      0.010   -151.782      0.000      -1.528      -1.489\n",
            "boom                      0.1443      0.016      9.032      0.000       0.113       0.176\n",
            "crisis                    0.3818      0.016     23.467      0.000       0.350       0.414\n",
            "bust                      0.6650      0.020     33.509      0.000       0.626       0.704\n",
            "post                      2.1446      0.023     91.547      0.000       2.099       2.190\n",
            "Current Interest Rate    -0.1258      0.004    -32.909      0.000      -0.133      -0.118\n",
            "RISK_SCORE                0.0164      0.000     79.314      0.000       0.016       0.017\n",
            "hpat2y                    1.5578      0.031     50.935      0.000       1.498       1.618\n",
            "dur_def_episode          -0.0137      0.000    -53.622      0.000      -0.014      -0.013\n",
            "creditscore               0.0207      0.004      5.872      0.000       0.014       0.028\n",
            "Loan Age                  0.0130      0.000    120.751      0.000       0.013       0.013\n",
            "judicial                 -0.2623      0.007    -35.498      0.000      -0.277      -0.248\n",
            "deficiency                0.2489      0.012     20.875      0.000       0.226       0.272\n",
            "refinance                 0.0388      0.008      5.086      0.000       0.024       0.054\n",
            "flag_24                  -0.0561      0.022     -2.592      0.010      -0.099      -0.014\n",
            "noowner_occ              -0.1667      0.011    -14.681      0.000      -0.189      -0.144\n",
            "proptype_CP              -0.4380      0.094     -4.639      0.000      -0.623      -0.253\n",
            "proptype_MH              -0.3480      0.029    -11.800      0.000      -0.406      -0.290\n",
            "proptype_PU               0.2813      0.015     18.991      0.000       0.252       0.310\n",
            "proptype_SF               0.0171      0.012      1.380      0.168      -0.007       0.041\n",
            "log_UPB                   0.0908      0.007     13.177      0.000       0.077       0.104\n",
            "=========================================================================================\n"
          ]
        }
      ]
    },
    {
      "cell_type": "code",
      "source": [
        "Res4 = Runnestedlogit(v2+['RISK_SCORE'],v2+['RISK_SCORE'],df)\n",
        "printres(Res4)\n",
        "print(Res4[0].summary())"
      ],
      "metadata": {
        "colab": {
          "base_uri": "https://localhost:8080/"
        },
        "id": "wmXuX-2eG6Il",
        "outputId": "74cc4012-2b12-4354-98a8-f0936a8df96d"
      },
      "execution_count": null,
      "outputs": [
        {
          "output_type": "stream",
          "name": "stdout",
          "text": [
            "Optimization terminated successfully.\n",
            "         Current function value: 0.321462\n",
            "         Iterations 7\n",
            "Optimization terminated successfully.\n",
            "         Current function value: 0.410071\n",
            "         Iterations 7\n",
            "0.7520562109793015\n",
            "0.8217133213328653\n",
            "KS between class1 and others: 0.3700 (p-value: 0.000e+00)\n",
            "KS between class1 and others: 0.5005 (p-value: 0.000e+00)\n",
            "                           Logit Regression Results                           \n",
            "==============================================================================\n",
            "Dep. Variable:                    TPS   No. Observations:               939634\n",
            "Model:                          Logit   Df Residuals:                   939610\n",
            "Method:                           MLE   Df Model:                           23\n",
            "Date:                Thu, 02 May 2024   Pseudo R-squ.:                  0.1274\n",
            "Time:                        16:21:51   Log-Likelihood:            -3.0206e+05\n",
            "converged:                       True   LL-Null:                   -3.4616e+05\n",
            "Covariance Type:            nonrobust   LLR p-value:                     0.000\n",
            "=========================================================================================\n",
            "                            coef    std err          z      P>|z|      [0.025      0.975]\n",
            "-----------------------------------------------------------------------------------------\n",
            "const                    -5.9390      0.099    -59.830      0.000      -6.134      -5.744\n",
            "cltv_current             -0.0064      0.000    -28.028      0.000      -0.007      -0.006\n",
            "GSE                      -1.5260      0.010   -153.659      0.000      -1.546      -1.507\n",
            "boom                      0.2033      0.016     12.559      0.000       0.172       0.235\n",
            "crisis                    0.5025      0.017     29.663      0.000       0.469       0.536\n",
            "bust                      0.7451      0.020     36.989      0.000       0.706       0.785\n",
            "post                      2.1211      0.024     90.154      0.000       2.075       2.167\n",
            "Current Interest Rate    -0.1363      0.004    -35.709      0.000      -0.144      -0.129\n",
            "appreciation_factor       0.7028      0.026     27.319      0.000       0.652       0.753\n",
            "hpat2y                    1.3864      0.031     44.302      0.000       1.325       1.448\n",
            "dur_def_episode          -0.0136      0.000    -53.383      0.000      -0.014      -0.013\n",
            "creditscore               0.0224      0.004      6.337      0.000       0.015       0.029\n",
            "Loan Age                  0.0126      0.000    115.835      0.000       0.012       0.013\n",
            "judicial                 -0.2627      0.007    -35.542      0.000      -0.277      -0.248\n",
            "deficiency                0.2719      0.012     22.722      0.000       0.248       0.295\n",
            "refinance                 0.1009      0.008     12.681      0.000       0.085       0.117\n",
            "flag_24                  -0.0399      0.022     -1.839      0.066      -0.082       0.003\n",
            "noowner_occ              -0.1535      0.011    -13.491      0.000      -0.176      -0.131\n",
            "proptype_CP              -0.4613      0.095     -4.869      0.000      -0.647      -0.276\n",
            "proptype_MH              -0.3702      0.030    -12.489      0.000      -0.428      -0.312\n",
            "proptype_PU               0.2657      0.015     17.915      0.000       0.237       0.295\n",
            "proptype_SF               0.0101      0.012      0.815      0.415      -0.014       0.034\n",
            "log_UPB                   0.0865      0.007     12.527      0.000       0.073       0.100\n",
            "RISK_SCORE                0.0172      0.000     81.915      0.000       0.017       0.018\n",
            "=========================================================================================\n"
          ]
        }
      ]
    },
    {
      "cell_type": "code",
      "source": [
        "df['appreciation_factor'].corr(df['RISK_SCORE'])"
      ],
      "metadata": {
        "colab": {
          "base_uri": "https://localhost:8080/"
        },
        "id": "rsrQMiJvHPcy",
        "outputId": "772a31f6-209b-4f46-d9fc-75a8ddff7807"
      },
      "execution_count": null,
      "outputs": [
        {
          "output_type": "execute_result",
          "data": {
            "text/plain": [
              "-0.34499876709930044"
            ]
          },
          "metadata": {},
          "execution_count": 29
        }
      ]
    },
    {
      "cell_type": "code",
      "source": [
        "v4 = ['cltv_current2',\n",
        "    'cltv_current3',\n",
        "    'fico2',\n",
        "    'fico3',\n",
        "  'GSE',\n",
        "  'boom',\n",
        "  'crisis',\n",
        "  'bust',\n",
        "  'post',\n",
        "  'Current Interest Rate',\n",
        "  'appreciation_factor',\n",
        "  'hpat2y',\n",
        "  'dur_def_episode',\n",
        "  'loan_age',\n",
        "  'judicial',\n",
        "  'deficiency',\n",
        "  'refinance',\n",
        "  'flag_24',\n",
        "  'noowner_occ',\n",
        "  'proptype_CP',\n",
        "  'proptype_MH',\n",
        "  'proptype_PU',\n",
        "  'proptype_SF',\n",
        "  'log_UPB',\n",
        "  'TPS',\n",
        "  'SS',\n",
        "  'REO',\n",
        "      ]"
      ],
      "metadata": {
        "id": "oNBdROza_TMX"
      },
      "execution_count": null,
      "outputs": []
    },
    {
      "cell_type": "code",
      "source": [
        "for i in ['EAL_VALT','EAL_SCORE','RISK_VALUE','RISK_SCORE','RISK_RATNG','EAL_RATNG']:\n",
        "  Resi = Runnestedlogit(v4+[i],v4+[i],df)\n",
        "  print(i)\n",
        "  print(Resi[0].params[-1])\n",
        "  printres(Resi)"
      ],
      "metadata": {
        "colab": {
          "base_uri": "https://localhost:8080/"
        },
        "id": "ox4GvosLCzJ9",
        "outputId": "8eebfd6f-a625-4416-a73e-768e2f222170"
      },
      "execution_count": null,
      "outputs": [
        {
          "output_type": "stream",
          "name": "stdout",
          "text": [
            "Optimization terminated successfully.\n",
            "         Current function value: 0.308437\n",
            "         Iterations 8\n",
            "Optimization terminated successfully.\n",
            "         Current function value: 0.413546\n",
            "         Iterations 8\n",
            "EAL_VALT\n",
            "3.6166265526861125e-10\n",
            "0.7779779521841679\n",
            "0.818695272227675\n",
            "KS between class1 and others: 0.4170 (p-value: 0.000e+00)\n",
            "KS between class1 and others: 0.5004 (p-value: 0.000e+00)\n",
            "Optimization terminated successfully.\n",
            "         Current function value: 0.307471\n",
            "         Iterations 8\n",
            "Optimization terminated successfully.\n",
            "         Current function value: 0.409301\n",
            "         Iterations 8\n",
            "EAL_SCORE\n",
            "0.013737980034928595\n",
            "0.7788849448547102\n",
            "0.8228713597393292\n",
            "KS between class1 and others: 0.4201 (p-value: 0.000e+00)\n",
            "KS between class1 and others: 0.5022 (p-value: 0.000e+00)\n",
            "Optimization terminated successfully.\n",
            "         Current function value: 0.308460\n",
            "         Iterations 8\n",
            "Optimization terminated successfully.\n",
            "         Current function value: 0.413623\n",
            "         Iterations 8\n",
            "RISK_VALUE\n",
            "2.653416678486907e-10\n",
            "0.7779376549015552\n",
            "0.8186142304564441\n",
            "KS between class1 and others: 0.4169 (p-value: 0.000e+00)\n",
            "KS between class1 and others: 0.5002 (p-value: 0.000e+00)\n",
            "Optimization terminated successfully.\n",
            "         Current function value: 0.307373\n",
            "         Iterations 8\n",
            "Optimization terminated successfully.\n",
            "         Current function value: 0.409511\n",
            "         Iterations 8\n",
            "RISK_SCORE\n",
            "0.013988538947135636\n",
            "0.7790882351128074\n",
            "0.8226157969078779\n",
            "KS between class1 and others: 0.4206 (p-value: 0.000e+00)\n",
            "KS between class1 and others: 0.5021 (p-value: 0.000e+00)\n",
            "Optimization terminated successfully.\n",
            "         Current function value: 0.306914\n",
            "         Iterations 8\n",
            "Optimization terminated successfully.\n",
            "         Current function value: 0.410230\n",
            "         Iterations 8\n",
            "RISK_RATNG\n",
            "0.26731311814618613\n",
            "0.7805793651969788\n",
            "0.8219198290329212\n",
            "KS between class1 and others: 0.4213 (p-value: 0.000e+00)\n",
            "KS between class1 and others: 0.5035 (p-value: 0.000e+00)\n",
            "Optimization terminated successfully.\n",
            "         Current function value: 0.307023\n",
            "         Iterations 8\n",
            "Optimization terminated successfully.\n",
            "         Current function value: 0.410209\n",
            "         Iterations 8\n",
            "EAL_RATNG\n",
            "0.2589454231832756\n",
            "0.7802437009523181\n",
            "0.8219812694335784\n",
            "KS between class1 and others: 0.4208 (p-value: 0.000e+00)\n",
            "KS between class1 and others: 0.5037 (p-value: 0.000e+00)\n"
          ]
        }
      ]
    },
    {
      "cell_type": "code",
      "source": [
        "v5 = v4+ list(df.filter(regex='_RISK_SCORE').columns)"
      ],
      "metadata": {
        "id": "gelmWWO6RysG"
      },
      "execution_count": null,
      "outputs": []
    },
    {
      "cell_type": "code",
      "source": [
        "Resi = Runnestedlogit(v5,v5,df1)\n",
        "printres(Resi)"
      ],
      "metadata": {
        "colab": {
          "base_uri": "https://localhost:8080/"
        },
        "id": "KDfi1iwpqWKO",
        "outputId": "6eea25cb-9b43-4fb7-9dc6-c9b06bd0647a"
      },
      "execution_count": null,
      "outputs": [
        {
          "output_type": "stream",
          "name": "stdout",
          "text": [
            "Optimization terminated successfully.\n",
            "         Current function value: 0.319661\n",
            "         Iterations 7\n",
            "Optimization terminated successfully.\n",
            "         Current function value: 0.408591\n",
            "         Iterations 7\n",
            "0.7580999991667712\n",
            "0.822805575887162\n",
            "KS between class1 and others: 0.3823 (p-value: 0.000e+00)\n",
            "KS between class1 and others: 0.5024 (p-value: 0.000e+00)\n"
          ]
        }
      ]
    },
    {
      "cell_type": "code",
      "source": [
        "Resi = Runnestedlogit(v5,v5,df)\n",
        "printres(Resi)"
      ],
      "metadata": {
        "colab": {
          "base_uri": "https://localhost:8080/"
        },
        "id": "hGnQqMgaS1NX",
        "outputId": "d69e3c6a-cdfe-4f75-98a0-4bbe64ad6af8"
      },
      "execution_count": null,
      "outputs": [
        {
          "output_type": "stream",
          "name": "stdout",
          "text": [
            "Optimization terminated successfully.\n",
            "         Current function value: 0.321141\n",
            "         Iterations 7\n",
            "Optimization terminated successfully.\n",
            "         Current function value: 0.409702\n",
            "         Iterations 7\n",
            "0.753037722137174\n",
            "0.8220992545297232\n",
            "KS between class1 and others: 0.3715 (p-value: 0.000e+00)\n",
            "KS between class1 and others: 0.5008 (p-value: 0.000e+00)\n"
          ]
        }
      ]
    },
    {
      "cell_type": "code",
      "source": [
        "print(Resi[0].summary())"
      ],
      "metadata": {
        "colab": {
          "base_uri": "https://localhost:8080/"
        },
        "id": "cVo2-PMEVIhx",
        "outputId": "aa420f53-0c53-42ee-f221-3a63af7708e3"
      },
      "execution_count": null,
      "outputs": [
        {
          "output_type": "stream",
          "name": "stdout",
          "text": [
            "                           Logit Regression Results                           \n",
            "==============================================================================\n",
            "Dep. Variable:                    TPS   No. Observations:               939634\n",
            "Model:                          Logit   Df Residuals:                   939602\n",
            "Method:                           MLE   Df Model:                           31\n",
            "Date:                Thu, 02 May 2024   Pseudo R-squ.:                  0.1283\n",
            "Time:                        17:00:09   Log-Likelihood:            -3.0175e+05\n",
            "converged:                       True   LL-Null:                   -3.4616e+05\n",
            "Covariance Type:            nonrobust   LLR p-value:                     0.000\n",
            "=========================================================================================\n",
            "                            coef    std err          z      P>|z|      [0.025      0.975]\n",
            "-----------------------------------------------------------------------------------------\n",
            "const                    -5.8835      0.102    -57.488      0.000      -6.084      -5.683\n",
            "cltv_current             -0.0065      0.000    -28.457      0.000      -0.007      -0.006\n",
            "GSE                      -1.5259      0.010   -153.557      0.000      -1.545      -1.506\n",
            "boom                      0.2031      0.016     12.545      0.000       0.171       0.235\n",
            "crisis                    0.5046      0.017     29.753      0.000       0.471       0.538\n",
            "bust                      0.7487      0.020     37.137      0.000       0.709       0.788\n",
            "post                      2.1251      0.024     90.195      0.000       2.079       2.171\n",
            "Current Interest Rate    -0.1361      0.004    -35.621      0.000      -0.144      -0.129\n",
            "appreciation_factor       0.7122      0.026     27.603      0.000       0.662       0.763\n",
            "hpat2y                    1.3769      0.031     44.025      0.000       1.316       1.438\n",
            "dur_def_episode          -0.0136      0.000    -53.257      0.000      -0.014      -0.013\n",
            "creditscore               0.0221      0.004      6.256      0.000       0.015       0.029\n",
            "Loan Age                  0.0126      0.000    115.819      0.000       0.012       0.013\n",
            "judicial                 -0.2725      0.007    -36.499      0.000      -0.287      -0.258\n",
            "deficiency                0.2857      0.012     23.681      0.000       0.262       0.309\n",
            "refinance                 0.0985      0.008     12.367      0.000       0.083       0.114\n",
            "flag_24                  -0.0508      0.022     -2.340      0.019      -0.093      -0.008\n",
            "noowner_occ              -0.1548      0.011    -13.597      0.000      -0.177      -0.132\n",
            "proptype_CP              -0.4719      0.095     -4.976      0.000      -0.658      -0.286\n",
            "proptype_MH              -0.3614      0.030    -12.179      0.000      -0.420      -0.303\n",
            "proptype_PU               0.2664      0.015     17.934      0.000       0.237       0.295\n",
            "proptype_SF               0.0121      0.012      0.972      0.331      -0.012       0.036\n",
            "log_UPB                   0.0906      0.007     13.078      0.000       0.077       0.104\n",
            "Decile_10_RISK_SCORE      0.0052      0.000     10.913      0.000       0.004       0.006\n",
            "Decile_20_RISK_SCORE      0.0023      0.001      2.967      0.003       0.001       0.004\n",
            "Decile_30_RISK_SCORE      0.0017      0.001      2.086      0.037       0.000       0.003\n",
            "Decile_40_RISK_SCORE     -0.0013      0.001     -1.232      0.218      -0.003       0.001\n",
            "Decile_50_RISK_SCORE      0.0115      0.001      9.644      0.000       0.009       0.014\n",
            "Decile_60_RISK_SCORE     -0.0006      0.001     -0.491      0.623      -0.003       0.002\n",
            "Decile_70_RISK_SCORE     -0.0126      0.001    -10.030      0.000      -0.015      -0.010\n",
            "Decile_80_RISK_SCORE     -0.0060      0.001     -5.087      0.000      -0.008      -0.004\n",
            "Decile_90_RISK_SCORE      0.0161      0.001     16.767      0.000       0.014       0.018\n",
            "=========================================================================================\n"
          ]
        }
      ]
    },
    {
      "cell_type": "code",
      "source": [
        "print(Resi[0].summary())"
      ],
      "metadata": {
        "colab": {
          "base_uri": "https://localhost:8080/"
        },
        "id": "GeQ4LbZbvfNb",
        "outputId": "5dd0c231-4397-4383-a2c8-53cb155df769"
      },
      "execution_count": null,
      "outputs": [
        {
          "output_type": "stream",
          "name": "stdout",
          "text": [
            "                           Logit Regression Results                           \n",
            "==============================================================================\n",
            "Dep. Variable:                    TPS   No. Observations:               914867\n",
            "Model:                          Logit   Df Residuals:                   914833\n",
            "Method:                           MLE   Df Model:                           33\n",
            "Date:                Mon, 06 May 2024   Pseudo R-squ.:                  0.1321\n",
            "Time:                        21:11:33   Log-Likelihood:            -2.9245e+05\n",
            "converged:                       True   LL-Null:                   -3.3697e+05\n",
            "Covariance Type:            nonrobust   LLR p-value:                     0.000\n",
            "=========================================================================================\n",
            "                            coef    std err          z      P>|z|      [0.025      0.975]\n",
            "-----------------------------------------------------------------------------------------\n",
            "const                    -6.5925      0.102    -64.717      0.000      -6.792      -6.393\n",
            "cltv_current2            -0.0103      0.000    -26.270      0.000      -0.011      -0.010\n",
            "cltv_current3             0.0190      0.000     63.051      0.000       0.018       0.020\n",
            "fico2                     0.0003   9.25e-05      2.995      0.003    9.58e-05       0.000\n",
            "fico3                     0.0008      0.000      2.417      0.016       0.000       0.001\n",
            "GSE                      -1.5317      0.010   -152.054      0.000      -1.551      -1.512\n",
            "boom                      0.2634      0.017     15.932      0.000       0.231       0.296\n",
            "crisis                    0.5918      0.017     34.055      0.000       0.558       0.626\n",
            "bust                      0.8471      0.021     41.315      0.000       0.807       0.887\n",
            "post                      2.1014      0.024     88.285      0.000       2.055       2.148\n",
            "Current Interest Rate    -0.1486      0.004    -38.556      0.000      -0.156      -0.141\n",
            "appreciation_factor       1.2199      0.024     51.113      0.000       1.173       1.267\n",
            "hpat2y                    1.5749      0.032     49.310      0.000       1.512       1.637\n",
            "dur_def_episode          -0.0131      0.000    -50.527      0.000      -0.014      -0.013\n",
            "loan_age                  0.0123      0.000    112.045      0.000       0.012       0.013\n",
            "judicial                 -0.2540      0.008    -33.461      0.000      -0.269      -0.239\n",
            "deficiency                0.2845      0.012     23.091      0.000       0.260       0.309\n",
            "refinance                 0.1830      0.008     23.099      0.000       0.167       0.199\n",
            "flag_24                  -0.0056      0.022     -0.253      0.800      -0.049       0.038\n",
            "noowner_occ              -0.1377      0.012    -11.840      0.000      -0.160      -0.115\n",
            "proptype_CP              -0.4602      0.096     -4.774      0.000      -0.649      -0.271\n",
            "proptype_MH              -0.4073      0.030    -13.551      0.000      -0.466      -0.348\n",
            "proptype_PU               0.2034      0.015     13.478      0.000       0.174       0.233\n",
            "proptype_SF              -0.0040      0.013     -0.316      0.752      -0.029       0.021\n",
            "log_UPB                   0.0447      0.007      6.347      0.000       0.031       0.059\n",
            "Decile_10_RISK_SCORE      0.0066      0.000     13.512      0.000       0.006       0.008\n",
            "Decile_20_RISK_SCORE  -5.778e-05      0.001     -0.072      0.943      -0.002       0.002\n",
            "Decile_30_RISK_SCORE      0.0023      0.001      2.706      0.007       0.001       0.004\n",
            "Decile_40_RISK_SCORE     -0.0008      0.001     -0.769      0.442      -0.003       0.001\n",
            "Decile_50_RISK_SCORE      0.0103      0.001      8.518      0.000       0.008       0.013\n",
            "Decile_60_RISK_SCORE     -0.0004      0.001     -0.342      0.732      -0.003       0.002\n",
            "Decile_70_RISK_SCORE     -0.0119      0.001     -9.387      0.000      -0.014      -0.009\n",
            "Decile_80_RISK_SCORE     -0.0050      0.001     -4.181      0.000      -0.007      -0.003\n",
            "Decile_90_RISK_SCORE      0.0151      0.001     15.623      0.000       0.013       0.017\n",
            "=========================================================================================\n"
          ]
        }
      ]
    },
    {
      "cell_type": "code",
      "source": [
        "v4"
      ],
      "metadata": {
        "colab": {
          "base_uri": "https://localhost:8080/"
        },
        "id": "nQeZZ-mDTD3k",
        "outputId": "ad3d210d-62ca-44f4-990a-d2330233aa86"
      },
      "execution_count": null,
      "outputs": [
        {
          "output_type": "execute_result",
          "data": {
            "text/plain": [
              "['cltv_current',\n",
              " 'GSE',\n",
              " 'boom',\n",
              " 'crisis',\n",
              " 'bust',\n",
              " 'post',\n",
              " 'Current Interest Rate',\n",
              " 'appreciation_factor',\n",
              " 'hpat2y',\n",
              " 'dur_def_episode',\n",
              " 'creditscore',\n",
              " 'Loan Age',\n",
              " 'judicial',\n",
              " 'deficiency',\n",
              " 'refinance',\n",
              " 'flag_24',\n",
              " 'noowner_occ',\n",
              " 'proptype_CP',\n",
              " 'proptype_MH',\n",
              " 'proptype_PU',\n",
              " 'proptype_SF',\n",
              " 'log_UPB',\n",
              " 'TPS',\n",
              " 'SS',\n",
              " 'REO']"
            ]
          },
          "metadata": {},
          "execution_count": 38
        }
      ]
    },
    {
      "cell_type": "code",
      "source": [
        "v6 = v4+ list(df.filter(regex='EALS').columns)"
      ],
      "metadata": {
        "id": "zrnE3nAeUO7b"
      },
      "execution_count": null,
      "outputs": []
    },
    {
      "cell_type": "code",
      "source": [
        "df[df.filter(regex='EALT').columns] = df[df.filter(regex='EALT').columns].fillna(0)"
      ],
      "metadata": {
        "id": "N7p8KrieQfIy"
      },
      "execution_count": null,
      "outputs": []
    },
    {
      "cell_type": "code",
      "source": [
        "df.filter(regex='EALS').columns"
      ],
      "metadata": {
        "id": "eDE9cwj6RWGA"
      },
      "execution_count": null,
      "outputs": []
    },
    {
      "cell_type": "code",
      "source": [
        "Resrr = Runnestedlogit(v6,v6,df)\n",
        "printres(Resrr)"
      ],
      "metadata": {
        "colab": {
          "base_uri": "https://localhost:8080/"
        },
        "id": "8soYWRXtU876",
        "outputId": "3f196fd8-bcd7-4ae5-a97d-3a1bf40997c1"
      },
      "execution_count": null,
      "outputs": [
        {
          "output_type": "stream",
          "name": "stdout",
          "text": [
            "Optimization terminated successfully.\n",
            "         Current function value: 0.307848\n",
            "         Iterations 7\n",
            "Optimization terminated successfully.\n",
            "         Current function value: 0.405508\n",
            "         Iterations 7\n",
            "0.7880965367336537\n",
            "0.825911739711777\n",
            "KS between class1 and others: 0.4306 (p-value: 0.000e+00)\n",
            "KS between class1 and others: 0.5083 (p-value: 0.000e+00)\n"
          ]
        }
      ]
    },
    {
      "cell_type": "code",
      "source": [
        "v7 = v4+ list(df.filter(regex='_RISKR').columns)"
      ],
      "metadata": {
        "id": "4g0veAgeSFYW"
      },
      "execution_count": null,
      "outputs": []
    },
    {
      "cell_type": "code",
      "source": [
        "Res = Runnestedlogit(v7,v7,df)\n",
        "printres(Res)"
      ],
      "metadata": {
        "colab": {
          "base_uri": "https://localhost:8080/"
        },
        "id": "Uj-rf_YSZcll",
        "outputId": "83028f69-5f5a-40fd-bff3-292225adf27c"
      },
      "execution_count": null,
      "outputs": [
        {
          "output_type": "stream",
          "name": "stdout",
          "text": [
            "Optimization terminated successfully.\n",
            "         Current function value: 0.309570\n",
            "         Iterations 7\n",
            "Optimization terminated successfully.\n",
            "         Current function value: 0.403988\n",
            "         Iterations 7\n",
            "0.786961010191146\n",
            "0.8275275764681835\n",
            "KS between class1 and others: 0.4284 (p-value: 0.000e+00)\n",
            "KS between class1 and others: 0.5115 (p-value: 0.000e+00)\n"
          ]
        }
      ]
    },
    {
      "cell_type": "code",
      "source": [
        "v8 = v4+ list(df.filter(regex='_EALR').columns)\n",
        "Res = Runnestedlogit(v8,v8,df)\n",
        "printres(Res)"
      ],
      "metadata": {
        "colab": {
          "base_uri": "https://localhost:8080/",
          "height": 173
        },
        "id": "DaMid5fUSbP0",
        "outputId": "b68899e5-5179-4ac8-cf92-786a78a747e6"
      },
      "execution_count": null,
      "outputs": [
        {
          "output_type": "error",
          "ename": "NameError",
          "evalue": "name 'v4' is not defined",
          "traceback": [
            "\u001b[0;31m---------------------------------------------------------------------------\u001b[0m",
            "\u001b[0;31mNameError\u001b[0m                                 Traceback (most recent call last)",
            "\u001b[0;32m<ipython-input-1-00f8bac30874>\u001b[0m in \u001b[0;36m<cell line: 1>\u001b[0;34m()\u001b[0m\n\u001b[0;32m----> 1\u001b[0;31m \u001b[0mv8\u001b[0m \u001b[0;34m=\u001b[0m \u001b[0mv4\u001b[0m\u001b[0;34m+\u001b[0m \u001b[0mlist\u001b[0m\u001b[0;34m(\u001b[0m\u001b[0mdf\u001b[0m\u001b[0;34m.\u001b[0m\u001b[0mfilter\u001b[0m\u001b[0;34m(\u001b[0m\u001b[0mregex\u001b[0m\u001b[0;34m=\u001b[0m\u001b[0;34m'_EALR'\u001b[0m\u001b[0;34m)\u001b[0m\u001b[0;34m.\u001b[0m\u001b[0mcolumns\u001b[0m\u001b[0;34m)\u001b[0m\u001b[0;34m\u001b[0m\u001b[0;34m\u001b[0m\u001b[0m\n\u001b[0m\u001b[1;32m      2\u001b[0m \u001b[0mRes\u001b[0m \u001b[0;34m=\u001b[0m \u001b[0mRunnestedlogit\u001b[0m\u001b[0;34m(\u001b[0m\u001b[0mv8\u001b[0m\u001b[0;34m,\u001b[0m\u001b[0mv8\u001b[0m\u001b[0;34m,\u001b[0m\u001b[0mdf\u001b[0m\u001b[0;34m)\u001b[0m\u001b[0;34m\u001b[0m\u001b[0;34m\u001b[0m\u001b[0m\n\u001b[1;32m      3\u001b[0m \u001b[0mprintres\u001b[0m\u001b[0;34m(\u001b[0m\u001b[0mRes\u001b[0m\u001b[0;34m)\u001b[0m\u001b[0;34m\u001b[0m\u001b[0;34m\u001b[0m\u001b[0m\n",
            "\u001b[0;31mNameError\u001b[0m: name 'v4' is not defined"
          ]
        }
      ]
    },
    {
      "cell_type": "code",
      "source": [
        "print(Res[0].summary())"
      ],
      "metadata": {
        "id": "gzzZ5PoGeJBf",
        "outputId": "127ee67b-26c9-45a9-cd53-58a14ca25f8c",
        "colab": {
          "base_uri": "https://localhost:8080/"
        }
      },
      "execution_count": null,
      "outputs": [
        {
          "output_type": "stream",
          "name": "stdout",
          "text": [
            "                           Logit Regression Results                           \n",
            "==============================================================================\n",
            "Dep. Variable:                    TPS   No. Observations:               935199\n",
            "Model:                          Logit   Df Residuals:                   935173\n",
            "Method:                           MLE   Df Model:                           25\n",
            "Date:                Wed, 01 May 2024   Pseudo R-squ.:                  0.1455\n",
            "Time:                        04:45:36   Log-Likelihood:            -2.8880e+05\n",
            "converged:                       True   LL-Null:                   -3.3797e+05\n",
            "Covariance Type:            nonrobust   LLR p-value:                     0.000\n",
            "================================================================================================\n",
            "                                   coef    std err          z      P>|z|      [0.025      0.975]\n",
            "------------------------------------------------------------------------------------------------\n",
            "const                         -278.2452      4.259    -65.336      0.000    -286.592    -269.898\n",
            "cltv_current                     0.0187      0.000     68.360      0.000       0.018       0.019\n",
            "GSE                             -1.2829      0.011   -120.626      0.000      -1.304      -1.262\n",
            "year                             0.1358      0.002     63.864      0.000       0.132       0.140\n",
            "boom                            -0.0120      0.017     -0.687      0.492      -0.046       0.022\n",
            "crisis                          -0.2666      0.020    -13.081      0.000      -0.307      -0.227\n",
            "bust                            -0.1970      0.025     -7.977      0.000      -0.245      -0.149\n",
            "post                             0.4574      0.033     13.956      0.000       0.393       0.522\n",
            "Current Interest Rate           -0.0300      0.004     -7.106      0.000      -0.038      -0.022\n",
            "appreciation_factor              2.6372      0.033     80.521      0.000       2.573       2.701\n",
            "hpat2y                           1.3268      0.033     39.781      0.000       1.261       1.392\n",
            "dur_def_episode                 -0.0137      0.000    -51.375      0.000      -0.014      -0.013\n",
            "testing                          0.0111      0.004      3.069      0.002       0.004       0.018\n",
            "Loan Age                         0.0029      0.000     17.488      0.000       0.003       0.003\n",
            "judicial                        -0.2044      0.008    -26.806      0.000      -0.219      -0.189\n",
            "deficiency                       0.3345      0.012     27.156      0.000       0.310       0.359\n",
            "refinance                       -0.1258      0.008    -14.990      0.000      -0.142      -0.109\n",
            "Original Loan-to-Value (LTV)    -0.0569      0.000   -124.918      0.000      -0.058      -0.056\n",
            "flag_24                         -0.0073      0.022     -0.327      0.744      -0.051       0.037\n",
            "noowner_occ                     -0.1117      0.012     -9.609      0.000      -0.134      -0.089\n",
            "proptype_CP                     -0.5233      0.105     -5.000      0.000      -0.728      -0.318\n",
            "proptype_MH                     -0.5429      0.031    -17.622      0.000      -0.603      -0.483\n",
            "proptype_PU                      0.1401      0.015      9.314      0.000       0.111       0.170\n",
            "proptype_SF                     -0.1206      0.013     -9.593      0.000      -0.145      -0.096\n",
            "log_ZBR_UPB                     -0.1259      0.018     -6.948      0.000      -0.161      -0.090\n",
            "log_UPB                          0.3495      0.020     17.514      0.000       0.310       0.389\n",
            "================================================================================================\n"
          ]
        }
      ]
    },
    {
      "cell_type": "code",
      "source": [
        "print(Resrr[0].summary())"
      ],
      "metadata": {
        "colab": {
          "base_uri": "https://localhost:8080/"
        },
        "id": "dfPEyumEZoUm",
        "outputId": "a07e2d64-785f-42ac-d645-80fbf25b71ee"
      },
      "execution_count": null,
      "outputs": [
        {
          "output_type": "stream",
          "name": "stdout",
          "text": [
            "                           Logit Regression Results                           \n",
            "==============================================================================\n",
            "Dep. Variable:                    TPS   No. Observations:               928528\n",
            "Model:                          Logit   Df Residuals:                   928484\n",
            "Method:                           MLE   Df Model:                           43\n",
            "Date:                Wed, 01 May 2024   Pseudo R-squ.:                  0.1761\n",
            "Time:                        04:30:24   Log-Likelihood:            -2.7743e+05\n",
            "converged:                       True   LL-Null:                   -3.3671e+05\n",
            "Covariance Type:            nonrobust   LLR p-value:                     0.000\n",
            "================================================================================================\n",
            "                                   coef    std err          z      P>|z|      [0.025      0.975]\n",
            "------------------------------------------------------------------------------------------------\n",
            "const                         -287.6556      4.352    -66.096      0.000    -296.185    -279.126\n",
            "cltv_current                     0.0102      0.000     33.554      0.000       0.010       0.011\n",
            "GSE                             -1.3381      0.011   -123.650      0.000      -1.359      -1.317\n",
            "year                             0.1412      0.002     65.020      0.000       0.137       0.146\n",
            "boom                             0.0706      0.018      3.944      0.000       0.036       0.106\n",
            "crisis                          -0.1616      0.021     -7.635      0.000      -0.203      -0.120\n",
            "bust                            -0.0780      0.025     -3.076      0.002      -0.128      -0.028\n",
            "post                             0.5706      0.034     16.989      0.000       0.505       0.636\n",
            "Current Interest Rate           -0.0260      0.004     -6.056      0.000      -0.034      -0.018\n",
            "appreciation_factor              2.4556      0.034     71.885      0.000       2.389       2.523\n",
            "hpat2y                           1.1379      0.033     34.820      0.000       1.074       1.202\n",
            "dur_def_episode                 -0.0132      0.000    -47.944      0.000      -0.014      -0.013\n",
            "Credit Score                     0.0002   6.65e-05      2.570      0.010    4.06e-05       0.000\n",
            "Loan Age                         0.0027      0.000     16.250      0.000       0.002       0.003\n",
            "judicial                         0.1764      0.009     18.678      0.000       0.158       0.195\n",
            "deficiency                       0.1776      0.014     12.744      0.000       0.150       0.205\n",
            "refinance                       -0.1302      0.009    -15.185      0.000      -0.147      -0.113\n",
            "Original Loan-to-Value (LTV)    -0.0443      0.000    -91.041      0.000      -0.045      -0.043\n",
            "flag_24                          0.0387      0.023      1.678      0.093      -0.007       0.084\n",
            "noowner_occ                     -0.2065      0.012    -17.418      0.000      -0.230      -0.183\n",
            "proptype_CP                     -0.7931      0.107     -7.434      0.000      -1.002      -0.584\n",
            "proptype_MH                     -0.6433      0.032    -20.299      0.000      -0.705      -0.581\n",
            "proptype_PU                      0.1798      0.016     11.407      0.000       0.149       0.211\n",
            "proptype_SF                     -0.0146      0.013     -1.106      0.269      -0.041       0.011\n",
            "log_ZBR_UPB                     -0.1078      0.018     -5.850      0.000      -0.144      -0.072\n",
            "log_UPB                          0.1062      0.021      5.180      0.000       0.066       0.146\n",
            "AVLN_RISKR                       0.0641      0.009      6.870      0.000       0.046       0.082\n",
            "CFLD_RISKR                       0.0137      0.005      2.583      0.010       0.003       0.024\n",
            "CWAV_RISKR                      -0.1229      0.003    -41.847      0.000      -0.129      -0.117\n",
            "DRGT_RISKR                       0.1145      0.004     28.195      0.000       0.107       0.122\n",
            "ERQK_RISKR                       0.2681      0.006     41.734      0.000       0.256       0.281\n",
            "HAIL_RISKR                       0.0878      0.005     17.877      0.000       0.078       0.097\n",
            "HWAV_RISKR                       0.0434      0.004     11.619      0.000       0.036       0.051\n",
            "HRCN_RISKR                       0.0030      0.006      0.535      0.592      -0.008       0.014\n",
            "ISTM_RISKR                      -0.0631      0.004    -15.132      0.000      -0.071      -0.055\n",
            "LNDS_RISKR                       0.0800      0.007     11.158      0.000       0.066       0.094\n",
            "LTNG_RISKR                       0.0928      0.006     16.225      0.000       0.082       0.104\n",
            "RFLD_RISKR                      -0.0340      0.005     -6.332      0.000      -0.044      -0.023\n",
            "SWND_RISKR                       0.0227      0.005      5.005      0.000       0.014       0.032\n",
            "TRND_RISKR                      -0.0218      0.006     -3.861      0.000      -0.033      -0.011\n",
            "TSUN_RISKR                      -0.0510      0.009     -5.883      0.000      -0.068      -0.034\n",
            "VLCN_RISKR                      -0.0800      0.008     -9.543      0.000      -0.096      -0.064\n",
            "WFIR_RISKR                       0.0119      0.005      2.274      0.023       0.002       0.022\n",
            "WNTW_RISKR                      -0.0638      0.004    -14.494      0.000      -0.072      -0.055\n",
            "================================================================================================\n"
          ]
        }
      ]
    },
    {
      "cell_type": "code",
      "source": [
        "print(Resrr[1].summary())"
      ],
      "metadata": {
        "colab": {
          "base_uri": "https://localhost:8080/"
        },
        "id": "QHgo_ziTm3be",
        "outputId": "9a59ee5b-084a-4454-f17b-b753b5c03938"
      },
      "execution_count": null,
      "outputs": [
        {
          "output_type": "stream",
          "name": "stdout",
          "text": [
            "                           Logit Regression Results                           \n",
            "==============================================================================\n",
            "Dep. Variable:                    REO   No. Observations:               826184\n",
            "Model:                          Logit   Df Residuals:                   826140\n",
            "Method:                           MLE   Df Model:                           43\n",
            "Date:                Wed, 01 May 2024   Pseudo R-squ.:                  0.2504\n",
            "Time:                        14:43:00   Log-Likelihood:            -3.3320e+05\n",
            "converged:                       True   LL-Null:                   -4.4452e+05\n",
            "Covariance Type:            nonrobust   LLR p-value:                     0.000\n",
            "================================================================================================\n",
            "                                   coef    std err          z      P>|z|      [0.025      0.975]\n",
            "------------------------------------------------------------------------------------------------\n",
            "const                          142.8336      5.107     27.967      0.000     132.824     152.843\n",
            "cltv_current                    -0.0049      0.000    -16.149      0.000      -0.006      -0.004\n",
            "GSE                              0.8030      0.010     81.598      0.000       0.784       0.822\n",
            "year                            -0.0640      0.003    -25.118      0.000      -0.069      -0.059\n",
            "boom                             0.0888      0.021      4.261      0.000       0.048       0.130\n",
            "crisis                           0.2367      0.024      9.983      0.000       0.190       0.283\n",
            "bust                             0.1731      0.028      6.209      0.000       0.118       0.228\n",
            "post                             0.5623      0.044     12.661      0.000       0.475       0.649\n",
            "Current Interest Rate            0.0509      0.004     11.765      0.000       0.042       0.059\n",
            "appreciation_factor              1.7587      0.045     39.050      0.000       1.670       1.847\n",
            "hpat2y                          -1.5589      0.030    -52.405      0.000      -1.617      -1.501\n",
            "dur_def_episode                  0.0977      0.000    248.687      0.000       0.097       0.098\n",
            "testing                         -0.1444      0.003    -43.682      0.000      -0.151      -0.138\n",
            "Loan Age                        -0.0027      0.000    -13.890      0.000      -0.003      -0.002\n",
            "judicial                        -0.8904      0.009   -104.034      0.000      -0.907      -0.874\n",
            "deficiency                       0.2101      0.012     17.091      0.000       0.186       0.234\n",
            "refinance                        0.0577      0.007      7.778      0.000       0.043       0.072\n",
            "Original Loan-to-Value (LTV)     0.0091      0.000     18.698      0.000       0.008       0.010\n",
            "flag_24                         -0.1471      0.019     -7.760      0.000      -0.184      -0.110\n",
            "noowner_occ                     -0.0173      0.010     -1.766      0.077      -0.036       0.002\n",
            "proptype_CP                      1.1065      0.082     13.489      0.000       0.946       1.267\n",
            "proptype_MH                      0.6868      0.032     21.335      0.000       0.624       0.750\n",
            "proptype_PU                      0.0236      0.013      1.865      0.062      -0.001       0.048\n",
            "proptype_SF                      0.1843      0.010     17.576      0.000       0.164       0.205\n",
            "log_ZBR_UPB                      0.2223      0.020     11.193      0.000       0.183       0.261\n",
            "log_UPB                         -1.3657      0.022    -63.412      0.000      -1.408      -1.324\n",
            "AVLN_RISKR                      -0.1210      0.007    -16.232      0.000      -0.136      -0.106\n",
            "CFLD_RISKR                      -0.2565      0.005    -55.236      0.000      -0.266      -0.247\n",
            "CWAV_RISKR                      -0.0421      0.003    -15.512      0.000      -0.047      -0.037\n",
            "DRGT_RISKR                      -0.0116      0.004     -3.194      0.001      -0.019      -0.004\n",
            "ERQK_RISKR                      -0.0982      0.006    -17.316      0.000      -0.109      -0.087\n",
            "HAIL_RISKR                       0.0545      0.004     12.150      0.000       0.046       0.063\n",
            "HWAV_RISKR                      -0.0038      0.003     -1.125      0.261      -0.010       0.003\n",
            "HRCN_RISKR                      -0.1039      0.005    -21.346      0.000      -0.113      -0.094\n",
            "ISTM_RISKR                      -0.0068      0.004     -1.814      0.070      -0.014       0.001\n",
            "LNDS_RISKR                      -0.3123      0.006    -48.373      0.000      -0.325      -0.300\n",
            "LTNG_RISKR                      -0.0018      0.005     -0.340      0.734      -0.012       0.008\n",
            "RFLD_RISKR                      -0.0320      0.005     -6.666      0.000      -0.041      -0.023\n",
            "SWND_RISKR                      -0.1134      0.004    -28.526      0.000      -0.121      -0.106\n",
            "TRND_RISKR                       0.0784      0.005     15.517      0.000       0.068       0.088\n",
            "TSUN_RISKR                       0.1319      0.008     17.003      0.000       0.117       0.147\n",
            "VLCN_RISKR                       0.0241      0.007      3.525      0.000       0.011       0.038\n",
            "WFIR_RISKR                      -0.0650      0.005    -14.007      0.000      -0.074      -0.056\n",
            "WNTW_RISKR                       0.0123      0.004      3.103      0.002       0.005       0.020\n",
            "================================================================================================\n"
          ]
        }
      ]
    },
    {
      "cell_type": "code",
      "source": [
        "(df.filter(regex='RISKR')!=0).mean()"
      ],
      "metadata": {
        "colab": {
          "base_uri": "https://localhost:8080/"
        },
        "id": "yLZz543luBm9",
        "outputId": "57cb991d-c09f-477f-eb7b-c25a0c9e0538"
      },
      "execution_count": null,
      "outputs": [
        {
          "output_type": "execute_result",
          "data": {
            "text/plain": [
              "AVLN_RISKR    0.103397\n",
              "CFLD_RISKR    0.378909\n",
              "CWAV_RISKR    0.708679\n",
              "DRGT_RISKR    0.832756\n",
              "ERQK_RISKR    0.999927\n",
              "HAIL_RISKR    0.999923\n",
              "HWAV_RISKR    0.807814\n",
              "HRCN_RISKR    0.778898\n",
              "ISTM_RISKR    0.718502\n",
              "LNDS_RISKR    0.999167\n",
              "LTNG_RISKR    0.997929\n",
              "RFLD_RISKR    0.999969\n",
              "SWND_RISKR    0.999167\n",
              "TRND_RISKR    0.999999\n",
              "TSUN_RISKR    0.060590\n",
              "VLCN_RISKR    0.050986\n",
              "WFIR_RISKR    0.999999\n",
              "WNTW_RISKR    0.886882\n",
              "dtype: float64"
            ]
          },
          "metadata": {},
          "execution_count": 124
        }
      ]
    },
    {
      "cell_type": "code",
      "source": [
        "(df.filter(regex='RISKR')==0).mean()"
      ],
      "metadata": {
        "colab": {
          "base_uri": "https://localhost:8080/"
        },
        "id": "JnflMrjqt9nW",
        "outputId": "08fdeabc-2d79-43b2-c235-3e9ccb134f5a"
      },
      "execution_count": null,
      "outputs": [
        {
          "output_type": "execute_result",
          "data": {
            "text/plain": [
              "AVLN_RISKR    0.896603\n",
              "CFLD_RISKR    0.621091\n",
              "CWAV_RISKR    0.291321\n",
              "DRGT_RISKR    0.167244\n",
              "ERQK_RISKR    0.000073\n",
              "HAIL_RISKR    0.000077\n",
              "HWAV_RISKR    0.192186\n",
              "HRCN_RISKR    0.221102\n",
              "ISTM_RISKR    0.281498\n",
              "LNDS_RISKR    0.000833\n",
              "LTNG_RISKR    0.002071\n",
              "RFLD_RISKR    0.000031\n",
              "SWND_RISKR    0.000833\n",
              "TRND_RISKR    0.000001\n",
              "TSUN_RISKR    0.939410\n",
              "VLCN_RISKR    0.949014\n",
              "WFIR_RISKR    0.000001\n",
              "WNTW_RISKR    0.113118\n",
              "dtype: float64"
            ]
          },
          "metadata": {},
          "execution_count": 123
        }
      ]
    },
    {
      "cell_type": "code",
      "source": [
        "(df.filter(regex='RISKR')>=3).mean()"
      ],
      "metadata": {
        "colab": {
          "base_uri": "https://localhost:8080/"
        },
        "id": "gmFdYltytyQi",
        "outputId": "9bf7135f-466e-4959-be1f-a091a9b03a09"
      },
      "execution_count": null,
      "outputs": [
        {
          "output_type": "execute_result",
          "data": {
            "text/plain": [
              "AVLN_RISKR    0.019942\n",
              "CFLD_RISKR    0.077895\n",
              "CWAV_RISKR    0.517088\n",
              "DRGT_RISKR    0.250007\n",
              "ERQK_RISKR    0.272996\n",
              "HAIL_RISKR    0.274234\n",
              "HWAV_RISKR    0.571779\n",
              "HRCN_RISKR    0.255432\n",
              "ISTM_RISKR    0.497202\n",
              "LNDS_RISKR    0.635762\n",
              "LTNG_RISKR    0.743646\n",
              "RFLD_RISKR    0.590349\n",
              "SWND_RISKR    0.600548\n",
              "TRND_RISKR    0.681358\n",
              "TSUN_RISKR    0.016773\n",
              "VLCN_RISKR    0.020782\n",
              "WFIR_RISKR    0.361073\n",
              "WNTW_RISKR    0.492505\n",
              "dtype: float64"
            ]
          },
          "metadata": {},
          "execution_count": 121
        }
      ]
    },
    {
      "cell_type": "code",
      "source": [
        "df['AVLN_RISKR']"
      ],
      "metadata": {
        "colab": {
          "base_uri": "https://localhost:8080/"
        },
        "id": "06qJcd2EwgdM",
        "outputId": "c1a612f4-a7ca-4349-f00b-0d427754a661"
      },
      "execution_count": null,
      "outputs": [
        {
          "output_type": "execute_result",
          "data": {
            "text/plain": [
              "0         0.0\n",
              "1         0.0\n",
              "2         0.0\n",
              "3         0.0\n",
              "4         0.0\n",
              "         ... \n",
              "954506    0.0\n",
              "954507    0.0\n",
              "954508    0.0\n",
              "954509    0.0\n",
              "954510    0.0\n",
              "Name: AVLN_RISKR, Length: 950102, dtype: float64"
            ]
          },
          "metadata": {},
          "execution_count": 131
        }
      ]
    },
    {
      "cell_type": "code",
      "source": [
        "(df.filter(regex='RISKR')>=3).sum()"
      ],
      "metadata": {
        "colab": {
          "base_uri": "https://localhost:8080/"
        },
        "id": "3ggsGu-tmdnQ",
        "outputId": "8c9ff1c2-db1a-47b2-d332-2da35e4c535b"
      },
      "execution_count": null,
      "outputs": [
        {
          "output_type": "execute_result",
          "data": {
            "text/plain": [
              "AVLN_RISKR     18947\n",
              "CFLD_RISKR     74008\n",
              "CWAV_RISKR    491286\n",
              "DRGT_RISKR    237532\n",
              "ERQK_RISKR    259374\n",
              "HAIL_RISKR    260550\n",
              "HWAV_RISKR    543248\n",
              "HRCN_RISKR    242686\n",
              "ISTM_RISKR    472393\n",
              "LNDS_RISKR    604039\n",
              "LTNG_RISKR    706540\n",
              "RFLD_RISKR    560892\n",
              "SWND_RISKR    570582\n",
              "TRND_RISKR    647360\n",
              "TSUN_RISKR     15936\n",
              "VLCN_RISKR     19745\n",
              "WFIR_RISKR    343056\n",
              "WNTW_RISKR    467930\n",
              "dtype: int64"
            ]
          },
          "metadata": {},
          "execution_count": 130
        }
      ]
    },
    {
      "cell_type": "code",
      "source": [
        "(df.filter(regex='RISKR')==0).sum()"
      ],
      "metadata": {
        "colab": {
          "base_uri": "https://localhost:8080/"
        },
        "id": "AygE-Xnike-v",
        "outputId": "d6da775e-ab94-47bf-fa03-f3aaf2017b0c"
      },
      "execution_count": null,
      "outputs": [
        {
          "output_type": "execute_result",
          "data": {
            "text/plain": [
              "AVLN_RISKR    853654\n",
              "CFLD_RISKR    591509\n",
              "CWAV_RISKR    277239\n",
              "DRGT_RISKR    159382\n",
              "ERQK_RISKR        69\n",
              "HAIL_RISKR        73\n",
              "HWAV_RISKR    182834\n",
              "HRCN_RISKR    210336\n",
              "ISTM_RISKR    267572\n",
              "LNDS_RISKR       791\n",
              "LTNG_RISKR      1968\n",
              "RFLD_RISKR        29\n",
              "SWND_RISKR       791\n",
              "TRND_RISKR         1\n",
              "TSUN_RISKR    894418\n",
              "VLCN_RISKR    903534\n",
              "WFIR_RISKR         1\n",
              "WNTW_RISKR    107543\n",
              "dtype: int64"
            ]
          },
          "metadata": {},
          "execution_count": 20
        }
      ]
    },
    {
      "cell_type": "code",
      "source": [
        "print(Resrr[1].summary())"
      ],
      "metadata": {
        "colab": {
          "base_uri": "https://localhost:8080/"
        },
        "id": "Z2R5K_3nauYM",
        "outputId": "0366b1dc-f90c-4e01-f7c3-e6ab4a74bc9a"
      },
      "execution_count": null,
      "outputs": [
        {
          "output_type": "stream",
          "name": "stdout",
          "text": [
            "                           Logit Regression Results                           \n",
            "==============================================================================\n",
            "Dep. Variable:                    REO   No. Observations:               819095\n",
            "Model:                          Logit   Df Residuals:                   819051\n",
            "Method:                           MLE   Df Model:                           43\n",
            "Date:                Wed, 01 May 2024   Pseudo R-squ.:                  0.2511\n",
            "Time:                        04:30:26   Log-Likelihood:            -3.3051e+05\n",
            "converged:                       True   LL-Null:                   -4.4130e+05\n",
            "Covariance Type:            nonrobust   LLR p-value:                     0.000\n",
            "================================================================================================\n",
            "                                   coef    std err          z      P>|z|      [0.025      0.975]\n",
            "------------------------------------------------------------------------------------------------\n",
            "const                          146.0288      5.127     28.482      0.000     135.980     156.078\n",
            "cltv_current                    -0.0048      0.000    -15.513      0.000      -0.005      -0.004\n",
            "GSE                              0.7988      0.010     80.869      0.000       0.779       0.818\n",
            "year                            -0.0647      0.003    -25.296      0.000      -0.070      -0.060\n",
            "boom                             0.0856      0.021      4.088      0.000       0.045       0.127\n",
            "crisis                           0.2355      0.024      9.886      0.000       0.189       0.282\n",
            "bust                             0.1734      0.028      6.193      0.000       0.119       0.228\n",
            "post                             0.5637      0.045     12.652      0.000       0.476       0.651\n",
            "Current Interest Rate            0.0498      0.004     11.449      0.000       0.041       0.058\n",
            "appreciation_factor              1.7822      0.046     38.974      0.000       1.693       1.872\n",
            "hpat2y                          -1.5714      0.030    -52.571      0.000      -1.630      -1.513\n",
            "dur_def_episode                  0.0981      0.000    247.980      0.000       0.097       0.099\n",
            "Credit Score                    -0.0026   5.96e-05    -43.379      0.000      -0.003      -0.002\n",
            "Loan Age                        -0.0026      0.000    -13.250      0.000      -0.003      -0.002\n",
            "judicial                        -0.8918      0.009   -103.851      0.000      -0.909      -0.875\n",
            "deficiency                       0.2092      0.012     16.974      0.000       0.185       0.233\n",
            "refinance                        0.0594      0.007      7.945      0.000       0.045       0.074\n",
            "Original Loan-to-Value (LTV)     0.0091      0.001     18.217      0.000       0.008       0.010\n",
            "flag_24                         -0.1463      0.019     -7.665      0.000      -0.184      -0.109\n",
            "noowner_occ                     -0.0161      0.010     -1.638      0.101      -0.035       0.003\n",
            "proptype_CP                      1.1016      0.082     13.384      0.000       0.940       1.263\n",
            "proptype_MH                      0.6885      0.032     21.285      0.000       0.625       0.752\n",
            "proptype_PU                      0.0246      0.013      1.936      0.053      -0.000       0.049\n",
            "proptype_SF                      0.1863      0.011     17.698      0.000       0.166       0.207\n",
            "log_ZBR_UPB                      0.2493      0.022     11.543      0.000       0.207       0.292\n",
            "log_UPB                         -1.3960      0.023    -60.125      0.000      -1.441      -1.350\n",
            "AVLN_RISKR                      -0.1210      0.007    -16.190      0.000      -0.136      -0.106\n",
            "CFLD_RISKR                      -0.2572      0.005    -55.147      0.000      -0.266      -0.248\n",
            "CWAV_RISKR                      -0.0427      0.003    -15.650      0.000      -0.048      -0.037\n",
            "DRGT_RISKR                      -0.0116      0.004     -3.187      0.001      -0.019      -0.004\n",
            "ERQK_RISKR                      -0.0979      0.006    -17.198      0.000      -0.109      -0.087\n",
            "HAIL_RISKR                       0.0547      0.004     12.147      0.000       0.046       0.063\n",
            "HWAV_RISKR                      -0.0032      0.003     -0.946      0.344      -0.010       0.003\n",
            "HRCN_RISKR                      -0.1027      0.005    -21.029      0.000      -0.112      -0.093\n",
            "ISTM_RISKR                      -0.0074      0.004     -1.987      0.047      -0.015      -0.000\n",
            "LNDS_RISKR                      -0.3116      0.006    -48.072      0.000      -0.324      -0.299\n",
            "LTNG_RISKR                      -0.0016      0.005     -0.300      0.764      -0.012       0.009\n",
            "RFLD_RISKR                      -0.0323      0.005     -6.702      0.000      -0.042      -0.023\n",
            "SWND_RISKR                      -0.1134      0.004    -28.419      0.000      -0.121      -0.106\n",
            "TRND_RISKR                       0.0784      0.005     15.451      0.000       0.068       0.088\n",
            "TSUN_RISKR                       0.1329      0.008     17.041      0.000       0.118       0.148\n",
            "VLCN_RISKR                       0.0239      0.007      3.480      0.001       0.010       0.037\n",
            "WFIR_RISKR                      -0.0658      0.005    -14.136      0.000      -0.075      -0.057\n",
            "WNTW_RISKR                       0.0124      0.004      3.112      0.002       0.005       0.020\n",
            "================================================================================================\n"
          ]
        }
      ]
    },
    {
      "cell_type": "code",
      "source": [],
      "metadata": {
        "id": "tTjiYHr9c8Hi"
      },
      "execution_count": null,
      "outputs": []
    },
    {
      "cell_type": "code",
      "source": [
        "v5 = ['cltv_current',\n",
        "  'GSE',\n",
        "  'boom',\n",
        "  'crisis',\n",
        "  'bust',\n",
        "  'post',\n",
        "  'Current Interest Rate',\n",
        "  'hpat2y',\n",
        "  'dur_def_episode',\n",
        "  'testing',\n",
        "  'Loan Age',\n",
        "  'judicial',\n",
        "  'deficiency',\n",
        "  'refinance',\n",
        "  'flag_24',\n",
        "  'noowner_occ',\n",
        "  'proptype_CP',\n",
        "  'proptype_MH',\n",
        "  'proptype_PU',\n",
        "  'proptype_SF',\n",
        "  'log_ZBR_UPB',\n",
        "  'log_UPB',\n",
        "  'TPS',\n",
        "  'SS',\n",
        "  'REO',\n",
        "      ]"
      ],
      "metadata": {
        "id": "m-XgCz6Sd-uf"
      },
      "execution_count": null,
      "outputs": []
    },
    {
      "cell_type": "code",
      "source": [],
      "metadata": {
        "id": "yj6nBQpejcVQ"
      },
      "execution_count": null,
      "outputs": []
    },
    {
      "cell_type": "markdown",
      "source": [
        "## NEW EXPERIMENTS"
      ],
      "metadata": {
        "id": "HBlDWBk2mkye"
      }
    },
    {
      "cell_type": "code",
      "source": [
        "# Variables Tyler Yang\n",
        "# Variables based on Tyler Yang, XGBOOST and OLS Experiments\n",
        "# Variables with Splines - OUR BASE MODEL\n",
        "# Variables with Different NRI factors\n",
        "# FINAL Model"
      ],
      "metadata": {
        "id": "glxG-3camjGR"
      },
      "execution_count": null,
      "outputs": []
    },
    {
      "cell_type": "markdown",
      "source": [
        "### Tyler Yang"
      ],
      "metadata": {
        "id": "pm2UQsT-DahZ"
      }
    },
    {
      "cell_type": "code",
      "source": [
        "Base_v = [\n",
        "    'loansize',\n",
        "    'mr_sprd',\n",
        "    'refinance',\n",
        "    'cltv_current',\n",
        "    'hpat2y',\n",
        "    'dur_def_episode',\n",
        "    'judicial',\n",
        "    'deficiency',\n",
        "    'flag_24',\n",
        "    'noowner_occ',\n",
        "    'proptype_CP',\n",
        "    'proptype_MH',\n",
        "    'proptype_PU',\n",
        "    'proptype_SF',\n",
        "    'REO',\n",
        "    'TPS',\n",
        "    'SS']"
      ],
      "metadata": {
        "id": "JAtqF-vFDZoU"
      },
      "execution_count": null,
      "outputs": []
    },
    {
      "cell_type": "code",
      "source": [
        "base_m = Runnestedlogit(Base_v,Base_v,df1)\n",
        "printres(base_m)"
      ],
      "metadata": {
        "colab": {
          "base_uri": "https://localhost:8080/"
        },
        "id": "RR5OUZ23Dpa8",
        "outputId": "798adb61-c405-42c3-f698-b2ea8ccd0971"
      },
      "execution_count": null,
      "outputs": [
        {
          "output_type": "stream",
          "name": "stdout",
          "text": [
            "Optimization terminated successfully.\n",
            "         Current function value: 0.425403\n",
            "         Iterations 7\n",
            "Optimization terminated successfully.\n",
            "         Current function value: 0.399386\n",
            "         Iterations 6\n",
            "The area under curve is 77.20%\n",
            "The area under curve is 67.22%\n",
            "KS between class1 and others: 0.4283 (p-value: 0.000e+00)\n",
            "KS between class1 and others: 0.2597 (p-value: 0.000e+00)\n"
          ]
        }
      ]
    },
    {
      "cell_type": "code",
      "source": [
        "v2_add = [\n",
        "  'GSE',\n",
        "  'Normal',\n",
        "  'Boom',\n",
        "  'Bust',\n",
        "  'PostCrisis',\n",
        "  'channel_C',\n",
        "  'channel_R',\n",
        "  'loanpurpose_N',\n",
        "  'loanpurpose_P',\n",
        "  'loanpurpose_C',\n",
        "  'Current Interest Rate',\n",
        "  'loan_age',\n",
        "  'Log Original UPB',\n",
        "  'fico'\n",
        "          ]\n",
        "v2 = Base_v[3:] + v2_add"
      ],
      "metadata": {
        "id": "YdE5M1M1FNVQ"
      },
      "execution_count": null,
      "outputs": []
    },
    {
      "cell_type": "code",
      "source": [
        "base_2 = Runnestedlogit(v2,v2,df1)\n",
        "printres(base_2)"
      ],
      "metadata": {
        "colab": {
          "base_uri": "https://localhost:8080/"
        },
        "id": "aCsDud3WHCfv",
        "outputId": "df3da63b-4fda-4370-edde-041baf2ffa66"
      },
      "execution_count": null,
      "outputs": [
        {
          "output_type": "stream",
          "name": "stdout",
          "text": [
            "Optimization terminated successfully.\n",
            "         Current function value: 0.402237\n",
            "         Iterations 7\n",
            "Optimization terminated successfully.\n",
            "         Current function value: 0.367773\n",
            "         Iterations 7\n",
            "The area under curve is 80.09%\n",
            "The area under curve is 75.67%\n",
            "KS between class1 and others: 0.4691 (p-value: 0.000e+00)\n",
            "KS between class1 and others: 0.3859 (p-value: 0.000e+00)\n"
          ]
        }
      ]
    },
    {
      "cell_type": "code",
      "source": [
        "v3_add = ['cltv_current1','cltv_current2','cltv_current3','fico1','fico2','fico3']\n",
        "v3 = v3_add + v2[1:-1]"
      ],
      "metadata": {
        "id": "bFndmSaxHDFp"
      },
      "execution_count": null,
      "outputs": []
    },
    {
      "cell_type": "code",
      "source": [
        "print(base_2[0].summary())"
      ],
      "metadata": {
        "colab": {
          "base_uri": "https://localhost:8080/"
        },
        "id": "b6RDK9iKILfj",
        "outputId": "57fea422-c171-4b89-f7a4-868b311abca4"
      },
      "execution_count": null,
      "outputs": [
        {
          "output_type": "stream",
          "name": "stdout",
          "text": [
            "                           Logit Regression Results                           \n",
            "==============================================================================\n",
            "Dep. Variable:                    TPS   No. Observations:               911346\n",
            "Model:                          Logit   Df Residuals:                   911323\n",
            "Method:                           MLE   Df Model:                           22\n",
            "Date:                Tue, 07 May 2024   Pseudo R-squ.:                  0.1163\n",
            "Time:                        21:29:20   Log-Likelihood:            -2.9676e+05\n",
            "converged:                       True   LL-Null:                   -3.3582e+05\n",
            "Covariance Type:            nonrobust   LLR p-value:                     0.000\n",
            "=========================================================================================\n",
            "                            coef    std err          z      P>|z|      [0.025      0.975]\n",
            "-----------------------------------------------------------------------------------------\n",
            "const                    -5.5711      0.101    -55.369      0.000      -5.768      -5.374\n",
            "cltv_current             -0.0058      0.000    -24.631      0.000      -0.006      -0.005\n",
            "hpat2y                    1.5758      0.032     48.761      0.000       1.512       1.639\n",
            "dur_def_episode          -0.0119      0.000    -46.169      0.000      -0.012      -0.011\n",
            "judicial                 -0.2429      0.007    -32.658      0.000      -0.258      -0.228\n",
            "deficiency                0.4201      0.012     35.101      0.000       0.397       0.444\n",
            "refinance                 0.1011      0.008     12.600      0.000       0.085       0.117\n",
            "flag_24                   0.0459      0.022      2.075      0.038       0.003       0.089\n",
            "noowner_occ              -0.0955      0.012     -8.279      0.000      -0.118      -0.073\n",
            "proptype_CP              -0.3848      0.096     -4.024      0.000      -0.572      -0.197\n",
            "proptype_MH              -0.5377      0.030    -18.140      0.000      -0.596      -0.480\n",
            "proptype_PU               0.1716      0.015     11.509      0.000       0.142       0.201\n",
            "proptype_SF              -0.1608      0.012    -12.975      0.000      -0.185      -0.137\n",
            "GSE                      -1.4817      0.010   -147.718      0.000      -1.501      -1.462\n",
            "boom                      0.1712      0.016     10.466      0.000       0.139       0.203\n",
            "crisis                    0.4430      0.017     25.988      0.000       0.410       0.476\n",
            "bust                      0.6666      0.020     32.897      0.000       0.627       0.706\n",
            "post                      2.0090      0.023     85.511      0.000       1.963       2.055\n",
            "Current Interest Rate    -0.1366      0.004    -35.286      0.000      -0.144      -0.129\n",
            "appreciation_factor       0.4163      0.026     16.022      0.000       0.365       0.467\n",
            "loan_age                  0.0129      0.000    117.451      0.000       0.013       0.013\n",
            "Log Original UPB          0.1740      0.007     25.297      0.000       0.160       0.187\n",
            "creditscore               0.0250      0.004      6.984      0.000       0.018       0.032\n",
            "=========================================================================================\n"
          ]
        }
      ]
    },
    {
      "cell_type": "code",
      "source": [
        "base_3[0].params"
      ],
      "metadata": {
        "colab": {
          "base_uri": "https://localhost:8080/"
        },
        "id": "i0FK3oOlLMfs",
        "outputId": "5c1a4e9f-7ccd-4971-f0cf-d4551b2a30c3"
      },
      "execution_count": null,
      "outputs": [
        {
          "output_type": "execute_result",
          "data": {
            "text/plain": [
              "const                   -3.149157\n",
              "cltv_current1           -0.052851\n",
              "cltv_current2           -0.009292\n",
              "cltv_current3            0.011004\n",
              "fico1                    0.001563\n",
              "fico2                    0.000720\n",
              "fico3                   -0.000788\n",
              "hpat2y                   1.731722\n",
              "dur_def_episode         -0.013298\n",
              "judicial                -0.187702\n",
              "deficiency               0.374805\n",
              "flag_24                 -0.001517\n",
              "noowner_occ             -0.087651\n",
              "proptype_CP             -0.484697\n",
              "proptype_MH             -0.552782\n",
              "proptype_PU              0.108318\n",
              "proptype_SF             -0.137712\n",
              "GSE                     -1.479263\n",
              "Normal                  -0.308822\n",
              "Boom                    -0.035521\n",
              "Bust                     0.234237\n",
              "PostCrisis               1.410042\n",
              "channel_C                0.163857\n",
              "channel_R                0.214064\n",
              "loanpurpose_N            0.041220\n",
              "loanpurpose_P            0.106484\n",
              "loanpurpose_C            0.093602\n",
              "Current Interest Rate   -0.160799\n",
              "appreciation_factor     -0.439166\n",
              "loan_age                 0.011114\n",
              "Log Original UPB         0.282561\n",
              "dtype: float64"
            ]
          },
          "metadata": {},
          "execution_count": 50
        }
      ]
    },
    {
      "cell_type": "code",
      "source": [
        "x0 = ['EAL_VALT','EAL_SCORE','RISK_VALUE','RISK_SCORE','RISK_RATNG','EAL_RATNG']\n",
        "x1 = [df1.filter(regex='RISKR').columns[((df1.filter(regex='RISKR')>=3).mean()>0.3)]]\n",
        "x2 = [df1.filter(regex='EALR').columns[((df1.filter(regex='EALR')>=3).mean()>0.3)]]\n",
        "x3 = [df1.filter(regex='_RISK_SCORE').columns]\n",
        "x4 = [df1.filter(regex='EALS').columns[df1.filter(regex='EALS').isna().mean()<0.1]]\n",
        "x5 = [df1.filter(regex='RISKS').columns[df1.filter(regex='RISKS').isna().mean()<0.1]]\n",
        "xx = x0+x1+x2+x3+x4+x5"
      ],
      "metadata": {
        "id": "0TwdYXtBAl6c"
      },
      "execution_count": null,
      "outputs": []
    },
    {
      "cell_type": "code",
      "source": [
        "for i in xx:\n",
        "  if(type(i)==type('hi')):\n",
        "    Resi = Runnestedlogit(v3+[i],v3+[i],df1)\n",
        "    print(i)\n",
        "    print(Resi[0].params[-1])\n",
        "  else:\n",
        "    Resi = Runnestedlogit(v3+list(i),v3+list(i),df1)\n",
        "    print(i[0])\n",
        "    print(Resi[0].params[-1])\n",
        "  printres(Resi)"
      ],
      "metadata": {
        "colab": {
          "base_uri": "https://localhost:8080/",
          "height": 1000
        },
        "id": "oVt2ggmT9-8U",
        "outputId": "ab47577b-f924-4b49-bd15-be9bbb3e88cc"
      },
      "execution_count": null,
      "outputs": [
        {
          "output_type": "stream",
          "name": "stdout",
          "text": [
            "Optimization terminated successfully.\n",
            "         Current function value: 0.315082\n",
            "         Iterations 7\n",
            "Optimization terminated successfully.\n",
            "         Current function value: 0.412994\n",
            "         Iterations 7\n",
            "EAL_VALT\n",
            "3.7551310501125194e-10\n",
            "The area under curve is 77.01%\n",
            "The area under curve is 81.85%\n",
            "KS between class1 and others: 0.3998 (p-value: 0.000e+00)\n",
            "KS between class1 and others: 0.4994 (p-value: 0.000e+00)\n",
            "Optimization terminated successfully.\n",
            "         Current function value: 0.314002\n",
            "         Iterations 7\n",
            "Optimization terminated successfully.\n",
            "         Current function value: 0.408759\n",
            "         Iterations 7\n",
            "EAL_SCORE\n",
            "0.014184506400477406\n",
            "The area under curve is 77.09%\n",
            "The area under curve is 82.27%\n",
            "KS between class1 and others: 0.4019 (p-value: 0.000e+00)\n",
            "KS between class1 and others: 0.5026 (p-value: 0.000e+00)\n",
            "Optimization terminated successfully.\n",
            "         Current function value: 0.315112\n",
            "         Iterations 7\n",
            "Optimization terminated successfully.\n",
            "         Current function value: 0.413067\n",
            "         Iterations 7\n",
            "RISK_VALUE\n",
            "2.7545422213661936e-10\n",
            "The area under curve is 77.00%\n",
            "The area under curve is 81.84%\n",
            "KS between class1 and others: 0.3996 (p-value: 0.000e+00)\n",
            "KS between class1 and others: 0.4992 (p-value: 0.000e+00)\n",
            "Optimization terminated successfully.\n",
            "         Current function value: 0.313927\n",
            "         Iterations 7\n",
            "Optimization terminated successfully.\n",
            "         Current function value: 0.408965\n",
            "         Iterations 7\n",
            "RISK_SCORE\n",
            "0.014366757171022674\n",
            "The area under curve is 77.11%\n",
            "The area under curve is 82.24%\n",
            "KS between class1 and others: 0.4025 (p-value: 0.000e+00)\n",
            "KS between class1 and others: 0.5023 (p-value: 0.000e+00)\n",
            "Optimization terminated successfully.\n",
            "         Current function value: 0.313404\n",
            "         Iterations 7\n",
            "Optimization terminated successfully.\n",
            "         Current function value: 0.409737\n",
            "         Iterations 7\n",
            "RISK_RATNG\n",
            "0.27639516848614054\n",
            "The area under curve is 77.28%\n",
            "The area under curve is 82.17%\n",
            "KS between class1 and others: 0.4047 (p-value: 0.000e+00)\n",
            "KS between class1 and others: 0.5034 (p-value: 0.000e+00)\n",
            "Optimization terminated successfully.\n",
            "         Current function value: 0.313521\n",
            "         Iterations 7\n",
            "Optimization terminated successfully.\n",
            "         Current function value: 0.409710\n",
            "         Iterations 7\n",
            "EAL_RATNG\n",
            "0.26767063474187225\n",
            "The area under curve is 77.24%\n",
            "The area under curve is 82.18%\n",
            "KS between class1 and others: 0.4036 (p-value: 0.000e+00)\n",
            "KS between class1 and others: 0.5035 (p-value: 0.000e+00)\n",
            "Optimization terminated successfully.\n",
            "         Current function value: 0.306627\n",
            "         Iterations 7\n",
            "Optimization terminated successfully.\n",
            "         Current function value: 0.409107\n",
            "         Iterations 7\n",
            "CWAV_RISKR\n",
            "-0.050359278477027584\n",
            "The area under curve is 79.22%\n",
            "The area under curve is 82.23%\n",
            "KS between class1 and others: 0.4352 (p-value: 0.000e+00)\n",
            "KS between class1 and others: 0.5034 (p-value: 0.000e+00)\n",
            "Optimization terminated successfully.\n",
            "         Current function value: 0.305035\n",
            "         Iterations 7\n",
            "Optimization terminated successfully.\n",
            "         Current function value: 0.407354\n",
            "         Iterations 7\n",
            "CWAV_EALR\n",
            "-0.05074940888436597\n",
            "The area under curve is 79.59%\n",
            "The area under curve is 82.39%\n",
            "KS between class1 and others: 0.4406 (p-value: 0.000e+00)\n",
            "KS between class1 and others: 0.5063 (p-value: 0.000e+00)\n",
            "Optimization terminated successfully.\n",
            "         Current function value: 0.313642\n",
            "         Iterations 7\n",
            "Optimization terminated successfully.\n",
            "         Current function value: 0.408612\n",
            "         Iterations 7\n",
            "Decile_10_RISK_SCORE\n",
            "0.014993491734595304\n",
            "The area under curve is 77.19%\n",
            "The area under curve is 82.28%\n",
            "KS between class1 and others: 0.4040 (p-value: 0.000e+00)\n",
            "KS between class1 and others: 0.5028 (p-value: 0.000e+00)\n"
          ]
        },
        {
          "output_type": "error",
          "ename": "ValueError",
          "evalue": "zero-size array to reduction operation maximum which has no identity",
          "traceback": [
            "\u001b[0;31m---------------------------------------------------------------------------\u001b[0m",
            "\u001b[0;31mValueError\u001b[0m                                Traceback (most recent call last)",
            "\u001b[0;32m<ipython-input-100-deae8e89998e>\u001b[0m in \u001b[0;36m<cell line: 1>\u001b[0;34m()\u001b[0m\n\u001b[1;32m      5\u001b[0m     \u001b[0mprint\u001b[0m\u001b[0;34m(\u001b[0m\u001b[0mResi\u001b[0m\u001b[0;34m[\u001b[0m\u001b[0;36m0\u001b[0m\u001b[0;34m]\u001b[0m\u001b[0;34m.\u001b[0m\u001b[0mparams\u001b[0m\u001b[0;34m[\u001b[0m\u001b[0;34m-\u001b[0m\u001b[0;36m1\u001b[0m\u001b[0;34m]\u001b[0m\u001b[0;34m)\u001b[0m\u001b[0;34m\u001b[0m\u001b[0;34m\u001b[0m\u001b[0m\n\u001b[1;32m      6\u001b[0m   \u001b[0;32melse\u001b[0m\u001b[0;34m:\u001b[0m\u001b[0;34m\u001b[0m\u001b[0;34m\u001b[0m\u001b[0m\n\u001b[0;32m----> 7\u001b[0;31m     \u001b[0mResi\u001b[0m \u001b[0;34m=\u001b[0m \u001b[0mRunnestedlogit\u001b[0m\u001b[0;34m(\u001b[0m\u001b[0mv3\u001b[0m\u001b[0;34m+\u001b[0m\u001b[0mlist\u001b[0m\u001b[0;34m(\u001b[0m\u001b[0mi\u001b[0m\u001b[0;34m)\u001b[0m\u001b[0;34m,\u001b[0m\u001b[0mv3\u001b[0m\u001b[0;34m+\u001b[0m\u001b[0mlist\u001b[0m\u001b[0;34m(\u001b[0m\u001b[0mi\u001b[0m\u001b[0;34m)\u001b[0m\u001b[0;34m,\u001b[0m\u001b[0mdf1\u001b[0m\u001b[0;34m)\u001b[0m\u001b[0;34m\u001b[0m\u001b[0;34m\u001b[0m\u001b[0m\n\u001b[0m\u001b[1;32m      8\u001b[0m     \u001b[0mprint\u001b[0m\u001b[0;34m(\u001b[0m\u001b[0mi\u001b[0m\u001b[0;34m[\u001b[0m\u001b[0;36m0\u001b[0m\u001b[0;34m]\u001b[0m\u001b[0;34m)\u001b[0m\u001b[0;34m\u001b[0m\u001b[0;34m\u001b[0m\u001b[0m\n\u001b[1;32m      9\u001b[0m     \u001b[0mprint\u001b[0m\u001b[0;34m(\u001b[0m\u001b[0mResi\u001b[0m\u001b[0;34m[\u001b[0m\u001b[0;36m0\u001b[0m\u001b[0;34m]\u001b[0m\u001b[0;34m.\u001b[0m\u001b[0mparams\u001b[0m\u001b[0;34m[\u001b[0m\u001b[0;34m-\u001b[0m\u001b[0;36m1\u001b[0m\u001b[0;34m]\u001b[0m\u001b[0;34m)\u001b[0m\u001b[0;34m\u001b[0m\u001b[0;34m\u001b[0m\u001b[0m\n",
            "\u001b[0;32m<ipython-input-15-87bcddfc6bc9>\u001b[0m in \u001b[0;36mRunnestedlogit\u001b[0;34m(varlist, varlist2, df)\u001b[0m\n\u001b[1;32m     15\u001b[0m   \u001b[0mdf3\u001b[0m  \u001b[0;34m=\u001b[0m \u001b[0mdf3\u001b[0m\u001b[0;34m[\u001b[0m\u001b[0mTPS2\u001b[0m\u001b[0;34m==\u001b[0m\u001b[0;36m0\u001b[0m\u001b[0;34m]\u001b[0m\u001b[0;34m\u001b[0m\u001b[0;34m\u001b[0m\u001b[0m\n\u001b[1;32m     16\u001b[0m \u001b[0;34m\u001b[0m\u001b[0m\n\u001b[0;32m---> 17\u001b[0;31m   \u001b[0mTPSlogit\u001b[0m \u001b[0;34m=\u001b[0m \u001b[0msm\u001b[0m\u001b[0;34m.\u001b[0m\u001b[0mLogit\u001b[0m\u001b[0;34m(\u001b[0m\u001b[0mTPS\u001b[0m\u001b[0;34m,\u001b[0m \u001b[0msm\u001b[0m\u001b[0;34m.\u001b[0m\u001b[0madd_constant\u001b[0m\u001b[0;34m(\u001b[0m\u001b[0mdf2\u001b[0m\u001b[0;34m)\u001b[0m\u001b[0;34m)\u001b[0m\u001b[0;34m.\u001b[0m\u001b[0mfit\u001b[0m\u001b[0;34m(\u001b[0m\u001b[0;34m)\u001b[0m\u001b[0;34m\u001b[0m\u001b[0;34m\u001b[0m\u001b[0m\n\u001b[0m\u001b[1;32m     18\u001b[0m   \u001b[0;31m#print(TPSlogit.summary())\u001b[0m\u001b[0;34m\u001b[0m\u001b[0;34m\u001b[0m\u001b[0m\n\u001b[1;32m     19\u001b[0m   \u001b[0mTPSlogit_pred\u001b[0m \u001b[0;34m=\u001b[0m \u001b[0mTPSlogit\u001b[0m\u001b[0;34m.\u001b[0m\u001b[0mpredict\u001b[0m\u001b[0;34m(\u001b[0m\u001b[0msm\u001b[0m\u001b[0;34m.\u001b[0m\u001b[0madd_constant\u001b[0m\u001b[0;34m(\u001b[0m\u001b[0mdf2\u001b[0m\u001b[0;34m)\u001b[0m\u001b[0;34m)\u001b[0m\u001b[0;34m\u001b[0m\u001b[0;34m\u001b[0m\u001b[0m\n",
            "\u001b[0;32m/usr/local/lib/python3.10/dist-packages/statsmodels/discrete/discrete_model.py\u001b[0m in \u001b[0;36m__init__\u001b[0;34m(self, endog, exog, offset, check_rank, **kwargs)\u001b[0m\n\u001b[1;32m    473\u001b[0m         \u001b[0;31m# unconditional check, requires no extra kwargs added by subclasses\u001b[0m\u001b[0;34m\u001b[0m\u001b[0;34m\u001b[0m\u001b[0m\n\u001b[1;32m    474\u001b[0m         \u001b[0mself\u001b[0m\u001b[0;34m.\u001b[0m\u001b[0m_check_kwargs\u001b[0m\u001b[0;34m(\u001b[0m\u001b[0mkwargs\u001b[0m\u001b[0;34m)\u001b[0m\u001b[0;34m\u001b[0m\u001b[0;34m\u001b[0m\u001b[0m\n\u001b[0;32m--> 475\u001b[0;31m         super().__init__(endog, exog, offset=offset, check_rank=check_rank,\n\u001b[0m\u001b[1;32m    476\u001b[0m                          **kwargs)\n\u001b[1;32m    477\u001b[0m         \u001b[0;32mif\u001b[0m \u001b[0;32mnot\u001b[0m \u001b[0missubclass\u001b[0m\u001b[0;34m(\u001b[0m\u001b[0mself\u001b[0m\u001b[0;34m.\u001b[0m\u001b[0m__class__\u001b[0m\u001b[0;34m,\u001b[0m \u001b[0mMultinomialModel\u001b[0m\u001b[0;34m)\u001b[0m\u001b[0;34m:\u001b[0m\u001b[0;34m\u001b[0m\u001b[0;34m\u001b[0m\u001b[0m\n",
            "\u001b[0;32m/usr/local/lib/python3.10/dist-packages/statsmodels/discrete/discrete_model.py\u001b[0m in \u001b[0;36m__init__\u001b[0;34m(self, endog, exog, check_rank, **kwargs)\u001b[0m\n\u001b[1;32m    183\u001b[0m     \u001b[0;32mdef\u001b[0m \u001b[0m__init__\u001b[0m\u001b[0;34m(\u001b[0m\u001b[0mself\u001b[0m\u001b[0;34m,\u001b[0m \u001b[0mendog\u001b[0m\u001b[0;34m,\u001b[0m \u001b[0mexog\u001b[0m\u001b[0;34m,\u001b[0m \u001b[0mcheck_rank\u001b[0m\u001b[0;34m=\u001b[0m\u001b[0;32mTrue\u001b[0m\u001b[0;34m,\u001b[0m \u001b[0;34m**\u001b[0m\u001b[0mkwargs\u001b[0m\u001b[0;34m)\u001b[0m\u001b[0;34m:\u001b[0m\u001b[0;34m\u001b[0m\u001b[0;34m\u001b[0m\u001b[0m\n\u001b[1;32m    184\u001b[0m         \u001b[0mself\u001b[0m\u001b[0;34m.\u001b[0m\u001b[0m_check_rank\u001b[0m \u001b[0;34m=\u001b[0m \u001b[0mcheck_rank\u001b[0m\u001b[0;34m\u001b[0m\u001b[0;34m\u001b[0m\u001b[0m\n\u001b[0;32m--> 185\u001b[0;31m         \u001b[0msuper\u001b[0m\u001b[0;34m(\u001b[0m\u001b[0;34m)\u001b[0m\u001b[0;34m.\u001b[0m\u001b[0m__init__\u001b[0m\u001b[0;34m(\u001b[0m\u001b[0mendog\u001b[0m\u001b[0;34m,\u001b[0m \u001b[0mexog\u001b[0m\u001b[0;34m,\u001b[0m \u001b[0;34m**\u001b[0m\u001b[0mkwargs\u001b[0m\u001b[0;34m)\u001b[0m\u001b[0;34m\u001b[0m\u001b[0;34m\u001b[0m\u001b[0m\n\u001b[0m\u001b[1;32m    186\u001b[0m         \u001b[0mself\u001b[0m\u001b[0;34m.\u001b[0m\u001b[0mraise_on_perfect_prediction\u001b[0m \u001b[0;34m=\u001b[0m \u001b[0;32mFalse\u001b[0m  \u001b[0;31m# keep for backwards compat\u001b[0m\u001b[0;34m\u001b[0m\u001b[0;34m\u001b[0m\u001b[0m\n\u001b[1;32m    187\u001b[0m         \u001b[0mself\u001b[0m\u001b[0;34m.\u001b[0m\u001b[0mk_extra\u001b[0m \u001b[0;34m=\u001b[0m \u001b[0;36m0\u001b[0m\u001b[0;34m\u001b[0m\u001b[0;34m\u001b[0m\u001b[0m\n",
            "\u001b[0;32m/usr/local/lib/python3.10/dist-packages/statsmodels/base/model.py\u001b[0m in \u001b[0;36m__init__\u001b[0;34m(self, endog, exog, **kwargs)\u001b[0m\n\u001b[1;32m    268\u001b[0m \u001b[0;34m\u001b[0m\u001b[0m\n\u001b[1;32m    269\u001b[0m     \u001b[0;32mdef\u001b[0m \u001b[0m__init__\u001b[0m\u001b[0;34m(\u001b[0m\u001b[0mself\u001b[0m\u001b[0;34m,\u001b[0m \u001b[0mendog\u001b[0m\u001b[0;34m,\u001b[0m \u001b[0mexog\u001b[0m\u001b[0;34m=\u001b[0m\u001b[0;32mNone\u001b[0m\u001b[0;34m,\u001b[0m \u001b[0;34m**\u001b[0m\u001b[0mkwargs\u001b[0m\u001b[0;34m)\u001b[0m\u001b[0;34m:\u001b[0m\u001b[0;34m\u001b[0m\u001b[0;34m\u001b[0m\u001b[0m\n\u001b[0;32m--> 270\u001b[0;31m         \u001b[0msuper\u001b[0m\u001b[0;34m(\u001b[0m\u001b[0;34m)\u001b[0m\u001b[0;34m.\u001b[0m\u001b[0m__init__\u001b[0m\u001b[0;34m(\u001b[0m\u001b[0mendog\u001b[0m\u001b[0;34m,\u001b[0m \u001b[0mexog\u001b[0m\u001b[0;34m,\u001b[0m \u001b[0;34m**\u001b[0m\u001b[0mkwargs\u001b[0m\u001b[0;34m)\u001b[0m\u001b[0;34m\u001b[0m\u001b[0;34m\u001b[0m\u001b[0m\n\u001b[0m\u001b[1;32m    271\u001b[0m         \u001b[0mself\u001b[0m\u001b[0;34m.\u001b[0m\u001b[0minitialize\u001b[0m\u001b[0;34m(\u001b[0m\u001b[0;34m)\u001b[0m\u001b[0;34m\u001b[0m\u001b[0;34m\u001b[0m\u001b[0m\n\u001b[1;32m    272\u001b[0m \u001b[0;34m\u001b[0m\u001b[0m\n",
            "\u001b[0;32m/usr/local/lib/python3.10/dist-packages/statsmodels/base/model.py\u001b[0m in \u001b[0;36m__init__\u001b[0;34m(self, endog, exog, **kwargs)\u001b[0m\n\u001b[1;32m     93\u001b[0m         \u001b[0mmissing\u001b[0m \u001b[0;34m=\u001b[0m \u001b[0mkwargs\u001b[0m\u001b[0;34m.\u001b[0m\u001b[0mpop\u001b[0m\u001b[0;34m(\u001b[0m\u001b[0;34m'missing'\u001b[0m\u001b[0;34m,\u001b[0m \u001b[0;34m'none'\u001b[0m\u001b[0;34m)\u001b[0m\u001b[0;34m\u001b[0m\u001b[0;34m\u001b[0m\u001b[0m\n\u001b[1;32m     94\u001b[0m         \u001b[0mhasconst\u001b[0m \u001b[0;34m=\u001b[0m \u001b[0mkwargs\u001b[0m\u001b[0;34m.\u001b[0m\u001b[0mpop\u001b[0m\u001b[0;34m(\u001b[0m\u001b[0;34m'hasconst'\u001b[0m\u001b[0;34m,\u001b[0m \u001b[0;32mNone\u001b[0m\u001b[0;34m)\u001b[0m\u001b[0;34m\u001b[0m\u001b[0;34m\u001b[0m\u001b[0m\n\u001b[0;32m---> 95\u001b[0;31m         self.data = self._handle_data(endog, exog, missing, hasconst,\n\u001b[0m\u001b[1;32m     96\u001b[0m                                       **kwargs)\n\u001b[1;32m     97\u001b[0m         \u001b[0mself\u001b[0m\u001b[0;34m.\u001b[0m\u001b[0mk_constant\u001b[0m \u001b[0;34m=\u001b[0m \u001b[0mself\u001b[0m\u001b[0;34m.\u001b[0m\u001b[0mdata\u001b[0m\u001b[0;34m.\u001b[0m\u001b[0mk_constant\u001b[0m\u001b[0;34m\u001b[0m\u001b[0;34m\u001b[0m\u001b[0m\n",
            "\u001b[0;32m/usr/local/lib/python3.10/dist-packages/statsmodels/base/model.py\u001b[0m in \u001b[0;36m_handle_data\u001b[0;34m(self, endog, exog, missing, hasconst, **kwargs)\u001b[0m\n\u001b[1;32m    133\u001b[0m \u001b[0;34m\u001b[0m\u001b[0m\n\u001b[1;32m    134\u001b[0m     \u001b[0;32mdef\u001b[0m \u001b[0m_handle_data\u001b[0m\u001b[0;34m(\u001b[0m\u001b[0mself\u001b[0m\u001b[0;34m,\u001b[0m \u001b[0mendog\u001b[0m\u001b[0;34m,\u001b[0m \u001b[0mexog\u001b[0m\u001b[0;34m,\u001b[0m \u001b[0mmissing\u001b[0m\u001b[0;34m,\u001b[0m \u001b[0mhasconst\u001b[0m\u001b[0;34m,\u001b[0m \u001b[0;34m**\u001b[0m\u001b[0mkwargs\u001b[0m\u001b[0;34m)\u001b[0m\u001b[0;34m:\u001b[0m\u001b[0;34m\u001b[0m\u001b[0;34m\u001b[0m\u001b[0m\n\u001b[0;32m--> 135\u001b[0;31m         \u001b[0mdata\u001b[0m \u001b[0;34m=\u001b[0m \u001b[0mhandle_data\u001b[0m\u001b[0;34m(\u001b[0m\u001b[0mendog\u001b[0m\u001b[0;34m,\u001b[0m \u001b[0mexog\u001b[0m\u001b[0;34m,\u001b[0m \u001b[0mmissing\u001b[0m\u001b[0;34m,\u001b[0m \u001b[0mhasconst\u001b[0m\u001b[0;34m,\u001b[0m \u001b[0;34m**\u001b[0m\u001b[0mkwargs\u001b[0m\u001b[0;34m)\u001b[0m\u001b[0;34m\u001b[0m\u001b[0;34m\u001b[0m\u001b[0m\n\u001b[0m\u001b[1;32m    136\u001b[0m         \u001b[0;31m# kwargs arrays could have changed, easier to just attach here\u001b[0m\u001b[0;34m\u001b[0m\u001b[0;34m\u001b[0m\u001b[0m\n\u001b[1;32m    137\u001b[0m         \u001b[0;32mfor\u001b[0m \u001b[0mkey\u001b[0m \u001b[0;32min\u001b[0m \u001b[0mkwargs\u001b[0m\u001b[0;34m:\u001b[0m\u001b[0;34m\u001b[0m\u001b[0;34m\u001b[0m\u001b[0m\n",
            "\u001b[0;32m/usr/local/lib/python3.10/dist-packages/statsmodels/base/data.py\u001b[0m in \u001b[0;36mhandle_data\u001b[0;34m(endog, exog, missing, hasconst, **kwargs)\u001b[0m\n\u001b[1;32m    673\u001b[0m \u001b[0;34m\u001b[0m\u001b[0m\n\u001b[1;32m    674\u001b[0m     \u001b[0mklass\u001b[0m \u001b[0;34m=\u001b[0m \u001b[0mhandle_data_class_factory\u001b[0m\u001b[0;34m(\u001b[0m\u001b[0mendog\u001b[0m\u001b[0;34m,\u001b[0m \u001b[0mexog\u001b[0m\u001b[0;34m)\u001b[0m\u001b[0;34m\u001b[0m\u001b[0;34m\u001b[0m\u001b[0m\n\u001b[0;32m--> 675\u001b[0;31m     return klass(endog, exog=exog, missing=missing, hasconst=hasconst,\n\u001b[0m\u001b[1;32m    676\u001b[0m                  **kwargs)\n",
            "\u001b[0;32m/usr/local/lib/python3.10/dist-packages/statsmodels/base/data.py\u001b[0m in \u001b[0;36m__init__\u001b[0;34m(self, endog, exog, missing, hasconst, **kwargs)\u001b[0m\n\u001b[1;32m     86\u001b[0m         \u001b[0mself\u001b[0m\u001b[0;34m.\u001b[0m\u001b[0mconst_idx\u001b[0m \u001b[0;34m=\u001b[0m \u001b[0;32mNone\u001b[0m\u001b[0;34m\u001b[0m\u001b[0;34m\u001b[0m\u001b[0m\n\u001b[1;32m     87\u001b[0m         \u001b[0mself\u001b[0m\u001b[0;34m.\u001b[0m\u001b[0mk_constant\u001b[0m \u001b[0;34m=\u001b[0m \u001b[0;36m0\u001b[0m\u001b[0;34m\u001b[0m\u001b[0;34m\u001b[0m\u001b[0m\n\u001b[0;32m---> 88\u001b[0;31m         \u001b[0mself\u001b[0m\u001b[0;34m.\u001b[0m\u001b[0m_handle_constant\u001b[0m\u001b[0;34m(\u001b[0m\u001b[0mhasconst\u001b[0m\u001b[0;34m)\u001b[0m\u001b[0;34m\u001b[0m\u001b[0;34m\u001b[0m\u001b[0m\n\u001b[0m\u001b[1;32m     89\u001b[0m         \u001b[0mself\u001b[0m\u001b[0;34m.\u001b[0m\u001b[0m_check_integrity\u001b[0m\u001b[0;34m(\u001b[0m\u001b[0;34m)\u001b[0m\u001b[0;34m\u001b[0m\u001b[0;34m\u001b[0m\u001b[0m\n\u001b[1;32m     90\u001b[0m         \u001b[0mself\u001b[0m\u001b[0;34m.\u001b[0m\u001b[0m_cache\u001b[0m \u001b[0;34m=\u001b[0m \u001b[0;34m{\u001b[0m\u001b[0;34m}\u001b[0m\u001b[0;34m\u001b[0m\u001b[0;34m\u001b[0m\u001b[0m\n",
            "\u001b[0;32m/usr/local/lib/python3.10/dist-packages/statsmodels/base/data.py\u001b[0m in \u001b[0;36m_handle_constant\u001b[0;34m(self, hasconst)\u001b[0m\n\u001b[1;32m    130\u001b[0m             \u001b[0;31m# detect where the constant is\u001b[0m\u001b[0;34m\u001b[0m\u001b[0;34m\u001b[0m\u001b[0m\n\u001b[1;32m    131\u001b[0m             \u001b[0mcheck_implicit\u001b[0m \u001b[0;34m=\u001b[0m \u001b[0;32mFalse\u001b[0m\u001b[0;34m\u001b[0m\u001b[0;34m\u001b[0m\u001b[0m\n\u001b[0;32m--> 132\u001b[0;31m             \u001b[0mexog_max\u001b[0m \u001b[0;34m=\u001b[0m \u001b[0mnp\u001b[0m\u001b[0;34m.\u001b[0m\u001b[0mmax\u001b[0m\u001b[0;34m(\u001b[0m\u001b[0mself\u001b[0m\u001b[0;34m.\u001b[0m\u001b[0mexog\u001b[0m\u001b[0;34m,\u001b[0m \u001b[0maxis\u001b[0m\u001b[0;34m=\u001b[0m\u001b[0;36m0\u001b[0m\u001b[0;34m)\u001b[0m\u001b[0;34m\u001b[0m\u001b[0;34m\u001b[0m\u001b[0m\n\u001b[0m\u001b[1;32m    133\u001b[0m             \u001b[0;32mif\u001b[0m \u001b[0;32mnot\u001b[0m \u001b[0mnp\u001b[0m\u001b[0;34m.\u001b[0m\u001b[0misfinite\u001b[0m\u001b[0;34m(\u001b[0m\u001b[0mexog_max\u001b[0m\u001b[0;34m)\u001b[0m\u001b[0;34m.\u001b[0m\u001b[0mall\u001b[0m\u001b[0;34m(\u001b[0m\u001b[0;34m)\u001b[0m\u001b[0;34m:\u001b[0m\u001b[0;34m\u001b[0m\u001b[0;34m\u001b[0m\u001b[0m\n\u001b[1;32m    134\u001b[0m                 \u001b[0;32mraise\u001b[0m \u001b[0mMissingDataError\u001b[0m\u001b[0;34m(\u001b[0m\u001b[0;34m'exog contains inf or nans'\u001b[0m\u001b[0;34m)\u001b[0m\u001b[0;34m\u001b[0m\u001b[0;34m\u001b[0m\u001b[0m\n",
            "\u001b[0;32m/usr/local/lib/python3.10/dist-packages/numpy/core/fromnumeric.py\u001b[0m in \u001b[0;36mmax\u001b[0;34m(a, axis, out, keepdims, initial, where)\u001b[0m\n\u001b[1;32m   2808\u001b[0m     \u001b[0;36m5\u001b[0m\u001b[0;34m\u001b[0m\u001b[0;34m\u001b[0m\u001b[0m\n\u001b[1;32m   2809\u001b[0m     \"\"\"\n\u001b[0;32m-> 2810\u001b[0;31m     return _wrapreduction(a, np.maximum, 'max', axis, None, out,\n\u001b[0m\u001b[1;32m   2811\u001b[0m                           keepdims=keepdims, initial=initial, where=where)\n\u001b[1;32m   2812\u001b[0m \u001b[0;34m\u001b[0m\u001b[0m\n",
            "\u001b[0;32m/usr/local/lib/python3.10/dist-packages/numpy/core/fromnumeric.py\u001b[0m in \u001b[0;36m_wrapreduction\u001b[0;34m(obj, ufunc, method, axis, dtype, out, **kwargs)\u001b[0m\n\u001b[1;32m     86\u001b[0m                 \u001b[0;32mreturn\u001b[0m \u001b[0mreduction\u001b[0m\u001b[0;34m(\u001b[0m\u001b[0maxis\u001b[0m\u001b[0;34m=\u001b[0m\u001b[0maxis\u001b[0m\u001b[0;34m,\u001b[0m \u001b[0mout\u001b[0m\u001b[0;34m=\u001b[0m\u001b[0mout\u001b[0m\u001b[0;34m,\u001b[0m \u001b[0;34m**\u001b[0m\u001b[0mpasskwargs\u001b[0m\u001b[0;34m)\u001b[0m\u001b[0;34m\u001b[0m\u001b[0;34m\u001b[0m\u001b[0m\n\u001b[1;32m     87\u001b[0m \u001b[0;34m\u001b[0m\u001b[0m\n\u001b[0;32m---> 88\u001b[0;31m     \u001b[0;32mreturn\u001b[0m \u001b[0mufunc\u001b[0m\u001b[0;34m.\u001b[0m\u001b[0mreduce\u001b[0m\u001b[0;34m(\u001b[0m\u001b[0mobj\u001b[0m\u001b[0;34m,\u001b[0m \u001b[0maxis\u001b[0m\u001b[0;34m,\u001b[0m \u001b[0mdtype\u001b[0m\u001b[0;34m,\u001b[0m \u001b[0mout\u001b[0m\u001b[0;34m,\u001b[0m \u001b[0;34m**\u001b[0m\u001b[0mpasskwargs\u001b[0m\u001b[0;34m)\u001b[0m\u001b[0;34m\u001b[0m\u001b[0;34m\u001b[0m\u001b[0m\n\u001b[0m\u001b[1;32m     89\u001b[0m \u001b[0;34m\u001b[0m\u001b[0m\n\u001b[1;32m     90\u001b[0m \u001b[0;34m\u001b[0m\u001b[0m\n",
            "\u001b[0;31mValueError\u001b[0m: zero-size array to reduction operation maximum which has no identity"
          ]
        }
      ]
    },
    {
      "cell_type": "code",
      "source": [
        "# for i in xx[9:]:\n",
        "#   if(type(i)==type('hi')):\n",
        "#     Resi = Runnestedlogit(v3+[i],v3+[i],df1)\n",
        "#     print(i)\n",
        "#     print(Resi[0].params[-1])\n",
        "#   else:\n",
        "#     Resi = Runnestedlogit(v3+list(i),v3+list(i),df1)\n",
        "#     print(i[0])\n",
        "#     print(Resi[0].params[-1])\n",
        "#   printres(Resi)"
      ],
      "metadata": {
        "colab": {
          "base_uri": "https://localhost:8080/"
        },
        "id": "kGbvBxBkC2Od",
        "outputId": "532bea4c-fa48-4ab3-8387-35f16804b946"
      },
      "execution_count": null,
      "outputs": [
        {
          "output_type": "stream",
          "name": "stdout",
          "text": [
            "Optimization terminated successfully.\n",
            "         Current function value: 0.304982\n",
            "         Iterations 7\n",
            "Optimization terminated successfully.\n",
            "         Current function value: 0.407406\n",
            "         Iterations 7\n",
            "CWAV_EALS\n",
            "-0.005367346877962706\n",
            "The area under curve is 79.51%\n",
            "The area under curve is 82.39%\n",
            "KS between class1 and others: 0.4373 (p-value: 0.000e+00)\n",
            "KS between class1 and others: 0.5065 (p-value: 0.000e+00)\n",
            "Optimization terminated successfully.\n",
            "         Current function value: 0.305184\n",
            "         Iterations 7\n",
            "Optimization terminated successfully.\n",
            "         Current function value: 0.407713\n",
            "         Iterations 7\n",
            "CWAV_RISKS\n",
            "-0.005171069526805988\n",
            "The area under curve is 79.48%\n",
            "The area under curve is 82.35%\n",
            "KS between class1 and others: 0.4370 (p-value: 0.000e+00)\n",
            "KS between class1 and others: 0.5057 (p-value: 0.000e+00)\n"
          ]
        }
      ]
    },
    {
      "cell_type": "code",
      "source": [
        "Res_nri = Runnestedlogit(v3+list(xx[9]),v3+list(xx[9]),df1)\n",
        "print(Res_nri[0].params)"
      ],
      "metadata": {
        "colab": {
          "base_uri": "https://localhost:8080/"
        },
        "id": "nMBLDaP_F72U",
        "outputId": "a980cd58-978a-4758-da77-91d4ba48dbf8"
      },
      "execution_count": null,
      "outputs": [
        {
          "output_type": "stream",
          "name": "stdout",
          "text": [
            "Optimization terminated successfully.\n",
            "         Current function value: 0.304982\n",
            "         Iterations 7\n",
            "Optimization terminated successfully.\n",
            "         Current function value: 0.407406\n",
            "         Iterations 7\n",
            "const                   -3.038617\n",
            "cltv_current1           -0.044934\n",
            "cltv_current2           -0.013697\n",
            "cltv_current3            0.006829\n",
            "fico1                    0.001351\n",
            "fico2                    0.000503\n",
            "fico3                   -0.001341\n",
            "hpat2y                   1.624137\n",
            "dur_def_episode         -0.013223\n",
            "judicial                 0.097419\n",
            "deficiency               0.236372\n",
            "refinance               -0.064242\n",
            "flag_24                  0.022103\n",
            "noowner_occ             -0.194680\n",
            "proptype_CP             -0.672636\n",
            "proptype_MH             -0.672081\n",
            "proptype_PU              0.157420\n",
            "proptype_SF             -0.004822\n",
            "GSE                     -1.540982\n",
            "boom                     0.375634\n",
            "crisis                   0.626036\n",
            "bust                     0.869180\n",
            "post                     2.147342\n",
            "Current Interest Rate   -0.131913\n",
            "appreciation_factor      0.007158\n",
            "loan_age                 0.011301\n",
            "Log Original UPB         0.033927\n",
            "CWAV_EALS               -0.005729\n",
            "DRGT_EALS                0.004406\n",
            "ERQK_EALS                0.013455\n",
            "HAIL_EALS                0.001969\n",
            "HWAV_EALS                0.001162\n",
            "LNDS_EALS                0.003684\n",
            "LTNG_EALS                0.001852\n",
            "RFLD_EALS               -0.000316\n",
            "SWND_EALS               -0.000179\n",
            "TRND_EALS                0.000779\n",
            "WFIR_EALS                0.003195\n",
            "WNTW_EALS               -0.005367\n",
            "dtype: float64\n"
          ]
        }
      ]
    },
    {
      "cell_type": "code",
      "source": [
        "Res_nri[1].params"
      ],
      "metadata": {
        "colab": {
          "base_uri": "https://localhost:8080/"
        },
        "id": "mjafrAAkL8cF",
        "outputId": "40df6176-35c4-481f-e1f6-0127558e78c5"
      },
      "execution_count": null,
      "outputs": [
        {
          "output_type": "execute_result",
          "data": {
            "text/plain": [
              "const                    13.196910\n",
              "cltv_current1             0.013457\n",
              "cltv_current2            -0.004208\n",
              "cltv_current3             0.002326\n",
              "fico1                     0.000736\n",
              "fico2                    -0.003064\n",
              "fico3                    -0.001779\n",
              "hpat2y                   -1.776697\n",
              "dur_def_episode           0.095300\n",
              "judicial                 -1.003304\n",
              "deficiency                0.190661\n",
              "flag_24                  -0.239757\n",
              "noowner_occ              -0.039850\n",
              "proptype_CP               0.580590\n",
              "proptype_MH               0.839094\n",
              "proptype_PU               0.117063\n",
              "proptype_SF               0.250906\n",
              "GSE                       0.905518\n",
              "Normal                    0.026700\n",
              "Boom                     -0.023663\n",
              "Bust                     -0.197418\n",
              "PostCrisis               -0.153041\n",
              "channel_C                 0.021554\n",
              "channel_R                 0.051831\n",
              "loanpurpose_N             0.087194\n",
              "loanpurpose_P             0.047508\n",
              "loanpurpose_C             0.118431\n",
              "Current Interest Rate     0.100698\n",
              "appreciation_factor       2.394443\n",
              "loan_age                 -0.006857\n",
              "Log Original UPB         -1.214327\n",
              "CWAV_EALR                 0.010404\n",
              "ERQK_EALR                 0.043987\n",
              "HAIL_EALR                 0.213701\n",
              "HWAV_EALR                -0.003064\n",
              "ISTM_EALR                -0.062081\n",
              "LNDS_EALR                -0.283688\n",
              "LTNG_EALR                -0.130587\n",
              "RFLD_EALR                -0.112226\n",
              "SWND_EALR                -0.087421\n",
              "TRND_EALR                 0.049925\n",
              "WFIR_EALR                -0.075144\n",
              "WNTW_EALR                 0.068088\n",
              "dtype: float64"
            ]
          },
          "metadata": {},
          "execution_count": 47
        }
      ]
    },
    {
      "cell_type": "code",
      "source": [],
      "metadata": {
        "id": "UJTE5i2peTXr"
      },
      "execution_count": null,
      "outputs": []
    },
    {
      "cell_type": "code",
      "source": [
        "((df.filter(regex='EALR')>=3).mean()).plot(kind = 'bar')\n",
        "plt.axhline(y=0.3, color='black', linestyle='--')"
      ],
      "metadata": {
        "colab": {
          "base_uri": "https://localhost:8080/",
          "height": 522
        },
        "id": "W_nXcvFHqt_B",
        "outputId": "6fc4d88c-2568-4cac-b520-08228b8649f8"
      },
      "execution_count": null,
      "outputs": [
        {
          "output_type": "execute_result",
          "data": {
            "text/plain": [
              "<matplotlib.lines.Line2D at 0x7ba152a58280>"
            ]
          },
          "metadata": {},
          "execution_count": 64
        },
        {
          "output_type": "display_data",
          "data": {
            "text/plain": [
              "<Figure size 640x480 with 1 Axes>"
            ],
            "image/png": "[encoded data removed]"
          },
          "metadata": {}
        }
      ]
    },
    {
      "cell_type": "markdown",
      "source": [
        "# Final"
      ],
      "metadata": {
        "id": "iBKKQ4BCWDSO"
      }
    },
    {
      "cell_type": "code",
      "source": [
        "base_3 = Runnestedlogit(v3,v3,df1)\n",
        "printres(base_3)"
      ],
      "metadata": {
        "colab": {
          "base_uri": "https://localhost:8080/"
        },
        "id": "6r6AD0gYIHRc",
        "outputId": "e40bae3a-43b6-4d57-8be3-192213050bfc"
      },
      "execution_count": null,
      "outputs": [
        {
          "output_type": "stream",
          "name": "stdout",
          "text": [
            "Optimization terminated successfully.\n",
            "         Current function value: 0.400343\n",
            "         Iterations 7\n",
            "Optimization terminated successfully.\n",
            "         Current function value: 0.354247\n",
            "         Iterations 7\n",
            "The area under curve is 80.34%\n",
            "The area under curve is 78.22%\n",
            "KS between class1 and others: 0.4719 (p-value: 0.000e+00)\n",
            "KS between class1 and others: 0.4258 (p-value: 0.000e+00)\n"
          ]
        }
      ]
    },
    {
      "cell_type": "code",
      "source": [
        "print(base_3[0].summary())"
      ],
      "metadata": {
        "colab": {
          "base_uri": "https://localhost:8080/"
        },
        "id": "kWuISOGPIXCC",
        "outputId": "4475393e-762a-4139-ab53-96a29631cabb"
      },
      "execution_count": null,
      "outputs": [
        {
          "output_type": "stream",
          "name": "stdout",
          "text": [
            "                           Logit Regression Results                           \n",
            "==============================================================================\n",
            "Dep. Variable:                     SS   No. Observations:               911346\n",
            "Model:                          Logit   Df Residuals:                   911316\n",
            "Method:                           MLE   Df Model:                           29\n",
            "Date:                Wed, 08 May 2024   Pseudo R-squ.:                  0.2031\n",
            "Time:                        17:54:34   Log-Likelihood:            -3.6485e+05\n",
            "converged:                       True   LL-Null:                   -4.5782e+05\n",
            "Covariance Type:            nonrobust   LLR p-value:                     0.000\n",
            "=========================================================================================\n",
            "                            coef    std err          z      P>|z|      [0.025      0.975]\n",
            "-----------------------------------------------------------------------------------------\n",
            "const                   -15.9485      0.227    -70.116      0.000     -16.394     -15.503\n",
            "cltv_current1             0.0195      0.001     31.910      0.000       0.018       0.021\n",
            "cltv_current2             0.0247      0.000     88.790      0.000       0.024       0.025\n",
            "cltv_current3             0.0030      0.000     13.331      0.000       0.003       0.003\n",
            "fico1                    -0.0023      0.000     -6.794      0.000      -0.003      -0.002\n",
            "fico2                     0.0027   8.38e-05     32.682      0.000       0.003       0.003\n",
            "fico3                     0.0031      0.000     12.139      0.000       0.003       0.004\n",
            "hpat2y                    0.9694      0.027     36.309      0.000       0.917       1.022\n",
            "dur_def_episode          -0.0838      0.000   -228.568      0.000      -0.085      -0.083\n",
            "judicial                  1.0454      0.007    154.485      0.000       1.032       1.059\n",
            "deficiency               -0.1616      0.010    -16.005      0.000      -0.181      -0.142\n",
            "flag_24                   0.3487      0.018     19.085      0.000       0.313       0.385\n",
            "noowner_occ               0.1416      0.009     14.948      0.000       0.123       0.160\n",
            "proptype_CP              -0.3156      0.080     -3.966      0.000      -0.471      -0.160\n",
            "proptype_MH              -0.7458      0.031    -24.167      0.000      -0.806      -0.685\n",
            "proptype_PU              -0.2731      0.012    -23.452      0.000      -0.296      -0.250\n",
            "proptype_SF              -0.4038      0.010    -41.385      0.000      -0.423      -0.385\n",
            "GSE                      -0.5568      0.009    -59.718      0.000      -0.575      -0.539\n",
            "Normal                   -0.1460      0.010    -15.335      0.000      -0.165      -0.127\n",
            "Boom                      0.0265      0.007      3.829      0.000       0.013       0.040\n",
            "Bust                      0.1078      0.014      7.623      0.000       0.080       0.136\n",
            "PostCrisis               -0.5639      0.029    -19.219      0.000      -0.621      -0.506\n",
            "channel_C                -0.0254      0.010     -2.546      0.011      -0.045      -0.006\n",
            "channel_R                -0.0609      0.010     -5.968      0.000      -0.081      -0.041\n",
            "loanpurpose_N            -0.0434      0.014     -3.160      0.002      -0.070      -0.016\n",
            "loanpurpose_P            -0.1108      0.011    -10.283      0.000      -0.132      -0.090\n",
            "loanpurpose_C             0.0843      0.010      8.121      0.000       0.064       0.105\n",
            "Current Interest Rate    -0.0967      0.004    -27.337      0.000      -0.104      -0.090\n",
            "loan_age                  0.0053      0.000     46.704      0.000       0.005       0.006\n",
            "Log Original UPB          1.2411      0.007    186.197      0.000       1.228       1.254\n",
            "=========================================================================================\n"
          ]
        }
      ]
    },
    {
      "cell_type": "code",
      "source": [
        "print(base_3[1].summary())"
      ],
      "metadata": {
        "colab": {
          "base_uri": "https://localhost:8080/"
        },
        "id": "yS0FO8Gp8o9N",
        "outputId": "ef1f62a0-c23d-4be4-ab59-1089e51a38a9"
      },
      "execution_count": null,
      "outputs": [
        {
          "output_type": "stream",
          "name": "stdout",
          "text": [
            "                           Logit Regression Results                           \n",
            "==============================================================================\n",
            "Dep. Variable:                    TPS   No. Observations:               727792\n",
            "Model:                          Logit   Df Residuals:                   727762\n",
            "Method:                           MLE   Df Model:                           29\n",
            "Date:                Wed, 08 May 2024   Pseudo R-squ.:                  0.1662\n",
            "Time:                        17:54:37   Log-Likelihood:            -2.5782e+05\n",
            "converged:                       True   LL-Null:                   -3.0921e+05\n",
            "Covariance Type:            nonrobust   LLR p-value:                     0.000\n",
            "=========================================================================================\n",
            "                            coef    std err          z      P>|z|      [0.025      0.975]\n",
            "-----------------------------------------------------------------------------------------\n",
            "const                    -6.2878      0.237    -26.527      0.000      -6.752      -5.823\n",
            "cltv_current1            -0.0525      0.000   -122.335      0.000      -0.053      -0.052\n",
            "cltv_current2             0.0022      0.000      5.944      0.000       0.001       0.003\n",
            "cltv_current3             0.0173      0.000     52.159      0.000       0.017       0.018\n",
            "fico1                     0.0005      0.000      1.335      0.182      -0.000       0.001\n",
            "fico2                     0.0014      0.000     14.078      0.000       0.001       0.002\n",
            "fico3                     0.0007      0.000      2.067      0.039    3.58e-05       0.001\n",
            "hpat2y                    2.1073      0.033     63.956      0.000       2.043       2.172\n",
            "dur_def_episode          -0.0312      0.000    -99.148      0.000      -0.032      -0.031\n",
            "judicial                  0.0607      0.008      7.505      0.000       0.045       0.077\n",
            "deficiency                0.3836      0.013     30.522      0.000       0.359       0.408\n",
            "flag_24                   0.1082      0.023      4.618      0.000       0.062       0.154\n",
            "noowner_occ              -0.0346      0.012     -2.867      0.004      -0.058      -0.011\n",
            "proptype_CP              -0.6028      0.103     -5.861      0.000      -0.804      -0.401\n",
            "proptype_MH              -0.7668      0.031    -24.750      0.000      -0.828      -0.706\n",
            "proptype_PU               0.0235      0.016      1.473      0.141      -0.008       0.055\n",
            "proptype_SF              -0.2920      0.013    -22.087      0.000      -0.318      -0.266\n",
            "GSE                      -1.7039      0.012   -145.842      0.000      -1.727      -1.681\n",
            "Normal                   -0.3866      0.011    -36.145      0.000      -0.408      -0.366\n",
            "Boom                     -0.0237      0.009     -2.523      0.012      -0.042      -0.005\n",
            "Bust                      0.2149      0.017     12.370      0.000       0.181       0.249\n",
            "PostCrisis                1.2766      0.021     60.268      0.000       1.235       1.318\n",
            "channel_C                 0.1496      0.015      9.976      0.000       0.120       0.179\n",
            "channel_R                 0.1912      0.015     12.721      0.000       0.162       0.221\n",
            "loanpurpose_N             0.0251      0.018      1.382      0.167      -0.010       0.061\n",
            "loanpurpose_P             0.0584      0.016      3.589      0.000       0.027       0.090\n",
            "loanpurpose_C             0.1472      0.016      9.392      0.000       0.117       0.178\n",
            "Current Interest Rate    -0.1950      0.004    -50.629      0.000      -0.203      -0.187\n",
            "loan_age                  0.0124      0.000    110.272      0.000       0.012       0.013\n",
            "Log Original UPB          0.5935      0.008     78.463      0.000       0.579       0.608\n",
            "=========================================================================================\n"
          ]
        }
      ]
    },
    {
      "cell_type": "markdown",
      "source": [
        "Loanpurpose\n",
        "Fico, Loanpurpose"
      ],
      "metadata": {
        "id": "nb5r_T40D28Q"
      }
    },
    {
      "cell_type": "code",
      "source": [
        "printres(base_3)"
      ],
      "metadata": {
        "colab": {
          "base_uri": "https://localhost:8080/"
        },
        "id": "V6hiOR2nk35k",
        "outputId": "c2e57a49-09aa-46cc-a4a9-4537d1043264"
      },
      "execution_count": null,
      "outputs": [
        {
          "output_type": "stream",
          "name": "stdout",
          "text": [
            "The area under curve is 80.34%\n",
            "The area under curve is 78.22%\n",
            "KS between class1 and others: 0.4719 (p-value: 0.000e+00)\n",
            "KS between class1 and others: 0.4258 (p-value: 0.000e+00)\n"
          ]
        }
      ]
    },
    {
      "cell_type": "code",
      "source": [
        "fpr1, tpr1, _ = roc_curve(base_3[2], base_3[4])\n",
        "roc_auc1 = auc(fpr1, tpr1)*100\n",
        "\n",
        "fpr2, tpr2, _ = roc_curve(base_3[3], base_3[5])\n",
        "roc_auc2 = auc(fpr2, tpr2)*100\n",
        "\n",
        "\n",
        "plt.figure()\n",
        "plt.plot(fpr1, tpr1, label=f'ROC curve SS (area = {roc_auc1:0.2f})')\n",
        "plt.plot(fpr2, tpr2, label=f'ROC curve TPS vs REO (area = {roc_auc2:0.2f})')\n",
        "plt.plot([0, 1], [0, 1], 'k--')\n",
        "plt.xlim([0.0, 1.0])\n",
        "plt.ylim([0.0, 1.05])\n",
        "plt.xlabel('False Positive Rate')\n",
        "plt.ylabel('True Positive Rate')\n",
        "plt.title('ROC')\n",
        "plt.legend(loc=\"lower right\")\n",
        "plt.show()"
      ],
      "metadata": {
        "colab": {
          "base_uri": "https://localhost:8080/",
          "height": 472
        },
        "id": "JzUB1S1LAQ2X",
        "outputId": "5bf83945-c8dd-46aa-9b21-9b348c0faf4e"
      },
      "execution_count": null,
      "outputs": [
        {
          "output_type": "display_data",
          "data": {
            "text/plain": [
              "<Figure size 640x480 with 1 Axes>"
            ],
            "image/png": "[encoded data removed]"
          },
          "metadata": {}
        }
      ]
    },
    {
      "cell_type": "code",
      "source": [
        "Res_nri = Runnestedlogit(v3+list(xx[7]),v3+list(xx[7]),df1)"
      ],
      "metadata": {
        "colab": {
          "base_uri": "https://localhost:8080/"
        },
        "id": "d9vg_dwqL1cm",
        "outputId": "e7560f5e-73ff-4eaa-bd2a-887977247763"
      },
      "execution_count": null,
      "outputs": [
        {
          "output_type": "stream",
          "name": "stdout",
          "text": [
            "Optimization terminated successfully.\n",
            "         Current function value: 0.393758\n",
            "         Iterations 7\n",
            "Optimization terminated successfully.\n",
            "         Current function value: 0.337019\n",
            "         Iterations 7\n"
          ]
        }
      ]
    },
    {
      "cell_type": "code",
      "source": [
        "printres(Res_nri)"
      ],
      "metadata": {
        "colab": {
          "base_uri": "https://localhost:8080/"
        },
        "id": "Rtlk9SqfkNbj",
        "outputId": "49a43034-2ce6-410b-8278-36c8fea4b57d"
      },
      "execution_count": null,
      "outputs": [
        {
          "output_type": "stream",
          "name": "stdout",
          "text": [
            "The area under curve is 81.12%\n",
            "The area under curve is 81.37%\n",
            "KS between class1 and others: 0.4826 (p-value: 0.000e+00)\n",
            "KS between class1 and others: 0.4768 (p-value: 0.000e+00)\n"
          ]
        }
      ]
    },
    {
      "cell_type": "code",
      "source": [
        "print(Res_nri[0].summary())"
      ],
      "metadata": {
        "colab": {
          "base_uri": "https://localhost:8080/"
        },
        "id": "8e-_PgcWMUXG",
        "outputId": "f79d0785-32cf-43da-ea39-2c3413c90815"
      },
      "execution_count": null,
      "outputs": [
        {
          "output_type": "stream",
          "name": "stdout",
          "text": [
            "                           Logit Regression Results                           \n",
            "==============================================================================\n",
            "Dep. Variable:                     SS   No. Observations:               911346\n",
            "Model:                          Logit   Df Residuals:                   911303\n",
            "Method:                           MLE   Df Model:                           42\n",
            "Date:                Wed, 08 May 2024   Pseudo R-squ.:                  0.2209\n",
            "Time:                        17:44:33   Log-Likelihood:            -3.5667e+05\n",
            "converged:                       True   LL-Null:                   -4.5782e+05\n",
            "Covariance Type:            nonrobust   LLR p-value:                     0.000\n",
            "=========================================================================================\n",
            "                            coef    std err          z      P>|z|      [0.025      0.975]\n",
            "-----------------------------------------------------------------------------------------\n",
            "const                   -13.8449      0.237    -58.375      0.000     -14.310     -13.380\n",
            "cltv_current1             0.0038      0.001      5.815      0.000       0.003       0.005\n",
            "cltv_current2             0.0063      0.000     17.842      0.000       0.006       0.007\n",
            "cltv_current3            -0.0028      0.000    -10.544      0.000      -0.003      -0.002\n",
            "fico1                    -0.0009      0.000     -2.709      0.007      -0.002      -0.000\n",
            "fico2                     0.0029   8.49e-05     33.867      0.000       0.003       0.003\n",
            "fico3                     0.0019      0.000      7.174      0.000       0.001       0.002\n",
            "hpat2y                    1.4668      0.028     53.048      0.000       1.413       1.521\n",
            "dur_def_episode          -0.0889      0.000   -237.096      0.000      -0.090      -0.088\n",
            "judicial                  0.9751      0.008    117.952      0.000       0.959       0.991\n",
            "deficiency               -0.2103      0.011    -18.789      0.000      -0.232      -0.188\n",
            "flag_24                   0.2289      0.019     12.310      0.000       0.192       0.265\n",
            "noowner_occ               0.0592      0.010      6.140      0.000       0.040       0.078\n",
            "proptype_CP              -0.4894      0.080     -6.093      0.000      -0.647      -0.332\n",
            "proptype_MH              -0.7022      0.032    -22.214      0.000      -0.764      -0.640\n",
            "proptype_PU              -0.1503      0.012    -12.507      0.000      -0.174      -0.127\n",
            "proptype_SF              -0.2543      0.010    -25.424      0.000      -0.274      -0.235\n",
            "GSE                      -0.5404      0.009    -56.914      0.000      -0.559      -0.522\n",
            "Normal                    0.0096      0.010      0.957      0.339      -0.010       0.029\n",
            "Boom                      0.0253      0.007      3.621      0.000       0.012       0.039\n",
            "Bust                      0.1796      0.014     12.549      0.000       0.152       0.208\n",
            "PostCrisis               -0.1892      0.030     -6.282      0.000      -0.248      -0.130\n",
            "channel_C                -0.0197      0.010     -1.954      0.051      -0.040    5.83e-05\n",
            "channel_R                -0.0579      0.010     -5.602      0.000      -0.078      -0.038\n",
            "loanpurpose_N            -0.0543      0.014     -3.912      0.000      -0.082      -0.027\n",
            "loanpurpose_P            -0.0276      0.011     -2.505      0.012      -0.049      -0.006\n",
            "loanpurpose_C            -0.0952      0.011     -8.909      0.000      -0.116      -0.074\n",
            "Current Interest Rate    -0.0644      0.004    -17.702      0.000      -0.072      -0.057\n",
            "appreciation_factor      -2.3091      0.035    -65.358      0.000      -2.378      -2.240\n",
            "loan_age                  0.0047      0.000     40.025      0.000       0.005       0.005\n",
            "Log Original UPB          1.1535      0.007    165.081      0.000       1.140       1.167\n",
            "CWAV_EALR                 0.0107      0.002      4.287      0.000       0.006       0.016\n",
            "ERQK_EALR                -0.0893      0.005    -18.369      0.000      -0.099      -0.080\n",
            "HAIL_EALR                -0.2139      0.004    -56.166      0.000      -0.221      -0.206\n",
            "HWAV_EALR                -0.0140      0.003     -4.471      0.000      -0.020      -0.008\n",
            "ISTM_EALR                 0.0852      0.003     24.497      0.000       0.078       0.092\n",
            "LNDS_EALR                 0.2747      0.006     43.464      0.000       0.262       0.287\n",
            "LTNG_EALR                 0.1208      0.004     28.061      0.000       0.112       0.129\n",
            "RFLD_EALR                 0.1066      0.004     24.809      0.000       0.098       0.115\n",
            "SWND_EALR                 0.0811      0.004     20.478      0.000       0.073       0.089\n",
            "TRND_EALR                -0.0592      0.004    -13.419      0.000      -0.068      -0.051\n",
            "WFIR_EALR                 0.0630      0.004     14.936      0.000       0.055       0.071\n",
            "WNTW_EALR                -0.0514      0.004    -13.713      0.000      -0.059      -0.044\n",
            "=========================================================================================\n"
          ]
        }
      ]
    },
    {
      "cell_type": "markdown",
      "source": [
        "Channel"
      ],
      "metadata": {
        "id": "GUq43dc4DG3_"
      }
    },
    {
      "cell_type": "markdown",
      "source": [
        "Fico, loanpurpose, SWND, TRND"
      ],
      "metadata": {
        "id": "JWRTtVq_CjUF"
      }
    },
    {
      "cell_type": "code",
      "source": [
        "fpr1, tpr1, _ = roc_curve(Res_nri[2], Res_nri[4])\n",
        "roc_auc1 = auc(fpr1, tpr1)*100\n",
        "\n",
        "fpr2, tpr2, _ = roc_curve(Res_nri[3], Res_nri[5])\n",
        "roc_auc2 = auc(fpr2, tpr2)*100\n",
        "\n",
        "\n",
        "plt.figure()\n",
        "plt.plot(fpr1, tpr1, label=f'ROC curve SS (area = {roc_auc1:0.2f})')\n",
        "plt.plot(fpr2, tpr2, label=f'ROC curve TPS vs REO (area = {roc_auc2:0.2f})')\n",
        "plt.plot([0, 1], [0, 1], 'k--')\n",
        "plt.xlim([0.0, 1.0])\n",
        "plt.ylim([0.0, 1.05])\n",
        "plt.xlabel('False Positive Rate')\n",
        "plt.ylabel('True Positive Rate')\n",
        "plt.title('ROC-with NRI')\n",
        "plt.legend(loc=\"lower right\")\n",
        "plt.show()"
      ],
      "metadata": {
        "colab": {
          "base_uri": "https://localhost:8080/",
          "height": 472
        },
        "id": "hxU6WmwQ-rMz",
        "outputId": "94d860b7-ed7f-402e-9956-b426100557c7"
      },
      "execution_count": null,
      "outputs": [
        {
          "output_type": "display_data",
          "data": {
            "text/plain": [
              "<Figure size 640x480 with 1 Axes>"
            ],
            "image/png": "[encoded data removed]"
          },
          "metadata": {}
        }
      ]
    },
    {
      "cell_type": "code",
      "source": [
        "Res_nri[0].save('TPS_NRI.pickle')\n",
        "Res_nri[1].save('REO_NRI.pickle')\n",
        "base_3[0].save('TPS.pickle')\n",
        "base_3[1].save('REO.pickle')"
      ],
      "metadata": {
        "id": "tmEsuxmJBNEV"
      },
      "execution_count": null,
      "outputs": []
    },
    {
      "cell_type": "code",
      "source": [
        "((df1['fico1'] - 600)/11).describe()"
      ],
      "metadata": {
        "colab": {
          "base_uri": "https://localhost:8080/"
        },
        "id": "iaPOPdP6_dTb",
        "outputId": "a9f554ca-4e4e-49f4-8cd2-aced77bf8753"
      },
      "execution_count": null,
      "outputs": [
        {
          "output_type": "execute_result",
          "data": {
            "text/plain": [
              "count    911346.000000\n",
              "mean          1.619412\n",
              "std           1.003399\n",
              "min         -27.272727\n",
              "25%           1.818182\n",
              "50%           1.818182\n",
              "75%           1.818182\n",
              "max           1.818182\n",
              "Name: fico1, dtype: float64"
            ]
          },
          "metadata": {},
          "execution_count": 38
        }
      ]
    },
    {
      "cell_type": "code",
      "source": [
        "Res_nri[0].params"
      ],
      "metadata": {
        "colab": {
          "base_uri": "https://localhost:8080/"
        },
        "id": "JI6KY_tvAyLA",
        "outputId": "16711b5a-c31b-4991-ffd0-36cb2510f596"
      },
      "execution_count": null,
      "outputs": [
        {
          "output_type": "execute_result",
          "data": {
            "text/plain": [
              "const                   -13.844873\n",
              "cltv_current1             0.003840\n",
              "cltv_current2             0.006265\n",
              "cltv_current3            -0.002755\n",
              "fico1                    -0.000938\n",
              "fico2                     0.002875\n",
              "fico3                     0.001885\n",
              "hpat2y                    1.466818\n",
              "dur_def_episode          -0.088913\n",
              "judicial                  0.975141\n",
              "deficiency               -0.210348\n",
              "flag_24                   0.228923\n",
              "noowner_occ               0.059236\n",
              "proptype_CP              -0.489363\n",
              "proptype_MH              -0.702229\n",
              "proptype_PU              -0.150280\n",
              "proptype_SF              -0.254318\n",
              "GSE                      -0.540429\n",
              "Normal                    0.009649\n",
              "Boom                      0.025341\n",
              "Bust                      0.179554\n",
              "PostCrisis               -0.189175\n",
              "channel_C                -0.019737\n",
              "channel_R                -0.057915\n",
              "loanpurpose_N            -0.054323\n",
              "loanpurpose_P            -0.027592\n",
              "loanpurpose_C            -0.095153\n",
              "Current Interest Rate    -0.064387\n",
              "appreciation_factor      -2.309093\n",
              "loan_age                  0.004737\n",
              "Log Original UPB          1.153532\n",
              "CWAV_EALR                 0.010675\n",
              "ERQK_EALR                -0.089307\n",
              "HAIL_EALR                -0.213851\n",
              "HWAV_EALR                -0.013955\n",
              "ISTM_EALR                 0.085226\n",
              "LNDS_EALR                 0.274668\n",
              "LTNG_EALR                 0.120796\n",
              "RFLD_EALR                 0.106643\n",
              "SWND_EALR                 0.081067\n",
              "TRND_EALR                -0.059173\n",
              "WFIR_EALR                 0.063020\n",
              "WNTW_EALR                -0.051432\n",
              "dtype: float64"
            ]
          },
          "metadata": {},
          "execution_count": 39
        }
      ]
    },
    {
      "cell_type": "markdown",
      "source": [
        "OPTIMIZED"
      ],
      "metadata": {
        "id": "ZmjSUngKEdhD"
      }
    },
    {
      "cell_type": "code",
      "source": [
        "vo = v3\n",
        "print(vo)"
      ],
      "metadata": {
        "colab": {
          "base_uri": "https://localhost:8080/"
        },
        "id": "EtI3eRZoCdj5",
        "outputId": "ca10c089-b639-405f-c20b-6aa660d3bf84"
      },
      "execution_count": null,
      "outputs": [
        {
          "output_type": "stream",
          "name": "stdout",
          "text": [
            "['cltv_current1', 'cltv_current2', 'cltv_current3', 'fico1', 'fico2', 'fico3', 'hpat2y', 'dur_def_episode', 'judicial', 'deficiency', 'flag_24', 'noowner_occ', 'proptype_CP', 'proptype_MH', 'proptype_PU', 'proptype_SF', 'REO', 'TPS', 'SS', 'GSE', 'Normal', 'Boom', 'Bust', 'PostCrisis', 'channel_C', 'channel_R', 'loanpurpose_N', 'loanpurpose_P', 'loanpurpose_C', 'Current Interest Rate', 'appreciation_factor', 'loan_age', 'Log Original UPB']\n"
          ]
        }
      ]
    },
    {
      "cell_type": "code",
      "source": [
        "v4a=['cltv_current1',\n",
        " 'cltv_current2',\n",
        " 'cltv_current3',\n",
        " 'hpat2y',\n",
        " 'dur_def_episode',\n",
        " 'judicial',\n",
        " 'deficiency',\n",
        " 'flag_24',\n",
        " 'noowner_occ',\n",
        " 'proptype_CP',\n",
        " 'proptype_MH',\n",
        " 'proptype_PU',\n",
        " 'proptype_SF',\n",
        " 'REO',\n",
        " 'TPS',\n",
        " 'SS',\n",
        " 'GSE',\n",
        " 'Normal',\n",
        " 'Boom',\n",
        " 'Bust',\n",
        " 'PostCrisis',\n",
        " 'loanpurpose_P',\n",
        " 'loanpurpose_C',\n",
        " 'channel_R',\n",
        " 'Current Interest Rate',\n",
        " 'appreciation_factor',\n",
        " 'loan_age',\n",
        " 'Log Original UPB']\n",
        "\n",
        "v4b = ['cltv_current1',\n",
        " 'cltv_current2',\n",
        " 'cltv_current3',\n",
        " 'hpat2y',\n",
        " 'dur_def_episode',\n",
        " 'judicial',\n",
        " 'deficiency',\n",
        " 'flag_24',\n",
        " 'noowner_occ',\n",
        " 'proptype_CP',\n",
        " 'proptype_MH',\n",
        " 'proptype_PU',\n",
        " 'proptype_SF',\n",
        " 'REO',\n",
        " 'TPS',\n",
        " 'SS',\n",
        " 'GSE',\n",
        " 'Normal',\n",
        " 'Boom',\n",
        " 'Bust',\n",
        " 'PostCrisis',\n",
        " 'loanpurpose_P',\n",
        " 'loanpurpose_C',\n",
        " 'channel_R',\n",
        " 'Current Interest Rate',\n",
        " 'appreciation_factor',\n",
        " 'loan_age',\n",
        " 'Log Original UPB']\n",
        "\n",
        "v4c = ['cltv_current1',\n",
        " 'cltv_current2',\n",
        " 'cltv_current3',\n",
        " 'hpat2y',\n",
        " 'dur_def_episode',\n",
        " 'judicial',\n",
        " 'deficiency',\n",
        " 'flag_24',\n",
        " 'noowner_occ',\n",
        " 'proptype_CP',\n",
        " 'proptype_MH',\n",
        " 'proptype_PU',\n",
        " 'proptype_SF',\n",
        " 'REO',\n",
        " 'TPS',\n",
        " 'SS',\n",
        " 'GSE',\n",
        " 'Normal',\n",
        " 'Boom',\n",
        " 'Bust',\n",
        " 'PostCrisis',\n",
        " 'channel_R',\n",
        " 'loanpurpose_P',\n",
        " 'loanpurpose_C',\n",
        " 'Current Interest Rate',\n",
        " 'loan_age',\n",
        " 'Log Original UPB']\n",
        "v4d = ['cltv_current1',\n",
        " 'cltv_current2',\n",
        " 'cltv_current3',\n",
        " 'hpat2y',\n",
        " 'dur_def_episode',\n",
        " 'judicial',\n",
        " 'deficiency',\n",
        " 'flag_24',\n",
        " 'noowner_occ',\n",
        " 'proptype_CP',\n",
        " 'proptype_MH',\n",
        " 'proptype_PU',\n",
        " 'proptype_SF',\n",
        " 'REO',\n",
        " 'TPS',\n",
        " 'SS',\n",
        " 'GSE',\n",
        " 'Normal',\n",
        " 'Boom',\n",
        " 'Bust',\n",
        " 'PostCrisis',\n",
        " 'loanpurpose_P',\n",
        " 'loanpurpose_C',\n",
        " 'channel_R',\n",
        " 'Current Interest Rate',\n",
        " 'loan_age',\n",
        " 'Log Original UPB']"
      ],
      "metadata": {
        "id": "lwICbx5jEjOc"
      },
      "execution_count": null,
      "outputs": []
    },
    {
      "cell_type": "code",
      "source": [
        "opti1 = Runnestedlogit(v4a,v4b,df1)\n",
        "printres(opti1)"
      ],
      "metadata": {
        "colab": {
          "base_uri": "https://localhost:8080/"
        },
        "id": "0oPJGClUP6m0",
        "outputId": "564dd784-e8dc-4bcc-e01e-22c250b17a1b"
      },
      "execution_count": null,
      "outputs": [
        {
          "output_type": "stream",
          "name": "stdout",
          "text": [
            "Optimization terminated successfully.\n",
            "         Current function value: 0.397511\n",
            "         Iterations 7\n",
            "Optimization terminated successfully.\n",
            "         Current function value: 0.353890\n",
            "         Iterations 7\n",
            "The area under curve is 80.81%\n",
            "The area under curve is 78.31%\n",
            "KS between class1 and others: 0.4797 (p-value: 0.000e+00)\n",
            "KS between class1 and others: 0.4277 (p-value: 0.000e+00)\n"
          ]
        }
      ]
    },
    {
      "cell_type": "code",
      "source": [
        "opti2 = Runnestedlogit(v4c+list(xx[9]),v4d+list(xx[9]),df1)\n",
        "printres(opti2)"
      ],
      "metadata": {
        "colab": {
          "base_uri": "https://localhost:8080/"
        },
        "id": "EtEOUuFQSzpE",
        "outputId": "af5cea67-d70f-4b4d-8342-3b2a769c6ae3"
      },
      "execution_count": null,
      "outputs": [
        {
          "output_type": "stream",
          "name": "stdout",
          "text": [
            "Optimization terminated successfully.\n",
            "         Current function value: 0.395100\n",
            "         Iterations 7\n",
            "Optimization terminated successfully.\n",
            "         Current function value: 0.337108\n",
            "         Iterations 7\n",
            "The area under curve is 81.00%\n",
            "The area under curve is 81.29%\n",
            "KS between class1 and others: 0.4818 (p-value: 0.000e+00)\n",
            "KS between class1 and others: 0.4732 (p-value: 0.000e+00)\n"
          ]
        }
      ]
    },
    {
      "cell_type": "code",
      "source": [
        "print(opti1[0].summary())\n",
        "print(opti1[1].summary())\n",
        "print(opti2[0].summary())\n",
        "print(opti2[1].summary())"
      ],
      "metadata": {
        "colab": {
          "base_uri": "https://localhost:8080/"
        },
        "id": "kaqyUGa9UBql",
        "outputId": "a3421cf7-a7b8-4c3f-aa01-970e84e79189"
      },
      "execution_count": null,
      "outputs": [
        {
          "output_type": "stream",
          "name": "stdout",
          "text": [
            "                           Logit Regression Results                           \n",
            "==============================================================================\n",
            "Dep. Variable:                     SS   No. Observations:               911346\n",
            "Model:                          Logit   Df Residuals:                   911320\n",
            "Method:                           MLE   Df Model:                           25\n",
            "Date:                Wed, 08 May 2024   Pseudo R-squ.:                  0.2087\n",
            "Time:                        21:36:19   Log-Likelihood:            -3.6227e+05\n",
            "converged:                       True   LL-Null:                   -4.5782e+05\n",
            "Covariance Type:            nonrobust   LLR p-value:                     0.000\n",
            "=========================================================================================\n",
            "                            coef    std err          z      P>|z|      [0.025      0.975]\n",
            "-----------------------------------------------------------------------------------------\n",
            "const                   -13.3115      0.108   -123.040      0.000     -13.524     -13.099\n",
            "cltv_current1            -0.0013      0.001     -2.008      0.045      -0.003   -3.09e-05\n",
            "cltv_current2             0.0070      0.000     20.093      0.000       0.006       0.008\n",
            "cltv_current3            -0.0057      0.000    -22.599      0.000      -0.006      -0.005\n",
            "hpat2y                    1.4761      0.027     53.980      0.000       1.423       1.530\n",
            "dur_def_episode          -0.0872      0.000   -236.474      0.000      -0.088      -0.086\n",
            "judicial                  1.0991      0.007    160.359      0.000       1.086       1.112\n",
            "deficiency               -0.2815      0.010    -27.509      0.000      -0.302      -0.261\n",
            "flag_24                   0.3070      0.018     16.766      0.000       0.271       0.343\n",
            "noowner_occ               0.1148      0.009     12.107      0.000       0.096       0.133\n",
            "proptype_CP              -0.2878      0.080     -3.613      0.000      -0.444      -0.132\n",
            "proptype_MH              -0.7834      0.031    -25.175      0.000      -0.844      -0.722\n",
            "proptype_PU              -0.2674      0.012    -22.927      0.000      -0.290      -0.245\n",
            "proptype_SF              -0.3973      0.010    -40.754      0.000      -0.416      -0.378\n",
            "GSE                      -0.5165      0.008    -61.030      0.000      -0.533      -0.500\n",
            "Normal                    0.0219      0.010      2.227      0.026       0.003       0.041\n",
            "Boom                      0.0271      0.007      3.906      0.000       0.013       0.041\n",
            "Bust                      0.2467      0.014     17.512      0.000       0.219       0.274\n",
            "PostCrisis               -0.1214      0.030     -4.074      0.000      -0.180      -0.063\n",
            "loanpurpose_P             0.0478      0.008      5.817      0.000       0.032       0.064\n",
            "loanpurpose_C            -0.0549      0.008     -6.951      0.000      -0.070      -0.039\n",
            "channel_R                -0.0422      0.006     -6.841      0.000      -0.054      -0.030\n",
            "Current Interest Rate    -0.0683      0.004    -19.036      0.000      -0.075      -0.061\n",
            "appreciation_factor      -2.7812      0.033    -85.034      0.000      -2.845      -2.717\n",
            "loan_age                  0.0053      0.000     45.062      0.000       0.005       0.005\n",
            "Log Original UPB          1.2365      0.007    185.177      0.000       1.223       1.250\n",
            "=========================================================================================\n",
            "                           Logit Regression Results                           \n",
            "==============================================================================\n",
            "Dep. Variable:                    TPS   No. Observations:               727792\n",
            "Model:                          Logit   Df Residuals:                   727766\n",
            "Method:                           MLE   Df Model:                           25\n",
            "Date:                Wed, 08 May 2024   Pseudo R-squ.:                  0.1671\n",
            "Time:                        21:36:21   Log-Likelihood:            -2.5756e+05\n",
            "converged:                       True   LL-Null:                   -3.0921e+05\n",
            "Covariance Type:            nonrobust   LLR p-value:                     0.000\n",
            "=========================================================================================\n",
            "                            coef    std err          z      P>|z|      [0.025      0.975]\n",
            "-----------------------------------------------------------------------------------------\n",
            "const                    -4.7982      0.108    -44.417      0.000      -5.010      -4.586\n",
            "cltv_current1            -0.0597      0.000   -121.948      0.000      -0.061      -0.059\n",
            "cltv_current2            -0.0029      0.000     -7.383      0.000      -0.004      -0.002\n",
            "cltv_current3             0.0148      0.000     43.403      0.000       0.014       0.016\n",
            "hpat2y                    2.3488      0.034     69.513      0.000       2.283       2.415\n",
            "dur_def_episode          -0.0322      0.000   -102.116      0.000      -0.033      -0.032\n",
            "judicial                  0.0638      0.008      7.870      0.000       0.048       0.080\n",
            "deficiency                0.3487      0.013     27.627      0.000       0.324       0.373\n",
            "flag_24                   0.0880      0.023      3.751      0.000       0.042       0.134\n",
            "noowner_occ              -0.0342      0.012     -2.843      0.004      -0.058      -0.011\n",
            "proptype_CP              -0.5835      0.103     -5.683      0.000      -0.785      -0.382\n",
            "proptype_MH              -0.7569      0.031    -24.545      0.000      -0.817      -0.696\n",
            "proptype_PU               0.0306      0.016      1.922      0.055      -0.001       0.062\n",
            "proptype_SF              -0.2887      0.013    -21.854      0.000      -0.315      -0.263\n",
            "GSE                      -1.7319      0.011   -164.934      0.000      -1.753      -1.711\n",
            "Normal                   -0.3260      0.011    -29.899      0.000      -0.347      -0.305\n",
            "Boom                     -0.0287      0.009     -3.049      0.002      -0.047      -0.010\n",
            "Bust                      0.2678      0.017     15.536      0.000       0.234       0.302\n",
            "PostCrisis                1.4688      0.022     67.902      0.000       1.426       1.511\n",
            "loanpurpose_P             0.0981      0.010      9.750      0.000       0.078       0.118\n",
            "loanpurpose_C             0.0805      0.009      8.649      0.000       0.062       0.099\n",
            "channel_R                 0.0594      0.007      8.049      0.000       0.045       0.074\n",
            "Current Interest Rate    -0.1850      0.004    -47.721      0.000      -0.193      -0.177\n",
            "appreciation_factor      -0.8585      0.028    -31.162      0.000      -0.913      -0.805\n",
            "loan_age                  0.0130      0.000    115.291      0.000       0.013       0.013\n",
            "Log Original UPB          0.6073      0.008     80.364      0.000       0.593       0.622\n",
            "=========================================================================================\n",
            "                           Logit Regression Results                           \n",
            "==============================================================================\n",
            "Dep. Variable:                     SS   No. Observations:               909442\n",
            "Model:                          Logit   Df Residuals:                   909405\n",
            "Method:                           MLE   Df Model:                           36\n",
            "Date:                Wed, 08 May 2024   Pseudo R-squ.:                  0.2132\n",
            "Time:                        21:36:24   Log-Likelihood:            -3.5932e+05\n",
            "converged:                       True   LL-Null:                   -4.5671e+05\n",
            "Covariance Type:            nonrobust   LLR p-value:                     0.000\n",
            "=========================================================================================\n",
            "                            coef    std err          z      P>|z|      [0.025      0.975]\n",
            "-----------------------------------------------------------------------------------------\n",
            "const                   -17.1048      0.105   -162.293      0.000     -17.311     -16.898\n",
            "cltv_current1             0.0233      0.001     37.738      0.000       0.022       0.025\n",
            "cltv_current2             0.0191      0.000     64.498      0.000       0.019       0.020\n",
            "cltv_current3             0.0030      0.000     12.104      0.000       0.002       0.003\n",
            "hpat2y                    0.9953      0.027     37.531      0.000       0.943       1.047\n",
            "dur_def_episode          -0.0896      0.000   -239.494      0.000      -0.090      -0.089\n",
            "judicial                  0.9401      0.008    111.675      0.000       0.924       0.957\n",
            "deficiency               -0.1213      0.011    -11.160      0.000      -0.143      -0.100\n",
            "flag_24                   0.3019      0.018     16.329      0.000       0.266       0.338\n",
            "noowner_occ               0.1460      0.010     15.307      0.000       0.127       0.165\n",
            "proptype_CP              -0.3769      0.080     -4.719      0.000      -0.533      -0.220\n",
            "proptype_MH              -0.6941      0.031    -22.116      0.000      -0.756      -0.633\n",
            "proptype_PU              -0.1763      0.012    -14.684      0.000      -0.200      -0.153\n",
            "proptype_SF              -0.2785      0.010    -27.910      0.000      -0.298      -0.259\n",
            "GSE                      -0.5716      0.008    -67.694      0.000      -0.588      -0.555\n",
            "Normal                   -0.1855      0.010    -19.187      0.000      -0.204      -0.167\n",
            "Boom                      0.0215      0.007      3.085      0.002       0.008       0.035\n",
            "Bust                      0.1701      0.014     12.008      0.000       0.142       0.198\n",
            "PostCrisis               -0.4362      0.030    -14.751      0.000      -0.494      -0.378\n",
            "channel_R                -0.0158      0.006     -2.543      0.011      -0.028      -0.004\n",
            "loanpurpose_P            -0.0928      0.008    -11.389      0.000      -0.109      -0.077\n",
            "loanpurpose_C            -0.0003      0.008     -0.038      0.970      -0.016       0.015\n",
            "Current Interest Rate    -0.1006      0.004    -28.321      0.000      -0.108      -0.094\n",
            "loan_age                  0.0055      0.000     47.605      0.000       0.005       0.006\n",
            "Log Original UPB          1.1273      0.007    160.279      0.000       1.113       1.141\n",
            "CWAV_EALS                 0.0021      0.000     18.549      0.000       0.002       0.002\n",
            "DRGT_EALS                 0.0003      0.000      2.629      0.009    8.51e-05       0.001\n",
            "ERQK_EALS                -0.0017      0.000     -7.498      0.000      -0.002      -0.001\n",
            "HAIL_EALS                -0.0084      0.000    -59.323      0.000      -0.009      -0.008\n",
            "HWAV_EALS                -0.0009      0.000     -7.417      0.000      -0.001      -0.001\n",
            "LNDS_EALS                 0.0092      0.000     39.511      0.000       0.009       0.010\n",
            "LTNG_EALS                 0.0061      0.000     25.111      0.000       0.006       0.007\n",
            "RFLD_EALS                 0.0047      0.000     20.302      0.000       0.004       0.005\n",
            "SWND_EALS                 0.0008      0.000      4.811      0.000       0.000       0.001\n",
            "TRND_EALS                -0.0010      0.000     -5.297      0.000      -0.001      -0.001\n",
            "WFIR_EALS                 0.0029      0.000     14.393      0.000       0.002       0.003\n",
            "WNTW_EALS                -0.0007      0.000     -4.775      0.000      -0.001      -0.000\n",
            "=========================================================================================\n",
            "                           Logit Regression Results                           \n",
            "==============================================================================\n",
            "Dep. Variable:                    TPS   No. Observations:               726376\n",
            "Model:                          Logit   Df Residuals:                   726339\n",
            "Method:                           MLE   Df Model:                           36\n",
            "Date:                Wed, 08 May 2024   Pseudo R-squ.:                  0.2066\n",
            "Time:                        21:36:27   Log-Likelihood:            -2.4487e+05\n",
            "converged:                       True   LL-Null:                   -3.0862e+05\n",
            "Covariance Type:            nonrobust   LLR p-value:                     0.000\n",
            "=========================================================================================\n",
            "                            coef    std err          z      P>|z|      [0.025      0.975]\n",
            "-----------------------------------------------------------------------------------------\n",
            "const                    -4.9976      0.109    -45.672      0.000      -5.212      -4.783\n",
            "cltv_current1            -0.0463      0.000   -104.943      0.000      -0.047      -0.045\n",
            "cltv_current2            -0.0073      0.000    -18.614      0.000      -0.008      -0.007\n",
            "cltv_current3             0.0104      0.000     29.348      0.000       0.010       0.011\n",
            "hpat2y                    2.2101      0.033     67.672      0.000       2.146       2.274\n",
            "dur_def_episode          -0.0329      0.000   -102.066      0.000      -0.034      -0.032\n",
            "judicial                  0.3594      0.010     36.482      0.000       0.340       0.379\n",
            "deficiency                0.2126      0.013     15.951      0.000       0.186       0.239\n",
            "flag_24                   0.1212      0.024      5.026      0.000       0.074       0.168\n",
            "noowner_occ              -0.1396      0.012    -11.353      0.000      -0.164      -0.115\n",
            "proptype_CP              -0.8191      0.104     -7.914      0.000      -1.022      -0.616\n",
            "proptype_MH              -0.8819      0.032    -27.581      0.000      -0.945      -0.819\n",
            "proptype_PU               0.1012      0.017      6.085      0.000       0.069       0.134\n",
            "proptype_SF              -0.1148      0.014     -8.318      0.000      -0.142      -0.088\n",
            "GSE                      -1.8321      0.011   -170.006      0.000      -1.853      -1.811\n",
            "Normal                   -0.4121      0.011    -37.135      0.000      -0.434      -0.390\n",
            "Boom                     -0.0344      0.010     -3.567      0.000      -0.053      -0.015\n",
            "Bust                      0.2509      0.018     14.314      0.000       0.217       0.285\n",
            "PostCrisis                1.5202      0.022     69.796      0.000       1.478       1.563\n",
            "loanpurpose_P             0.0245      0.010      2.406      0.016       0.005       0.045\n",
            "loanpurpose_C            -0.0174      0.010     -1.826      0.068      -0.036       0.001\n",
            "channel_R                 0.1059      0.008     13.991      0.000       0.091       0.121\n",
            "Current Interest Rate    -0.2011      0.004    -50.966      0.000      -0.209      -0.193\n",
            "loan_age                  0.0132      0.000    113.970      0.000       0.013       0.013\n",
            "Log Original UPB          0.3370      0.008     41.641      0.000       0.321       0.353\n",
            "CWAV_EALS                -0.0060      0.000    -46.516      0.000      -0.006      -0.006\n",
            "DRGT_EALS                 0.0052      0.000     33.849      0.000       0.005       0.006\n",
            "ERQK_EALS                 0.0133      0.000     47.999      0.000       0.013       0.014\n",
            "HAIL_EALS                 0.0002      0.000      0.921      0.357      -0.000       0.001\n",
            "HWAV_EALS                 0.0012      0.000      7.812      0.000       0.001       0.001\n",
            "LNDS_EALS                 0.0066      0.000     24.567      0.000       0.006       0.007\n",
            "LTNG_EALS                 0.0030      0.000     10.264      0.000       0.002       0.004\n",
            "RFLD_EALS                 0.0015      0.000      5.523      0.000       0.001       0.002\n",
            "SWND_EALS                -0.0003      0.000     -1.263      0.207      -0.001       0.000\n",
            "TRND_EALS                 0.0006      0.000      2.676      0.007       0.000       0.001\n",
            "WFIR_EALS                 0.0037      0.000     15.886      0.000       0.003       0.004\n",
            "WNTW_EALS                -0.0059      0.000    -34.700      0.000      -0.006      -0.006\n",
            "=========================================================================================\n"
          ]
        }
      ]
    },
    {
      "cell_type": "code",
      "source": [
        "printres(base_3)\n",
        "printres(Res_nri)"
      ],
      "metadata": {
        "colab": {
          "base_uri": "https://localhost:8080/"
        },
        "id": "L0N4ld9GUi7f",
        "outputId": "14c62f3e-b41c-4ebd-a9af-ce08cea07528"
      },
      "execution_count": null,
      "outputs": [
        {
          "output_type": "stream",
          "name": "stdout",
          "text": [
            "The area under curve is 80.34%\n",
            "The area under curve is 78.22%\n",
            "KS between class1 and others: 0.4719 (p-value: 0.000e+00)\n",
            "KS between class1 and others: 0.4258 (p-value: 0.000e+00)\n",
            "The area under curve is 81.12%\n",
            "The area under curve is 81.37%\n",
            "KS between class1 and others: 0.4826 (p-value: 0.000e+00)\n",
            "KS between class1 and others: 0.4768 (p-value: 0.000e+00)\n"
          ]
        }
      ]
    },
    {
      "cell_type": "code",
      "source": [
        "Res_nri[0].params"
      ],
      "metadata": {
        "colab": {
          "base_uri": "https://localhost:8080/"
        },
        "id": "Au72bwi9Uj8m",
        "outputId": "2f45cde6-b8dc-417e-c836-003fecc1b4a8"
      },
      "execution_count": null,
      "outputs": [
        {
          "output_type": "execute_result",
          "data": {
            "text/plain": [
              "const                   -16.428316\n",
              "cltv_current1             0.023142\n",
              "cltv_current2             0.018657\n",
              "cltv_current3             0.003437\n",
              "fico1                    -0.001865\n",
              "fico2                     0.002777\n",
              "fico3                     0.002847\n",
              "hpat2y                    1.036391\n",
              "dur_def_episode          -0.087722\n",
              "judicial                  0.915543\n",
              "deficiency               -0.135222\n",
              "flag_24                   0.289812\n",
              "noowner_occ               0.103345\n",
              "proptype_CP              -0.458073\n",
              "proptype_MH              -0.696154\n",
              "proptype_PU              -0.178268\n",
              "proptype_SF              -0.263791\n",
              "GSE                      -0.576519\n",
              "Normal                   -0.162512\n",
              "Boom                      0.023674\n",
              "Bust                      0.110543\n",
              "PostCrisis               -0.522456\n",
              "channel_C                -0.007379\n",
              "channel_R                -0.036971\n",
              "loanpurpose_N            -0.050574\n",
              "loanpurpose_P            -0.130854\n",
              "loanpurpose_C            -0.005286\n",
              "Current Interest Rate    -0.094234\n",
              "loan_age                  0.005083\n",
              "Log Original UPB          1.146239\n",
              "CWAV_EALR                 0.025500\n",
              "ERQK_EALR                -0.077233\n",
              "HAIL_EALR                -0.228677\n",
              "HWAV_EALR                -0.006673\n",
              "ISTM_EALR                 0.063234\n",
              "LNDS_EALR                 0.266720\n",
              "LTNG_EALR                 0.126321\n",
              "RFLD_EALR                 0.118832\n",
              "SWND_EALR                 0.085884\n",
              "TRND_EALR                -0.065331\n",
              "WFIR_EALR                 0.092384\n",
              "WNTW_EALR                -0.068979\n",
              "dtype: float64"
            ]
          },
          "metadata": {},
          "execution_count": 23
        }
      ]
    },
    {
      "cell_type": "code",
      "source": [
        "df1[list(xx[9])+['channel_C','channel_R']].corr()"
      ],
      "metadata": {
        "colab": {
          "base_uri": "https://localhost:8080/",
          "height": 503
        },
        "id": "lTx3E1i3-7m2",
        "outputId": "5f522c4c-067a-4a1c-a01c-b7a8559ea9f4"
      },
      "execution_count": null,
      "outputs": [
        {
          "output_type": "execute_result",
          "data": {
            "text/plain": [
              "           CWAV_EALS  DRGT_EALS  ERQK_EALS  HAIL_EALS  HWAV_EALS  LNDS_EALS  \\\n",
              "CWAV_EALS   1.000000  -0.313147  -0.381362   0.141338  -0.164529  -0.139444   \n",
              "DRGT_EALS  -0.313147   1.000000   0.114478  -0.203098  -0.081617  -0.018480   \n",
              "ERQK_EALS  -0.381362   0.114478   1.000000  -0.019198   0.400991   0.589233   \n",
              "HAIL_EALS   0.141338  -0.203098  -0.019198   1.000000   0.238149   0.031337   \n",
              "HWAV_EALS  -0.164529  -0.081617   0.400991   0.238149   1.000000   0.293710   \n",
              "LNDS_EALS  -0.139444  -0.018480   0.589233   0.031337   0.293710   1.000000   \n",
              "LTNG_EALS   0.239520   0.050516   0.209701   0.266309  -0.055241   0.223177   \n",
              "RFLD_EALS   0.025073   0.182694   0.427371   0.123677   0.258534   0.433905   \n",
              "SWND_EALS   0.419316  -0.278440  -0.014889   0.487151   0.282866   0.017840   \n",
              "TRND_EALS   0.407225  -0.143118   0.003348   0.397404   0.023299  -0.011167   \n",
              "WFIR_EALS  -0.099180   0.467004   0.260819  -0.115730  -0.033813   0.259994   \n",
              "WNTW_EALS   0.263556  -0.460394  -0.036808   0.403759   0.422889   0.034318   \n",
              "channel_C  -0.032718   0.047051   0.051559   0.006856   0.030573   0.050079   \n",
              "channel_R   0.013427  -0.026633  -0.057240  -0.014339  -0.030171  -0.064841   \n",
              "\n",
              "           LTNG_EALS  RFLD_EALS  SWND_EALS  TRND_EALS  WFIR_EALS  WNTW_EALS  \\\n",
              "CWAV_EALS   0.239520   0.025073   0.419316   0.407225  -0.099180   0.263556   \n",
              "DRGT_EALS   0.050516   0.182694  -0.278440  -0.143118   0.467004  -0.460394   \n",
              "ERQK_EALS   0.209701   0.427371  -0.014889   0.003348   0.260819  -0.036808   \n",
              "HAIL_EALS   0.266309   0.123677   0.487151   0.397404  -0.115730   0.403759   \n",
              "HWAV_EALS  -0.055241   0.258534   0.282866   0.023299  -0.033813   0.422889   \n",
              "LNDS_EALS   0.223177   0.433905   0.017840  -0.011167   0.259994   0.034318   \n",
              "LTNG_EALS   1.000000   0.524764   0.427150   0.587582   0.306112   0.033825   \n",
              "RFLD_EALS   0.524764   1.000000   0.199405   0.308277   0.477386  -0.056558   \n",
              "SWND_EALS   0.427150   0.199405   1.000000   0.688051  -0.232131   0.528164   \n",
              "TRND_EALS   0.587582   0.308277   0.688051   1.000000  -0.079103   0.280515   \n",
              "WFIR_EALS   0.306112   0.477386  -0.232131  -0.079103   1.000000  -0.464118   \n",
              "WNTW_EALS   0.033825  -0.056558   0.528164   0.280515  -0.464118   1.000000   \n",
              "channel_C   0.007826   0.026455  -0.022561  -0.012897   0.058151  -0.015190   \n",
              "channel_R  -0.027349  -0.040683   0.002576  -0.016436  -0.052600   0.001401   \n",
              "\n",
              "           channel_C  channel_R  \n",
              "CWAV_EALS  -0.032718   0.013427  \n",
              "DRGT_EALS   0.047051  -0.026633  \n",
              "ERQK_EALS   0.051559  -0.057240  \n",
              "HAIL_EALS   0.006856  -0.014339  \n",
              "HWAV_EALS   0.030573  -0.030171  \n",
              "LNDS_EALS   0.050079  -0.064841  \n",
              "LTNG_EALS   0.007826  -0.027349  \n",
              "RFLD_EALS   0.026455  -0.040683  \n",
              "SWND_EALS  -0.022561   0.002576  \n",
              "TRND_EALS  -0.012897  -0.016436  \n",
              "WFIR_EALS   0.058151  -0.052600  \n",
              "WNTW_EALS  -0.015190   0.001401  \n",
              "channel_C   1.000000  -0.772929  \n",
              "channel_R  -0.772929   1.000000  "
            ],
            "text/html": [
              "\n",
              "  <div id=\"df-c02c5061-3a0e-4ac0-91df-627272230a67\" class=\"colab-df-container\">\n",
              "    <div>\n",
              "<style scoped>\n",
              "    .dataframe tbody tr th:only-of-type {\n",
              "        vertical-align: middle;\n",
              "    }\n",
              "\n",
              "    .dataframe tbody tr th {\n",
              "        vertical-align: top;\n",
              "    }\n",
              "\n",
              "    .dataframe thead th {\n",
              "        text-align: right;\n",
              "    }\n",
              "</style>\n",
              "<table border=\"1\" class=\"dataframe\">\n",
              "  <thead>\n",
              "    <tr style=\"text-align: right;\">\n",
              "      <th></th>\n",
              "      <th>CWAV_EALS</th>\n",
              "      <th>DRGT_EALS</th>\n",
              "      <th>ERQK_EALS</th>\n",
              "      <th>HAIL_EALS</th>\n",
              "      <th>HWAV_EALS</th>\n",
              "      <th>LNDS_EALS</th>\n",
              "      <th>LTNG_EALS</th>\n",
              "      <th>RFLD_EALS</th>\n",
              "      <th>SWND_EALS</th>\n",
              "      <th>TRND_EALS</th>\n",
              "      <th>WFIR_EALS</th>\n",
              "      <th>WNTW_EALS</th>\n",
              "      <th>channel_C</th>\n",
              "      <th>channel_R</th>\n",
              "    </tr>\n",
              "  </thead>\n",
              "  <tbody>\n",
              "    <tr>\n",
              "      <th>CWAV_EALS</th>\n",
              "      <td>1.000000</td>\n",
              "      <td>-0.313147</td>\n",
              "      <td>-0.381362</td>\n",
              "      <td>0.141338</td>\n",
              "      <td>-0.164529</td>\n",
              "      <td>-0.139444</td>\n",
              "      <td>0.239520</td>\n",
              "      <td>0.025073</td>\n",
              "      <td>0.419316</td>\n",
              "      <td>0.407225</td>\n",
              "      <td>-0.099180</td>\n",
              "      <td>0.263556</td>\n",
              "      <td>-0.032718</td>\n",
              "      <td>0.013427</td>\n",
              "    </tr>\n",
              "    <tr>\n",
              "      <th>DRGT_EALS</th>\n",
              "      <td>-0.313147</td>\n",
              "      <td>1.000000</td>\n",
              "      <td>0.114478</td>\n",
              "      <td>-0.203098</td>\n",
              "      <td>-0.081617</td>\n",
              "      <td>-0.018480</td>\n",
              "      <td>0.050516</td>\n",
              "      <td>0.182694</td>\n",
              "      <td>-0.278440</td>\n",
              "      <td>-0.143118</td>\n",
              "      <td>0.467004</td>\n",
              "      <td>-0.460394</td>\n",
              "      <td>0.047051</td>\n",
              "      <td>-0.026633</td>\n",
              "    </tr>\n",
              "    <tr>\n",
              "      <th>ERQK_EALS</th>\n",
              "      <td>-0.381362</td>\n",
              "      <td>0.114478</td>\n",
              "      <td>1.000000</td>\n",
              "      <td>-0.019198</td>\n",
              "      <td>0.400991</td>\n",
              "      <td>0.589233</td>\n",
              "      <td>0.209701</td>\n",
              "      <td>0.427371</td>\n",
              "      <td>-0.014889</td>\n",
              "      <td>0.003348</td>\n",
              "      <td>0.260819</td>\n",
              "      <td>-0.036808</td>\n",
              "      <td>0.051559</td>\n",
              "      <td>-0.057240</td>\n",
              "    </tr>\n",
              "    <tr>\n",
              "      <th>HAIL_EALS</th>\n",
              "      <td>0.141338</td>\n",
              "      <td>-0.203098</td>\n",
              "      <td>-0.019198</td>\n",
              "      <td>1.000000</td>\n",
              "      <td>0.238149</td>\n",
              "      <td>0.031337</td>\n",
              "      <td>0.266309</td>\n",
              "      <td>0.123677</td>\n",
              "      <td>0.487151</td>\n",
              "      <td>0.397404</td>\n",
              "      <td>-0.115730</td>\n",
              "      <td>0.403759</td>\n",
              "      <td>0.006856</td>\n",
              "      <td>-0.014339</td>\n",
              "    </tr>\n",
              "    <tr>\n",
              "      <th>HWAV_EALS</th>\n",
              "      <td>-0.164529</td>\n",
              "      <td>-0.081617</td>\n",
              "      <td>0.400991</td>\n",
              "      <td>0.238149</td>\n",
              "      <td>1.000000</td>\n",
              "      <td>0.293710</td>\n",
              "      <td>-0.055241</td>\n",
              "      <td>0.258534</td>\n",
              "      <td>0.282866</td>\n",
              "      <td>0.023299</td>\n",
              "      <td>-0.033813</td>\n",
              "      <td>0.422889</td>\n",
              "      <td>0.030573</td>\n",
              "      <td>-0.030171</td>\n",
              "    </tr>\n",
              "    <tr>\n",
              "      <th>LNDS_EALS</th>\n",
              "      <td>-0.139444</td>\n",
              "      <td>-0.018480</td>\n",
              "      <td>0.589233</td>\n",
              "      <td>0.031337</td>\n",
              "      <td>0.293710</td>\n",
              "      <td>1.000000</td>\n",
              "      <td>0.223177</td>\n",
              "      <td>0.433905</td>\n",
              "      <td>0.017840</td>\n",
              "      <td>-0.011167</td>\n",
              "      <td>0.259994</td>\n",
              "      <td>0.034318</td>\n",
              "      <td>0.050079</td>\n",
              "      <td>-0.064841</td>\n",
              "    </tr>\n",
              "    <tr>\n",
              "      <th>LTNG_EALS</th>\n",
              "      <td>0.239520</td>\n",
              "      <td>0.050516</td>\n",
              "      <td>0.209701</td>\n",
              "      <td>0.266309</td>\n",
              "      <td>-0.055241</td>\n",
              "      <td>0.223177</td>\n",
              "      <td>1.000000</td>\n",
              "      <td>0.524764</td>\n",
              "      <td>0.427150</td>\n",
              "      <td>0.587582</td>\n",
              "      <td>0.306112</td>\n",
              "      <td>0.033825</td>\n",
              "      <td>0.007826</td>\n",
              "      <td>-0.027349</td>\n",
              "    </tr>\n",
              "    <tr>\n",
              "      <th>RFLD_EALS</th>\n",
              "      <td>0.025073</td>\n",
              "      <td>0.182694</td>\n",
              "      <td>0.427371</td>\n",
              "      <td>0.123677</td>\n",
              "      <td>0.258534</td>\n",
              "      <td>0.433905</td>\n",
              "      <td>0.524764</td>\n",
              "      <td>1.000000</td>\n",
              "      <td>0.199405</td>\n",
              "      <td>0.308277</td>\n",
              "      <td>0.477386</td>\n",
              "      <td>-0.056558</td>\n",
              "      <td>0.026455</td>\n",
              "      <td>-0.040683</td>\n",
              "    </tr>\n",
              "    <tr>\n",
              "      <th>SWND_EALS</th>\n",
              "      <td>0.419316</td>\n",
              "      <td>-0.278440</td>\n",
              "      <td>-0.014889</td>\n",
              "      <td>0.487151</td>\n",
              "      <td>0.282866</td>\n",
              "      <td>0.017840</td>\n",
              "      <td>0.427150</td>\n",
              "      <td>0.199405</td>\n",
              "      <td>1.000000</td>\n",
              "      <td>0.688051</td>\n",
              "      <td>-0.232131</td>\n",
              "      <td>0.528164</td>\n",
              "      <td>-0.022561</td>\n",
              "      <td>0.002576</td>\n",
              "    </tr>\n",
              "    <tr>\n",
              "      <th>TRND_EALS</th>\n",
              "      <td>0.407225</td>\n",
              "      <td>-0.143118</td>\n",
              "      <td>0.003348</td>\n",
              "      <td>0.397404</td>\n",
              "      <td>0.023299</td>\n",
              "      <td>-0.011167</td>\n",
              "      <td>0.587582</td>\n",
              "      <td>0.308277</td>\n",
              "      <td>0.688051</td>\n",
              "      <td>1.000000</td>\n",
              "      <td>-0.079103</td>\n",
              "      <td>0.280515</td>\n",
              "      <td>-0.012897</td>\n",
              "      <td>-0.016436</td>\n",
              "    </tr>\n",
              "    <tr>\n",
              "      <th>WFIR_EALS</th>\n",
              "      <td>-0.099180</td>\n",
              "      <td>0.467004</td>\n",
              "      <td>0.260819</td>\n",
              "      <td>-0.115730</td>\n",
              "      <td>-0.033813</td>\n",
              "      <td>0.259994</td>\n",
              "      <td>0.306112</td>\n",
              "      <td>0.477386</td>\n",
              "      <td>-0.232131</td>\n",
              "      <td>-0.079103</td>\n",
              "      <td>1.000000</td>\n",
              "      <td>-0.464118</td>\n",
              "      <td>0.058151</td>\n",
              "      <td>-0.052600</td>\n",
              "    </tr>\n",
              "    <tr>\n",
              "      <th>WNTW_EALS</th>\n",
              "      <td>0.263556</td>\n",
              "      <td>-0.460394</td>\n",
              "      <td>-0.036808</td>\n",
              "      <td>0.403759</td>\n",
              "      <td>0.422889</td>\n",
              "      <td>0.034318</td>\n",
              "      <td>0.033825</td>\n",
              "      <td>-0.056558</td>\n",
              "      <td>0.528164</td>\n",
              "      <td>0.280515</td>\n",
              "      <td>-0.464118</td>\n",
              "      <td>1.000000</td>\n",
              "      <td>-0.015190</td>\n",
              "      <td>0.001401</td>\n",
              "    </tr>\n",
              "    <tr>\n",
              "      <th>channel_C</th>\n",
              "      <td>-0.032718</td>\n",
              "      <td>0.047051</td>\n",
              "      <td>0.051559</td>\n",
              "      <td>0.006856</td>\n",
              "      <td>0.030573</td>\n",
              "      <td>0.050079</td>\n",
              "      <td>0.007826</td>\n",
              "      <td>0.026455</td>\n",
              "      <td>-0.022561</td>\n",
              "      <td>-0.012897</td>\n",
              "      <td>0.058151</td>\n",
              "      <td>-0.015190</td>\n",
              "      <td>1.000000</td>\n",
              "      <td>-0.772929</td>\n",
              "    </tr>\n",
              "    <tr>\n",
              "      <th>channel_R</th>\n",
              "      <td>0.013427</td>\n",
              "      <td>-0.026633</td>\n",
              "      <td>-0.057240</td>\n",
              "      <td>-0.014339</td>\n",
              "      <td>-0.030171</td>\n",
              "      <td>-0.064841</td>\n",
              "      <td>-0.027349</td>\n",
              "      <td>-0.040683</td>\n",
              "      <td>0.002576</td>\n",
              "      <td>-0.016436</td>\n",
              "      <td>-0.052600</td>\n",
              "      <td>0.001401</td>\n",
              "      <td>-0.772929</td>\n",
              "      <td>1.000000</td>\n",
              "    </tr>\n",
              "  </tbody>\n",
              "</table>\n",
              "</div>\n",
              "    <div class=\"colab-df-buttons\">\n",
              "\n",
              "  <div class=\"colab-df-container\">\n",
              "    <button class=\"colab-df-convert\" onclick=\"convertToInteractive('df-c02c5061-3a0e-4ac0-91df-627272230a67')\"\n",
              "            title=\"Convert this dataframe to an interactive table.\"\n",
              "            style=\"display:none;\">\n",
              "\n",
              "  <svg xmlns=\"http://www.w3.org/2000/svg\" height=\"24px\" viewBox=\"0 -960 960 960\">\n",
              "    <path d=\"M120-120v-720h720v720H120Zm60-500h600v-160H180v160Zm220 220h160v-160H400v160Zm0 220h160v-160H400v160ZM180-400h160v-160H180v160Zm440 0h160v-160H620v160ZM180-180h160v-160H180v160Zm440 0h160v-160H620v160Z\"/>\n",
              "  </svg>\n",
              "    </button>\n",
              "\n",
              "  <style>\n",
              "    .colab-df-container {\n",
              "      display:flex;\n",
              "      gap: 12px;\n",
              "    }\n",
              "\n",
              "    .colab-df-convert {\n",
              "      background-color: #E8F0FE;\n",
              "      border: none;\n",
              "      border-radius: 50%;\n",
              "      cursor: pointer;\n",
              "      display: none;\n",
              "      fill: #1967D2;\n",
              "      height: 32px;\n",
              "      padding: 0 0 0 0;\n",
              "      width: 32px;\n",
              "    }\n",
              "\n",
              "    .colab-df-convert:hover {\n",
              "      background-color: #E2EBFA;\n",
              "      box-shadow: 0px 1px 2px rgba(60, 64, 67, 0.3), 0px 1px 3px 1px rgba(60, 64, 67, 0.15);\n",
              "      fill: #174EA6;\n",
              "    }\n",
              "\n",
              "    .colab-df-buttons div {\n",
              "      margin-bottom: 4px;\n",
              "    }\n",
              "\n",
              "    [theme=dark] .colab-df-convert {\n",
              "      background-color: #3B4455;\n",
              "      fill: #D2E3FC;\n",
              "    }\n",
              "\n",
              "    [theme=dark] .colab-df-convert:hover {\n",
              "      background-color: #434B5C;\n",
              "      box-shadow: 0px 1px 3px 1px rgba(0, 0, 0, 0.15);\n",
              "      filter: drop-shadow(0px 1px 2px rgba(0, 0, 0, 0.3));\n",
              "      fill: #FFFFFF;\n",
              "    }\n",
              "  </style>\n",
              "\n",
              "    <script>\n",
              "      const buttonEl =\n",
              "        document.querySelector('#df-c02c5061-3a0e-4ac0-91df-627272230a67 button.colab-df-convert');\n",
              "      buttonEl.style.display =\n",
              "        google.colab.kernel.accessAllowed ? 'block' : 'none';\n",
              "\n",
              "      async function convertToInteractive(key) {\n",
              "        const element = document.querySelector('#df-c02c5061-3a0e-4ac0-91df-627272230a67');\n",
              "        const dataTable =\n",
              "          await google.colab.kernel.invokeFunction('convertToInteractive',\n",
              "                                                    [key], {});\n",
              "        if (!dataTable) return;\n",
              "\n",
              "        const docLinkHtml = 'Like what you see? Visit the ' +\n",
              "          '<a target=\"_blank\" href=https://colab.research.google.com/notebooks/data_table.ipynb>data table notebook</a>'\n",
              "          + ' to learn more about interactive tables.';\n",
              "        element.innerHTML = '';\n",
              "        dataTable['output_type'] = 'display_data';\n",
              "        await google.colab.output.renderOutput(dataTable, element);\n",
              "        const docLink = document.createElement('div');\n",
              "        docLink.innerHTML = docLinkHtml;\n",
              "        element.appendChild(docLink);\n",
              "      }\n",
              "    </script>\n",
              "  </div>\n",
              "\n",
              "\n",
              "<div id=\"df-049cd851-4f57-434b-9767-21a193f0f29a\">\n",
              "  <button class=\"colab-df-quickchart\" onclick=\"quickchart('df-049cd851-4f57-434b-9767-21a193f0f29a')\"\n",
              "            title=\"Suggest charts\"\n",
              "            style=\"display:none;\">\n",
              "\n",
              "<svg xmlns=\"http://www.w3.org/2000/svg\" height=\"24px\"viewBox=\"0 0 24 24\"\n",
              "     width=\"24px\">\n",
              "    <g>\n",
              "        <path d=\"M19 3H5c-1.1 0-2 .9-2 2v14c0 1.1.9 2 2 2h14c1.1 0 2-.9 2-2V5c0-1.1-.9-2-2-2zM9 17H7v-7h2v7zm4 0h-2V7h2v10zm4 0h-2v-4h2v4z\"/>\n",
              "    </g>\n",
              "</svg>\n",
              "  </button>\n",
              "\n",
              "<style>\n",
              "  .colab-df-quickchart {\n",
              "      --bg-color: #E8F0FE;\n",
              "      --fill-color: #1967D2;\n",
              "      --hover-bg-color: #E2EBFA;\n",
              "      --hover-fill-color: #174EA6;\n",
              "      --disabled-fill-color: #AAA;\n",
              "      --disabled-bg-color: #DDD;\n",
              "  }\n",
              "\n",
              "  [theme=dark] .colab-df-quickchart {\n",
              "      --bg-color: #3B4455;\n",
              "      --fill-color: #D2E3FC;\n",
              "      --hover-bg-color: #434B5C;\n",
              "      --hover-fill-color: #FFFFFF;\n",
              "      --disabled-bg-color: #3B4455;\n",
              "      --disabled-fill-color: #666;\n",
              "  }\n",
              "\n",
              "  .colab-df-quickchart {\n",
              "    background-color: var(--bg-color);\n",
              "    border: none;\n",
              "    border-radius: 50%;\n",
              "    cursor: pointer;\n",
              "    display: none;\n",
              "    fill: var(--fill-color);\n",
              "    height: 32px;\n",
              "    padding: 0;\n",
              "    width: 32px;\n",
              "  }\n",
              "\n",
              "  .colab-df-quickchart:hover {\n",
              "    background-color: var(--hover-bg-color);\n",
              "    box-shadow: 0 1px 2px rgba(60, 64, 67, 0.3), 0 1px 3px 1px rgba(60, 64, 67, 0.15);\n",
              "    fill: var(--button-hover-fill-color);\n",
              "  }\n",
              "\n",
              "  .colab-df-quickchart-complete:disabled,\n",
              "  .colab-df-quickchart-complete:disabled:hover {\n",
              "    background-color: var(--disabled-bg-color);\n",
              "    fill: var(--disabled-fill-color);\n",
              "    box-shadow: none;\n",
              "  }\n",
              "\n",
              "  .colab-df-spinner {\n",
              "    border: 2px solid var(--fill-color);\n",
              "    border-color: transparent;\n",
              "    border-bottom-color: var(--fill-color);\n",
              "    animation:\n",
              "      spin 1s steps(1) infinite;\n",
              "  }\n",
              "\n",
              "  @keyframes spin {\n",
              "    0% {\n",
              "      border-color: transparent;\n",
              "      border-bottom-color: var(--fill-color);\n",
              "      border-left-color: var(--fill-color);\n",
              "    }\n",
              "    20% {\n",
              "      border-color: transparent;\n",
              "      border-left-color: var(--fill-color);\n",
              "      border-top-color: var(--fill-color);\n",
              "    }\n",
              "    30% {\n",
              "      border-color: transparent;\n",
              "      border-left-color: var(--fill-color);\n",
              "      border-top-color: var(--fill-color);\n",
              "      border-right-color: var(--fill-color);\n",
              "    }\n",
              "    40% {\n",
              "      border-color: transparent;\n",
              "      border-right-color: var(--fill-color);\n",
              "      border-top-color: var(--fill-color);\n",
              "    }\n",
              "    60% {\n",
              "      border-color: transparent;\n",
              "      border-right-color: var(--fill-color);\n",
              "    }\n",
              "    80% {\n",
              "      border-color: transparent;\n",
              "      border-right-color: var(--fill-color);\n",
              "      border-bottom-color: var(--fill-color);\n",
              "    }\n",
              "    90% {\n",
              "      border-color: transparent;\n",
              "      border-bottom-color: var(--fill-color);\n",
              "    }\n",
              "  }\n",
              "</style>\n",
              "\n",
              "  <script>\n",
              "    async function quickchart(key) {\n",
              "      const quickchartButtonEl =\n",
              "        document.querySelector('#' + key + ' button');\n",
              "      quickchartButtonEl.disabled = true;  // To prevent multiple clicks.\n",
              "      quickchartButtonEl.classList.add('colab-df-spinner');\n",
              "      try {\n",
              "        const charts = await google.colab.kernel.invokeFunction(\n",
              "            'suggestCharts', [key], {});\n",
              "      } catch (error) {\n",
              "        console.error('Error during call to suggestCharts:', error);\n",
              "      }\n",
              "      quickchartButtonEl.classList.remove('colab-df-spinner');\n",
              "      quickchartButtonEl.classList.add('colab-df-quickchart-complete');\n",
              "    }\n",
              "    (() => {\n",
              "      let quickchartButtonEl =\n",
              "        document.querySelector('#df-049cd851-4f57-434b-9767-21a193f0f29a button');\n",
              "      quickchartButtonEl.style.display =\n",
              "        google.colab.kernel.accessAllowed ? 'block' : 'none';\n",
              "    })();\n",
              "  </script>\n",
              "</div>\n",
              "    </div>\n",
              "  </div>\n"
            ],
            "application/vnd.google.colaboratory.intrinsic+json": {
              "type": "dataframe",
              "summary": "{\n  \"name\": \"df1[list(xx[9])+['channel_C','channel_R']]\",\n  \"rows\": 14,\n  \"fields\": [\n    {\n      \"column\": \"CWAV_EALS\",\n      \"properties\": {\n        \"dtype\": \"number\",\n        \"std\": 0.35673180340541716,\n        \"min\": -0.38136187809719013,\n        \"max\": 1.0,\n        \"num_unique_values\": 14,\n        \"samples\": [\n          0.4072253541205694,\n          0.26355556952453185,\n          1.0\n        ],\n        \"semantic_type\": \"\",\n        \"description\": \"\"\n      }\n    },\n    {\n      \"column\": \"DRGT_EALS\",\n      \"properties\": {\n        \"dtype\": \"number\",\n        \"std\": 0.36355433483247696,\n        \"min\": -0.4603935708226079,\n        \"max\": 1.0,\n        \"num_unique_values\": 14,\n        \"samples\": [\n          -0.1431175326030629,\n          -0.4603935708226079,\n          -0.31314742474939905\n        ],\n        \"semantic_type\": \"\",\n        \"description\": \"\"\n      }\n    },\n    {\n      \"column\": \"ERQK_EALS\",\n      \"properties\": {\n        \"dtype\": \"number\",\n        \"std\": 0.34028641253036834,\n        \"min\": -0.38136187809719013,\n        \"max\": 1.0,\n        \"num_unique_values\": 14,\n        \"samples\": [\n          0.0033475777500579277,\n          -0.03680848881790496,\n          -0.38136187809719013\n        ],\n        \"semantic_type\": \"\",\n        \"description\": \"\"\n      }\n    },\n    {\n      \"column\": \"HAIL_EALS\",\n      \"properties\": {\n        \"dtype\": \"number\",\n        \"std\": 0.30881245143534386,\n        \"min\": -0.20309775723608275,\n        \"max\": 1.0,\n        \"num_unique_values\": 14,\n        \"samples\": [\n          0.3974040661384122,\n          0.4037585752503606,\n          0.14133795654393883\n        ],\n        \"semantic_type\": \"\",\n        \"description\": \"\"\n      }\n    },\n    {\n      \"column\": \"HWAV_EALS\",\n      \"properties\": {\n        \"dtype\": \"number\",\n        \"std\": 0.3028376462629398,\n        \"min\": -0.16452867887564732,\n        \"max\": 1.0,\n        \"num_unique_values\": 14,\n        \"samples\": [\n          0.023299005656515524,\n          0.42288931166160715,\n          -0.16452867887564732\n        ],\n        \"semantic_type\": \"\",\n        \"description\": \"\"\n      }\n    },\n    {\n      \"column\": \"LNDS_EALS\",\n      \"properties\": {\n        \"dtype\": \"number\",\n        \"std\": 0.3097961019855785,\n        \"min\": -0.13944430392492255,\n        \"max\": 1.0,\n        \"num_unique_values\": 14,\n        \"samples\": [\n          -0.011167237287484283,\n          0.0343179613083483,\n          -0.13944430392492255\n        ],\n        \"semantic_type\": \"\",\n        \"description\": \"\"\n      }\n    },\n    {\n      \"column\": \"LTNG_EALS\",\n      \"properties\": {\n        \"dtype\": \"number\",\n        \"std\": 0.2906629856314607,\n        \"min\": -0.05524062944271113,\n        \"max\": 1.0,\n        \"num_unique_values\": 14,\n        \"samples\": [\n          0.587581512410538,\n          0.033824551363283266,\n          0.23952006058359285\n        ],\n        \"semantic_type\": \"\",\n        \"description\": \"\"\n      }\n    },\n    {\n      \"column\": \"RFLD_EALS\",\n      \"properties\": {\n        \"dtype\": \"number\",\n        \"std\": 0.28415272665865493,\n        \"min\": -0.05655847289722252,\n        \"max\": 1.0,\n        \"num_unique_values\": 14,\n        \"samples\": [\n          0.3082774617220102,\n          -0.05655847289722252,\n          0.025072605089275498\n        ],\n        \"semantic_type\": \"\",\n        \"description\": \"\"\n      }\n    },\n    {\n      \"column\": \"SWND_EALS\",\n      \"properties\": {\n        \"dtype\": \"number\",\n        \"std\": 0.36405449255238304,\n        \"min\": -0.2784397525746807,\n        \"max\": 1.0,\n        \"num_unique_values\": 14,\n        \"samples\": [\n          0.6880514144424401,\n          0.5281635409925955,\n          0.4193159210131475\n        ],\n        \"semantic_type\": \"\",\n        \"description\": \"\"\n      }\n    },\n    {\n      \"column\": \"TRND_EALS\",\n      \"properties\": {\n        \"dtype\": \"number\",\n        \"std\": 0.3399317722463136,\n        \"min\": -0.1431175326030629,\n        \"max\": 1.0,\n        \"num_unique_values\": 14,\n        \"samples\": [\n          1.0,\n          0.2805146357949351,\n          0.4072253541205694\n        ],\n        \"semantic_type\": \"\",\n        \"description\": \"\"\n      }\n    },\n    {\n      \"column\": \"WFIR_EALS\",\n      \"properties\": {\n        \"dtype\": \"number\",\n        \"std\": 0.36814915631192735,\n        \"min\": -0.46411810268173975,\n        \"max\": 1.0,\n        \"num_unique_values\": 14,\n        \"samples\": [\n          -0.07910297716807649,\n          -0.46411810268173975,\n          -0.09917993776812502\n        ],\n        \"semantic_type\": \"\",\n        \"description\": \"\"\n      }\n    },\n    {\n      \"column\": \"WNTW_EALS\",\n      \"properties\": {\n        \"dtype\": \"number\",\n        \"std\": 0.38589515268857855,\n        \"min\": -0.46411810268173975,\n        \"max\": 1.0,\n        \"num_unique_values\": 14,\n        \"samples\": [\n          0.2805146357949351,\n          1.0,\n          0.26355556952453185\n        ],\n        \"semantic_type\": \"\",\n        \"description\": \"\"\n      }\n    },\n    {\n      \"column\": \"channel_C\",\n      \"properties\": {\n        \"dtype\": \"number\",\n        \"std\": 0.35073162099117544,\n        \"min\": -0.7729291427252233,\n        \"max\": 1.0,\n        \"num_unique_values\": 14,\n        \"samples\": [\n          -0.012897438496777245,\n          -0.015189799231064815,\n          -0.03271781864536499\n        ],\n        \"semantic_type\": \"\",\n        \"description\": \"\"\n      }\n    },\n    {\n      \"column\": \"channel_R\",\n      \"properties\": {\n        \"dtype\": \"number\",\n        \"std\": 0.3521175706921414,\n        \"min\": -0.7729291427252233,\n        \"max\": 1.0,\n        \"num_unique_values\": 14,\n        \"samples\": [\n          -0.01643564492157549,\n          0.001401088543124559,\n          0.013427453805376176\n        ],\n        \"semantic_type\": \"\",\n        \"description\": \"\"\n      }\n    }\n  ]\n}"
            }
          },
          "metadata": {},
          "execution_count": 28
        }
      ]
    },
    {
      "cell_type": "code",
      "source": [
        "print(base_3[0].summary())\n",
        "print(base_3[1].summary())\n",
        "print(Res_nri[0].summary())\n",
        "print(Res_nri[1].summary())"
      ],
      "metadata": {
        "colab": {
          "base_uri": "https://localhost:8080/"
        },
        "id": "O-JdyzPZDbWu",
        "outputId": "c3022e80-25c4-44b7-ae7f-a95648c17787"
      },
      "execution_count": null,
      "outputs": [
        {
          "output_type": "stream",
          "name": "stdout",
          "text": [
            "                           Logit Regression Results                           \n",
            "==============================================================================\n",
            "Dep. Variable:                     SS   No. Observations:               911346\n",
            "Model:                          Logit   Df Residuals:                   911316\n",
            "Method:                           MLE   Df Model:                           29\n",
            "Date:                Wed, 08 May 2024   Pseudo R-squ.:                  0.2031\n",
            "Time:                        21:28:53   Log-Likelihood:            -3.6485e+05\n",
            "converged:                       True   LL-Null:                   -4.5782e+05\n",
            "Covariance Type:            nonrobust   LLR p-value:                     0.000\n",
            "=========================================================================================\n",
            "                            coef    std err          z      P>|z|      [0.025      0.975]\n",
            "-----------------------------------------------------------------------------------------\n",
            "const                   -15.9485      0.227    -70.116      0.000     -16.394     -15.503\n",
            "cltv_current1             0.0195      0.001     31.910      0.000       0.018       0.021\n",
            "cltv_current2             0.0247      0.000     88.790      0.000       0.024       0.025\n",
            "cltv_current3             0.0030      0.000     13.331      0.000       0.003       0.003\n",
            "fico1                    -0.0023      0.000     -6.794      0.000      -0.003      -0.002\n",
            "fico2                     0.0027   8.38e-05     32.682      0.000       0.003       0.003\n",
            "fico3                     0.0031      0.000     12.139      0.000       0.003       0.004\n",
            "hpat2y                    0.9694      0.027     36.309      0.000       0.917       1.022\n",
            "dur_def_episode          -0.0838      0.000   -228.568      0.000      -0.085      -0.083\n",
            "judicial                  1.0454      0.007    154.485      0.000       1.032       1.059\n",
            "deficiency               -0.1616      0.010    -16.005      0.000      -0.181      -0.142\n",
            "flag_24                   0.3487      0.018     19.085      0.000       0.313       0.385\n",
            "noowner_occ               0.1416      0.009     14.948      0.000       0.123       0.160\n",
            "proptype_CP              -0.3156      0.080     -3.966      0.000      -0.471      -0.160\n",
            "proptype_MH              -0.7458      0.031    -24.167      0.000      -0.806      -0.685\n",
            "proptype_PU              -0.2731      0.012    -23.452      0.000      -0.296      -0.250\n",
            "proptype_SF              -0.4038      0.010    -41.385      0.000      -0.423      -0.385\n",
            "GSE                      -0.5568      0.009    -59.718      0.000      -0.575      -0.539\n",
            "Normal                   -0.1460      0.010    -15.335      0.000      -0.165      -0.127\n",
            "Boom                      0.0265      0.007      3.829      0.000       0.013       0.040\n",
            "Bust                      0.1078      0.014      7.623      0.000       0.080       0.136\n",
            "PostCrisis               -0.5639      0.029    -19.219      0.000      -0.621      -0.506\n",
            "channel_C                -0.0254      0.010     -2.546      0.011      -0.045      -0.006\n",
            "channel_R                -0.0609      0.010     -5.968      0.000      -0.081      -0.041\n",
            "loanpurpose_N            -0.0434      0.014     -3.160      0.002      -0.070      -0.016\n",
            "loanpurpose_P            -0.1108      0.011    -10.283      0.000      -0.132      -0.090\n",
            "loanpurpose_C             0.0843      0.010      8.121      0.000       0.064       0.105\n",
            "Current Interest Rate    -0.0967      0.004    -27.337      0.000      -0.104      -0.090\n",
            "loan_age                  0.0053      0.000     46.704      0.000       0.005       0.006\n",
            "Log Original UPB          1.2411      0.007    186.197      0.000       1.228       1.254\n",
            "=========================================================================================\n",
            "                           Logit Regression Results                           \n",
            "==============================================================================\n",
            "Dep. Variable:                    TPS   No. Observations:               727792\n",
            "Model:                          Logit   Df Residuals:                   727762\n",
            "Method:                           MLE   Df Model:                           29\n",
            "Date:                Wed, 08 May 2024   Pseudo R-squ.:                  0.1662\n",
            "Time:                        21:28:57   Log-Likelihood:            -2.5782e+05\n",
            "converged:                       True   LL-Null:                   -3.0921e+05\n",
            "Covariance Type:            nonrobust   LLR p-value:                     0.000\n",
            "=========================================================================================\n",
            "                            coef    std err          z      P>|z|      [0.025      0.975]\n",
            "-----------------------------------------------------------------------------------------\n",
            "const                    -6.2878      0.237    -26.527      0.000      -6.752      -5.823\n",
            "cltv_current1            -0.0525      0.000   -122.335      0.000      -0.053      -0.052\n",
            "cltv_current2             0.0022      0.000      5.944      0.000       0.001       0.003\n",
            "cltv_current3             0.0173      0.000     52.159      0.000       0.017       0.018\n",
            "fico1                     0.0005      0.000      1.335      0.182      -0.000       0.001\n",
            "fico2                     0.0014      0.000     14.078      0.000       0.001       0.002\n",
            "fico3                     0.0007      0.000      2.067      0.039    3.58e-05       0.001\n",
            "hpat2y                    2.1073      0.033     63.956      0.000       2.043       2.172\n",
            "dur_def_episode          -0.0312      0.000    -99.148      0.000      -0.032      -0.031\n",
            "judicial                  0.0607      0.008      7.505      0.000       0.045       0.077\n",
            "deficiency                0.3836      0.013     30.522      0.000       0.359       0.408\n",
            "flag_24                   0.1082      0.023      4.618      0.000       0.062       0.154\n",
            "noowner_occ              -0.0346      0.012     -2.867      0.004      -0.058      -0.011\n",
            "proptype_CP              -0.6028      0.103     -5.861      0.000      -0.804      -0.401\n",
            "proptype_MH              -0.7668      0.031    -24.750      0.000      -0.828      -0.706\n",
            "proptype_PU               0.0235      0.016      1.473      0.141      -0.008       0.055\n",
            "proptype_SF              -0.2920      0.013    -22.087      0.000      -0.318      -0.266\n",
            "GSE                      -1.7039      0.012   -145.842      0.000      -1.727      -1.681\n",
            "Normal                   -0.3866      0.011    -36.145      0.000      -0.408      -0.366\n",
            "Boom                     -0.0237      0.009     -2.523      0.012      -0.042      -0.005\n",
            "Bust                      0.2149      0.017     12.370      0.000       0.181       0.249\n",
            "PostCrisis                1.2766      0.021     60.268      0.000       1.235       1.318\n",
            "channel_C                 0.1496      0.015      9.976      0.000       0.120       0.179\n",
            "channel_R                 0.1912      0.015     12.721      0.000       0.162       0.221\n",
            "loanpurpose_N             0.0251      0.018      1.382      0.167      -0.010       0.061\n",
            "loanpurpose_P             0.0584      0.016      3.589      0.000       0.027       0.090\n",
            "loanpurpose_C             0.1472      0.016      9.392      0.000       0.117       0.178\n",
            "Current Interest Rate    -0.1950      0.004    -50.629      0.000      -0.203      -0.187\n",
            "loan_age                  0.0124      0.000    110.272      0.000       0.012       0.013\n",
            "Log Original UPB          0.5935      0.008     78.463      0.000       0.579       0.608\n",
            "=========================================================================================\n",
            "                           Logit Regression Results                           \n",
            "==============================================================================\n",
            "Dep. Variable:                     SS   No. Observations:               911346\n",
            "Model:                          Logit   Df Residuals:                   911304\n",
            "Method:                           MLE   Df Model:                           41\n",
            "Date:                Wed, 08 May 2024   Pseudo R-squ.:                  0.2162\n",
            "Time:                        21:29:03   Log-Likelihood:            -3.5885e+05\n",
            "converged:                       True   LL-Null:                   -4.5782e+05\n",
            "Covariance Type:            nonrobust   LLR p-value:                     0.000\n",
            "=========================================================================================\n",
            "                            coef    std err          z      P>|z|      [0.025      0.975]\n",
            "-----------------------------------------------------------------------------------------\n",
            "const                   -16.4283      0.231    -70.985      0.000     -16.882     -15.975\n",
            "cltv_current1             0.0231      0.001     37.502      0.000       0.022       0.024\n",
            "cltv_current2             0.0187      0.000     62.799      0.000       0.018       0.019\n",
            "cltv_current3             0.0034      0.000     14.116      0.000       0.003       0.004\n",
            "fico1                    -0.0019      0.000     -5.499      0.000      -0.003      -0.001\n",
            "fico2                     0.0028   8.46e-05     32.809      0.000       0.003       0.003\n",
            "fico3                     0.0028      0.000     10.885      0.000       0.002       0.003\n",
            "hpat2y                    1.0364      0.027     38.878      0.000       0.984       1.089\n",
            "dur_def_episode          -0.0877      0.000   -235.253      0.000      -0.088      -0.087\n",
            "judicial                  0.9155      0.008    112.219      0.000       0.900       0.932\n",
            "deficiency               -0.1352      0.011    -12.210      0.000      -0.157      -0.114\n",
            "flag_24                   0.2898      0.019     15.638      0.000       0.253       0.326\n",
            "noowner_occ               0.1033      0.010     10.760      0.000       0.085       0.122\n",
            "proptype_CP              -0.4581      0.080     -5.721      0.000      -0.615      -0.301\n",
            "proptype_MH              -0.6962      0.031    -22.184      0.000      -0.758      -0.635\n",
            "proptype_PU              -0.1783      0.012    -14.885      0.000      -0.202      -0.155\n",
            "proptype_SF              -0.2638      0.010    -26.399      0.000      -0.283      -0.244\n",
            "GSE                      -0.5765      0.009    -61.270      0.000      -0.595      -0.558\n",
            "Normal                   -0.1625      0.010    -16.775      0.000      -0.182      -0.144\n",
            "Boom                      0.0237      0.007      3.391      0.001       0.010       0.037\n",
            "Bust                      0.1105      0.014      7.756      0.000       0.083       0.138\n",
            "PostCrisis               -0.5225      0.030    -17.659      0.000      -0.580      -0.464\n",
            "channel_C                -0.0074      0.010     -0.732      0.464      -0.027       0.012\n",
            "channel_R                -0.0370      0.010     -3.586      0.000      -0.057      -0.017\n",
            "loanpurpose_N            -0.0506      0.014     -3.650      0.000      -0.078      -0.023\n",
            "loanpurpose_P            -0.1309      0.011    -12.024      0.000      -0.152      -0.110\n",
            "loanpurpose_C            -0.0053      0.011     -0.500      0.617      -0.026       0.015\n",
            "Current Interest Rate    -0.0942      0.004    -26.396      0.000      -0.101      -0.087\n",
            "loan_age                  0.0051      0.000     44.077      0.000       0.005       0.005\n",
            "Log Original UPB          1.1462      0.007    164.646      0.000       1.133       1.160\n",
            "CWAV_EALR                 0.0255      0.002     10.363      0.000       0.021       0.030\n",
            "ERQK_EALR                -0.0772      0.005    -16.027      0.000      -0.087      -0.068\n",
            "HAIL_EALR                -0.2287      0.004    -60.392      0.000      -0.236      -0.221\n",
            "HWAV_EALR                -0.0067      0.003     -2.144      0.032      -0.013      -0.001\n",
            "ISTM_EALR                 0.0632      0.003     18.403      0.000       0.056       0.070\n",
            "LNDS_EALR                 0.2667      0.006     42.748      0.000       0.254       0.279\n",
            "LTNG_EALR                 0.1263      0.004     29.548      0.000       0.118       0.135\n",
            "RFLD_EALR                 0.1188      0.004     27.849      0.000       0.110       0.127\n",
            "SWND_EALR                 0.0859      0.004     21.811      0.000       0.078       0.094\n",
            "TRND_EALR                -0.0653      0.004    -14.944      0.000      -0.074      -0.057\n",
            "WFIR_EALR                 0.0924      0.004     22.222      0.000       0.084       0.101\n",
            "WNTW_EALR                -0.0690      0.004    -18.539      0.000      -0.076      -0.062\n",
            "=========================================================================================\n",
            "                           Logit Regression Results                           \n",
            "==============================================================================\n",
            "Dep. Variable:                    TPS   No. Observations:               727792\n",
            "Model:                          Logit   Df Residuals:                   727750\n",
            "Method:                           MLE   Df Model:                           41\n",
            "Date:                Wed, 08 May 2024   Pseudo R-squ.:                  0.2068\n",
            "Time:                        21:29:06   Log-Likelihood:            -2.4528e+05\n",
            "converged:                       True   LL-Null:                   -3.0921e+05\n",
            "Covariance Type:            nonrobust   LLR p-value:                     0.000\n",
            "=========================================================================================\n",
            "                            coef    std err          z      P>|z|      [0.025      0.975]\n",
            "-----------------------------------------------------------------------------------------\n",
            "const                    -4.8747      0.244    -19.941      0.000      -5.354      -4.396\n",
            "cltv_current1            -0.0467      0.000   -106.224      0.000      -0.048      -0.046\n",
            "cltv_current2            -0.0093      0.000    -23.513      0.000      -0.010      -0.009\n",
            "cltv_current3             0.0097      0.000     27.415      0.000       0.009       0.010\n",
            "fico1                     0.0006      0.000      1.666      0.096      -0.000       0.001\n",
            "fico2                     0.0014      0.000     13.160      0.000       0.001       0.002\n",
            "fico3                 -2.851e-05      0.000     -0.083      0.933      -0.001       0.001\n",
            "hpat2y                    2.2353      0.033     68.397      0.000       2.171       2.299\n",
            "dur_def_episode          -0.0314      0.000    -97.410      0.000      -0.032      -0.031\n",
            "judicial                  0.4237      0.010     43.927      0.000       0.405       0.443\n",
            "deficiency                0.0712      0.013      5.316      0.000       0.045       0.097\n",
            "flag_24                   0.1170      0.024      4.858      0.000       0.070       0.164\n",
            "noowner_occ              -0.1549      0.012    -12.531      0.000      -0.179      -0.131\n",
            "proptype_CP              -0.8731      0.104     -8.388      0.000      -1.077      -0.669\n",
            "proptype_MH              -0.8419      0.032    -26.317      0.000      -0.905      -0.779\n",
            "proptype_PU               0.1126      0.017      6.768      0.000       0.080       0.145\n",
            "proptype_SF              -0.0948      0.014     -6.835      0.000      -0.122      -0.068\n",
            "GSE                      -1.7992      0.012   -149.925      0.000      -1.823      -1.776\n",
            "Normal                   -0.4093      0.011    -36.865      0.000      -0.431      -0.388\n",
            "Boom                     -0.0340      0.010     -3.523      0.000      -0.053      -0.015\n",
            "Bust                      0.2279      0.018     12.900      0.000       0.193       0.263\n",
            "PostCrisis                1.4317      0.022     66.013      0.000       1.389       1.474\n",
            "channel_C                 0.1382      0.015      9.040      0.000       0.108       0.168\n",
            "channel_R                 0.2093      0.015     13.649      0.000       0.179       0.239\n",
            "loanpurpose_N            -0.0063      0.019     -0.338      0.735      -0.043       0.030\n",
            "loanpurpose_P             0.0387      0.017      2.335      0.020       0.006       0.071\n",
            "loanpurpose_C            -0.0266      0.016     -1.656      0.098      -0.058       0.005\n",
            "Current Interest Rate    -0.1975      0.004    -49.739      0.000      -0.205      -0.190\n",
            "loan_age                  0.0129      0.000    111.575      0.000       0.013       0.013\n",
            "Log Original UPB          0.3544      0.008     44.239      0.000       0.339       0.370\n",
            "CWAV_EALR                -0.1434      0.003    -50.952      0.000      -0.149      -0.138\n",
            "ERQK_EALR                 0.2792      0.006     48.305      0.000       0.268       0.290\n",
            "HAIL_EALR                 0.0083      0.005      1.753      0.080      -0.001       0.017\n",
            "HWAV_EALR                 0.0619      0.004     16.858      0.000       0.055       0.069\n",
            "ISTM_EALR                -0.0970      0.004    -23.394      0.000      -0.105      -0.089\n",
            "LNDS_EALR                 0.0778      0.007     10.788      0.000       0.064       0.092\n",
            "LTNG_EALR                 0.1173      0.005     22.639      0.000       0.107       0.127\n",
            "RFLD_EALR                 0.0445      0.005      8.420      0.000       0.034       0.055\n",
            "SWND_EALR                 0.0068      0.005      1.385      0.166      -0.003       0.016\n",
            "TRND_EALR                -0.0082      0.005     -1.567      0.117      -0.018       0.002\n",
            "WFIR_EALR                 0.0525      0.005     10.443      0.000       0.043       0.062\n",
            "WNTW_EALR                -0.0642      0.004    -14.523      0.000      -0.073      -0.056\n",
            "=========================================================================================\n"
          ]
        }
      ]
    },
    {
      "cell_type": "markdown",
      "source": [
        "## Appendix"
      ],
      "metadata": {
        "id": "bBmnkI7La0XO"
      }
    },
    {
      "cell_type": "code",
      "source": [
        "np.linalg.matrix_rank(df1[['Normal','Boom','Bust','PostCrisis']])"
      ],
      "metadata": {
        "colab": {
          "base_uri": "https://localhost:8080/"
        },
        "id": "ueFwlThLrWa6",
        "outputId": "d914d7c9-4fda-4898-e989-b02445773a53"
      },
      "execution_count": null,
      "outputs": [
        {
          "output_type": "execute_result",
          "data": {
            "text/plain": [
              "4"
            ]
          },
          "metadata": {},
          "execution_count": 27
        }
      ]
    },
    {
      "cell_type": "markdown",
      "source": [
        "281090.000000\n"
      ],
      "metadata": {
        "id": "7nwPJVMfubn3"
      }
    },
    {
      "cell_type": "code",
      "source": [
        "df1[(df1['Normal']+df1['Boom']+df1['Bust']+df1['PostCrisis'])==0].orig_year.describe()"
      ],
      "metadata": {
        "colab": {
          "base_uri": "https://localhost:8080/"
        },
        "id": "JxwcASqgv6Vl",
        "outputId": "6d1194de-8ecc-4097-b01a-f3c16b4d5971"
      },
      "execution_count": null,
      "outputs": [
        {
          "output_type": "execute_result",
          "data": {
            "text/plain": [
              "count    281090.000000\n",
              "mean       2006.339126\n",
              "std           1.339820\n",
              "min        2005.000000\n",
              "25%        2005.000000\n",
              "50%        2006.000000\n",
              "75%        2007.000000\n",
              "max        2012.000000\n",
              "Name: orig_year, dtype: float64"
            ]
          },
          "metadata": {},
          "execution_count": 37
        }
      ]
    },
    {
      "cell_type": "code",
      "source": [
        "df1[(df1['Normal']+df1['Boom']+df1['Bust']+df1['PostCrisis'])==1].orig_year.describe()"
      ],
      "metadata": {
        "id": "Nbi1GrDxG-HY",
        "colab": {
          "base_uri": "https://localhost:8080/"
        },
        "outputId": "5d3299e7-701b-405c-f032-aefb88a31415"
      },
      "execution_count": null,
      "outputs": [
        {
          "output_type": "execute_result",
          "data": {
            "text/plain": [
              "count    630256.000000\n",
              "mean       2005.203608\n",
              "std           3.068879\n",
              "min        1999.000000\n",
              "25%        2003.000000\n",
              "50%        2005.000000\n",
              "75%        2007.000000\n",
              "max        2020.000000\n",
              "Name: orig_year, dtype: float64"
            ]
          },
          "metadata": {},
          "execution_count": 35
        }
      ]
    },
    {
      "cell_type": "code",
      "source": [
        "df1[df1['Boom']==1].orig_year.value_counts()"
      ],
      "metadata": {
        "colab": {
          "base_uri": "https://localhost:8080/"
        },
        "id": "HK2igBLaoHSa",
        "outputId": "7a065a88-33f6-4d65-817e-90009501a7b2"
      },
      "execution_count": null,
      "outputs": [
        {
          "output_type": "execute_result",
          "data": {
            "text/plain": [
              "orig_year\n",
              "2007    83856\n",
              "2006    73056\n",
              "2008    70965\n",
              "2005    50450\n",
              "Name: count, dtype: int64"
            ]
          },
          "metadata": {},
          "execution_count": 20
        }
      ]
    },
    {
      "cell_type": "code",
      "source": [
        "df1[df1['Bust']==1].orig_year.value_counts()"
      ],
      "metadata": {
        "colab": {
          "base_uri": "https://localhost:8080/"
        },
        "id": "0lYyNQ6jo1ns",
        "outputId": "fc2c8627-c8e0-4c8c-fa26-0df940b1bbfb"
      },
      "execution_count": null,
      "outputs": [
        {
          "output_type": "execute_result",
          "data": {
            "text/plain": [
              "orig_year\n",
              "2008    30139\n",
              "2009     8642\n",
              "2010     4110\n",
              "2011     1987\n",
              "2012     1868\n",
              "Name: count, dtype: int64"
            ]
          },
          "metadata": {},
          "execution_count": 21
        }
      ]
    },
    {
      "cell_type": "code",
      "source": [
        "df1[df1['PostCrisis']==1].orig_year.value_counts()"
      ],
      "metadata": {
        "colab": {
          "base_uri": "https://localhost:8080/"
        },
        "id": "uKzw8pWOqWA9",
        "outputId": "7b87833d-7191-489d-8e2e-56f08651dba0"
      },
      "execution_count": null,
      "outputs": [
        {
          "output_type": "execute_result",
          "data": {
            "text/plain": [
              "orig_year\n",
              "2013    3842\n",
              "2014    3150\n",
              "2015    2939\n",
              "2016    2590\n",
              "2017    2444\n",
              "2018    2022\n",
              "2019     966\n",
              "2020     585\n",
              "Name: count, dtype: int64"
            ]
          },
          "metadata": {},
          "execution_count": 22
        }
      ]
    },
    {
      "cell_type": "code",
      "source": [
        "df1[df1['Normal']==1].orig_year.value_counts()"
      ],
      "metadata": {
        "colab": {
          "base_uri": "https://localhost:8080/"
        },
        "id": "pFJcLdu4qZU0",
        "outputId": "48f346d0-47ff-400b-c452-6d48dc0f2f26"
      },
      "execution_count": null,
      "outputs": [
        {
          "output_type": "execute_result",
          "data": {
            "text/plain": [
              "orig_year\n",
              "2003    99287\n",
              "2004    76034\n",
              "2002    54842\n",
              "2001    38181\n",
              "2000    10914\n",
              "1999     7387\n",
              "Name: count, dtype: int64"
            ]
          },
          "metadata": {},
          "execution_count": 23
        }
      ]
    },
    {
      "cell_type": "code",
      "source": [
        "df[\"Normal\"] = df['orig_year'].apply(lambda date: 1 if (date < 2005) & (date >=1999) else 0)\n",
        "df[\"Boom\"] = df['orig_year'].apply(lambda date: 1 if (date < 2008) & (date >=2005) else 0)\n",
        "df[\"Bust\"] = df['orig_year'].apply(lambda date: 1 if (date < 2012) & (date >=2008) else 0)\n",
        "df[\"PostCrisis\"] = df['orig_year'].apply(lambda date: 1 if (date >= 2012) else 0)\n",
        "df.loc[(df[\"orig_year\"]==2008) & (df['orig_quarter']<3),'Boom'] = 1\n",
        "df.loc[(df[\"orig_year\"]==2008) & (df['orig_quarter']<3),'Bust'] = 0"
      ],
      "metadata": {
        "id": "6akYCN9rqdNi"
      },
      "execution_count": null,
      "outputs": []
    },
    {
      "cell_type": "code",
      "source": [
        "df1.orig_year.value_counts()"
      ],
      "metadata": {
        "colab": {
          "base_uri": "https://localhost:8080/"
        },
        "id": "vzpY0ld43x7y",
        "outputId": "b8189f3f-c6e3-460b-818e-3927fc7ea48e"
      },
      "execution_count": null,
      "outputs": [
        {
          "output_type": "execute_result",
          "data": {
            "text/plain": [
              "orig_year\n",
              "2007    174385\n",
              "2006    149283\n",
              "2005    138869\n",
              "2008    101104\n",
              "2003     99287\n",
              "2004     76034\n",
              "2002     54842\n",
              "2001     38181\n",
              "2009     25432\n",
              "2000     10914\n",
              "2010      8766\n",
              "1999      7387\n",
              "2011      4580\n",
              "2013      3842\n",
              "2012      3744\n",
              "2014      3150\n",
              "2015      2939\n",
              "2016      2590\n",
              "2017      2444\n",
              "2018      2022\n",
              "2019       966\n",
              "2020       585\n",
              "Name: count, dtype: int64"
            ]
          },
          "metadata": {},
          "execution_count": 39
        }
      ]
    },
    {
      "cell_type": "code",
      "source": [
        "df1['EAL_SCORE'].hist()"
      ],
      "metadata": {
        "id": "b0SVyE7m5Gll",
        "colab": {
          "base_uri": "https://localhost:8080/",
          "height": 445
        },
        "outputId": "0d5a9deb-f226-4df5-e7a0-354394a13360"
      },
      "execution_count": null,
      "outputs": [
        {
          "output_type": "execute_result",
          "data": {
            "text/plain": [
              "<Axes: >"
            ]
          },
          "metadata": {},
          "execution_count": 9
        },
        {
          "output_type": "display_data",
          "data": {
            "text/plain": [
              "<Figure size 640x480 with 1 Axes>"
            ],
            "image/png": "[encoded data removed]"
          },
          "metadata": {}
        }
      ]
    },
    {
      "cell_type": "code",
      "source": [
        "df1.groupby('Zero Balance Code')['EAL_SCORE'].mean()"
      ],
      "metadata": {
        "colab": {
          "base_uri": "https://localhost:8080/"
        },
        "id": "dw7GDLBLiVoN",
        "outputId": "3c38f25d-4cf3-46c0-b6ef-1e37ab25c01e"
      },
      "execution_count": null,
      "outputs": [
        {
          "output_type": "execute_result",
          "data": {
            "text/plain": [
              "Zero Balance Code\n",
              "2    83.615117\n",
              "3    88.277221\n",
              "9    78.415333\n",
              "Name: EAL_SCORE, dtype: float64"
            ]
          },
          "metadata": {},
          "execution_count": 13
        }
      ]
    },
    {
      "cell_type": "code",
      "source": [
        "for i in [2,3,9]:\n",
        "  df1.groupby(['Zero Balance Code','EAL_RATNG'])['Loss Rate'].count()[i].plot(kind='bar')\n",
        "  plt.show()"
      ],
      "metadata": {
        "colab": {
          "base_uri": "https://localhost:8080/",
          "height": 1000
        },
        "id": "OVmqnCFbyS_5",
        "outputId": "da999a4f-b251-4f48-978e-14461e7adf4a"
      },
      "execution_count": null,
      "outputs": [
        {
          "output_type": "display_data",
          "data": {
            "text/plain": [
              "<Figure size 640x480 with 1 Axes>"
            ],
            "image/png": "[encoded data removed]"
          },
          "metadata": {}
        },
        {
          "output_type": "display_data",
          "data": {
            "text/plain": [
              "<Figure size 640x480 with 1 Axes>"
            ],
            "image/png": "[encoded data removed]"
          },
          "metadata": {}
        },
        {
          "output_type": "display_data",
          "data": {
            "text/plain": [
              "<Figure size 640x480 with 1 Axes>"
            ],
            "image/png": "[encoded data removed]"
          },
          "metadata": {}
        }
      ]
    },
    {
      "cell_type": "code",
      "source": [
        "for i in [2,3,9]:\n",
        "  df1.groupby(['Zero Balance Code','EAL_RATNG'])['Loss Rate'].mean()[i].plot(kind='bar')\n",
        "  plt.show()"
      ],
      "metadata": {
        "colab": {
          "base_uri": "https://localhost:8080/",
          "height": 1000
        },
        "id": "mxu6bk_xzA39",
        "outputId": "5f4e0528-91b0-498d-eac7-31557b6351c3"
      },
      "execution_count": null,
      "outputs": [
        {
          "output_type": "display_data",
          "data": {
            "text/plain": [
              "<Figure size 640x480 with 1 Axes>"
            ],
            "image/png": "[encoded data removed]"
          },
          "metadata": {}
        },
        {
          "output_type": "display_data",
          "data": {
            "text/plain": [
              "<Figure size 640x480 with 1 Axes>"
            ],
            "image/png": "[encoded data removed]"
          },
          "metadata": {}
        },
        {
          "output_type": "display_data",
          "data": {
            "text/plain": [
              "<Figure size 640x480 with 1 Axes>"
            ],
            "image/png": "[encoded data removed]"
          },
          "metadata": {}
        }
      ]
    },
    {
      "cell_type": "code",
      "source": [
        "df1.groupby(['Zero Balance Code','EAL_RATNG'])['Loss Rate'].mean()"
      ],
      "metadata": {
        "colab": {
          "base_uri": "https://localhost:8080/"
        },
        "id": "F5DOUpLluWHZ",
        "outputId": "73732502-99c8-4713-bf5b-03337653ed0d"
      },
      "execution_count": null,
      "outputs": [
        {
          "output_type": "execute_result",
          "data": {
            "text/plain": [
              "Zero Balance Code  EAL_RATNG\n",
              "2                  1.0          33.383771\n",
              "                   2.0          33.803998\n",
              "                   3.0          38.028253\n",
              "                   4.0          43.884576\n",
              "                   5.0          38.307526\n",
              "3                  1.0          31.201639\n",
              "                   2.0          31.150154\n",
              "                   3.0          38.021035\n",
              "                   4.0          44.717261\n",
              "                   5.0          43.506648\n",
              "9                  1.0          53.102067\n",
              "                   2.0          51.811818\n",
              "                   3.0          53.553719\n",
              "                   4.0          57.381422\n",
              "                   5.0          55.450374\n",
              "Name: Loss Rate, dtype: float64"
            ]
          },
          "metadata": {},
          "execution_count": 18
        }
      ]
    },
    {
      "cell_type": "code",
      "source": [
        "plt.scatter(df1['RISK_SCORE'],df1['EAL_SCORE'])"
      ],
      "metadata": {
        "colab": {
          "base_uri": "https://localhost:8080/",
          "height": 445
        },
        "id": "RKEBHEj5us7-",
        "outputId": "6e2daabd-c16e-488a-a1bd-4a6ca4e9ad3a"
      },
      "execution_count": null,
      "outputs": [
        {
          "output_type": "execute_result",
          "data": {
            "text/plain": [
              "<matplotlib.collections.PathCollection at 0x7dc39eee68f0>"
            ]
          },
          "metadata": {},
          "execution_count": 24
        },
        {
          "output_type": "display_data",
          "data": {
            "text/plain": [
              "<Figure size 640x480 with 1 Axes>"
            ],
            "image/png": "[encoded data removed]"
          },
          "metadata": {}
        }
      ]
    },
    {
      "cell_type": "code",
      "source": [
        "df1[['Loss Rate','EAL_SCORE']].describe()"
      ],
      "metadata": {
        "colab": {
          "base_uri": "https://localhost:8080/",
          "height": 291
        },
        "id": "4YMWqMNrvQYV",
        "outputId": "0672d7f1-7018-4786-d9f6-90b4f62123df"
      },
      "execution_count": null,
      "outputs": [
        {
          "output_type": "execute_result",
          "data": {
            "text/plain": [
              "           Loss Rate      EAL_SCORE\n",
              "count  911346.000000  911346.000000\n",
              "mean       49.330312      81.029664\n",
              "std        32.207288      19.660929\n",
              "min         0.049649       0.201176\n",
              "25%        24.549522      68.842568\n",
              "50%        45.948895      89.696227\n",
              "75%        69.574559      96.414939\n",
              "max       186.949087     100.000000"
            ],
            "text/html": [
              "\n",
              "  <div id=\"df-6e2348f9-9870-4173-ad60-2c6b063b81ff\" class=\"colab-df-container\">\n",
              "    <div>\n",
              "<style scoped>\n",
              "    .dataframe tbody tr th:only-of-type {\n",
              "        vertical-align: middle;\n",
              "    }\n",
              "\n",
              "    .dataframe tbody tr th {\n",
              "        vertical-align: top;\n",
              "    }\n",
              "\n",
              "    .dataframe thead th {\n",
              "        text-align: right;\n",
              "    }\n",
              "</style>\n",
              "<table border=\"1\" class=\"dataframe\">\n",
              "  <thead>\n",
              "    <tr style=\"text-align: right;\">\n",
              "      <th></th>\n",
              "      <th>Loss Rate</th>\n",
              "      <th>EAL_SCORE</th>\n",
              "    </tr>\n",
              "  </thead>\n",
              "  <tbody>\n",
              "    <tr>\n",
              "      <th>count</th>\n",
              "      <td>911346.000000</td>\n",
              "      <td>911346.000000</td>\n",
              "    </tr>\n",
              "    <tr>\n",
              "      <th>mean</th>\n",
              "      <td>49.330312</td>\n",
              "      <td>81.029664</td>\n",
              "    </tr>\n",
              "    <tr>\n",
              "      <th>std</th>\n",
              "      <td>32.207288</td>\n",
              "      <td>19.660929</td>\n",
              "    </tr>\n",
              "    <tr>\n",
              "      <th>min</th>\n",
              "      <td>0.049649</td>\n",
              "      <td>0.201176</td>\n",
              "    </tr>\n",
              "    <tr>\n",
              "      <th>25%</th>\n",
              "      <td>24.549522</td>\n",
              "      <td>68.842568</td>\n",
              "    </tr>\n",
              "    <tr>\n",
              "      <th>50%</th>\n",
              "      <td>45.948895</td>\n",
              "      <td>89.696227</td>\n",
              "    </tr>\n",
              "    <tr>\n",
              "      <th>75%</th>\n",
              "      <td>69.574559</td>\n",
              "      <td>96.414939</td>\n",
              "    </tr>\n",
              "    <tr>\n",
              "      <th>max</th>\n",
              "      <td>186.949087</td>\n",
              "      <td>100.000000</td>\n",
              "    </tr>\n",
              "  </tbody>\n",
              "</table>\n",
              "</div>\n",
              "    <div class=\"colab-df-buttons\">\n",
              "\n",
              "  <div class=\"colab-df-container\">\n",
              "    <button class=\"colab-df-convert\" onclick=\"convertToInteractive('df-6e2348f9-9870-4173-ad60-2c6b063b81ff')\"\n",
              "            title=\"Convert this dataframe to an interactive table.\"\n",
              "            style=\"display:none;\">\n",
              "\n",
              "  <svg xmlns=\"http://www.w3.org/2000/svg\" height=\"24px\" viewBox=\"0 -960 960 960\">\n",
              "    <path d=\"M120-120v-720h720v720H120Zm60-500h600v-160H180v160Zm220 220h160v-160H400v160Zm0 220h160v-160H400v160ZM180-400h160v-160H180v160Zm440 0h160v-160H620v160ZM180-180h160v-160H180v160Zm440 0h160v-160H620v160Z\"/>\n",
              "  </svg>\n",
              "    </button>\n",
              "\n",
              "  <style>\n",
              "    .colab-df-container {\n",
              "      display:flex;\n",
              "      gap: 12px;\n",
              "    }\n",
              "\n",
              "    .colab-df-convert {\n",
              "      background-color: #E8F0FE;\n",
              "      border: none;\n",
              "      border-radius: 50%;\n",
              "      cursor: pointer;\n",
              "      display: none;\n",
              "      fill: #1967D2;\n",
              "      height: 32px;\n",
              "      padding: 0 0 0 0;\n",
              "      width: 32px;\n",
              "    }\n",
              "\n",
              "    .colab-df-convert:hover {\n",
              "      background-color: #E2EBFA;\n",
              "      box-shadow: 0px 1px 2px rgba(60, 64, 67, 0.3), 0px 1px 3px 1px rgba(60, 64, 67, 0.15);\n",
              "      fill: #174EA6;\n",
              "    }\n",
              "\n",
              "    .colab-df-buttons div {\n",
              "      margin-bottom: 4px;\n",
              "    }\n",
              "\n",
              "    [theme=dark] .colab-df-convert {\n",
              "      background-color: #3B4455;\n",
              "      fill: #D2E3FC;\n",
              "    }\n",
              "\n",
              "    [theme=dark] .colab-df-convert:hover {\n",
              "      background-color: #434B5C;\n",
              "      box-shadow: 0px 1px 3px 1px rgba(0, 0, 0, 0.15);\n",
              "      filter: drop-shadow(0px 1px 2px rgba(0, 0, 0, 0.3));\n",
              "      fill: #FFFFFF;\n",
              "    }\n",
              "  </style>\n",
              "\n",
              "    <script>\n",
              "      const buttonEl =\n",
              "        document.querySelector('#df-6e2348f9-9870-4173-ad60-2c6b063b81ff button.colab-df-convert');\n",
              "      buttonEl.style.display =\n",
              "        google.colab.kernel.accessAllowed ? 'block' : 'none';\n",
              "\n",
              "      async function convertToInteractive(key) {\n",
              "        const element = document.querySelector('#df-6e2348f9-9870-4173-ad60-2c6b063b81ff');\n",
              "        const dataTable =\n",
              "          await google.colab.kernel.invokeFunction('convertToInteractive',\n",
              "                                                    [key], {});\n",
              "        if (!dataTable) return;\n",
              "\n",
              "        const docLinkHtml = 'Like what you see? Visit the ' +\n",
              "          '<a target=\"_blank\" href=https://colab.research.google.com/notebooks/data_table.ipynb>data table notebook</a>'\n",
              "          + ' to learn more about interactive tables.';\n",
              "        element.innerHTML = '';\n",
              "        dataTable['output_type'] = 'display_data';\n",
              "        await google.colab.output.renderOutput(dataTable, element);\n",
              "        const docLink = document.createElement('div');\n",
              "        docLink.innerHTML = docLinkHtml;\n",
              "        element.appendChild(docLink);\n",
              "      }\n",
              "    </script>\n",
              "  </div>\n",
              "\n",
              "\n",
              "<div id=\"df-86c2b949-8954-4506-8350-0405f1b3952a\">\n",
              "  <button class=\"colab-df-quickchart\" onclick=\"quickchart('df-86c2b949-8954-4506-8350-0405f1b3952a')\"\n",
              "            title=\"Suggest charts\"\n",
              "            style=\"display:none;\">\n",
              "\n",
              "<svg xmlns=\"http://www.w3.org/2000/svg\" height=\"24px\"viewBox=\"0 0 24 24\"\n",
              "     width=\"24px\">\n",
              "    <g>\n",
              "        <path d=\"M19 3H5c-1.1 0-2 .9-2 2v14c0 1.1.9 2 2 2h14c1.1 0 2-.9 2-2V5c0-1.1-.9-2-2-2zM9 17H7v-7h2v7zm4 0h-2V7h2v10zm4 0h-2v-4h2v4z\"/>\n",
              "    </g>\n",
              "</svg>\n",
              "  </button>\n",
              "\n",
              "<style>\n",
              "  .colab-df-quickchart {\n",
              "      --bg-color: #E8F0FE;\n",
              "      --fill-color: #1967D2;\n",
              "      --hover-bg-color: #E2EBFA;\n",
              "      --hover-fill-color: #174EA6;\n",
              "      --disabled-fill-color: #AAA;\n",
              "      --disabled-bg-color: #DDD;\n",
              "  }\n",
              "\n",
              "  [theme=dark] .colab-df-quickchart {\n",
              "      --bg-color: #3B4455;\n",
              "      --fill-color: #D2E3FC;\n",
              "      --hover-bg-color: #434B5C;\n",
              "      --hover-fill-color: #FFFFFF;\n",
              "      --disabled-bg-color: #3B4455;\n",
              "      --disabled-fill-color: #666;\n",
              "  }\n",
              "\n",
              "  .colab-df-quickchart {\n",
              "    background-color: var(--bg-color);\n",
              "    border: none;\n",
              "    border-radius: 50%;\n",
              "    cursor: pointer;\n",
              "    display: none;\n",
              "    fill: var(--fill-color);\n",
              "    height: 32px;\n",
              "    padding: 0;\n",
              "    width: 32px;\n",
              "  }\n",
              "\n",
              "  .colab-df-quickchart:hover {\n",
              "    background-color: var(--hover-bg-color);\n",
              "    box-shadow: 0 1px 2px rgba(60, 64, 67, 0.3), 0 1px 3px 1px rgba(60, 64, 67, 0.15);\n",
              "    fill: var(--button-hover-fill-color);\n",
              "  }\n",
              "\n",
              "  .colab-df-quickchart-complete:disabled,\n",
              "  .colab-df-quickchart-complete:disabled:hover {\n",
              "    background-color: var(--disabled-bg-color);\n",
              "    fill: var(--disabled-fill-color);\n",
              "    box-shadow: none;\n",
              "  }\n",
              "\n",
              "  .colab-df-spinner {\n",
              "    border: 2px solid var(--fill-color);\n",
              "    border-color: transparent;\n",
              "    border-bottom-color: var(--fill-color);\n",
              "    animation:\n",
              "      spin 1s steps(1) infinite;\n",
              "  }\n",
              "\n",
              "  @keyframes spin {\n",
              "    0% {\n",
              "      border-color: transparent;\n",
              "      border-bottom-color: var(--fill-color);\n",
              "      border-left-color: var(--fill-color);\n",
              "    }\n",
              "    20% {\n",
              "      border-color: transparent;\n",
              "      border-left-color: var(--fill-color);\n",
              "      border-top-color: var(--fill-color);\n",
              "    }\n",
              "    30% {\n",
              "      border-color: transparent;\n",
              "      border-left-color: var(--fill-color);\n",
              "      border-top-color: var(--fill-color);\n",
              "      border-right-color: var(--fill-color);\n",
              "    }\n",
              "    40% {\n",
              "      border-color: transparent;\n",
              "      border-right-color: var(--fill-color);\n",
              "      border-top-color: var(--fill-color);\n",
              "    }\n",
              "    60% {\n",
              "      border-color: transparent;\n",
              "      border-right-color: var(--fill-color);\n",
              "    }\n",
              "    80% {\n",
              "      border-color: transparent;\n",
              "      border-right-color: var(--fill-color);\n",
              "      border-bottom-color: var(--fill-color);\n",
              "    }\n",
              "    90% {\n",
              "      border-color: transparent;\n",
              "      border-bottom-color: var(--fill-color);\n",
              "    }\n",
              "  }\n",
              "</style>\n",
              "\n",
              "  <script>\n",
              "    async function quickchart(key) {\n",
              "      const quickchartButtonEl =\n",
              "        document.querySelector('#' + key + ' button');\n",
              "      quickchartButtonEl.disabled = true;  // To prevent multiple clicks.\n",
              "      quickchartButtonEl.classList.add('colab-df-spinner');\n",
              "      try {\n",
              "        const charts = await google.colab.kernel.invokeFunction(\n",
              "            'suggestCharts', [key], {});\n",
              "      } catch (error) {\n",
              "        console.error('Error during call to suggestCharts:', error);\n",
              "      }\n",
              "      quickchartButtonEl.classList.remove('colab-df-spinner');\n",
              "      quickchartButtonEl.classList.add('colab-df-quickchart-complete');\n",
              "    }\n",
              "    (() => {\n",
              "      let quickchartButtonEl =\n",
              "        document.querySelector('#df-86c2b949-8954-4506-8350-0405f1b3952a button');\n",
              "      quickchartButtonEl.style.display =\n",
              "        google.colab.kernel.accessAllowed ? 'block' : 'none';\n",
              "    })();\n",
              "  </script>\n",
              "</div>\n",
              "    </div>\n",
              "  </div>\n"
            ],
            "application/vnd.google.colaboratory.intrinsic+json": {
              "type": "dataframe",
              "summary": "{\n  \"name\": \"df1[['Loss Rate','EAL_SCORE']]\",\n  \"rows\": 8,\n  \"fields\": [\n    {\n      \"column\": \"Loss Rate\",\n      \"properties\": {\n        \"dtype\": \"number\",\n        \"std\": 322188.8353216334,\n        \"min\": 0.04964893499376,\n        \"max\": 911346.0,\n        \"num_unique_values\": 8,\n        \"samples\": [\n          49.33031232486905,\n          45.948894841970514,\n          911346.0\n        ],\n        \"semantic_type\": \"\",\n        \"description\": \"\"\n      }\n    },\n    {\n      \"column\": \"EAL_SCORE\",\n      \"properties\": {\n        \"dtype\": \"number\",\n        \"std\": 322186.4467013078,\n        \"min\": 0.2011761064685853,\n        \"max\": 911346.0,\n        \"num_unique_values\": 8,\n        \"samples\": [\n          81.02966445813098,\n          89.69622737180373,\n          911346.0\n        ],\n        \"semantic_type\": \"\",\n        \"description\": \"\"\n      }\n    }\n  ]\n}"
            }
          },
          "metadata": {},
          "execution_count": 21
        }
      ]
    },
    {
      "cell_type": "code",
      "source": [
        "plt.boxplot(df1['EAL_SCORE'])"
      ],
      "metadata": {
        "colab": {
          "base_uri": "https://localhost:8080/",
          "height": 561
        },
        "id": "GWncnqjqvas-",
        "outputId": "5d0cf9ec-be98-48f4-9eaa-dfd231760cec"
      },
      "execution_count": null,
      "outputs": [
        {
          "output_type": "execute_result",
          "data": {
            "text/plain": [
              "{'whiskers': [<matplotlib.lines.Line2D at 0x7dc39e7c3100>,\n",
              "  <matplotlib.lines.Line2D at 0x7dc39e7c33a0>],\n",
              " 'caps': [<matplotlib.lines.Line2D at 0x7dc39e7c3640>,\n",
              "  <matplotlib.lines.Line2D at 0x7dc39e7c38e0>],\n",
              " 'boxes': [<matplotlib.lines.Line2D at 0x7dc39e7c2e30>],\n",
              " 'medians': [<matplotlib.lines.Line2D at 0x7dc39e7c3b80>],\n",
              " 'fliers': [<matplotlib.lines.Line2D at 0x7dc39e7c3e20>],\n",
              " 'means': []}"
            ]
          },
          "metadata": {},
          "execution_count": 28
        },
        {
          "output_type": "display_data",
          "data": {
            "text/plain": [
              "<Figure size 640x480 with 1 Axes>"
            ],
            "image/png": "[encoded data removed]"
          },
          "metadata": {}
        }
      ]
    },
    {
      "cell_type": "code",
      "source": [
        "grouped = df1.groupby(['orig_year','GSE']).size().unstack(fill_value=0)\n",
        "\n",
        "# Calculating the total count of each GSE value across all Zero Balance Codes\n",
        "total_counts = grouped.sum(axis=0)\n",
        "\n",
        "# Calculating the percentage for each GSE value based on the total count of each GSE value\n",
        "grouped_percentage = grouped.div(total_counts, axis=1) * 100\n",
        "# Plotting the bar graph\n",
        "ax = grouped.plot(kind='bar', width=0.4,figsize=(15, 5))\n",
        "# Customizing the plot\n",
        "plt.xlabel('Year')\n",
        "plt.ylabel('Loans')\n",
        "plt.title('Number of Defaulted Loans by Year')\n",
        "plt.legend(title='GSE')\n",
        "\n",
        "# Adjusting x-axis tick labels\n",
        "ax.set_xticklabels(grouped.index, rotation=0)\n",
        "\n",
        "# Adding percentage labels to the bars\n",
        "#for container in ax.containers:\n",
        "#    ax.bar_label(container, fmt='%.1f%%', label_type='edge')\n",
        "\n",
        "plt.show()"
      ],
      "metadata": {
        "colab": {
          "base_uri": "https://localhost:8080/",
          "height": 487
        },
        "id": "VLzvBKUQvoos",
        "outputId": "62b70311-3faa-4769-a596-7379deacfc5d"
      },
      "execution_count": null,
      "outputs": [
        {
          "output_type": "display_data",
          "data": {
            "text/plain": [
              "<Figure size 1500x500 with 1 Axes>"
            ],
            "image/png": "[encoded data removed]"
          },
          "metadata": {}
        }
      ]
    },
    {
      "cell_type": "code",
      "source": [
        "grouped = df1.groupby(['orig_year','GSE']).size().unstack(fill_value=0)\n",
        "\n",
        "# Calculating the total count of each GSE value across all Zero Balance Codes\n",
        "total_counts = grouped.sum(axis=0)\n",
        "\n",
        "# Calculating the percentage for each GSE value based on the total count of each GSE value\n",
        "grouped_percentage = grouped.div(total_counts, axis=1) * 100\n",
        "# Plotting the bar graph\n",
        "ax = grouped.loc[2011:,:].plot(kind='bar', width=0.4,figsize=(15, 5))\n",
        "# Customizing the plot\n",
        "plt.xlabel('Year')\n",
        "plt.ylabel('Loans')\n",
        "plt.title('Number of Defaulted Loans by Year')\n",
        "plt.legend(title='GSE')\n",
        "\n",
        "# Adjusting x-axis tick labels\n",
        "ax.set_xticklabels(grouped.index, rotation=0)\n",
        "\n",
        "# Adding percentage labels to the bars\n",
        "#for container in ax.containers:\n",
        "#    ax.bar_label(container, fmt='%.1f%%', label_type='edge')\n",
        "\n",
        "plt.show()"
      ],
      "metadata": {
        "id": "rpgz1tAT_DGr"
      },
      "execution_count": null,
      "outputs": []
    },
    {
      "cell_type": "code",
      "source": [],
      "metadata": {
        "colab": {
          "base_uri": "https://localhost:8080/",
          "height": 383
        },
        "id": "2SKWYYHv_L0M",
        "outputId": "ac63bedc-a1ef-48ac-e706-4234b2dba42a"
      },
      "execution_count": null,
      "outputs": [
        {
          "output_type": "execute_result",
          "data": {
            "text/plain": [
              "GSE           0     1\n",
              "orig_year            \n",
              "2011       1669  2911\n",
              "2012       1211  2533\n",
              "2013       1336  2506\n",
              "2014       1254  1896\n",
              "2015       1143  1796\n",
              "2016       1077  1513\n",
              "2017        910  1534\n",
              "2018        620  1402\n",
              "2019        294   672\n",
              "2020        135   450"
            ],
            "text/html": [
              "\n",
              "  <div id=\"df-95981169-1eb8-46c8-ab7b-ce0517c58bb3\" class=\"colab-df-container\">\n",
              "    <div>\n",
              "<style scoped>\n",
              "    .dataframe tbody tr th:only-of-type {\n",
              "        vertical-align: middle;\n",
              "    }\n",
              "\n",
              "    .dataframe tbody tr th {\n",
              "        vertical-align: top;\n",
              "    }\n",
              "\n",
              "    .dataframe thead th {\n",
              "        text-align: right;\n",
              "    }\n",
              "</style>\n",
              "<table border=\"1\" class=\"dataframe\">\n",
              "  <thead>\n",
              "    <tr style=\"text-align: right;\">\n",
              "      <th>GSE</th>\n",
              "      <th>0</th>\n",
              "      <th>1</th>\n",
              "    </tr>\n",
              "    <tr>\n",
              "      <th>orig_year</th>\n",
              "      <th></th>\n",
              "      <th></th>\n",
              "    </tr>\n",
              "  </thead>\n",
              "  <tbody>\n",
              "    <tr>\n",
              "      <th>2011</th>\n",
              "      <td>1669</td>\n",
              "      <td>2911</td>\n",
              "    </tr>\n",
              "    <tr>\n",
              "      <th>2012</th>\n",
              "      <td>1211</td>\n",
              "      <td>2533</td>\n",
              "    </tr>\n",
              "    <tr>\n",
              "      <th>2013</th>\n",
              "      <td>1336</td>\n",
              "      <td>2506</td>\n",
              "    </tr>\n",
              "    <tr>\n",
              "      <th>2014</th>\n",
              "      <td>1254</td>\n",
              "      <td>1896</td>\n",
              "    </tr>\n",
              "    <tr>\n",
              "      <th>2015</th>\n",
              "      <td>1143</td>\n",
              "      <td>1796</td>\n",
              "    </tr>\n",
              "    <tr>\n",
              "      <th>2016</th>\n",
              "      <td>1077</td>\n",
              "      <td>1513</td>\n",
              "    </tr>\n",
              "    <tr>\n",
              "      <th>2017</th>\n",
              "      <td>910</td>\n",
              "      <td>1534</td>\n",
              "    </tr>\n",
              "    <tr>\n",
              "      <th>2018</th>\n",
              "      <td>620</td>\n",
              "      <td>1402</td>\n",
              "    </tr>\n",
              "    <tr>\n",
              "      <th>2019</th>\n",
              "      <td>294</td>\n",
              "      <td>672</td>\n",
              "    </tr>\n",
              "    <tr>\n",
              "      <th>2020</th>\n",
              "      <td>135</td>\n",
              "      <td>450</td>\n",
              "    </tr>\n",
              "  </tbody>\n",
              "</table>\n",
              "</div>\n",
              "    <div class=\"colab-df-buttons\">\n",
              "\n",
              "  <div class=\"colab-df-container\">\n",
              "    <button class=\"colab-df-convert\" onclick=\"convertToInteractive('df-95981169-1eb8-46c8-ab7b-ce0517c58bb3')\"\n",
              "            title=\"Convert this dataframe to an interactive table.\"\n",
              "            style=\"display:none;\">\n",
              "\n",
              "  <svg xmlns=\"http://www.w3.org/2000/svg\" height=\"24px\" viewBox=\"0 -960 960 960\">\n",
              "    <path d=\"M120-120v-720h720v720H120Zm60-500h600v-160H180v160Zm220 220h160v-160H400v160Zm0 220h160v-160H400v160ZM180-400h160v-160H180v160Zm440 0h160v-160H620v160ZM180-180h160v-160H180v160Zm440 0h160v-160H620v160Z\"/>\n",
              "  </svg>\n",
              "    </button>\n",
              "\n",
              "  <style>\n",
              "    .colab-df-container {\n",
              "      display:flex;\n",
              "      gap: 12px;\n",
              "    }\n",
              "\n",
              "    .colab-df-convert {\n",
              "      background-color: #E8F0FE;\n",
              "      border: none;\n",
              "      border-radius: 50%;\n",
              "      cursor: pointer;\n",
              "      display: none;\n",
              "      fill: #1967D2;\n",
              "      height: 32px;\n",
              "      padding: 0 0 0 0;\n",
              "      width: 32px;\n",
              "    }\n",
              "\n",
              "    .colab-df-convert:hover {\n",
              "      background-color: #E2EBFA;\n",
              "      box-shadow: 0px 1px 2px rgba(60, 64, 67, 0.3), 0px 1px 3px 1px rgba(60, 64, 67, 0.15);\n",
              "      fill: #174EA6;\n",
              "    }\n",
              "\n",
              "    .colab-df-buttons div {\n",
              "      margin-bottom: 4px;\n",
              "    }\n",
              "\n",
              "    [theme=dark] .colab-df-convert {\n",
              "      background-color: #3B4455;\n",
              "      fill: #D2E3FC;\n",
              "    }\n",
              "\n",
              "    [theme=dark] .colab-df-convert:hover {\n",
              "      background-color: #434B5C;\n",
              "      box-shadow: 0px 1px 3px 1px rgba(0, 0, 0, 0.15);\n",
              "      filter: drop-shadow(0px 1px 2px rgba(0, 0, 0, 0.3));\n",
              "      fill: #FFFFFF;\n",
              "    }\n",
              "  </style>\n",
              "\n",
              "    <script>\n",
              "      const buttonEl =\n",
              "        document.querySelector('#df-95981169-1eb8-46c8-ab7b-ce0517c58bb3 button.colab-df-convert');\n",
              "      buttonEl.style.display =\n",
              "        google.colab.kernel.accessAllowed ? 'block' : 'none';\n",
              "\n",
              "      async function convertToInteractive(key) {\n",
              "        const element = document.querySelector('#df-95981169-1eb8-46c8-ab7b-ce0517c58bb3');\n",
              "        const dataTable =\n",
              "          await google.colab.kernel.invokeFunction('convertToInteractive',\n",
              "                                                    [key], {});\n",
              "        if (!dataTable) return;\n",
              "\n",
              "        const docLinkHtml = 'Like what you see? Visit the ' +\n",
              "          '<a target=\"_blank\" href=https://colab.research.google.com/notebooks/data_table.ipynb>data table notebook</a>'\n",
              "          + ' to learn more about interactive tables.';\n",
              "        element.innerHTML = '';\n",
              "        dataTable['output_type'] = 'display_data';\n",
              "        await google.colab.output.renderOutput(dataTable, element);\n",
              "        const docLink = document.createElement('div');\n",
              "        docLink.innerHTML = docLinkHtml;\n",
              "        element.appendChild(docLink);\n",
              "      }\n",
              "    </script>\n",
              "  </div>\n",
              "\n",
              "\n",
              "<div id=\"df-fba7e75f-4060-4f14-8a07-7e403f1131c0\">\n",
              "  <button class=\"colab-df-quickchart\" onclick=\"quickchart('df-fba7e75f-4060-4f14-8a07-7e403f1131c0')\"\n",
              "            title=\"Suggest charts\"\n",
              "            style=\"display:none;\">\n",
              "\n",
              "<svg xmlns=\"http://www.w3.org/2000/svg\" height=\"24px\"viewBox=\"0 0 24 24\"\n",
              "     width=\"24px\">\n",
              "    <g>\n",
              "        <path d=\"M19 3H5c-1.1 0-2 .9-2 2v14c0 1.1.9 2 2 2h14c1.1 0 2-.9 2-2V5c0-1.1-.9-2-2-2zM9 17H7v-7h2v7zm4 0h-2V7h2v10zm4 0h-2v-4h2v4z\"/>\n",
              "    </g>\n",
              "</svg>\n",
              "  </button>\n",
              "\n",
              "<style>\n",
              "  .colab-df-quickchart {\n",
              "      --bg-color: #E8F0FE;\n",
              "      --fill-color: #1967D2;\n",
              "      --hover-bg-color: #E2EBFA;\n",
              "      --hover-fill-color: #174EA6;\n",
              "      --disabled-fill-color: #AAA;\n",
              "      --disabled-bg-color: #DDD;\n",
              "  }\n",
              "\n",
              "  [theme=dark] .colab-df-quickchart {\n",
              "      --bg-color: #3B4455;\n",
              "      --fill-color: #D2E3FC;\n",
              "      --hover-bg-color: #434B5C;\n",
              "      --hover-fill-color: #FFFFFF;\n",
              "      --disabled-bg-color: #3B4455;\n",
              "      --disabled-fill-color: #666;\n",
              "  }\n",
              "\n",
              "  .colab-df-quickchart {\n",
              "    background-color: var(--bg-color);\n",
              "    border: none;\n",
              "    border-radius: 50%;\n",
              "    cursor: pointer;\n",
              "    display: none;\n",
              "    fill: var(--fill-color);\n",
              "    height: 32px;\n",
              "    padding: 0;\n",
              "    width: 32px;\n",
              "  }\n",
              "\n",
              "  .colab-df-quickchart:hover {\n",
              "    background-color: var(--hover-bg-color);\n",
              "    box-shadow: 0 1px 2px rgba(60, 64, 67, 0.3), 0 1px 3px 1px rgba(60, 64, 67, 0.15);\n",
              "    fill: var(--button-hover-fill-color);\n",
              "  }\n",
              "\n",
              "  .colab-df-quickchart-complete:disabled,\n",
              "  .colab-df-quickchart-complete:disabled:hover {\n",
              "    background-color: var(--disabled-bg-color);\n",
              "    fill: var(--disabled-fill-color);\n",
              "    box-shadow: none;\n",
              "  }\n",
              "\n",
              "  .colab-df-spinner {\n",
              "    border: 2px solid var(--fill-color);\n",
              "    border-color: transparent;\n",
              "    border-bottom-color: var(--fill-color);\n",
              "    animation:\n",
              "      spin 1s steps(1) infinite;\n",
              "  }\n",
              "\n",
              "  @keyframes spin {\n",
              "    0% {\n",
              "      border-color: transparent;\n",
              "      border-bottom-color: var(--fill-color);\n",
              "      border-left-color: var(--fill-color);\n",
              "    }\n",
              "    20% {\n",
              "      border-color: transparent;\n",
              "      border-left-color: var(--fill-color);\n",
              "      border-top-color: var(--fill-color);\n",
              "    }\n",
              "    30% {\n",
              "      border-color: transparent;\n",
              "      border-left-color: var(--fill-color);\n",
              "      border-top-color: var(--fill-color);\n",
              "      border-right-color: var(--fill-color);\n",
              "    }\n",
              "    40% {\n",
              "      border-color: transparent;\n",
              "      border-right-color: var(--fill-color);\n",
              "      border-top-color: var(--fill-color);\n",
              "    }\n",
              "    60% {\n",
              "      border-color: transparent;\n",
              "      border-right-color: var(--fill-color);\n",
              "    }\n",
              "    80% {\n",
              "      border-color: transparent;\n",
              "      border-right-color: var(--fill-color);\n",
              "      border-bottom-color: var(--fill-color);\n",
              "    }\n",
              "    90% {\n",
              "      border-color: transparent;\n",
              "      border-bottom-color: var(--fill-color);\n",
              "    }\n",
              "  }\n",
              "</style>\n",
              "\n",
              "  <script>\n",
              "    async function quickchart(key) {\n",
              "      const quickchartButtonEl =\n",
              "        document.querySelector('#' + key + ' button');\n",
              "      quickchartButtonEl.disabled = true;  // To prevent multiple clicks.\n",
              "      quickchartButtonEl.classList.add('colab-df-spinner');\n",
              "      try {\n",
              "        const charts = await google.colab.kernel.invokeFunction(\n",
              "            'suggestCharts', [key], {});\n",
              "      } catch (error) {\n",
              "        console.error('Error during call to suggestCharts:', error);\n",
              "      }\n",
              "      quickchartButtonEl.classList.remove('colab-df-spinner');\n",
              "      quickchartButtonEl.classList.add('colab-df-quickchart-complete');\n",
              "    }\n",
              "    (() => {\n",
              "      let quickchartButtonEl =\n",
              "        document.querySelector('#df-fba7e75f-4060-4f14-8a07-7e403f1131c0 button');\n",
              "      quickchartButtonEl.style.display =\n",
              "        google.colab.kernel.accessAllowed ? 'block' : 'none';\n",
              "    })();\n",
              "  </script>\n",
              "</div>\n",
              "    </div>\n",
              "  </div>\n"
            ],
            "application/vnd.google.colaboratory.intrinsic+json": {
              "type": "dataframe",
              "summary": "{\n  \"name\": \"grouped\",\n  \"rows\": 10,\n  \"fields\": [\n    {\n      \"column\": \"orig_year\",\n      \"properties\": {\n        \"dtype\": \"number\",\n        \"std\": 3,\n        \"min\": 2011,\n        \"max\": 2020,\n        \"num_unique_values\": 10,\n        \"samples\": [\n          2019,\n          2012,\n          2016\n        ],\n        \"semantic_type\": \"\",\n        \"description\": \"\"\n      }\n    },\n    {\n      \"column\": 0,\n      \"properties\": {\n        \"dtype\": \"number\",\n        \"std\": 481,\n        \"min\": 135,\n        \"max\": 1669,\n        \"num_unique_values\": 10,\n        \"samples\": [\n          294,\n          1211,\n          1077\n        ],\n        \"semantic_type\": \"\",\n        \"description\": \"\"\n      }\n    },\n    {\n      \"column\": 1,\n      \"properties\": {\n        \"dtype\": \"number\",\n        \"std\": 790,\n        \"min\": 450,\n        \"max\": 2911,\n        \"num_unique_values\": 10,\n        \"samples\": [\n          672,\n          2533,\n          1513\n        ],\n        \"semantic_type\": \"\",\n        \"description\": \"\"\n      }\n    }\n  ]\n}"
            }
          },
          "metadata": {},
          "execution_count": 124
        }
      ]
    },
    {
      "cell_type": "code",
      "source": [
        "df1.count()"
      ],
      "metadata": {
        "colab": {
          "base_uri": "https://localhost:8080/"
        },
        "id": "5Azk7mWJz-gn",
        "outputId": "d348ed27-3a1a-4521-ca64-174be70f4495"
      },
      "execution_count": null,
      "outputs": [
        {
          "output_type": "execute_result",
          "data": {
            "text/plain": [
              "Loan Sequence Number                                            911346\n",
              "Modification Flag                                                63405\n",
              "Metropolitan Statistical Area (MSA) Or Metropolitan Division    911346\n",
              "loan_age                                                        911346\n",
              "Prepayment Penalty Mortgage (PPM) Flag                          911344\n",
              "                                                                 ...  \n",
              "cltv_current2                                                   911346\n",
              "cltv_current3                                                   911346\n",
              "fico1                                                           911346\n",
              "fico2                                                           911346\n",
              "fico3                                                           911346\n",
              "Length: 243, dtype: int64"
            ]
          },
          "metadata": {},
          "execution_count": 90
        }
      ]
    },
    {
      "cell_type": "code",
      "source": [
        "df['buckets']=df[['Normal','Boom','Bust','PostCrisis']].idxmax(axis=1)"
      ],
      "metadata": {
        "id": "Rw5hGOnk0L2n"
      },
      "execution_count": null,
      "outputs": []
    },
    {
      "cell_type": "code",
      "source": [
        "grouped = df.groupby(['buckets','GSE']).size().unstack(fill_value=0)\n",
        "\n",
        "# Calculating the total count of each GSE value across all Zero Balance Codes\n",
        "total_counts = grouped.sum(axis=0)\n",
        "\n",
        "# Calculating the percentage for each GSE value based on the total count of each GSE value\n",
        "grouped_percentage = grouped.div(total_counts, axis=1) * 100\n",
        "# Plotting the bar graph\n",
        "ax = grouped.plot(kind='bar', width=0.4,figsize=(15, 5))\n",
        "# Customizing the plot\n",
        "plt.xlabel('Year')\n",
        "plt.ylabel('Percentage')\n",
        "plt.title('Percentage of Loans by GSE')\n",
        "plt.legend(title='GSE')\n",
        "\n",
        "# Adjusting x-axis tick labels\n",
        "ax.set_xticklabels(grouped.index, rotation=0)\n",
        "\n",
        "# Adding percentage labels to the bars\n",
        "#for container in ax.containers:\n",
        "#    ax.bar_label(container, fmt='%.1f%%', label_type='edge')\n",
        "\n",
        "plt.show()"
      ],
      "metadata": {
        "colab": {
          "base_uri": "https://localhost:8080/",
          "height": 487
        },
        "id": "NsTr0cNo3I1P",
        "outputId": "ee12e514-3d67-4f98-880f-bafb73258265"
      },
      "execution_count": null,
      "outputs": [
        {
          "output_type": "display_data",
          "data": {
            "text/plain": [
              "<Figure size 1500x500 with 1 Axes>"
            ],
            "image/png": "[encoded data removed]"
          },
          "metadata": {}
        }
      ]
    },
    {
      "cell_type": "code",
      "source": [
        "grouped = grouped.reindex(['Normal','Boom','Bust','PostCrisis'])"
      ],
      "metadata": {
        "id": "ZuqhRB3B3QAj"
      },
      "execution_count": null,
      "outputs": []
    },
    {
      "cell_type": "code",
      "source": [
        "(df.Normal+df.Boom+df.Bust+df.PostCrisis).sum()"
      ],
      "metadata": {
        "colab": {
          "base_uri": "https://localhost:8080/"
        },
        "id": "d1axiFhf3ez5",
        "outputId": "f2ee2bde-c499-4f02-8fb8-1bae11e7bb0c"
      },
      "execution_count": null,
      "outputs": [
        {
          "output_type": "execute_result",
          "data": {
            "text/plain": [
              "950102"
            ]
          },
          "metadata": {},
          "execution_count": 85
        }
      ]
    },
    {
      "cell_type": "code",
      "source": [
        "df.groupby('buckets')['Loss Rate'].mean()"
      ],
      "metadata": {
        "colab": {
          "base_uri": "https://localhost:8080/"
        },
        "id": "1xkgqc_m4ga8",
        "outputId": "f11e42ad-7b45-4308-8221-3a5a4e32ae4b"
      },
      "execution_count": null,
      "outputs": [
        {
          "output_type": "execute_result",
          "data": {
            "text/plain": [
              "buckets\n",
              "Boom          0.513915\n",
              "Bust          0.442590\n",
              "Normal        0.480419\n",
              "PostCrisis    0.351519\n",
              "Name: Loss Rate, dtype: float64"
            ]
          },
          "metadata": {},
          "execution_count": 100
        }
      ]
    },
    {
      "cell_type": "code",
      "source": [
        "df1.groupby('orig_year')['Loss Rate'].mean().plot()"
      ],
      "metadata": {
        "colab": {
          "base_uri": "https://localhost:8080/",
          "height": 465
        },
        "id": "TyyeNrUU963o",
        "outputId": "828eaae4-f23d-4158-88cd-14655d73dce0"
      },
      "execution_count": null,
      "outputs": [
        {
          "output_type": "execute_result",
          "data": {
            "text/plain": [
              "<Axes: xlabel='orig_year'>"
            ]
          },
          "metadata": {},
          "execution_count": 102
        },
        {
          "output_type": "display_data",
          "data": {
            "text/plain": [
              "<Figure size 640x480 with 1 Axes>"
            ],
            "image/png": "[encoded data removed]"
          },
          "metadata": {}
        }
      ]
    },
    {
      "cell_type": "code",
      "source": [
        "df1.groupby('orig_year')['Loss Rate'].mean()"
      ],
      "metadata": {
        "colab": {
          "base_uri": "https://localhost:8080/"
        },
        "id": "G45xZBzI-TLT",
        "outputId": "4fe5e1fb-8754-4c74-a1b6-95b919803055"
      },
      "execution_count": null,
      "outputs": [
        {
          "output_type": "execute_result",
          "data": {
            "text/plain": [
              "orig_year\n",
              "1999    37.003711\n",
              "2000    45.303162\n",
              "2001    49.290258\n",
              "2002    51.420615\n",
              "2003    45.969765\n",
              "2004    48.650971\n",
              "2005    49.759417\n",
              "2006    53.634650\n",
              "2007    52.039059\n",
              "2008    48.206529\n",
              "2009    40.461142\n",
              "2010    41.231062\n",
              "2011    41.004826\n",
              "2012    35.962440\n",
              "2013    33.087532\n",
              "2014    32.392363\n",
              "2015    31.487027\n",
              "2016    29.463539\n",
              "2017    35.267451\n",
              "2018    42.015775\n",
              "2019    47.275785\n",
              "2020    52.497408\n",
              "Name: Loss Rate, dtype: float64"
            ]
          },
          "metadata": {},
          "execution_count": 103
        }
      ]
    }
  ]
}